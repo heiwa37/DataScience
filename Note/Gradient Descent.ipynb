{
 "cells": [
  {
   "cell_type": "code",
   "execution_count": 34,
   "metadata": {},
   "outputs": [],
   "source": [
    "import numpy as np\n",
    "import matplotlib.pyplot as plt"
   ]
  },
  {
   "cell_type": "code",
   "execution_count": 35,
   "metadata": {},
   "outputs": [],
   "source": [
    "#Make some data\n",
    "x_2= np.linspace(-2,2,200)\n",
    "def g(x):\n",
    "    return x**4-4*x**2+5\n",
    "\n",
    "def dg(x):\n",
    "    return 4*x**3- 8*x"
   ]
  },
  {
   "cell_type": "code",
   "execution_count": 36,
   "metadata": {},
   "outputs": [
    {
     "data": {
      "text/plain": [
       "[<matplotlib.lines.Line2D at 0x1a251c5710>]"
      ]
     },
     "execution_count": 36,
     "metadata": {},
     "output_type": "execute_result"
    },
    {
     "data": {
      "image/png": "[encoded data removed]",
      "text/plain": [
       "<Figure size 432x288 with 2 Axes>"
      ]
     },
     "metadata": {
      "needs_background": "light"
     },
     "output_type": "display_data"
    }
   ],
   "source": [
    "# plotting the data\n",
    "plt.subplot(1,2,1)\n",
    "plt.xlim(-2,2)\n",
    "plt.ylim( 0,5)\n",
    "plt.plot(x_2,g(x_2),color='red')\n",
    "\n",
    "plt.subplot(1,2,2)\n",
    "plt.xlim(-2,2)\n",
    "plt.ylim( -6,8)\n",
    "plt.grid()\n",
    "plt.plot(x_2,dg(x_2))\n"
   ]
  },
  {
   "cell_type": "code",
   "execution_count": 37,
   "metadata": {},
   "outputs": [],
   "source": [
    "## Gradient Descent as a fucntion\n",
    "\n",
    "def gradient_descent(deravative_func, initial_guess, multiplier,precision):\n",
    "    new_x=initial_guess\n",
    "    x_list= [new_x]\n",
    "    slope_list=[deravative_func(new_x)]\n",
    "    \n",
    "    for n in range(500):\n",
    "        previous_x=new_x\n",
    "        gradient=deravative_func(previous_x)\n",
    "        new_x=previous_x - multiplier*gradient\n",
    "\n",
    "        step_size=abs(new_x-previous_x)\n",
    "        x_list.append(new_x)\n",
    "        slope_list.append(deravative_func(new_x))\n",
    "        \n",
    "        if(step_size< precision):\n",
    "            break\n",
    "        return new_x, x_list,slope_list\n",
    "        \n",
    "    "
   ]
  },
  {
   "cell_type": "code",
   "execution_count": 38,
   "metadata": {},
   "outputs": [
    {
     "name": "stdout",
     "output_type": "stream",
     "text": [
      "Local min occurs at : 0.5700000000000001\n",
      "Nmber of steps:  2\n"
     ]
    }
   ],
   "source": [
    "local_min, list_x,deriv_list= gradient_descent(dg,0.5,0.02,0.001)\n",
    "print(\"Local min occurs at :\", local_min)\n",
    "print(\"Nmber of steps: \" , len(list_x))"
   ]
  },
  {
   "cell_type": "code",
   "execution_count": null,
   "metadata": {},
   "outputs": [],
   "source": []
  },
  {
   "cell_type": "code",
   "execution_count": null,
   "metadata": {},
   "outputs": [],
   "source": []
  },
  {
   "cell_type": "code",
   "execution_count": null,
   "metadata": {},
   "outputs": [],
   "source": []
  }
 ],
 "metadata": {
  "kernelspec": {
   "display_name": "Python 3",
   "language": "python",
   "name": "python3"
  },
  "language_info": {
   "codemirror_mode": {
    "name": "ipython",
    "version": 3
   },
   "file_extension": ".py",
   "mimetype": "text/x-python",
   "name": "python",
   "nbconvert_exporter": "python",
   "pygments_lexer": "ipython3",
   "version": "3.7.4"
  }
 },
 "nbformat": 4,
 "nbformat_minor": 2
}
