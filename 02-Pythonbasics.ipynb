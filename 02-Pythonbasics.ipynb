{
 "cells": [
  {
   "cell_type": "code",
   "execution_count": 114,
   "metadata": {},
   "outputs": [],
   "source": [
    "import pandas as pd\n",
    "from pandas import DataFrame\n",
    "import matplotlib.pyplot as plt\n",
    "from sklearn.linear_model import LinearRegression"
   ]
  },
  {
   "cell_type": "code",
   "execution_count": 115,
   "metadata": {},
   "outputs": [],
   "source": [
    "data = pd.read_csv('/Users/rrashmi/ML/original-1.csv')"
   ]
  },
  {
   "cell_type": "code",
   "execution_count": null,
   "metadata": {},
   "outputs": [],
   "source": []
  },
  {
   "cell_type": "code",
   "execution_count": 116,
   "metadata": {},
   "outputs": [
    {
     "data": {
      "text/plain": [
       "float"
      ]
     },
     "execution_count": 116,
     "metadata": {},
     "output_type": "execute_result"
    }
   ],
   "source": [
    "data1= 12.9\n",
    "type(data1)"
   ]
  },
  {
   "cell_type": "code",
   "execution_count": 117,
   "metadata": {},
   "outputs": [
    {
     "data": {
      "text/plain": [
       "pandas.core.frame.DataFrame"
      ]
     },
     "execution_count": 117,
     "metadata": {},
     "output_type": "execute_result"
    }
   ],
   "source": [
    "X= DataFrame(data,columns=['production_budget_usd']) # this datatype is different than other basic datatype\n",
    "Y= DataFrame(data,columns=['worldwide_gross_usd'])\n",
    "type(X)"
   ]
  },
  {
   "cell_type": "code",
   "execution_count": 118,
   "metadata": {},
   "outputs": [
    {
     "name": "stdout",
     "output_type": "stream",
     "text": [
      "BEFORE:The value of a is 5  and value of b is 7\n",
      "AFTER :The value of a is 7  and value of b is 5\n"
     ]
    }
   ],
   "source": [
    "#swapping  contents of two value without temp variable \n",
    "# a and b . How to do it ?\n",
    "\n",
    "a= 5\n",
    "b= 7\n",
    "print ('BEFORE:The value of a is {}  and value of b is {}'.format(a,b))\n",
    "#code block\n",
    "a=a+b\n",
    "b=a-b\n",
    "a=a-b\n",
    "print ('AFTER :The value of a is {}  and value of b is {}'.format(a,b))\n"
   ]
  },
  {
   "cell_type": "code",
   "execution_count": 119,
   "metadata": {},
   "outputs": [
    {
     "name": "stdout",
     "output_type": "stream",
     "text": [
      "[5, 7, 9]\n",
      "mansa\n"
     ]
    }
   ],
   "source": [
    "# Learning Lists ( \"LISTS ARE LIKE BALLET , FLEXIBLE BUT NOT ARRAY-- THEY ARE SAME\")\n",
    "\n",
    "value1=[ 1, 3 , 5, 7,9] #primenumbers\n",
    "list1= ['rashmi', 3, \"mansa\"]\n",
    "type(list1)\n",
    "print(value1[2:])\n",
    "print (list1[2])"
   ]
  },
  {
   "cell_type": "code",
   "execution_count": 120,
   "metadata": {},
   "outputs": [
    {
     "name": "stdout",
     "output_type": "stream",
     "text": [
      "   Time_Delay_in_Minutes  LSD_ppm  Avg_Math_Test_Score\n",
      "0                      5     1.17                78.93\n",
      "1                     15     2.97                58.20\n",
      "2                     30     3.26                67.47\n",
      "3                     60     4.69                37.47\n",
      "4                    120     5.83                45.65\n",
      "5                    240     6.00                32.92\n",
      "6                    480     6.41                29.97\n"
     ]
    },
    {
     "data": {
      "text/plain": [
       "pandas.core.frame.DataFrame"
      ]
     },
     "execution_count": 120,
     "metadata": {},
     "output_type": "execute_result"
    }
   ],
   "source": [
    "data=pd.read_csv('lsd_math_score_data.csv')\n",
    "print(data)\n",
    "type(data) # datatype--> pandas.core.frame.DataFrame (DATAFRAME)"
   ]
  },
  {
   "cell_type": "code",
   "execution_count": 121,
   "metadata": {},
   "outputs": [
    {
     "data": {
      "text/html": [
       "<div>\n",
       "<style scoped>\n",
       "    .dataframe tbody tr th:only-of-type {\n",
       "        vertical-align: middle;\n",
       "    }\n",
       "\n",
       "    .dataframe tbody tr th {\n",
       "        vertical-align: top;\n",
       "    }\n",
       "\n",
       "    .dataframe thead th {\n",
       "        text-align: right;\n",
       "    }\n",
       "</style>\n",
       "<table border=\"1\" class=\"dataframe\">\n",
       "  <thead>\n",
       "    <tr style=\"text-align: right;\">\n",
       "      <th></th>\n",
       "      <th>Time_Delay_in_Minutes</th>\n",
       "      <th>LSD_ppm</th>\n",
       "      <th>Avg_Math_Test_Score</th>\n",
       "    </tr>\n",
       "  </thead>\n",
       "  <tbody>\n",
       "    <tr>\n",
       "      <td>0</td>\n",
       "      <td>5</td>\n",
       "      <td>1.17</td>\n",
       "      <td>78.93</td>\n",
       "    </tr>\n",
       "    <tr>\n",
       "      <td>1</td>\n",
       "      <td>15</td>\n",
       "      <td>2.97</td>\n",
       "      <td>58.20</td>\n",
       "    </tr>\n",
       "  </tbody>\n",
       "</table>\n",
       "</div>"
      ],
      "text/plain": [
       "   Time_Delay_in_Minutes  LSD_ppm  Avg_Math_Test_Score\n",
       "0                      5     1.17                78.93\n",
       "1                     15     2.97                58.20"
      ]
     },
     "execution_count": 121,
     "metadata": {},
     "output_type": "execute_result"
    }
   ],
   "source": [
    "data[:2]"
   ]
  },
  {
   "cell_type": "code",
   "execution_count": 122,
   "metadata": {},
   "outputs": [
    {
     "name": "stdout",
     "output_type": "stream",
     "text": [
      "0    78.93\n",
      "1    58.20\n",
      "2    67.47\n",
      "3    37.47\n",
      "4    45.65\n",
      "5    32.92\n",
      "6    29.97\n",
      "Name: Avg_Math_Test_Score, dtype: float64\n"
     ]
    },
    {
     "data": {
      "text/plain": [
       "pandas.core.series.Series"
      ]
     },
     "execution_count": 122,
     "metadata": {},
     "output_type": "execute_result"
    }
   ],
   "source": [
    "math_score=data['Avg_Math_Test_Score']\n",
    "print(math_score)  #accessing single column\n",
    "type(math_score)"
   ]
  },
  {
   "cell_type": "code",
   "execution_count": 123,
   "metadata": {},
   "outputs": [
    {
     "name": "stdout",
     "output_type": "stream",
     "text": [
      "   Time_Delay_in_Minutes  LSD_ppm  Avg_Math_Test_Score       Test_data\n",
      "0                      5     1.17                78.93  Rashmi Rajanna\n",
      "1                     15     2.97                58.20  Rashmi Rajanna\n",
      "2                     30     3.26                67.47  Rashmi Rajanna\n",
      "3                     60     4.69                37.47  Rashmi Rajanna\n",
      "4                    120     5.83                45.65  Rashmi Rajanna\n",
      "5                    240     6.00                32.92  Rashmi Rajanna\n",
      "6                    480     6.41                29.97  Rashmi Rajanna\n"
     ]
    }
   ],
   "source": [
    "#creating a new column with data \n",
    "data['Test_data']= 'Rashmi Rajanna'\n",
    "print(data)"
   ]
  },
  {
   "cell_type": "code",
   "execution_count": 124,
   "metadata": {},
   "outputs": [
    {
     "name": "stdout",
     "output_type": "stream",
     "text": [
      "   Time_Delay_in_Minutes  LSD_ppm  Avg_Math_Test_Score       Test_data  \\\n",
      "0                      5     1.17                78.93  Rashmi Rajanna   \n",
      "1                     15     2.97                58.20  Rashmi Rajanna   \n",
      "2                     30     3.26                67.47  Rashmi Rajanna   \n",
      "3                     60     4.69                37.47  Rashmi Rajanna   \n",
      "4                    120     5.83                45.65  Rashmi Rajanna   \n",
      "5                    240     6.00                32.92  Rashmi Rajanna   \n",
      "6                    480     6.41                29.97  Rashmi Rajanna   \n",
      "\n",
      "   High_score  \n",
      "0         100  \n",
      "1         100  \n",
      "2         100  \n",
      "3         100  \n",
      "4         100  \n",
      "5         100  \n",
      "6         100  \n"
     ]
    }
   ],
   "source": [
    "data['High_score']=100\n",
    "print(data)"
   ]
  },
  {
   "cell_type": "code",
   "execution_count": 125,
   "metadata": {},
   "outputs": [
    {
     "name": "stdout",
     "output_type": "stream",
     "text": [
      "   Time_Delay_in_Minutes  LSD_ppm  Avg_Math_Test_Score       Test_data  \\\n",
      "0                      5     1.17                78.93  Rashmi Rajanna   \n",
      "1                     15     2.97                58.20  Rashmi Rajanna   \n",
      "2                     30     3.26                67.47  Rashmi Rajanna   \n",
      "3                     60     4.69                37.47  Rashmi Rajanna   \n",
      "4                    120     5.83                45.65  Rashmi Rajanna   \n",
      "5                    240     6.00                32.92  Rashmi Rajanna   \n",
      "6                    480     6.41                29.97  Rashmi Rajanna   \n",
      "\n",
      "   High_score  \n",
      "0      178.93  \n",
      "1      158.20  \n",
      "2      167.47  \n",
      "3      137.47  \n",
      "4      145.65  \n",
      "5      132.92  \n",
      "6      129.97  \n"
     ]
    }
   ],
   "source": [
    "data['High_score']=data['High_score']+ data ['Avg_Math_Test_Score']\n",
    "print(data)"
   ]
  },
  {
   "cell_type": "code",
   "execution_count": 126,
   "metadata": {},
   "outputs": [
    {
     "name": "stdout",
     "output_type": "stream",
     "text": [
      "0    32015.9449\n",
      "1    25027.2400\n",
      "2    28046.2009\n",
      "3    18898.0009\n",
      "4    21213.9225\n",
      "5    17667.7264\n",
      "6    16892.2009\n",
      "Name: High_score, dtype: float64\n"
     ]
    },
    {
     "data": {
      "text/plain": [
       "pandas.core.series.Series"
      ]
     },
     "execution_count": 126,
     "metadata": {},
     "output_type": "execute_result"
    }
   ],
   "source": [
    "data['High_score']=data['High_score'] **2\n",
    "print(data['High_score'])\n",
    "type(data['High_score'])"
   ]
  },
  {
   "cell_type": "code",
   "execution_count": 127,
   "metadata": {},
   "outputs": [
    {
     "data": {
      "text/plain": [
       "pandas.core.series.Series"
      ]
     },
     "execution_count": 127,
     "metadata": {},
     "output_type": "execute_result"
    }
   ],
   "source": [
    "type(data['High_score']) #series = 1 dimension and attribute(heading of the column)\n"
   ]
  },
  {
   "cell_type": "markdown",
   "metadata": {},
   "source": [
    "Panda DataFrame = collection of 1 dimensional Series frames"
   ]
  },
  {
   "cell_type": "code",
   "execution_count": 128,
   "metadata": {},
   "outputs": [
    {
     "name": "stdout",
     "output_type": "stream",
     "text": [
      "   LSD_ppm  Avg_Math_Test_Score\n",
      "0     1.17                78.93\n",
      "1     2.97                58.20\n",
      "2     3.26                67.47\n",
      "3     4.69                37.47\n",
      "4     5.83                45.65\n",
      "5     6.00                32.92\n",
      "6     6.41                29.97\n"
     ]
    }
   ],
   "source": [
    "#list1=['LSD_ppm','Avg_Math_Test_Score']\n",
    "#newdata= data[list1]\n",
    "newdata2= data[['LSD_ppm','Avg_Math_Test_Score']] # newway of creating 2 dime array from list\n",
    "print(newdata2) "
   ]
  },
  {
   "cell_type": "code",
   "execution_count": 129,
   "metadata": {},
   "outputs": [
    {
     "data": {
      "text/plain": [
       "pandas.core.frame.DataFrame"
      ]
     },
     "execution_count": 129,
     "metadata": {},
     "output_type": "execute_result"
    }
   ],
   "source": [
    "type(newdata2)"
   ]
  },
  {
   "cell_type": "code",
   "execution_count": 130,
   "metadata": {},
   "outputs": [
    {
     "name": "stdout",
     "output_type": "stream",
     "text": [
      "   LSD_ppm\n",
      "0     1.17\n",
      "1     2.97\n",
      "2     3.26\n",
      "3     4.69\n",
      "4     5.83\n",
      "5     6.00\n",
      "6     6.41\n"
     ]
    },
    {
     "data": {
      "text/plain": [
       "pandas.core.frame.DataFrame"
      ]
     },
     "execution_count": 130,
     "metadata": {},
     "output_type": "execute_result"
    }
   ],
   "source": [
    "# converting from series to DATA FRAME\n",
    "y=data[['LSD_ppm']] # [[ ]] \n",
    "\n",
    "print(y)\n",
    "type(y)"
   ]
  },
  {
   "cell_type": "code",
   "execution_count": 131,
   "metadata": {},
   "outputs": [
    {
     "name": "stdout",
     "output_type": "stream",
     "text": [
      "0    78.93\n",
      "1    58.20\n",
      "2    67.47\n",
      "3    37.47\n",
      "4    45.65\n",
      "5    32.92\n",
      "6    29.97\n",
      "Name: Avg_Math_Test_Score, dtype: float64\n"
     ]
    },
    {
     "data": {
      "text/plain": [
       "pandas.core.series.Series"
      ]
     },
     "execution_count": 131,
     "metadata": {},
     "output_type": "execute_result"
    }
   ],
   "source": [
    "# KEEPING SERIES array 1-dim\n",
    "x=data['Avg_Math_Test_Score']\n",
    "print(x)\n",
    "type(x)"
   ]
  },
  {
   "cell_type": "code",
   "execution_count": 132,
   "metadata": {},
   "outputs": [
    {
     "name": "stdout",
     "output_type": "stream",
     "text": [
      "   Time_Delay_in_Minutes  LSD_ppm  Avg_Math_Test_Score       Test_data  \\\n",
      "0                      5     1.17                78.93  Rashmi Rajanna   \n",
      "1                     15     2.97                58.20  Rashmi Rajanna   \n",
      "2                     30     3.26                67.47  Rashmi Rajanna   \n",
      "3                     60     4.69                37.47  Rashmi Rajanna   \n",
      "4                    120     5.83                45.65  Rashmi Rajanna   \n",
      "5                    240     6.00                32.92  Rashmi Rajanna   \n",
      "6                    480     6.41                29.97  Rashmi Rajanna   \n",
      "\n",
      "   High_score  \n",
      "0  32015.9449  \n",
      "1  25027.2400  \n",
      "2  28046.2009  \n",
      "3  18898.0009  \n",
      "4  21213.9225  \n",
      "5  17667.7264  \n",
      "6  16892.2009  \n"
     ]
    }
   ],
   "source": [
    "#del data['Test_data']\n",
    "print(data)"
   ]
  },
  {
   "cell_type": "code",
   "execution_count": 133,
   "metadata": {},
   "outputs": [
    {
     "name": "stdout",
     "output_type": "stream",
     "text": [
      "   Time_Delay_in_Minutes  LSD_ppm  Avg_Math_Test_Score       Test_data  \\\n",
      "0                      5     1.17                78.93  Rashmi Rajanna   \n",
      "1                     15     2.97                58.20  Rashmi Rajanna   \n",
      "2                     30     3.26                67.47  Rashmi Rajanna   \n",
      "3                     60     4.69                37.47  Rashmi Rajanna   \n",
      "4                    120     5.83                45.65  Rashmi Rajanna   \n",
      "5                    240     6.00                32.92  Rashmi Rajanna   \n",
      "6                    480     6.41                29.97  Rashmi Rajanna   \n",
      "\n",
      "   High_score  \n",
      "0  32015.9449  \n",
      "1  25027.2400  \n",
      "2  28046.2009  \n",
      "3  18898.0009  \n",
      "4  21213.9225  \n",
      "5  17667.7264  \n",
      "6  16892.2009  \n"
     ]
    }
   ],
   "source": [
    "print(data)"
   ]
  },
  {
   "cell_type": "code",
   "execution_count": 134,
   "metadata": {},
   "outputs": [],
   "source": [
    "import life as mymodule"
   ]
  },
  {
   "cell_type": "code",
   "execution_count": 135,
   "metadata": {},
   "outputs": [
    {
     "data": {
      "text/plain": [
       "module"
      ]
     },
     "execution_count": 135,
     "metadata": {},
     "output_type": "execute_result"
    }
   ],
   "source": [
    "type(mymodule) # adding file  creating from a file"
   ]
  },
  {
   "cell_type": "code",
   "execution_count": 136,
   "metadata": {},
   "outputs": [
    {
     "data": {
      "text/plain": [
       "42"
      ]
     },
     "execution_count": 136,
     "metadata": {},
     "output_type": "execute_result"
    }
   ],
   "source": [
    "mymodule.theAnswer # fetch the value which live inside the file"
   ]
  },
  {
   "cell_type": "code",
   "execution_count": 137,
   "metadata": {},
   "outputs": [],
   "source": [
    "import math"
   ]
  },
  {
   "cell_type": "code",
   "execution_count": 138,
   "metadata": {},
   "outputs": [
    {
     "name": "stdout",
     "output_type": "stream",
     "text": [
      "3.141592653589793\n",
      "2.718281828459045\n"
     ]
    }
   ],
   "source": [
    "print(math.pi) # accessing attribute from the object. math .pi\n",
    "print(math.e)"
   ]
  },
  {
   "cell_type": "code",
   "execution_count": 139,
   "metadata": {},
   "outputs": [
    {
     "name": "stdout",
     "output_type": "stream",
     "text": [
      "42\n"
     ]
    }
   ],
   "source": [
    "from life import theAnswer # using from keyword -- this copy  the value from the file\n",
    "\n",
    "print(theAnswer)"
   ]
  },
  {
   "cell_type": "code",
   "execution_count": 140,
   "metadata": {},
   "outputs": [],
   "source": [
    "def get_milk(quanity): #def function -- passing parameter\n",
    "    print(\"open door\")\n",
    "    print(\"wlk to store  and buy \"+quanity+\"  milk\")\n",
    "    print(\"come back home\")\n",
    "    print(\"make hotchocolate\")\n",
    "    litres= quanity\n",
    "    return litres\n"
   ]
  },
  {
   "cell_type": "code",
   "execution_count": 141,
   "metadata": {},
   "outputs": [
    {
     "name": "stdout",
     "output_type": "stream",
     "text": [
      "open door\n",
      "wlk to store  and buy 10 litre  milk\n",
      "come back home\n",
      "make hotchocolate\n"
     ]
    },
    {
     "data": {
      "text/plain": [
       "'10 litre'"
      ]
     },
     "execution_count": 141,
     "metadata": {},
     "output_type": "execute_result"
    }
   ],
   "source": [
    "get_milk('10 litre') # calling function"
   ]
  },
  {
   "cell_type": "code",
   "execution_count": 142,
   "metadata": {},
   "outputs": [
    {
     "name": "stdout",
     "output_type": "stream",
     "text": [
      "open door\n",
      "wlk to store  and buy 1 litre  milk\n",
      "come back home\n",
      "make hotchocolate\n"
     ]
    },
    {
     "data": {
      "text/plain": [
       "'1 litre'"
      ]
     },
     "execution_count": 142,
     "metadata": {},
     "output_type": "execute_result"
    }
   ],
   "source": [
    "get_milk('1 litre') # input specifiying. - passing Argument"
   ]
  },
  {
   "cell_type": "code",
   "execution_count": 143,
   "metadata": {},
   "outputs": [],
   "source": [
    "def times(n1,n2):\n",
    "    #result=n1*n2\n",
    "    return n1*n2"
   ]
  },
  {
   "cell_type": "code",
   "execution_count": 144,
   "metadata": {},
   "outputs": [
    {
     "data": {
      "text/plain": [
       "'N1N1N1'"
      ]
     },
     "execution_count": 144,
     "metadata": {},
     "output_type": "execute_result"
    }
   ],
   "source": [
    "times(n2='N1',n1=3)"
   ]
  },
  {
   "cell_type": "code",
   "execution_count": 145,
   "metadata": {},
   "outputs": [],
   "source": [
    "import this"
   ]
  },
  {
   "cell_type": "code",
   "execution_count": 146,
   "metadata": {},
   "outputs": [
    {
     "name": "stdout",
     "output_type": "stream",
     "text": [
      "2.0\n"
     ]
    }
   ],
   "source": [
    "import life as mm\n",
    "result= mm.square_root(4)\n",
    "print (result)"
   ]
  },
  {
   "cell_type": "code",
   "execution_count": 147,
   "metadata": {},
   "outputs": [
    {
     "data": {
      "text/html": [
       "<div>\n",
       "<style scoped>\n",
       "    .dataframe tbody tr th:only-of-type {\n",
       "        vertical-align: middle;\n",
       "    }\n",
       "\n",
       "    .dataframe tbody tr th {\n",
       "        vertical-align: top;\n",
       "    }\n",
       "\n",
       "    .dataframe thead th {\n",
       "        text-align: right;\n",
       "    }\n",
       "</style>\n",
       "<table border=\"1\" class=\"dataframe\">\n",
       "  <thead>\n",
       "    <tr style=\"text-align: right;\">\n",
       "      <th></th>\n",
       "      <th>Time_Delay_in_Minutes</th>\n",
       "      <th>LSD_ppm</th>\n",
       "      <th>Avg_Math_Test_Score</th>\n",
       "      <th>Test_data</th>\n",
       "      <th>High_score</th>\n",
       "    </tr>\n",
       "  </thead>\n",
       "  <tbody>\n",
       "    <tr>\n",
       "      <td>0</td>\n",
       "      <td>5</td>\n",
       "      <td>1.17</td>\n",
       "      <td>78.93</td>\n",
       "      <td>Rashmi Rajanna</td>\n",
       "      <td>32015.9449</td>\n",
       "    </tr>\n",
       "    <tr>\n",
       "      <td>1</td>\n",
       "      <td>15</td>\n",
       "      <td>2.97</td>\n",
       "      <td>58.20</td>\n",
       "      <td>Rashmi Rajanna</td>\n",
       "      <td>25027.2400</td>\n",
       "    </tr>\n",
       "    <tr>\n",
       "      <td>2</td>\n",
       "      <td>30</td>\n",
       "      <td>3.26</td>\n",
       "      <td>67.47</td>\n",
       "      <td>Rashmi Rajanna</td>\n",
       "      <td>28046.2009</td>\n",
       "    </tr>\n",
       "    <tr>\n",
       "      <td>3</td>\n",
       "      <td>60</td>\n",
       "      <td>4.69</td>\n",
       "      <td>37.47</td>\n",
       "      <td>Rashmi Rajanna</td>\n",
       "      <td>18898.0009</td>\n",
       "    </tr>\n",
       "    <tr>\n",
       "      <td>4</td>\n",
       "      <td>120</td>\n",
       "      <td>5.83</td>\n",
       "      <td>45.65</td>\n",
       "      <td>Rashmi Rajanna</td>\n",
       "      <td>21213.9225</td>\n",
       "    </tr>\n",
       "    <tr>\n",
       "      <td>5</td>\n",
       "      <td>240</td>\n",
       "      <td>6.00</td>\n",
       "      <td>32.92</td>\n",
       "      <td>Rashmi Rajanna</td>\n",
       "      <td>17667.7264</td>\n",
       "    </tr>\n",
       "    <tr>\n",
       "      <td>6</td>\n",
       "      <td>480</td>\n",
       "      <td>6.41</td>\n",
       "      <td>29.97</td>\n",
       "      <td>Rashmi Rajanna</td>\n",
       "      <td>16892.2009</td>\n",
       "    </tr>\n",
       "  </tbody>\n",
       "</table>\n",
       "</div>"
      ],
      "text/plain": [
       "   Time_Delay_in_Minutes  LSD_ppm  Avg_Math_Test_Score       Test_data  \\\n",
       "0                      5     1.17                78.93  Rashmi Rajanna   \n",
       "1                     15     2.97                58.20  Rashmi Rajanna   \n",
       "2                     30     3.26                67.47  Rashmi Rajanna   \n",
       "3                     60     4.69                37.47  Rashmi Rajanna   \n",
       "4                    120     5.83                45.65  Rashmi Rajanna   \n",
       "5                    240     6.00                32.92  Rashmi Rajanna   \n",
       "6                    480     6.41                29.97  Rashmi Rajanna   \n",
       "\n",
       "   High_score  \n",
       "0  32015.9449  \n",
       "1  25027.2400  \n",
       "2  28046.2009  \n",
       "3  18898.0009  \n",
       "4  21213.9225  \n",
       "5  17667.7264  \n",
       "6  16892.2009  "
      ]
     },
     "execution_count": 147,
     "metadata": {},
     "output_type": "execute_result"
    }
   ],
   "source": [
    "data"
   ]
  },
  {
   "cell_type": "code",
   "execution_count": 148,
   "metadata": {},
   "outputs": [],
   "source": [
    "del data['High_score']"
   ]
  },
  {
   "cell_type": "code",
   "execution_count": 149,
   "metadata": {},
   "outputs": [
    {
     "data": {
      "text/html": [
       "<div>\n",
       "<style scoped>\n",
       "    .dataframe tbody tr th:only-of-type {\n",
       "        vertical-align: middle;\n",
       "    }\n",
       "\n",
       "    .dataframe tbody tr th {\n",
       "        vertical-align: top;\n",
       "    }\n",
       "\n",
       "    .dataframe thead th {\n",
       "        text-align: right;\n",
       "    }\n",
       "</style>\n",
       "<table border=\"1\" class=\"dataframe\">\n",
       "  <thead>\n",
       "    <tr style=\"text-align: right;\">\n",
       "      <th></th>\n",
       "      <th>Time_Delay_in_Minutes</th>\n",
       "      <th>LSD_ppm</th>\n",
       "      <th>Avg_Math_Test_Score</th>\n",
       "      <th>Test_data</th>\n",
       "    </tr>\n",
       "  </thead>\n",
       "  <tbody>\n",
       "    <tr>\n",
       "      <td>0</td>\n",
       "      <td>5</td>\n",
       "      <td>1.17</td>\n",
       "      <td>78.93</td>\n",
       "      <td>Rashmi Rajanna</td>\n",
       "    </tr>\n",
       "    <tr>\n",
       "      <td>1</td>\n",
       "      <td>15</td>\n",
       "      <td>2.97</td>\n",
       "      <td>58.20</td>\n",
       "      <td>Rashmi Rajanna</td>\n",
       "    </tr>\n",
       "    <tr>\n",
       "      <td>2</td>\n",
       "      <td>30</td>\n",
       "      <td>3.26</td>\n",
       "      <td>67.47</td>\n",
       "      <td>Rashmi Rajanna</td>\n",
       "    </tr>\n",
       "    <tr>\n",
       "      <td>3</td>\n",
       "      <td>60</td>\n",
       "      <td>4.69</td>\n",
       "      <td>37.47</td>\n",
       "      <td>Rashmi Rajanna</td>\n",
       "    </tr>\n",
       "    <tr>\n",
       "      <td>4</td>\n",
       "      <td>120</td>\n",
       "      <td>5.83</td>\n",
       "      <td>45.65</td>\n",
       "      <td>Rashmi Rajanna</td>\n",
       "    </tr>\n",
       "    <tr>\n",
       "      <td>5</td>\n",
       "      <td>240</td>\n",
       "      <td>6.00</td>\n",
       "      <td>32.92</td>\n",
       "      <td>Rashmi Rajanna</td>\n",
       "    </tr>\n",
       "    <tr>\n",
       "      <td>6</td>\n",
       "      <td>480</td>\n",
       "      <td>6.41</td>\n",
       "      <td>29.97</td>\n",
       "      <td>Rashmi Rajanna</td>\n",
       "    </tr>\n",
       "  </tbody>\n",
       "</table>\n",
       "</div>"
      ],
      "text/plain": [
       "   Time_Delay_in_Minutes  LSD_ppm  Avg_Math_Test_Score       Test_data\n",
       "0                      5     1.17                78.93  Rashmi Rajanna\n",
       "1                     15     2.97                58.20  Rashmi Rajanna\n",
       "2                     30     3.26                67.47  Rashmi Rajanna\n",
       "3                     60     4.69                37.47  Rashmi Rajanna\n",
       "4                    120     5.83                45.65  Rashmi Rajanna\n",
       "5                    240     6.00                32.92  Rashmi Rajanna\n",
       "6                    480     6.41                29.97  Rashmi Rajanna"
      ]
     },
     "execution_count": 149,
     "metadata": {},
     "output_type": "execute_result"
    }
   ],
   "source": [
    "data"
   ]
  },
  {
   "cell_type": "code",
   "execution_count": 150,
   "metadata": {},
   "outputs": [
    {
     "data": {
      "text/html": [
       "<div>\n",
       "<style scoped>\n",
       "    .dataframe tbody tr th:only-of-type {\n",
       "        vertical-align: middle;\n",
       "    }\n",
       "\n",
       "    .dataframe tbody tr th {\n",
       "        vertical-align: top;\n",
       "    }\n",
       "\n",
       "    .dataframe thead th {\n",
       "        text-align: right;\n",
       "    }\n",
       "</style>\n",
       "<table border=\"1\" class=\"dataframe\">\n",
       "  <thead>\n",
       "    <tr style=\"text-align: right;\">\n",
       "      <th></th>\n",
       "      <th>Time_Delay_in_Minutes</th>\n",
       "      <th>LSD_ppm</th>\n",
       "      <th>Avg_Math_Test_Score</th>\n",
       "      <th>Test_data</th>\n",
       "    </tr>\n",
       "  </thead>\n",
       "  <tbody>\n",
       "    <tr>\n",
       "      <td>0</td>\n",
       "      <td>5</td>\n",
       "      <td>1.17</td>\n",
       "      <td>78.93</td>\n",
       "      <td>Rashmi Rajanna</td>\n",
       "    </tr>\n",
       "    <tr>\n",
       "      <td>1</td>\n",
       "      <td>15</td>\n",
       "      <td>2.97</td>\n",
       "      <td>58.20</td>\n",
       "      <td>Rashmi Rajanna</td>\n",
       "    </tr>\n",
       "    <tr>\n",
       "      <td>2</td>\n",
       "      <td>30</td>\n",
       "      <td>3.26</td>\n",
       "      <td>67.47</td>\n",
       "      <td>Rashmi Rajanna</td>\n",
       "    </tr>\n",
       "    <tr>\n",
       "      <td>3</td>\n",
       "      <td>60</td>\n",
       "      <td>4.69</td>\n",
       "      <td>37.47</td>\n",
       "      <td>Rashmi Rajanna</td>\n",
       "    </tr>\n",
       "    <tr>\n",
       "      <td>4</td>\n",
       "      <td>120</td>\n",
       "      <td>5.83</td>\n",
       "      <td>45.65</td>\n",
       "      <td>Rashmi Rajanna</td>\n",
       "    </tr>\n",
       "    <tr>\n",
       "      <td>5</td>\n",
       "      <td>240</td>\n",
       "      <td>6.00</td>\n",
       "      <td>32.92</td>\n",
       "      <td>Rashmi Rajanna</td>\n",
       "    </tr>\n",
       "    <tr>\n",
       "      <td>6</td>\n",
       "      <td>480</td>\n",
       "      <td>6.41</td>\n",
       "      <td>29.97</td>\n",
       "      <td>Rashmi Rajanna</td>\n",
       "    </tr>\n",
       "  </tbody>\n",
       "</table>\n",
       "</div>"
      ],
      "text/plain": [
       "   Time_Delay_in_Minutes  LSD_ppm  Avg_Math_Test_Score       Test_data\n",
       "0                      5     1.17                78.93  Rashmi Rajanna\n",
       "1                     15     2.97                58.20  Rashmi Rajanna\n",
       "2                     30     3.26                67.47  Rashmi Rajanna\n",
       "3                     60     4.69                37.47  Rashmi Rajanna\n",
       "4                    120     5.83                45.65  Rashmi Rajanna\n",
       "5                    240     6.00                32.92  Rashmi Rajanna\n",
       "6                    480     6.41                29.97  Rashmi Rajanna"
      ]
     },
     "execution_count": 150,
     "metadata": {},
     "output_type": "execute_result"
    }
   ],
   "source": [
    "data"
   ]
  },
  {
   "cell_type": "code",
   "execution_count": 151,
   "metadata": {},
   "outputs": [
    {
     "data": {
      "image/png": "[encoded data removed]",
      "text/plain": [
       "<Figure size 432x288 with 1 Axes>"
      ]
     },
     "metadata": {
      "needs_background": "light"
     },
     "output_type": "display_data"
    }
   ],
   "source": [
    "#DatA  VISUALIZTION work- mat plot lib\n",
    "%matplotlib inline\n",
    "# exporting  the files with jupyter notebook\n",
    "plt.title(\"Tissue concentration LSD overtime\",fontsize=18)\n",
    "plt.xlabel('Ti me in mintues', fontsize=12)\n",
    "plt.ylabel('Tissue LSD', fontsize=12)\n",
    "plt.plot(data['Time_Delay_in_Minutes'],data['LSD_ppm'],color='m', linewidth=2\n",
    ")\n",
    "plt.xticks(fontsize=12)\n",
    "plt.yticks(fontsize=12)\n",
    "plt.ylim(1,7)\n",
    "plt.xlim(0,500)\n",
    "plt.style.use('classic')\n",
    "plt.show()"
   ]
  },
  {
   "cell_type": "markdown",
   "metadata": {},
   "source": [
    "Working with python object and Analysing data"
   ]
  },
  {
   "cell_type": "code",
   "execution_count": 190,
   "metadata": {},
   "outputs": [
    {
     "name": "stdout",
     "output_type": "stream",
     "text": [
      "Theta1: -9.009466415296785\n",
      "Intercept: 89.12387376799308\n",
      "R-sqaure: 0.8778349707775889\n"
     ]
    }
   ],
   "source": [
    "regr= LinearRegression()\n",
    "regr.fit(data[['LSD_ppm']],data[['Avg_Math_Test_Score']]) # consider dataframe instead of series dataset_movies.csv\n",
    "print(\"Theta1:\",regr.coef_[0][0]) #accessing data inside the array\n",
    "print('Intercept:' , regr.intercept_[0])\n",
    "print('R-sqaure:' , regr.score(data[['LSD_ppm']],data[['Avg_Math_Test_Score']]))\n",
    "\n",
    "#prediction\n",
    "predicted_score=regr.predict(data[['LSD_ppm']])\n"
   ]
  },
  {
   "cell_type": "code",
   "execution_count": 191,
   "metadata": {},
   "outputs": [
    {
     "data": {
      "text/plain": [
       "[<matplotlib.lines.Line2D at 0x1a204e7e50>]"
      ]
     },
     "execution_count": 191,
     "metadata": {},
     "output_type": "execute_result"
    },
    {
     "data": {
      "image/png": "[encoded data removed]",
      "text/plain": [
       "<Figure size 432x288 with 1 Axes>"
      ]
     },
     "metadata": {
      "needs_background": "light"
     },
     "output_type": "display_data"
    }
   ],
   "source": [
    "%matplotlib inline\n",
    "\n",
    "plt.scatter(data[['LSD_ppm']],data[['Avg_Math_Test_Score']],color='red',linewidth=8,alpha=0.4)\n",
    "plt.title(\"Arithmethic vs LSD 25\")\n",
    "plt.ylabel('Performance')\n",
    "plt.xlabel('Tissue LSD ppm')\n",
    "plt.style.use('ggplot')\n",
    "\n",
    "#prediction plot on the same graph\n",
    "plt.plot(data[['LSD_ppm']],predicted_score,color='black',linewidth=3)"
   ]
  },
  {
   "cell_type": "code",
   "execution_count": null,
   "metadata": {},
   "outputs": [],
   "source": []
  }
 ],
 "metadata": {
  "kernelspec": {
   "display_name": "Python 3",
   "language": "python",
   "name": "python3"
  },
  "language_info": {
   "codemirror_mode": {
    "name": "ipython",
    "version": 3
   },
   "file_extension": ".py",
   "mimetype": "text/x-python",
   "name": "python",
   "nbconvert_exporter": "python",
   "pygments_lexer": "ipython3",
   "version": "3.7.4"
  }
 },
 "nbformat": 4,
 "nbformat_minor": 4
}
