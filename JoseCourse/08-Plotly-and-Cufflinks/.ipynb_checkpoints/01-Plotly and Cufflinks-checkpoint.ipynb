{
 "cells": [
  {
   "cell_type": "markdown",
   "metadata": {},
   "source": [
    "___\n",
    "\n",
    "<a href='http://www.pieriandata.com'> <img src='../Pierian_Data_Logo.png' /></a>\n",
    "___\n",
    "# Plotly and Cufflinks"
   ]
  },
  {
   "cell_type": "markdown",
   "metadata": {},
   "source": [
    "Plotly is a library that allows you to create interactive plots that you can use in dashboards or websites (you can save them as html files or static images).\n",
    "\n",
    "## Installation\n",
    "\n",
    "In order for this all to work, you'll need to install plotly and cufflinks to call plots directly off of a pandas dataframe. These libraries are not currently available through **conda** but are available through **pip**. Install the libraries at your command line/terminal using:\n",
    "\n",
    "    pip install plotly\n",
    "    pip install cufflinks\n",
    "\n",
    "** NOTE: Make sure you only have one installation of Python on your computer when you do this, otherwise the installation may not work. **\n",
    "\n",
    "## Imports and Set-up"
   ]
  },
  {
   "cell_type": "code",
   "execution_count": 1,
   "metadata": {},
   "outputs": [],
   "source": [
    "import pandas as pd\n",
    "import numpy as np\n",
    "%matplotlib inline"
   ]
  },
  {
   "cell_type": "code",
   "execution_count": 2,
   "metadata": {},
   "outputs": [
    {
     "name": "stdout",
     "output_type": "stream",
     "text": [
      "4.8.1\n"
     ]
    }
   ],
   "source": [
    "from plotly import __version__\n",
    "from plotly.offline import download_plotlyjs, init_notebook_mode, plot, iplot\n",
    "\n",
    "print(__version__) # requires version >= 1.9.0"
   ]
  },
  {
   "cell_type": "code",
   "execution_count": 3,
   "metadata": {},
   "outputs": [],
   "source": [
    "import cufflinks as cf"
   ]
  },
  {
   "cell_type": "code",
   "execution_count": 4,
   "metadata": {},
   "outputs": [
    {
     "data": {
      "text/html": [
       "        <script type=\"text/javascript\">\n",
       "        window.PlotlyConfig = {MathJaxConfig: 'local'};\n",
       "        if (window.MathJax) {MathJax.Hub.Config({SVG: {font: \"STIX-Web\"}});}\n",
       "        if (typeof require !== 'undefined') {\n",
       "        require.undef(\"plotly\");\n",
       "        requirejs.config({\n",
       "            paths: {\n",
       "                'plotly': ['https://cdn.plot.ly/plotly-latest.min']\n",
       "            }\n",
       "        });\n",
       "        require(['plotly'], function(Plotly) {\n",
       "            window._Plotly = Plotly;\n",
       "        });\n",
       "        }\n",
       "        </script>\n",
       "        "
      ]
     },
     "metadata": {},
     "output_type": "display_data"
    }
   ],
   "source": [
    "# For Notebooks\n",
    "init_notebook_mode(connected=True)"
   ]
  },
  {
   "cell_type": "code",
   "execution_count": 5,
   "metadata": {},
   "outputs": [
    {
     "data": {
      "text/html": [
       "        <script type=\"text/javascript\">\n",
       "        window.PlotlyConfig = {MathJaxConfig: 'local'};\n",
       "        if (window.MathJax) {MathJax.Hub.Config({SVG: {font: \"STIX-Web\"}});}\n",
       "        if (typeof require !== 'undefined') {\n",
       "        require.undef(\"plotly\");\n",
       "        requirejs.config({\n",
       "            paths: {\n",
       "                'plotly': ['https://cdn.plot.ly/plotly-latest.min']\n",
       "            }\n",
       "        });\n",
       "        require(['plotly'], function(Plotly) {\n",
       "            window._Plotly = Plotly;\n",
       "        });\n",
       "        }\n",
       "        </script>\n",
       "        "
      ]
     },
     "metadata": {},
     "output_type": "display_data"
    }
   ],
   "source": [
    "# For offline use\n",
    "cf.go_offline()"
   ]
  },
  {
   "cell_type": "markdown",
   "metadata": {},
   "source": [
    "### Fake Data"
   ]
  },
  {
   "cell_type": "code",
   "execution_count": 6,
   "metadata": {},
   "outputs": [],
   "source": [
    "df = pd.DataFrame(np.random.randn(100,4),columns='A B C D'.split())"
   ]
  },
  {
   "cell_type": "code",
   "execution_count": 7,
   "metadata": {},
   "outputs": [
    {
     "data": {
      "text/html": [
       "<div>\n",
       "<style scoped>\n",
       "    .dataframe tbody tr th:only-of-type {\n",
       "        vertical-align: middle;\n",
       "    }\n",
       "\n",
       "    .dataframe tbody tr th {\n",
       "        vertical-align: top;\n",
       "    }\n",
       "\n",
       "    .dataframe thead th {\n",
       "        text-align: right;\n",
       "    }\n",
       "</style>\n",
       "<table border=\"1\" class=\"dataframe\">\n",
       "  <thead>\n",
       "    <tr style=\"text-align: right;\">\n",
       "      <th></th>\n",
       "      <th>A</th>\n",
       "      <th>B</th>\n",
       "      <th>C</th>\n",
       "      <th>D</th>\n",
       "    </tr>\n",
       "  </thead>\n",
       "  <tbody>\n",
       "    <tr>\n",
       "      <td>0</td>\n",
       "      <td>0.182115</td>\n",
       "      <td>-0.020188</td>\n",
       "      <td>0.551843</td>\n",
       "      <td>0.273856</td>\n",
       "    </tr>\n",
       "    <tr>\n",
       "      <td>1</td>\n",
       "      <td>0.114431</td>\n",
       "      <td>-1.343765</td>\n",
       "      <td>1.058680</td>\n",
       "      <td>0.710650</td>\n",
       "    </tr>\n",
       "    <tr>\n",
       "      <td>2</td>\n",
       "      <td>0.594969</td>\n",
       "      <td>-1.111174</td>\n",
       "      <td>1.036528</td>\n",
       "      <td>-1.750908</td>\n",
       "    </tr>\n",
       "    <tr>\n",
       "      <td>3</td>\n",
       "      <td>-0.353534</td>\n",
       "      <td>1.835956</td>\n",
       "      <td>-2.998178</td>\n",
       "      <td>-0.922776</td>\n",
       "    </tr>\n",
       "    <tr>\n",
       "      <td>4</td>\n",
       "      <td>-0.475726</td>\n",
       "      <td>-0.624967</td>\n",
       "      <td>0.239308</td>\n",
       "      <td>-0.189677</td>\n",
       "    </tr>\n",
       "  </tbody>\n",
       "</table>\n",
       "</div>"
      ],
      "text/plain": [
       "          A         B         C         D\n",
       "0  0.182115 -0.020188  0.551843  0.273856\n",
       "1  0.114431 -1.343765  1.058680  0.710650\n",
       "2  0.594969 -1.111174  1.036528 -1.750908\n",
       "3 -0.353534  1.835956 -2.998178 -0.922776\n",
       "4 -0.475726 -0.624967  0.239308 -0.189677"
      ]
     },
     "execution_count": 7,
     "metadata": {},
     "output_type": "execute_result"
    }
   ],
   "source": [
    "df.head()"
   ]
  },
  {
   "cell_type": "code",
   "execution_count": 8,
   "metadata": {},
   "outputs": [],
   "source": [
    "df2 = pd.DataFrame({'Category':['A','B','C'],'Values':[32,43,50]})"
   ]
  },
  {
   "cell_type": "code",
   "execution_count": 9,
   "metadata": {},
   "outputs": [
    {
     "data": {
      "text/html": [
       "<div>\n",
       "<style scoped>\n",
       "    .dataframe tbody tr th:only-of-type {\n",
       "        vertical-align: middle;\n",
       "    }\n",
       "\n",
       "    .dataframe tbody tr th {\n",
       "        vertical-align: top;\n",
       "    }\n",
       "\n",
       "    .dataframe thead th {\n",
       "        text-align: right;\n",
       "    }\n",
       "</style>\n",
       "<table border=\"1\" class=\"dataframe\">\n",
       "  <thead>\n",
       "    <tr style=\"text-align: right;\">\n",
       "      <th></th>\n",
       "      <th>Category</th>\n",
       "      <th>Values</th>\n",
       "    </tr>\n",
       "  </thead>\n",
       "  <tbody>\n",
       "    <tr>\n",
       "      <td>0</td>\n",
       "      <td>A</td>\n",
       "      <td>32</td>\n",
       "    </tr>\n",
       "    <tr>\n",
       "      <td>1</td>\n",
       "      <td>B</td>\n",
       "      <td>43</td>\n",
       "    </tr>\n",
       "    <tr>\n",
       "      <td>2</td>\n",
       "      <td>C</td>\n",
       "      <td>50</td>\n",
       "    </tr>\n",
       "  </tbody>\n",
       "</table>\n",
       "</div>"
      ],
      "text/plain": [
       "  Category  Values\n",
       "0        A      32\n",
       "1        B      43\n",
       "2        C      50"
      ]
     },
     "execution_count": 9,
     "metadata": {},
     "output_type": "execute_result"
    }
   ],
   "source": [
    "df2.head()"
   ]
  },
  {
   "cell_type": "markdown",
   "metadata": {},
   "source": [
    "## Using Cufflinks and iplot()\n",
    "\n",
    "* scatter\n",
    "* bar\n",
    "* box\n",
    "* spread\n",
    "* ratio\n",
    "* heatmap\n",
    "* surface\n",
    "* histogram\n",
    "* bubble"
   ]
  },
  {
   "cell_type": "markdown",
   "metadata": {},
   "source": [
    "## Scatter"
   ]
  },
  {
   "cell_type": "code",
   "execution_count": 10,
   "metadata": {},
   "outputs": [
    {
     "data": {
      "application/vnd.plotly.v1+json": {
       "config": {
        "linkText": "Export to plot.ly",
        "plotlyServerURL": "https://plot.ly",
        "showLink": true
       },
       "data": [
        {
         "line": {
          "color": "rgba(255, 153, 51, 1.0)",
          "dash": "solid",
          "shape": "linear",
          "width": 1.3
         },
         "marker": {
          "size": 10,
          "symbol": "circle"
         },
         "mode": "markers",
         "name": "B",
         "text": "",
         "type": "scatter",
         "x": [
          0.18211528188351103,
          0.11443106335682444,
          0.5949692036342886,
          -0.3535342544087595,
          -0.47572636863988527,
          0.6611105346730619,
          1.0917475868868998,
          -1.055908421134264,
          0.7494679589241444,
          0.5789759034671067,
          0.7316774439952273,
          -0.4486644091579335,
          -0.3216613236541918,
          1.3398947178944725,
          -1.8158654345047331,
          0.5313904039049452,
          -0.7423013212863171,
          0.5331557511732393,
          0.0991340250011104,
          -0.888876014490736,
          -0.8071434029017788,
          0.22621387687134864,
          0.33846701985286654,
          1.2847481967645078,
          -1.3046454706066617,
          0.03165923167711625,
          -1.812749936339364,
          -0.3760202389737884,
          1.3773443376494576,
          -2.4683856625741445,
          0.16576781332166,
          0.45861358558459847,
          1.3116230867367287,
          -0.4092701515328862,
          1.9480137811637988,
          -0.24311669259196267,
          -1.2560627046642676,
          -1.1013099447982246,
          1.9186619850406614,
          -0.10627374375998706,
          -0.6196495923112475,
          -0.8298416977962055,
          -0.6757826281867358,
          0.2280090045808461,
          0.7648507904943159,
          1.3011275065550427,
          -0.04783545430568777,
          1.789352458526911,
          1.2482110579534083,
          0.7630239321342249,
          -2.0282702513681095,
          -0.7203015319260467,
          -0.05507082231774276,
          -0.7816847616571831,
          0.4459670558769205,
          0.3212838980346144,
          -0.6426253662138668,
          -0.0027100937375358005,
          0.2113669790740554,
          -1.1624280332116925,
          -1.2107191807959004,
          0.0023915808065864963,
          0.9477239269888895,
          2.0969969112315665,
          -0.6473295177516343,
          1.7239296014100238,
          -0.3054485264824094,
          1.276967520625875,
          -0.09911990914379495,
          0.46479845341110443,
          1.908453861164365,
          3.2946693525465824,
          0.4455923130866878,
          1.7263194925230791,
          -0.11369290761079535,
          -0.5605401630316551,
          -0.7195145870525593,
          2.4171089252328173,
          1.1119174808971366,
          1.6058626990827998,
          -1.0471529563643316,
          -1.880630666155797,
          1.015554806251903,
          -1.0412013633671626,
          0.15290879219816925,
          0.398987354671911,
          0.38330897229416844,
          1.3474622977012083,
          0.182933725350078,
          -0.8699642581973692,
          0.4133254150315233,
          0.07694373551123751,
          -1.2265406355999857,
          1.0485399380470044,
          0.2733731206474115,
          -0.7293710670711111,
          -0.9662635657350681,
          -0.3915848836708997,
          -1.0552550223150015,
          1.3045085529377953
         ],
         "y": [
          -0.02018755564793259,
          -1.3437652881828532,
          -1.1111743886255112,
          1.8359557683550445,
          -0.6249666296815001,
          -2.023897039815607,
          -0.8601940309700603,
          0.16485301587299,
          1.4953349379652183,
          0.3730240119071808,
          0.15925679164929463,
          1.6149762610901233,
          1.1886259375183363,
          0.36490947137394925,
          -0.277109980002345,
          -0.7186159514942053,
          0.7932326128351476,
          -0.6947531868233376,
          -0.6728638956989003,
          1.168924580201343,
          -0.41233623513644024,
          0.19784681126554177,
          -0.16672974435674576,
          1.5787929527059819,
          -1.2036869576587854,
          1.6388602894589932,
          1.1089114782328384,
          -0.6721462245633214,
          -0.3138745235292235,
          -0.36686782982021504,
          0.4065463530031799,
          -0.2257079493612666,
          -0.43758529260168777,
          -0.2625152761872851,
          -1.328898373680611,
          -2.9542908677251907,
          0.21927251170457285,
          0.5340299809554598,
          -0.17813790978690175,
          -1.694306210049193,
          0.8453898499703644,
          -0.4470270295083598,
          1.4645815144212275,
          0.7910848605126803,
          -0.8297193499743546,
          1.6978211174739473,
          -0.9594406497906319,
          0.8588943710079524,
          0.5958120032635975,
          0.5812863670036684,
          0.006947874844667447,
          1.328502003354449,
          -0.023639303401695195,
          0.5988265122087519,
          0.08350412346342759,
          -0.546791662972372,
          -0.008976085354435942,
          -1.3006584746527383,
          -0.20279537336043443,
          0.40149387048614843,
          -0.44258682753169964,
          -0.6584645562551634,
          -0.9033796634003993,
          -0.9053368934817235,
          -0.46190729712378953,
          -0.6547812127063081,
          -1.0864383496934662,
          0.32165120874344855,
          2.613123546687639,
          1.3927968612517874,
          0.9919936360099734,
          -1.8454616872399732,
          0.5894927197443933,
          -0.03559551820886039,
          -0.7910367650609854,
          -1.6255372546247662,
          -0.24326405453267416,
          1.8413885707475877,
          0.92182013753838,
          -1.2389704928347567,
          -0.4681250751946212,
          -0.6564464802415292,
          1.1616997366798514,
          -1.6872613038346125,
          0.06782059673136204,
          0.10246372343762038,
          -0.9441951394571112,
          0.4646299907553265,
          0.5150963253406441,
          -1.0314331444035327,
          2.76602889102714,
          -1.077324321471914,
          -1.0627038272964975,
          -1.3541233150161391,
          -1.1865180094484067,
          -1.1649117176906831,
          -0.14218353540987846,
          -0.8214858920308317,
          1.75215782148672,
          0.4284955139825126
         ]
        }
       ],
       "layout": {
        "legend": {
         "bgcolor": "#F5F6F9",
         "font": {
          "color": "#4D5663"
         }
        },
        "paper_bgcolor": "#F5F6F9",
        "plot_bgcolor": "#F5F6F9",
        "template": {
         "data": {
          "bar": [
           {
            "error_x": {
             "color": "#2a3f5f"
            },
            "error_y": {
             "color": "#2a3f5f"
            },
            "marker": {
             "line": {
              "color": "#E5ECF6",
              "width": 0.5
             }
            },
            "type": "bar"
           }
          ],
          "barpolar": [
           {
            "marker": {
             "line": {
              "color": "#E5ECF6",
              "width": 0.5
             }
            },
            "type": "barpolar"
           }
          ],
          "carpet": [
           {
            "aaxis": {
             "endlinecolor": "#2a3f5f",
             "gridcolor": "white",
             "linecolor": "white",
             "minorgridcolor": "white",
             "startlinecolor": "#2a3f5f"
            },
            "baxis": {
             "endlinecolor": "#2a3f5f",
             "gridcolor": "white",
             "linecolor": "white",
             "minorgridcolor": "white",
             "startlinecolor": "#2a3f5f"
            },
            "type": "carpet"
           }
          ],
          "choropleth": [
           {
            "colorbar": {
             "outlinewidth": 0,
             "ticks": ""
            },
            "type": "choropleth"
           }
          ],
          "contour": [
           {
            "colorbar": {
             "outlinewidth": 0,
             "ticks": ""
            },
            "colorscale": [
             [
              0,
              "#0d0887"
             ],
             [
              0.1111111111111111,
              "#46039f"
             ],
             [
              0.2222222222222222,
              "#7201a8"
             ],
             [
              0.3333333333333333,
              "#9c179e"
             ],
             [
              0.4444444444444444,
              "#bd3786"
             ],
             [
              0.5555555555555556,
              "#d8576b"
             ],
             [
              0.6666666666666666,
              "#ed7953"
             ],
             [
              0.7777777777777778,
              "#fb9f3a"
             ],
             [
              0.8888888888888888,
              "#fdca26"
             ],
             [
              1,
              "#f0f921"
             ]
            ],
            "type": "contour"
           }
          ],
          "contourcarpet": [
           {
            "colorbar": {
             "outlinewidth": 0,
             "ticks": ""
            },
            "type": "contourcarpet"
           }
          ],
          "heatmap": [
           {
            "colorbar": {
             "outlinewidth": 0,
             "ticks": ""
            },
            "colorscale": [
             [
              0,
              "#0d0887"
             ],
             [
              0.1111111111111111,
              "#46039f"
             ],
             [
              0.2222222222222222,
              "#7201a8"
             ],
             [
              0.3333333333333333,
              "#9c179e"
             ],
             [
              0.4444444444444444,
              "#bd3786"
             ],
             [
              0.5555555555555556,
              "#d8576b"
             ],
             [
              0.6666666666666666,
              "#ed7953"
             ],
             [
              0.7777777777777778,
              "#fb9f3a"
             ],
             [
              0.8888888888888888,
              "#fdca26"
             ],
             [
              1,
              "#f0f921"
             ]
            ],
            "type": "heatmap"
           }
          ],
          "heatmapgl": [
           {
            "colorbar": {
             "outlinewidth": 0,
             "ticks": ""
            },
            "colorscale": [
             [
              0,
              "#0d0887"
             ],
             [
              0.1111111111111111,
              "#46039f"
             ],
             [
              0.2222222222222222,
              "#7201a8"
             ],
             [
              0.3333333333333333,
              "#9c179e"
             ],
             [
              0.4444444444444444,
              "#bd3786"
             ],
             [
              0.5555555555555556,
              "#d8576b"
             ],
             [
              0.6666666666666666,
              "#ed7953"
             ],
             [
              0.7777777777777778,
              "#fb9f3a"
             ],
             [
              0.8888888888888888,
              "#fdca26"
             ],
             [
              1,
              "#f0f921"
             ]
            ],
            "type": "heatmapgl"
           }
          ],
          "histogram": [
           {
            "marker": {
             "colorbar": {
              "outlinewidth": 0,
              "ticks": ""
             }
            },
            "type": "histogram"
           }
          ],
          "histogram2d": [
           {
            "colorbar": {
             "outlinewidth": 0,
             "ticks": ""
            },
            "colorscale": [
             [
              0,
              "#0d0887"
             ],
             [
              0.1111111111111111,
              "#46039f"
             ],
             [
              0.2222222222222222,
              "#7201a8"
             ],
             [
              0.3333333333333333,
              "#9c179e"
             ],
             [
              0.4444444444444444,
              "#bd3786"
             ],
             [
              0.5555555555555556,
              "#d8576b"
             ],
             [
              0.6666666666666666,
              "#ed7953"
             ],
             [
              0.7777777777777778,
              "#fb9f3a"
             ],
             [
              0.8888888888888888,
              "#fdca26"
             ],
             [
              1,
              "#f0f921"
             ]
            ],
            "type": "histogram2d"
           }
          ],
          "histogram2dcontour": [
           {
            "colorbar": {
             "outlinewidth": 0,
             "ticks": ""
            },
            "colorscale": [
             [
              0,
              "#0d0887"
             ],
             [
              0.1111111111111111,
              "#46039f"
             ],
             [
              0.2222222222222222,
              "#7201a8"
             ],
             [
              0.3333333333333333,
              "#9c179e"
             ],
             [
              0.4444444444444444,
              "#bd3786"
             ],
             [
              0.5555555555555556,
              "#d8576b"
             ],
             [
              0.6666666666666666,
              "#ed7953"
             ],
             [
              0.7777777777777778,
              "#fb9f3a"
             ],
             [
              0.8888888888888888,
              "#fdca26"
             ],
             [
              1,
              "#f0f921"
             ]
            ],
            "type": "histogram2dcontour"
           }
          ],
          "mesh3d": [
           {
            "colorbar": {
             "outlinewidth": 0,
             "ticks": ""
            },
            "type": "mesh3d"
           }
          ],
          "parcoords": [
           {
            "line": {
             "colorbar": {
              "outlinewidth": 0,
              "ticks": ""
             }
            },
            "type": "parcoords"
           }
          ],
          "pie": [
           {
            "automargin": true,
            "type": "pie"
           }
          ],
          "scatter": [
           {
            "marker": {
             "colorbar": {
              "outlinewidth": 0,
              "ticks": ""
             }
            },
            "type": "scatter"
           }
          ],
          "scatter3d": [
           {
            "line": {
             "colorbar": {
              "outlinewidth": 0,
              "ticks": ""
             }
            },
            "marker": {
             "colorbar": {
              "outlinewidth": 0,
              "ticks": ""
             }
            },
            "type": "scatter3d"
           }
          ],
          "scattercarpet": [
           {
            "marker": {
             "colorbar": {
              "outlinewidth": 0,
              "ticks": ""
             }
            },
            "type": "scattercarpet"
           }
          ],
          "scattergeo": [
           {
            "marker": {
             "colorbar": {
              "outlinewidth": 0,
              "ticks": ""
             }
            },
            "type": "scattergeo"
           }
          ],
          "scattergl": [
           {
            "marker": {
             "colorbar": {
              "outlinewidth": 0,
              "ticks": ""
             }
            },
            "type": "scattergl"
           }
          ],
          "scattermapbox": [
           {
            "marker": {
             "colorbar": {
              "outlinewidth": 0,
              "ticks": ""
             }
            },
            "type": "scattermapbox"
           }
          ],
          "scatterpolar": [
           {
            "marker": {
             "colorbar": {
              "outlinewidth": 0,
              "ticks": ""
             }
            },
            "type": "scatterpolar"
           }
          ],
          "scatterpolargl": [
           {
            "marker": {
             "colorbar": {
              "outlinewidth": 0,
              "ticks": ""
             }
            },
            "type": "scatterpolargl"
           }
          ],
          "scatterternary": [
           {
            "marker": {
             "colorbar": {
              "outlinewidth": 0,
              "ticks": ""
             }
            },
            "type": "scatterternary"
           }
          ],
          "surface": [
           {
            "colorbar": {
             "outlinewidth": 0,
             "ticks": ""
            },
            "colorscale": [
             [
              0,
              "#0d0887"
             ],
             [
              0.1111111111111111,
              "#46039f"
             ],
             [
              0.2222222222222222,
              "#7201a8"
             ],
             [
              0.3333333333333333,
              "#9c179e"
             ],
             [
              0.4444444444444444,
              "#bd3786"
             ],
             [
              0.5555555555555556,
              "#d8576b"
             ],
             [
              0.6666666666666666,
              "#ed7953"
             ],
             [
              0.7777777777777778,
              "#fb9f3a"
             ],
             [
              0.8888888888888888,
              "#fdca26"
             ],
             [
              1,
              "#f0f921"
             ]
            ],
            "type": "surface"
           }
          ],
          "table": [
           {
            "cells": {
             "fill": {
              "color": "#EBF0F8"
             },
             "line": {
              "color": "white"
             }
            },
            "header": {
             "fill": {
              "color": "#C8D4E3"
             },
             "line": {
              "color": "white"
             }
            },
            "type": "table"
           }
          ]
         },
         "layout": {
          "annotationdefaults": {
           "arrowcolor": "#2a3f5f",
           "arrowhead": 0,
           "arrowwidth": 1
          },
          "coloraxis": {
           "colorbar": {
            "outlinewidth": 0,
            "ticks": ""
           }
          },
          "colorscale": {
           "diverging": [
            [
             0,
             "#8e0152"
            ],
            [
             0.1,
             "#c51b7d"
            ],
            [
             0.2,
             "#de77ae"
            ],
            [
             0.3,
             "#f1b6da"
            ],
            [
             0.4,
             "#fde0ef"
            ],
            [
             0.5,
             "#f7f7f7"
            ],
            [
             0.6,
             "#e6f5d0"
            ],
            [
             0.7,
             "#b8e186"
            ],
            [
             0.8,
             "#7fbc41"
            ],
            [
             0.9,
             "#4d9221"
            ],
            [
             1,
             "#276419"
            ]
           ],
           "sequential": [
            [
             0,
             "#0d0887"
            ],
            [
             0.1111111111111111,
             "#46039f"
            ],
            [
             0.2222222222222222,
             "#7201a8"
            ],
            [
             0.3333333333333333,
             "#9c179e"
            ],
            [
             0.4444444444444444,
             "#bd3786"
            ],
            [
             0.5555555555555556,
             "#d8576b"
            ],
            [
             0.6666666666666666,
             "#ed7953"
            ],
            [
             0.7777777777777778,
             "#fb9f3a"
            ],
            [
             0.8888888888888888,
             "#fdca26"
            ],
            [
             1,
             "#f0f921"
            ]
           ],
           "sequentialminus": [
            [
             0,
             "#0d0887"
            ],
            [
             0.1111111111111111,
             "#46039f"
            ],
            [
             0.2222222222222222,
             "#7201a8"
            ],
            [
             0.3333333333333333,
             "#9c179e"
            ],
            [
             0.4444444444444444,
             "#bd3786"
            ],
            [
             0.5555555555555556,
             "#d8576b"
            ],
            [
             0.6666666666666666,
             "#ed7953"
            ],
            [
             0.7777777777777778,
             "#fb9f3a"
            ],
            [
             0.8888888888888888,
             "#fdca26"
            ],
            [
             1,
             "#f0f921"
            ]
           ]
          },
          "colorway": [
           "#636efa",
           "#EF553B",
           "#00cc96",
           "#ab63fa",
           "#FFA15A",
           "#19d3f3",
           "#FF6692",
           "#B6E880",
           "#FF97FF",
           "#FECB52"
          ],
          "font": {
           "color": "#2a3f5f"
          },
          "geo": {
           "bgcolor": "white",
           "lakecolor": "white",
           "landcolor": "#E5ECF6",
           "showlakes": true,
           "showland": true,
           "subunitcolor": "white"
          },
          "hoverlabel": {
           "align": "left"
          },
          "hovermode": "closest",
          "mapbox": {
           "style": "light"
          },
          "paper_bgcolor": "white",
          "plot_bgcolor": "#E5ECF6",
          "polar": {
           "angularaxis": {
            "gridcolor": "white",
            "linecolor": "white",
            "ticks": ""
           },
           "bgcolor": "#E5ECF6",
           "radialaxis": {
            "gridcolor": "white",
            "linecolor": "white",
            "ticks": ""
           }
          },
          "scene": {
           "xaxis": {
            "backgroundcolor": "#E5ECF6",
            "gridcolor": "white",
            "gridwidth": 2,
            "linecolor": "white",
            "showbackground": true,
            "ticks": "",
            "zerolinecolor": "white"
           },
           "yaxis": {
            "backgroundcolor": "#E5ECF6",
            "gridcolor": "white",
            "gridwidth": 2,
            "linecolor": "white",
            "showbackground": true,
            "ticks": "",
            "zerolinecolor": "white"
           },
           "zaxis": {
            "backgroundcolor": "#E5ECF6",
            "gridcolor": "white",
            "gridwidth": 2,
            "linecolor": "white",
            "showbackground": true,
            "ticks": "",
            "zerolinecolor": "white"
           }
          },
          "shapedefaults": {
           "line": {
            "color": "#2a3f5f"
           }
          },
          "ternary": {
           "aaxis": {
            "gridcolor": "white",
            "linecolor": "white",
            "ticks": ""
           },
           "baxis": {
            "gridcolor": "white",
            "linecolor": "white",
            "ticks": ""
           },
           "bgcolor": "#E5ECF6",
           "caxis": {
            "gridcolor": "white",
            "linecolor": "white",
            "ticks": ""
           }
          },
          "title": {
           "x": 0.05
          },
          "xaxis": {
           "automargin": true,
           "gridcolor": "white",
           "linecolor": "white",
           "ticks": "",
           "title": {
            "standoff": 15
           },
           "zerolinecolor": "white",
           "zerolinewidth": 2
          },
          "yaxis": {
           "automargin": true,
           "gridcolor": "white",
           "linecolor": "white",
           "ticks": "",
           "title": {
            "standoff": 15
           },
           "zerolinecolor": "white",
           "zerolinewidth": 2
          }
         }
        },
        "title": {
         "font": {
          "color": "#4D5663"
         }
        },
        "xaxis": {
         "gridcolor": "#E1E5ED",
         "showgrid": true,
         "tickfont": {
          "color": "#4D5663"
         },
         "title": {
          "font": {
           "color": "#4D5663"
          },
          "text": ""
         },
         "zerolinecolor": "#E1E5ED"
        },
        "yaxis": {
         "gridcolor": "#E1E5ED",
         "showgrid": true,
         "tickfont": {
          "color": "#4D5663"
         },
         "title": {
          "font": {
           "color": "#4D5663"
          },
          "text": ""
         },
         "zerolinecolor": "#E1E5ED"
        }
       }
      },
      "text/html": [
       "<div>\n",
       "        \n",
       "        \n",
       "            <div id=\"33835cd2-e16c-4658-a4cf-7493a6743edd\" class=\"plotly-graph-div\" style=\"height:525px; width:100%;\"></div>\n",
       "            <script type=\"text/javascript\">\n",
       "                require([\"plotly\"], function(Plotly) {\n",
       "                    window.PLOTLYENV=window.PLOTLYENV || {};\n",
       "                    window.PLOTLYENV.BASE_URL='https://plot.ly';\n",
       "                    \n",
       "                if (document.getElementById(\"33835cd2-e16c-4658-a4cf-7493a6743edd\")) {\n",
       "                    Plotly.newPlot(\n",
       "                        '33835cd2-e16c-4658-a4cf-7493a6743edd',\n",
       "                        [{\"line\": {\"color\": \"rgba(255, 153, 51, 1.0)\", \"dash\": \"solid\", \"shape\": \"linear\", \"width\": 1.3}, \"marker\": {\"size\": 10, \"symbol\": \"circle\"}, \"mode\": \"markers\", \"name\": \"B\", \"text\": \"\", \"type\": \"scatter\", \"x\": [0.18211528188351103, 0.11443106335682444, 0.5949692036342886, -0.3535342544087595, -0.47572636863988527, 0.6611105346730619, 1.0917475868868998, -1.055908421134264, 0.7494679589241444, 0.5789759034671067, 0.7316774439952273, -0.4486644091579335, -0.3216613236541918, 1.3398947178944725, -1.8158654345047331, 0.5313904039049452, -0.7423013212863171, 0.5331557511732393, 0.0991340250011104, -0.888876014490736, -0.8071434029017788, 0.22621387687134864, 0.33846701985286654, 1.2847481967645078, -1.3046454706066617, 0.03165923167711625, -1.812749936339364, -0.3760202389737884, 1.3773443376494576, -2.4683856625741445, 0.16576781332166, 0.45861358558459847, 1.3116230867367287, -0.4092701515328862, 1.9480137811637988, -0.24311669259196267, -1.2560627046642676, -1.1013099447982246, 1.9186619850406614, -0.10627374375998706, -0.6196495923112475, -0.8298416977962055, -0.6757826281867358, 0.2280090045808461, 0.7648507904943159, 1.3011275065550427, -0.04783545430568777, 1.789352458526911, 1.2482110579534083, 0.7630239321342249, -2.0282702513681095, -0.7203015319260467, -0.05507082231774276, -0.7816847616571831, 0.4459670558769205, 0.3212838980346144, -0.6426253662138668, -0.0027100937375358005, 0.2113669790740554, -1.1624280332116925, -1.2107191807959004, 0.0023915808065864963, 0.9477239269888895, 2.0969969112315665, -0.6473295177516343, 1.7239296014100238, -0.3054485264824094, 1.276967520625875, -0.09911990914379495, 0.46479845341110443, 1.908453861164365, 3.2946693525465824, 0.4455923130866878, 1.7263194925230791, -0.11369290761079535, -0.5605401630316551, -0.7195145870525593, 2.4171089252328173, 1.1119174808971366, 1.6058626990827998, -1.0471529563643316, -1.880630666155797, 1.015554806251903, -1.0412013633671626, 0.15290879219816925, 0.398987354671911, 0.38330897229416844, 1.3474622977012083, 0.182933725350078, -0.8699642581973692, 0.4133254150315233, 0.07694373551123751, -1.2265406355999857, 1.0485399380470044, 0.2733731206474115, -0.7293710670711111, -0.9662635657350681, -0.3915848836708997, -1.0552550223150015, 1.3045085529377953], \"y\": [-0.02018755564793259, -1.3437652881828532, -1.1111743886255112, 1.8359557683550445, -0.6249666296815001, -2.023897039815607, -0.8601940309700603, 0.16485301587299, 1.4953349379652183, 0.3730240119071808, 0.15925679164929463, 1.6149762610901233, 1.1886259375183363, 0.36490947137394925, -0.277109980002345, -0.7186159514942053, 0.7932326128351476, -0.6947531868233376, -0.6728638956989003, 1.168924580201343, -0.41233623513644024, 0.19784681126554177, -0.16672974435674576, 1.5787929527059819, -1.2036869576587854, 1.6388602894589932, 1.1089114782328384, -0.6721462245633214, -0.3138745235292235, -0.36686782982021504, 0.4065463530031799, -0.2257079493612666, -0.43758529260168777, -0.2625152761872851, -1.328898373680611, -2.9542908677251907, 0.21927251170457285, 0.5340299809554598, -0.17813790978690175, -1.694306210049193, 0.8453898499703644, -0.4470270295083598, 1.4645815144212275, 0.7910848605126803, -0.8297193499743546, 1.6978211174739473, -0.9594406497906319, 0.8588943710079524, 0.5958120032635975, 0.5812863670036684, 0.006947874844667447, 1.328502003354449, -0.023639303401695195, 0.5988265122087519, 0.08350412346342759, -0.546791662972372, -0.008976085354435942, -1.3006584746527383, -0.20279537336043443, 0.40149387048614843, -0.44258682753169964, -0.6584645562551634, -0.9033796634003993, -0.9053368934817235, -0.46190729712378953, -0.6547812127063081, -1.0864383496934662, 0.32165120874344855, 2.613123546687639, 1.3927968612517874, 0.9919936360099734, -1.8454616872399732, 0.5894927197443933, -0.03559551820886039, -0.7910367650609854, -1.6255372546247662, -0.24326405453267416, 1.8413885707475877, 0.92182013753838, -1.2389704928347567, -0.4681250751946212, -0.6564464802415292, 1.1616997366798514, -1.6872613038346125, 0.06782059673136204, 0.10246372343762038, -0.9441951394571112, 0.4646299907553265, 0.5150963253406441, -1.0314331444035327, 2.76602889102714, -1.077324321471914, -1.0627038272964975, -1.3541233150161391, -1.1865180094484067, -1.1649117176906831, -0.14218353540987846, -0.8214858920308317, 1.75215782148672, 0.4284955139825126]}],\n",
       "                        {\"legend\": {\"bgcolor\": \"#F5F6F9\", \"font\": {\"color\": \"#4D5663\"}}, \"paper_bgcolor\": \"#F5F6F9\", \"plot_bgcolor\": \"#F5F6F9\", \"template\": {\"data\": {\"bar\": [{\"error_x\": {\"color\": \"#2a3f5f\"}, \"error_y\": {\"color\": \"#2a3f5f\"}, \"marker\": {\"line\": {\"color\": \"#E5ECF6\", \"width\": 0.5}}, \"type\": \"bar\"}], \"barpolar\": [{\"marker\": {\"line\": {\"color\": \"#E5ECF6\", \"width\": 0.5}}, \"type\": \"barpolar\"}], \"carpet\": [{\"aaxis\": {\"endlinecolor\": \"#2a3f5f\", \"gridcolor\": \"white\", \"linecolor\": \"white\", \"minorgridcolor\": \"white\", \"startlinecolor\": \"#2a3f5f\"}, \"baxis\": {\"endlinecolor\": \"#2a3f5f\", \"gridcolor\": \"white\", \"linecolor\": \"white\", \"minorgridcolor\": \"white\", \"startlinecolor\": \"#2a3f5f\"}, \"type\": \"carpet\"}], \"choropleth\": [{\"colorbar\": {\"outlinewidth\": 0, \"ticks\": \"\"}, \"type\": \"choropleth\"}], \"contour\": [{\"colorbar\": {\"outlinewidth\": 0, \"ticks\": \"\"}, \"colorscale\": [[0.0, \"#0d0887\"], [0.1111111111111111, \"#46039f\"], [0.2222222222222222, \"#7201a8\"], [0.3333333333333333, \"#9c179e\"], [0.4444444444444444, \"#bd3786\"], [0.5555555555555556, \"#d8576b\"], [0.6666666666666666, \"#ed7953\"], [0.7777777777777778, \"#fb9f3a\"], [0.8888888888888888, \"#fdca26\"], [1.0, \"#f0f921\"]], \"type\": \"contour\"}], \"contourcarpet\": [{\"colorbar\": {\"outlinewidth\": 0, \"ticks\": \"\"}, \"type\": \"contourcarpet\"}], \"heatmap\": [{\"colorbar\": {\"outlinewidth\": 0, \"ticks\": \"\"}, \"colorscale\": [[0.0, \"#0d0887\"], [0.1111111111111111, \"#46039f\"], [0.2222222222222222, \"#7201a8\"], [0.3333333333333333, \"#9c179e\"], [0.4444444444444444, \"#bd3786\"], [0.5555555555555556, \"#d8576b\"], [0.6666666666666666, \"#ed7953\"], [0.7777777777777778, \"#fb9f3a\"], [0.8888888888888888, \"#fdca26\"], [1.0, \"#f0f921\"]], \"type\": \"heatmap\"}], \"heatmapgl\": [{\"colorbar\": {\"outlinewidth\": 0, \"ticks\": \"\"}, \"colorscale\": [[0.0, \"#0d0887\"], [0.1111111111111111, \"#46039f\"], [0.2222222222222222, \"#7201a8\"], [0.3333333333333333, \"#9c179e\"], [0.4444444444444444, \"#bd3786\"], [0.5555555555555556, \"#d8576b\"], [0.6666666666666666, \"#ed7953\"], [0.7777777777777778, \"#fb9f3a\"], [0.8888888888888888, \"#fdca26\"], [1.0, \"#f0f921\"]], \"type\": \"heatmapgl\"}], \"histogram\": [{\"marker\": {\"colorbar\": {\"outlinewidth\": 0, \"ticks\": \"\"}}, \"type\": \"histogram\"}], \"histogram2d\": [{\"colorbar\": {\"outlinewidth\": 0, \"ticks\": \"\"}, \"colorscale\": [[0.0, \"#0d0887\"], [0.1111111111111111, \"#46039f\"], [0.2222222222222222, \"#7201a8\"], [0.3333333333333333, \"#9c179e\"], [0.4444444444444444, \"#bd3786\"], [0.5555555555555556, \"#d8576b\"], [0.6666666666666666, \"#ed7953\"], [0.7777777777777778, \"#fb9f3a\"], [0.8888888888888888, \"#fdca26\"], [1.0, \"#f0f921\"]], \"type\": \"histogram2d\"}], \"histogram2dcontour\": [{\"colorbar\": {\"outlinewidth\": 0, \"ticks\": \"\"}, \"colorscale\": [[0.0, \"#0d0887\"], [0.1111111111111111, \"#46039f\"], [0.2222222222222222, \"#7201a8\"], [0.3333333333333333, \"#9c179e\"], [0.4444444444444444, \"#bd3786\"], [0.5555555555555556, \"#d8576b\"], [0.6666666666666666, \"#ed7953\"], [0.7777777777777778, \"#fb9f3a\"], [0.8888888888888888, \"#fdca26\"], [1.0, \"#f0f921\"]], \"type\": \"histogram2dcontour\"}], \"mesh3d\": [{\"colorbar\": {\"outlinewidth\": 0, \"ticks\": \"\"}, \"type\": \"mesh3d\"}], \"parcoords\": [{\"line\": {\"colorbar\": {\"outlinewidth\": 0, \"ticks\": \"\"}}, \"type\": \"parcoords\"}], \"pie\": [{\"automargin\": true, \"type\": \"pie\"}], \"scatter\": [{\"marker\": {\"colorbar\": {\"outlinewidth\": 0, \"ticks\": \"\"}}, \"type\": \"scatter\"}], \"scatter3d\": [{\"line\": {\"colorbar\": {\"outlinewidth\": 0, \"ticks\": \"\"}}, \"marker\": {\"colorbar\": {\"outlinewidth\": 0, \"ticks\": \"\"}}, \"type\": \"scatter3d\"}], \"scattercarpet\": [{\"marker\": {\"colorbar\": {\"outlinewidth\": 0, \"ticks\": \"\"}}, \"type\": \"scattercarpet\"}], \"scattergeo\": [{\"marker\": {\"colorbar\": {\"outlinewidth\": 0, \"ticks\": \"\"}}, \"type\": \"scattergeo\"}], \"scattergl\": [{\"marker\": {\"colorbar\": {\"outlinewidth\": 0, \"ticks\": \"\"}}, \"type\": \"scattergl\"}], \"scattermapbox\": [{\"marker\": {\"colorbar\": {\"outlinewidth\": 0, \"ticks\": \"\"}}, \"type\": \"scattermapbox\"}], \"scatterpolar\": [{\"marker\": {\"colorbar\": {\"outlinewidth\": 0, \"ticks\": \"\"}}, \"type\": \"scatterpolar\"}], \"scatterpolargl\": [{\"marker\": {\"colorbar\": {\"outlinewidth\": 0, \"ticks\": \"\"}}, \"type\": \"scatterpolargl\"}], \"scatterternary\": [{\"marker\": {\"colorbar\": {\"outlinewidth\": 0, \"ticks\": \"\"}}, \"type\": \"scatterternary\"}], \"surface\": [{\"colorbar\": {\"outlinewidth\": 0, \"ticks\": \"\"}, \"colorscale\": [[0.0, \"#0d0887\"], [0.1111111111111111, \"#46039f\"], [0.2222222222222222, \"#7201a8\"], [0.3333333333333333, \"#9c179e\"], [0.4444444444444444, \"#bd3786\"], [0.5555555555555556, \"#d8576b\"], [0.6666666666666666, \"#ed7953\"], [0.7777777777777778, \"#fb9f3a\"], [0.8888888888888888, \"#fdca26\"], [1.0, \"#f0f921\"]], \"type\": \"surface\"}], \"table\": [{\"cells\": {\"fill\": {\"color\": \"#EBF0F8\"}, \"line\": {\"color\": \"white\"}}, \"header\": {\"fill\": {\"color\": \"#C8D4E3\"}, \"line\": {\"color\": \"white\"}}, \"type\": \"table\"}]}, \"layout\": {\"annotationdefaults\": {\"arrowcolor\": \"#2a3f5f\", \"arrowhead\": 0, \"arrowwidth\": 1}, \"coloraxis\": {\"colorbar\": {\"outlinewidth\": 0, \"ticks\": \"\"}}, \"colorscale\": {\"diverging\": [[0, \"#8e0152\"], [0.1, \"#c51b7d\"], [0.2, \"#de77ae\"], [0.3, \"#f1b6da\"], [0.4, \"#fde0ef\"], [0.5, \"#f7f7f7\"], [0.6, \"#e6f5d0\"], [0.7, \"#b8e186\"], [0.8, \"#7fbc41\"], [0.9, \"#4d9221\"], [1, \"#276419\"]], \"sequential\": [[0.0, \"#0d0887\"], [0.1111111111111111, \"#46039f\"], [0.2222222222222222, \"#7201a8\"], [0.3333333333333333, \"#9c179e\"], [0.4444444444444444, \"#bd3786\"], [0.5555555555555556, \"#d8576b\"], [0.6666666666666666, \"#ed7953\"], [0.7777777777777778, \"#fb9f3a\"], [0.8888888888888888, \"#fdca26\"], [1.0, \"#f0f921\"]], \"sequentialminus\": [[0.0, \"#0d0887\"], [0.1111111111111111, \"#46039f\"], [0.2222222222222222, \"#7201a8\"], [0.3333333333333333, \"#9c179e\"], [0.4444444444444444, \"#bd3786\"], [0.5555555555555556, \"#d8576b\"], [0.6666666666666666, \"#ed7953\"], [0.7777777777777778, \"#fb9f3a\"], [0.8888888888888888, \"#fdca26\"], [1.0, \"#f0f921\"]]}, \"colorway\": [\"#636efa\", \"#EF553B\", \"#00cc96\", \"#ab63fa\", \"#FFA15A\", \"#19d3f3\", \"#FF6692\", \"#B6E880\", \"#FF97FF\", \"#FECB52\"], \"font\": {\"color\": \"#2a3f5f\"}, \"geo\": {\"bgcolor\": \"white\", \"lakecolor\": \"white\", \"landcolor\": \"#E5ECF6\", \"showlakes\": true, \"showland\": true, \"subunitcolor\": \"white\"}, \"hoverlabel\": {\"align\": \"left\"}, \"hovermode\": \"closest\", \"mapbox\": {\"style\": \"light\"}, \"paper_bgcolor\": \"white\", \"plot_bgcolor\": \"#E5ECF6\", \"polar\": {\"angularaxis\": {\"gridcolor\": \"white\", \"linecolor\": \"white\", \"ticks\": \"\"}, \"bgcolor\": \"#E5ECF6\", \"radialaxis\": {\"gridcolor\": \"white\", \"linecolor\": \"white\", \"ticks\": \"\"}}, \"scene\": {\"xaxis\": {\"backgroundcolor\": \"#E5ECF6\", \"gridcolor\": \"white\", \"gridwidth\": 2, \"linecolor\": \"white\", \"showbackground\": true, \"ticks\": \"\", \"zerolinecolor\": \"white\"}, \"yaxis\": {\"backgroundcolor\": \"#E5ECF6\", \"gridcolor\": \"white\", \"gridwidth\": 2, \"linecolor\": \"white\", \"showbackground\": true, \"ticks\": \"\", \"zerolinecolor\": \"white\"}, \"zaxis\": {\"backgroundcolor\": \"#E5ECF6\", \"gridcolor\": \"white\", \"gridwidth\": 2, \"linecolor\": \"white\", \"showbackground\": true, \"ticks\": \"\", \"zerolinecolor\": \"white\"}}, \"shapedefaults\": {\"line\": {\"color\": \"#2a3f5f\"}}, \"ternary\": {\"aaxis\": {\"gridcolor\": \"white\", \"linecolor\": \"white\", \"ticks\": \"\"}, \"baxis\": {\"gridcolor\": \"white\", \"linecolor\": \"white\", \"ticks\": \"\"}, \"bgcolor\": \"#E5ECF6\", \"caxis\": {\"gridcolor\": \"white\", \"linecolor\": \"white\", \"ticks\": \"\"}}, \"title\": {\"x\": 0.05}, \"xaxis\": {\"automargin\": true, \"gridcolor\": \"white\", \"linecolor\": \"white\", \"ticks\": \"\", \"title\": {\"standoff\": 15}, \"zerolinecolor\": \"white\", \"zerolinewidth\": 2}, \"yaxis\": {\"automargin\": true, \"gridcolor\": \"white\", \"linecolor\": \"white\", \"ticks\": \"\", \"title\": {\"standoff\": 15}, \"zerolinecolor\": \"white\", \"zerolinewidth\": 2}}}, \"title\": {\"font\": {\"color\": \"#4D5663\"}}, \"xaxis\": {\"gridcolor\": \"#E1E5ED\", \"showgrid\": true, \"tickfont\": {\"color\": \"#4D5663\"}, \"title\": {\"font\": {\"color\": \"#4D5663\"}, \"text\": \"\"}, \"zerolinecolor\": \"#E1E5ED\"}, \"yaxis\": {\"gridcolor\": \"#E1E5ED\", \"showgrid\": true, \"tickfont\": {\"color\": \"#4D5663\"}, \"title\": {\"font\": {\"color\": \"#4D5663\"}, \"text\": \"\"}, \"zerolinecolor\": \"#E1E5ED\"}},\n",
       "                        {\"showLink\": true, \"linkText\": \"Export to plot.ly\", \"plotlyServerURL\": \"https://plot.ly\", \"responsive\": true}\n",
       "                    ).then(function(){\n",
       "                            \n",
       "var gd = document.getElementById('33835cd2-e16c-4658-a4cf-7493a6743edd');\n",
       "var x = new MutationObserver(function (mutations, observer) {{\n",
       "        var display = window.getComputedStyle(gd).display;\n",
       "        if (!display || display === 'none') {{\n",
       "            console.log([gd, 'removed!']);\n",
       "            Plotly.purge(gd);\n",
       "            observer.disconnect();\n",
       "        }}\n",
       "}});\n",
       "\n",
       "// Listen for the removal of the full notebook cells\n",
       "var notebookContainer = gd.closest('#notebook-container');\n",
       "if (notebookContainer) {{\n",
       "    x.observe(notebookContainer, {childList: true});\n",
       "}}\n",
       "\n",
       "// Listen for the clearing of the current output cell\n",
       "var outputEl = gd.closest('.output');\n",
       "if (outputEl) {{\n",
       "    x.observe(outputEl, {childList: true});\n",
       "}}\n",
       "\n",
       "                        })\n",
       "                };\n",
       "                });\n",
       "            </script>\n",
       "        </div>"
      ]
     },
     "metadata": {},
     "output_type": "display_data"
    }
   ],
   "source": [
    "df.iplot(kind='scatter',x='A',y='B',mode='markers',size=10)"
   ]
  },
  {
   "cell_type": "markdown",
   "metadata": {},
   "source": [
    "## Bar Plots"
   ]
  },
  {
   "cell_type": "code",
   "execution_count": 11,
   "metadata": {},
   "outputs": [
    {
     "data": {
      "application/vnd.plotly.v1+json": {
       "config": {
        "linkText": "Export to plot.ly",
        "plotlyServerURL": "https://plot.ly",
        "showLink": true
       },
       "data": [
        {
         "marker": {
          "color": "rgba(255, 153, 51, 0.6)",
          "line": {
           "color": "rgba(255, 153, 51, 1.0)",
           "width": 1
          }
         },
         "name": "Values",
         "orientation": "v",
         "text": "",
         "type": "bar",
         "x": [
          "A",
          "B",
          "C"
         ],
         "y": [
          32,
          43,
          50
         ]
        }
       ],
       "layout": {
        "legend": {
         "bgcolor": "#F5F6F9",
         "font": {
          "color": "#4D5663"
         }
        },
        "paper_bgcolor": "#F5F6F9",
        "plot_bgcolor": "#F5F6F9",
        "template": {
         "data": {
          "bar": [
           {
            "error_x": {
             "color": "#2a3f5f"
            },
            "error_y": {
             "color": "#2a3f5f"
            },
            "marker": {
             "line": {
              "color": "#E5ECF6",
              "width": 0.5
             }
            },
            "type": "bar"
           }
          ],
          "barpolar": [
           {
            "marker": {
             "line": {
              "color": "#E5ECF6",
              "width": 0.5
             }
            },
            "type": "barpolar"
           }
          ],
          "carpet": [
           {
            "aaxis": {
             "endlinecolor": "#2a3f5f",
             "gridcolor": "white",
             "linecolor": "white",
             "minorgridcolor": "white",
             "startlinecolor": "#2a3f5f"
            },
            "baxis": {
             "endlinecolor": "#2a3f5f",
             "gridcolor": "white",
             "linecolor": "white",
             "minorgridcolor": "white",
             "startlinecolor": "#2a3f5f"
            },
            "type": "carpet"
           }
          ],
          "choropleth": [
           {
            "colorbar": {
             "outlinewidth": 0,
             "ticks": ""
            },
            "type": "choropleth"
           }
          ],
          "contour": [
           {
            "colorbar": {
             "outlinewidth": 0,
             "ticks": ""
            },
            "colorscale": [
             [
              0,
              "#0d0887"
             ],
             [
              0.1111111111111111,
              "#46039f"
             ],
             [
              0.2222222222222222,
              "#7201a8"
             ],
             [
              0.3333333333333333,
              "#9c179e"
             ],
             [
              0.4444444444444444,
              "#bd3786"
             ],
             [
              0.5555555555555556,
              "#d8576b"
             ],
             [
              0.6666666666666666,
              "#ed7953"
             ],
             [
              0.7777777777777778,
              "#fb9f3a"
             ],
             [
              0.8888888888888888,
              "#fdca26"
             ],
             [
              1,
              "#f0f921"
             ]
            ],
            "type": "contour"
           }
          ],
          "contourcarpet": [
           {
            "colorbar": {
             "outlinewidth": 0,
             "ticks": ""
            },
            "type": "contourcarpet"
           }
          ],
          "heatmap": [
           {
            "colorbar": {
             "outlinewidth": 0,
             "ticks": ""
            },
            "colorscale": [
             [
              0,
              "#0d0887"
             ],
             [
              0.1111111111111111,
              "#46039f"
             ],
             [
              0.2222222222222222,
              "#7201a8"
             ],
             [
              0.3333333333333333,
              "#9c179e"
             ],
             [
              0.4444444444444444,
              "#bd3786"
             ],
             [
              0.5555555555555556,
              "#d8576b"
             ],
             [
              0.6666666666666666,
              "#ed7953"
             ],
             [
              0.7777777777777778,
              "#fb9f3a"
             ],
             [
              0.8888888888888888,
              "#fdca26"
             ],
             [
              1,
              "#f0f921"
             ]
            ],
            "type": "heatmap"
           }
          ],
          "heatmapgl": [
           {
            "colorbar": {
             "outlinewidth": 0,
             "ticks": ""
            },
            "colorscale": [
             [
              0,
              "#0d0887"
             ],
             [
              0.1111111111111111,
              "#46039f"
             ],
             [
              0.2222222222222222,
              "#7201a8"
             ],
             [
              0.3333333333333333,
              "#9c179e"
             ],
             [
              0.4444444444444444,
              "#bd3786"
             ],
             [
              0.5555555555555556,
              "#d8576b"
             ],
             [
              0.6666666666666666,
              "#ed7953"
             ],
             [
              0.7777777777777778,
              "#fb9f3a"
             ],
             [
              0.8888888888888888,
              "#fdca26"
             ],
             [
              1,
              "#f0f921"
             ]
            ],
            "type": "heatmapgl"
           }
          ],
          "histogram": [
           {
            "marker": {
             "colorbar": {
              "outlinewidth": 0,
              "ticks": ""
             }
            },
            "type": "histogram"
           }
          ],
          "histogram2d": [
           {
            "colorbar": {
             "outlinewidth": 0,
             "ticks": ""
            },
            "colorscale": [
             [
              0,
              "#0d0887"
             ],
             [
              0.1111111111111111,
              "#46039f"
             ],
             [
              0.2222222222222222,
              "#7201a8"
             ],
             [
              0.3333333333333333,
              "#9c179e"
             ],
             [
              0.4444444444444444,
              "#bd3786"
             ],
             [
              0.5555555555555556,
              "#d8576b"
             ],
             [
              0.6666666666666666,
              "#ed7953"
             ],
             [
              0.7777777777777778,
              "#fb9f3a"
             ],
             [
              0.8888888888888888,
              "#fdca26"
             ],
             [
              1,
              "#f0f921"
             ]
            ],
            "type": "histogram2d"
           }
          ],
          "histogram2dcontour": [
           {
            "colorbar": {
             "outlinewidth": 0,
             "ticks": ""
            },
            "colorscale": [
             [
              0,
              "#0d0887"
             ],
             [
              0.1111111111111111,
              "#46039f"
             ],
             [
              0.2222222222222222,
              "#7201a8"
             ],
             [
              0.3333333333333333,
              "#9c179e"
             ],
             [
              0.4444444444444444,
              "#bd3786"
             ],
             [
              0.5555555555555556,
              "#d8576b"
             ],
             [
              0.6666666666666666,
              "#ed7953"
             ],
             [
              0.7777777777777778,
              "#fb9f3a"
             ],
             [
              0.8888888888888888,
              "#fdca26"
             ],
             [
              1,
              "#f0f921"
             ]
            ],
            "type": "histogram2dcontour"
           }
          ],
          "mesh3d": [
           {
            "colorbar": {
             "outlinewidth": 0,
             "ticks": ""
            },
            "type": "mesh3d"
           }
          ],
          "parcoords": [
           {
            "line": {
             "colorbar": {
              "outlinewidth": 0,
              "ticks": ""
             }
            },
            "type": "parcoords"
           }
          ],
          "pie": [
           {
            "automargin": true,
            "type": "pie"
           }
          ],
          "scatter": [
           {
            "marker": {
             "colorbar": {
              "outlinewidth": 0,
              "ticks": ""
             }
            },
            "type": "scatter"
           }
          ],
          "scatter3d": [
           {
            "line": {
             "colorbar": {
              "outlinewidth": 0,
              "ticks": ""
             }
            },
            "marker": {
             "colorbar": {
              "outlinewidth": 0,
              "ticks": ""
             }
            },
            "type": "scatter3d"
           }
          ],
          "scattercarpet": [
           {
            "marker": {
             "colorbar": {
              "outlinewidth": 0,
              "ticks": ""
             }
            },
            "type": "scattercarpet"
           }
          ],
          "scattergeo": [
           {
            "marker": {
             "colorbar": {
              "outlinewidth": 0,
              "ticks": ""
             }
            },
            "type": "scattergeo"
           }
          ],
          "scattergl": [
           {
            "marker": {
             "colorbar": {
              "outlinewidth": 0,
              "ticks": ""
             }
            },
            "type": "scattergl"
           }
          ],
          "scattermapbox": [
           {
            "marker": {
             "colorbar": {
              "outlinewidth": 0,
              "ticks": ""
             }
            },
            "type": "scattermapbox"
           }
          ],
          "scatterpolar": [
           {
            "marker": {
             "colorbar": {
              "outlinewidth": 0,
              "ticks": ""
             }
            },
            "type": "scatterpolar"
           }
          ],
          "scatterpolargl": [
           {
            "marker": {
             "colorbar": {
              "outlinewidth": 0,
              "ticks": ""
             }
            },
            "type": "scatterpolargl"
           }
          ],
          "scatterternary": [
           {
            "marker": {
             "colorbar": {
              "outlinewidth": 0,
              "ticks": ""
             }
            },
            "type": "scatterternary"
           }
          ],
          "surface": [
           {
            "colorbar": {
             "outlinewidth": 0,
             "ticks": ""
            },
            "colorscale": [
             [
              0,
              "#0d0887"
             ],
             [
              0.1111111111111111,
              "#46039f"
             ],
             [
              0.2222222222222222,
              "#7201a8"
             ],
             [
              0.3333333333333333,
              "#9c179e"
             ],
             [
              0.4444444444444444,
              "#bd3786"
             ],
             [
              0.5555555555555556,
              "#d8576b"
             ],
             [
              0.6666666666666666,
              "#ed7953"
             ],
             [
              0.7777777777777778,
              "#fb9f3a"
             ],
             [
              0.8888888888888888,
              "#fdca26"
             ],
             [
              1,
              "#f0f921"
             ]
            ],
            "type": "surface"
           }
          ],
          "table": [
           {
            "cells": {
             "fill": {
              "color": "#EBF0F8"
             },
             "line": {
              "color": "white"
             }
            },
            "header": {
             "fill": {
              "color": "#C8D4E3"
             },
             "line": {
              "color": "white"
             }
            },
            "type": "table"
           }
          ]
         },
         "layout": {
          "annotationdefaults": {
           "arrowcolor": "#2a3f5f",
           "arrowhead": 0,
           "arrowwidth": 1
          },
          "coloraxis": {
           "colorbar": {
            "outlinewidth": 0,
            "ticks": ""
           }
          },
          "colorscale": {
           "diverging": [
            [
             0,
             "#8e0152"
            ],
            [
             0.1,
             "#c51b7d"
            ],
            [
             0.2,
             "#de77ae"
            ],
            [
             0.3,
             "#f1b6da"
            ],
            [
             0.4,
             "#fde0ef"
            ],
            [
             0.5,
             "#f7f7f7"
            ],
            [
             0.6,
             "#e6f5d0"
            ],
            [
             0.7,
             "#b8e186"
            ],
            [
             0.8,
             "#7fbc41"
            ],
            [
             0.9,
             "#4d9221"
            ],
            [
             1,
             "#276419"
            ]
           ],
           "sequential": [
            [
             0,
             "#0d0887"
            ],
            [
             0.1111111111111111,
             "#46039f"
            ],
            [
             0.2222222222222222,
             "#7201a8"
            ],
            [
             0.3333333333333333,
             "#9c179e"
            ],
            [
             0.4444444444444444,
             "#bd3786"
            ],
            [
             0.5555555555555556,
             "#d8576b"
            ],
            [
             0.6666666666666666,
             "#ed7953"
            ],
            [
             0.7777777777777778,
             "#fb9f3a"
            ],
            [
             0.8888888888888888,
             "#fdca26"
            ],
            [
             1,
             "#f0f921"
            ]
           ],
           "sequentialminus": [
            [
             0,
             "#0d0887"
            ],
            [
             0.1111111111111111,
             "#46039f"
            ],
            [
             0.2222222222222222,
             "#7201a8"
            ],
            [
             0.3333333333333333,
             "#9c179e"
            ],
            [
             0.4444444444444444,
             "#bd3786"
            ],
            [
             0.5555555555555556,
             "#d8576b"
            ],
            [
             0.6666666666666666,
             "#ed7953"
            ],
            [
             0.7777777777777778,
             "#fb9f3a"
            ],
            [
             0.8888888888888888,
             "#fdca26"
            ],
            [
             1,
             "#f0f921"
            ]
           ]
          },
          "colorway": [
           "#636efa",
           "#EF553B",
           "#00cc96",
           "#ab63fa",
           "#FFA15A",
           "#19d3f3",
           "#FF6692",
           "#B6E880",
           "#FF97FF",
           "#FECB52"
          ],
          "font": {
           "color": "#2a3f5f"
          },
          "geo": {
           "bgcolor": "white",
           "lakecolor": "white",
           "landcolor": "#E5ECF6",
           "showlakes": true,
           "showland": true,
           "subunitcolor": "white"
          },
          "hoverlabel": {
           "align": "left"
          },
          "hovermode": "closest",
          "mapbox": {
           "style": "light"
          },
          "paper_bgcolor": "white",
          "plot_bgcolor": "#E5ECF6",
          "polar": {
           "angularaxis": {
            "gridcolor": "white",
            "linecolor": "white",
            "ticks": ""
           },
           "bgcolor": "#E5ECF6",
           "radialaxis": {
            "gridcolor": "white",
            "linecolor": "white",
            "ticks": ""
           }
          },
          "scene": {
           "xaxis": {
            "backgroundcolor": "#E5ECF6",
            "gridcolor": "white",
            "gridwidth": 2,
            "linecolor": "white",
            "showbackground": true,
            "ticks": "",
            "zerolinecolor": "white"
           },
           "yaxis": {
            "backgroundcolor": "#E5ECF6",
            "gridcolor": "white",
            "gridwidth": 2,
            "linecolor": "white",
            "showbackground": true,
            "ticks": "",
            "zerolinecolor": "white"
           },
           "zaxis": {
            "backgroundcolor": "#E5ECF6",
            "gridcolor": "white",
            "gridwidth": 2,
            "linecolor": "white",
            "showbackground": true,
            "ticks": "",
            "zerolinecolor": "white"
           }
          },
          "shapedefaults": {
           "line": {
            "color": "#2a3f5f"
           }
          },
          "ternary": {
           "aaxis": {
            "gridcolor": "white",
            "linecolor": "white",
            "ticks": ""
           },
           "baxis": {
            "gridcolor": "white",
            "linecolor": "white",
            "ticks": ""
           },
           "bgcolor": "#E5ECF6",
           "caxis": {
            "gridcolor": "white",
            "linecolor": "white",
            "ticks": ""
           }
          },
          "title": {
           "x": 0.05
          },
          "xaxis": {
           "automargin": true,
           "gridcolor": "white",
           "linecolor": "white",
           "ticks": "",
           "title": {
            "standoff": 15
           },
           "zerolinecolor": "white",
           "zerolinewidth": 2
          },
          "yaxis": {
           "automargin": true,
           "gridcolor": "white",
           "linecolor": "white",
           "ticks": "",
           "title": {
            "standoff": 15
           },
           "zerolinecolor": "white",
           "zerolinewidth": 2
          }
         }
        },
        "title": {
         "font": {
          "color": "#4D5663"
         }
        },
        "xaxis": {
         "gridcolor": "#E1E5ED",
         "showgrid": true,
         "tickfont": {
          "color": "#4D5663"
         },
         "title": {
          "font": {
           "color": "#4D5663"
          },
          "text": ""
         },
         "zerolinecolor": "#E1E5ED"
        },
        "yaxis": {
         "gridcolor": "#E1E5ED",
         "showgrid": true,
         "tickfont": {
          "color": "#4D5663"
         },
         "title": {
          "font": {
           "color": "#4D5663"
          },
          "text": ""
         },
         "zerolinecolor": "#E1E5ED"
        }
       }
      },
      "text/html": [
       "<div>\n",
       "        \n",
       "        \n",
       "            <div id=\"39b51c1a-fb02-4dfd-bb81-ce2c53176469\" class=\"plotly-graph-div\" style=\"height:525px; width:100%;\"></div>\n",
       "            <script type=\"text/javascript\">\n",
       "                require([\"plotly\"], function(Plotly) {\n",
       "                    window.PLOTLYENV=window.PLOTLYENV || {};\n",
       "                    window.PLOTLYENV.BASE_URL='https://plot.ly';\n",
       "                    \n",
       "                if (document.getElementById(\"39b51c1a-fb02-4dfd-bb81-ce2c53176469\")) {\n",
       "                    Plotly.newPlot(\n",
       "                        '39b51c1a-fb02-4dfd-bb81-ce2c53176469',\n",
       "                        [{\"marker\": {\"color\": \"rgba(255, 153, 51, 0.6)\", \"line\": {\"color\": \"rgba(255, 153, 51, 1.0)\", \"width\": 1}}, \"name\": \"Values\", \"orientation\": \"v\", \"text\": \"\", \"type\": \"bar\", \"x\": [\"A\", \"B\", \"C\"], \"y\": [32, 43, 50]}],\n",
       "                        {\"legend\": {\"bgcolor\": \"#F5F6F9\", \"font\": {\"color\": \"#4D5663\"}}, \"paper_bgcolor\": \"#F5F6F9\", \"plot_bgcolor\": \"#F5F6F9\", \"template\": {\"data\": {\"bar\": [{\"error_x\": {\"color\": \"#2a3f5f\"}, \"error_y\": {\"color\": \"#2a3f5f\"}, \"marker\": {\"line\": {\"color\": \"#E5ECF6\", \"width\": 0.5}}, \"type\": \"bar\"}], \"barpolar\": [{\"marker\": {\"line\": {\"color\": \"#E5ECF6\", \"width\": 0.5}}, \"type\": \"barpolar\"}], \"carpet\": [{\"aaxis\": {\"endlinecolor\": \"#2a3f5f\", \"gridcolor\": \"white\", \"linecolor\": \"white\", \"minorgridcolor\": \"white\", \"startlinecolor\": \"#2a3f5f\"}, \"baxis\": {\"endlinecolor\": \"#2a3f5f\", \"gridcolor\": \"white\", \"linecolor\": \"white\", \"minorgridcolor\": \"white\", \"startlinecolor\": \"#2a3f5f\"}, \"type\": \"carpet\"}], \"choropleth\": [{\"colorbar\": {\"outlinewidth\": 0, \"ticks\": \"\"}, \"type\": \"choropleth\"}], \"contour\": [{\"colorbar\": {\"outlinewidth\": 0, \"ticks\": \"\"}, \"colorscale\": [[0.0, \"#0d0887\"], [0.1111111111111111, \"#46039f\"], [0.2222222222222222, \"#7201a8\"], [0.3333333333333333, \"#9c179e\"], [0.4444444444444444, \"#bd3786\"], [0.5555555555555556, \"#d8576b\"], [0.6666666666666666, \"#ed7953\"], [0.7777777777777778, \"#fb9f3a\"], [0.8888888888888888, \"#fdca26\"], [1.0, \"#f0f921\"]], \"type\": \"contour\"}], \"contourcarpet\": [{\"colorbar\": {\"outlinewidth\": 0, \"ticks\": \"\"}, \"type\": \"contourcarpet\"}], \"heatmap\": [{\"colorbar\": {\"outlinewidth\": 0, \"ticks\": \"\"}, \"colorscale\": [[0.0, \"#0d0887\"], [0.1111111111111111, \"#46039f\"], [0.2222222222222222, \"#7201a8\"], [0.3333333333333333, \"#9c179e\"], [0.4444444444444444, \"#bd3786\"], [0.5555555555555556, \"#d8576b\"], [0.6666666666666666, \"#ed7953\"], [0.7777777777777778, \"#fb9f3a\"], [0.8888888888888888, \"#fdca26\"], [1.0, \"#f0f921\"]], \"type\": \"heatmap\"}], \"heatmapgl\": [{\"colorbar\": {\"outlinewidth\": 0, \"ticks\": \"\"}, \"colorscale\": [[0.0, \"#0d0887\"], [0.1111111111111111, \"#46039f\"], [0.2222222222222222, \"#7201a8\"], [0.3333333333333333, \"#9c179e\"], [0.4444444444444444, \"#bd3786\"], [0.5555555555555556, \"#d8576b\"], [0.6666666666666666, \"#ed7953\"], [0.7777777777777778, \"#fb9f3a\"], [0.8888888888888888, \"#fdca26\"], [1.0, \"#f0f921\"]], \"type\": \"heatmapgl\"}], \"histogram\": [{\"marker\": {\"colorbar\": {\"outlinewidth\": 0, \"ticks\": \"\"}}, \"type\": \"histogram\"}], \"histogram2d\": [{\"colorbar\": {\"outlinewidth\": 0, \"ticks\": \"\"}, \"colorscale\": [[0.0, \"#0d0887\"], [0.1111111111111111, \"#46039f\"], [0.2222222222222222, \"#7201a8\"], [0.3333333333333333, \"#9c179e\"], [0.4444444444444444, \"#bd3786\"], [0.5555555555555556, \"#d8576b\"], [0.6666666666666666, \"#ed7953\"], [0.7777777777777778, \"#fb9f3a\"], [0.8888888888888888, \"#fdca26\"], [1.0, \"#f0f921\"]], \"type\": \"histogram2d\"}], \"histogram2dcontour\": [{\"colorbar\": {\"outlinewidth\": 0, \"ticks\": \"\"}, \"colorscale\": [[0.0, \"#0d0887\"], [0.1111111111111111, \"#46039f\"], [0.2222222222222222, \"#7201a8\"], [0.3333333333333333, \"#9c179e\"], [0.4444444444444444, \"#bd3786\"], [0.5555555555555556, \"#d8576b\"], [0.6666666666666666, \"#ed7953\"], [0.7777777777777778, \"#fb9f3a\"], [0.8888888888888888, \"#fdca26\"], [1.0, \"#f0f921\"]], \"type\": \"histogram2dcontour\"}], \"mesh3d\": [{\"colorbar\": {\"outlinewidth\": 0, \"ticks\": \"\"}, \"type\": \"mesh3d\"}], \"parcoords\": [{\"line\": {\"colorbar\": {\"outlinewidth\": 0, \"ticks\": \"\"}}, \"type\": \"parcoords\"}], \"pie\": [{\"automargin\": true, \"type\": \"pie\"}], \"scatter\": [{\"marker\": {\"colorbar\": {\"outlinewidth\": 0, \"ticks\": \"\"}}, \"type\": \"scatter\"}], \"scatter3d\": [{\"line\": {\"colorbar\": {\"outlinewidth\": 0, \"ticks\": \"\"}}, \"marker\": {\"colorbar\": {\"outlinewidth\": 0, \"ticks\": \"\"}}, \"type\": \"scatter3d\"}], \"scattercarpet\": [{\"marker\": {\"colorbar\": {\"outlinewidth\": 0, \"ticks\": \"\"}}, \"type\": \"scattercarpet\"}], \"scattergeo\": [{\"marker\": {\"colorbar\": {\"outlinewidth\": 0, \"ticks\": \"\"}}, \"type\": \"scattergeo\"}], \"scattergl\": [{\"marker\": {\"colorbar\": {\"outlinewidth\": 0, \"ticks\": \"\"}}, \"type\": \"scattergl\"}], \"scattermapbox\": [{\"marker\": {\"colorbar\": {\"outlinewidth\": 0, \"ticks\": \"\"}}, \"type\": \"scattermapbox\"}], \"scatterpolar\": [{\"marker\": {\"colorbar\": {\"outlinewidth\": 0, \"ticks\": \"\"}}, \"type\": \"scatterpolar\"}], \"scatterpolargl\": [{\"marker\": {\"colorbar\": {\"outlinewidth\": 0, \"ticks\": \"\"}}, \"type\": \"scatterpolargl\"}], \"scatterternary\": [{\"marker\": {\"colorbar\": {\"outlinewidth\": 0, \"ticks\": \"\"}}, \"type\": \"scatterternary\"}], \"surface\": [{\"colorbar\": {\"outlinewidth\": 0, \"ticks\": \"\"}, \"colorscale\": [[0.0, \"#0d0887\"], [0.1111111111111111, \"#46039f\"], [0.2222222222222222, \"#7201a8\"], [0.3333333333333333, \"#9c179e\"], [0.4444444444444444, \"#bd3786\"], [0.5555555555555556, \"#d8576b\"], [0.6666666666666666, \"#ed7953\"], [0.7777777777777778, \"#fb9f3a\"], [0.8888888888888888, \"#fdca26\"], [1.0, \"#f0f921\"]], \"type\": \"surface\"}], \"table\": [{\"cells\": {\"fill\": {\"color\": \"#EBF0F8\"}, \"line\": {\"color\": \"white\"}}, \"header\": {\"fill\": {\"color\": \"#C8D4E3\"}, \"line\": {\"color\": \"white\"}}, \"type\": \"table\"}]}, \"layout\": {\"annotationdefaults\": {\"arrowcolor\": \"#2a3f5f\", \"arrowhead\": 0, \"arrowwidth\": 1}, \"coloraxis\": {\"colorbar\": {\"outlinewidth\": 0, \"ticks\": \"\"}}, \"colorscale\": {\"diverging\": [[0, \"#8e0152\"], [0.1, \"#c51b7d\"], [0.2, \"#de77ae\"], [0.3, \"#f1b6da\"], [0.4, \"#fde0ef\"], [0.5, \"#f7f7f7\"], [0.6, \"#e6f5d0\"], [0.7, \"#b8e186\"], [0.8, \"#7fbc41\"], [0.9, \"#4d9221\"], [1, \"#276419\"]], \"sequential\": [[0.0, \"#0d0887\"], [0.1111111111111111, \"#46039f\"], [0.2222222222222222, \"#7201a8\"], [0.3333333333333333, \"#9c179e\"], [0.4444444444444444, \"#bd3786\"], [0.5555555555555556, \"#d8576b\"], [0.6666666666666666, \"#ed7953\"], [0.7777777777777778, \"#fb9f3a\"], [0.8888888888888888, \"#fdca26\"], [1.0, \"#f0f921\"]], \"sequentialminus\": [[0.0, \"#0d0887\"], [0.1111111111111111, \"#46039f\"], [0.2222222222222222, \"#7201a8\"], [0.3333333333333333, \"#9c179e\"], [0.4444444444444444, \"#bd3786\"], [0.5555555555555556, \"#d8576b\"], [0.6666666666666666, \"#ed7953\"], [0.7777777777777778, \"#fb9f3a\"], [0.8888888888888888, \"#fdca26\"], [1.0, \"#f0f921\"]]}, \"colorway\": [\"#636efa\", \"#EF553B\", \"#00cc96\", \"#ab63fa\", \"#FFA15A\", \"#19d3f3\", \"#FF6692\", \"#B6E880\", \"#FF97FF\", \"#FECB52\"], \"font\": {\"color\": \"#2a3f5f\"}, \"geo\": {\"bgcolor\": \"white\", \"lakecolor\": \"white\", \"landcolor\": \"#E5ECF6\", \"showlakes\": true, \"showland\": true, \"subunitcolor\": \"white\"}, \"hoverlabel\": {\"align\": \"left\"}, \"hovermode\": \"closest\", \"mapbox\": {\"style\": \"light\"}, \"paper_bgcolor\": \"white\", \"plot_bgcolor\": \"#E5ECF6\", \"polar\": {\"angularaxis\": {\"gridcolor\": \"white\", \"linecolor\": \"white\", \"ticks\": \"\"}, \"bgcolor\": \"#E5ECF6\", \"radialaxis\": {\"gridcolor\": \"white\", \"linecolor\": \"white\", \"ticks\": \"\"}}, \"scene\": {\"xaxis\": {\"backgroundcolor\": \"#E5ECF6\", \"gridcolor\": \"white\", \"gridwidth\": 2, \"linecolor\": \"white\", \"showbackground\": true, \"ticks\": \"\", \"zerolinecolor\": \"white\"}, \"yaxis\": {\"backgroundcolor\": \"#E5ECF6\", \"gridcolor\": \"white\", \"gridwidth\": 2, \"linecolor\": \"white\", \"showbackground\": true, \"ticks\": \"\", \"zerolinecolor\": \"white\"}, \"zaxis\": {\"backgroundcolor\": \"#E5ECF6\", \"gridcolor\": \"white\", \"gridwidth\": 2, \"linecolor\": \"white\", \"showbackground\": true, \"ticks\": \"\", \"zerolinecolor\": \"white\"}}, \"shapedefaults\": {\"line\": {\"color\": \"#2a3f5f\"}}, \"ternary\": {\"aaxis\": {\"gridcolor\": \"white\", \"linecolor\": \"white\", \"ticks\": \"\"}, \"baxis\": {\"gridcolor\": \"white\", \"linecolor\": \"white\", \"ticks\": \"\"}, \"bgcolor\": \"#E5ECF6\", \"caxis\": {\"gridcolor\": \"white\", \"linecolor\": \"white\", \"ticks\": \"\"}}, \"title\": {\"x\": 0.05}, \"xaxis\": {\"automargin\": true, \"gridcolor\": \"white\", \"linecolor\": \"white\", \"ticks\": \"\", \"title\": {\"standoff\": 15}, \"zerolinecolor\": \"white\", \"zerolinewidth\": 2}, \"yaxis\": {\"automargin\": true, \"gridcolor\": \"white\", \"linecolor\": \"white\", \"ticks\": \"\", \"title\": {\"standoff\": 15}, \"zerolinecolor\": \"white\", \"zerolinewidth\": 2}}}, \"title\": {\"font\": {\"color\": \"#4D5663\"}}, \"xaxis\": {\"gridcolor\": \"#E1E5ED\", \"showgrid\": true, \"tickfont\": {\"color\": \"#4D5663\"}, \"title\": {\"font\": {\"color\": \"#4D5663\"}, \"text\": \"\"}, \"zerolinecolor\": \"#E1E5ED\"}, \"yaxis\": {\"gridcolor\": \"#E1E5ED\", \"showgrid\": true, \"tickfont\": {\"color\": \"#4D5663\"}, \"title\": {\"font\": {\"color\": \"#4D5663\"}, \"text\": \"\"}, \"zerolinecolor\": \"#E1E5ED\"}},\n",
       "                        {\"showLink\": true, \"linkText\": \"Export to plot.ly\", \"plotlyServerURL\": \"https://plot.ly\", \"responsive\": true}\n",
       "                    ).then(function(){\n",
       "                            \n",
       "var gd = document.getElementById('39b51c1a-fb02-4dfd-bb81-ce2c53176469');\n",
       "var x = new MutationObserver(function (mutations, observer) {{\n",
       "        var display = window.getComputedStyle(gd).display;\n",
       "        if (!display || display === 'none') {{\n",
       "            console.log([gd, 'removed!']);\n",
       "            Plotly.purge(gd);\n",
       "            observer.disconnect();\n",
       "        }}\n",
       "}});\n",
       "\n",
       "// Listen for the removal of the full notebook cells\n",
       "var notebookContainer = gd.closest('#notebook-container');\n",
       "if (notebookContainer) {{\n",
       "    x.observe(notebookContainer, {childList: true});\n",
       "}}\n",
       "\n",
       "// Listen for the clearing of the current output cell\n",
       "var outputEl = gd.closest('.output');\n",
       "if (outputEl) {{\n",
       "    x.observe(outputEl, {childList: true});\n",
       "}}\n",
       "\n",
       "                        })\n",
       "                };\n",
       "                });\n",
       "            </script>\n",
       "        </div>"
      ]
     },
     "metadata": {},
     "output_type": "display_data"
    }
   ],
   "source": [
    "df2.iplot(kind='bar',x='Category',y='Values')"
   ]
  },
  {
   "cell_type": "code",
   "execution_count": 12,
   "metadata": {},
   "outputs": [
    {
     "data": {
      "application/vnd.plotly.v1+json": {
       "config": {
        "linkText": "Export to plot.ly",
        "plotlyServerURL": "https://plot.ly",
        "showLink": true
       },
       "data": [
        {
         "marker": {
          "color": "rgba(255, 153, 51, 0.6)",
          "line": {
           "color": "rgba(255, 153, 51, 1.0)",
           "width": 1
          }
         },
         "name": "None",
         "orientation": "v",
         "text": "",
         "type": "bar",
         "x": [
          "A",
          "B",
          "C",
          "D"
         ],
         "y": [
          100,
          100,
          100,
          100
         ]
        }
       ],
       "layout": {
        "legend": {
         "bgcolor": "#F5F6F9",
         "font": {
          "color": "#4D5663"
         }
        },
        "paper_bgcolor": "#F5F6F9",
        "plot_bgcolor": "#F5F6F9",
        "template": {
         "data": {
          "bar": [
           {
            "error_x": {
             "color": "#2a3f5f"
            },
            "error_y": {
             "color": "#2a3f5f"
            },
            "marker": {
             "line": {
              "color": "#E5ECF6",
              "width": 0.5
             }
            },
            "type": "bar"
           }
          ],
          "barpolar": [
           {
            "marker": {
             "line": {
              "color": "#E5ECF6",
              "width": 0.5
             }
            },
            "type": "barpolar"
           }
          ],
          "carpet": [
           {
            "aaxis": {
             "endlinecolor": "#2a3f5f",
             "gridcolor": "white",
             "linecolor": "white",
             "minorgridcolor": "white",
             "startlinecolor": "#2a3f5f"
            },
            "baxis": {
             "endlinecolor": "#2a3f5f",
             "gridcolor": "white",
             "linecolor": "white",
             "minorgridcolor": "white",
             "startlinecolor": "#2a3f5f"
            },
            "type": "carpet"
           }
          ],
          "choropleth": [
           {
            "colorbar": {
             "outlinewidth": 0,
             "ticks": ""
            },
            "type": "choropleth"
           }
          ],
          "contour": [
           {
            "colorbar": {
             "outlinewidth": 0,
             "ticks": ""
            },
            "colorscale": [
             [
              0,
              "#0d0887"
             ],
             [
              0.1111111111111111,
              "#46039f"
             ],
             [
              0.2222222222222222,
              "#7201a8"
             ],
             [
              0.3333333333333333,
              "#9c179e"
             ],
             [
              0.4444444444444444,
              "#bd3786"
             ],
             [
              0.5555555555555556,
              "#d8576b"
             ],
             [
              0.6666666666666666,
              "#ed7953"
             ],
             [
              0.7777777777777778,
              "#fb9f3a"
             ],
             [
              0.8888888888888888,
              "#fdca26"
             ],
             [
              1,
              "#f0f921"
             ]
            ],
            "type": "contour"
           }
          ],
          "contourcarpet": [
           {
            "colorbar": {
             "outlinewidth": 0,
             "ticks": ""
            },
            "type": "contourcarpet"
           }
          ],
          "heatmap": [
           {
            "colorbar": {
             "outlinewidth": 0,
             "ticks": ""
            },
            "colorscale": [
             [
              0,
              "#0d0887"
             ],
             [
              0.1111111111111111,
              "#46039f"
             ],
             [
              0.2222222222222222,
              "#7201a8"
             ],
             [
              0.3333333333333333,
              "#9c179e"
             ],
             [
              0.4444444444444444,
              "#bd3786"
             ],
             [
              0.5555555555555556,
              "#d8576b"
             ],
             [
              0.6666666666666666,
              "#ed7953"
             ],
             [
              0.7777777777777778,
              "#fb9f3a"
             ],
             [
              0.8888888888888888,
              "#fdca26"
             ],
             [
              1,
              "#f0f921"
             ]
            ],
            "type": "heatmap"
           }
          ],
          "heatmapgl": [
           {
            "colorbar": {
             "outlinewidth": 0,
             "ticks": ""
            },
            "colorscale": [
             [
              0,
              "#0d0887"
             ],
             [
              0.1111111111111111,
              "#46039f"
             ],
             [
              0.2222222222222222,
              "#7201a8"
             ],
             [
              0.3333333333333333,
              "#9c179e"
             ],
             [
              0.4444444444444444,
              "#bd3786"
             ],
             [
              0.5555555555555556,
              "#d8576b"
             ],
             [
              0.6666666666666666,
              "#ed7953"
             ],
             [
              0.7777777777777778,
              "#fb9f3a"
             ],
             [
              0.8888888888888888,
              "#fdca26"
             ],
             [
              1,
              "#f0f921"
             ]
            ],
            "type": "heatmapgl"
           }
          ],
          "histogram": [
           {
            "marker": {
             "colorbar": {
              "outlinewidth": 0,
              "ticks": ""
             }
            },
            "type": "histogram"
           }
          ],
          "histogram2d": [
           {
            "colorbar": {
             "outlinewidth": 0,
             "ticks": ""
            },
            "colorscale": [
             [
              0,
              "#0d0887"
             ],
             [
              0.1111111111111111,
              "#46039f"
             ],
             [
              0.2222222222222222,
              "#7201a8"
             ],
             [
              0.3333333333333333,
              "#9c179e"
             ],
             [
              0.4444444444444444,
              "#bd3786"
             ],
             [
              0.5555555555555556,
              "#d8576b"
             ],
             [
              0.6666666666666666,
              "#ed7953"
             ],
             [
              0.7777777777777778,
              "#fb9f3a"
             ],
             [
              0.8888888888888888,
              "#fdca26"
             ],
             [
              1,
              "#f0f921"
             ]
            ],
            "type": "histogram2d"
           }
          ],
          "histogram2dcontour": [
           {
            "colorbar": {
             "outlinewidth": 0,
             "ticks": ""
            },
            "colorscale": [
             [
              0,
              "#0d0887"
             ],
             [
              0.1111111111111111,
              "#46039f"
             ],
             [
              0.2222222222222222,
              "#7201a8"
             ],
             [
              0.3333333333333333,
              "#9c179e"
             ],
             [
              0.4444444444444444,
              "#bd3786"
             ],
             [
              0.5555555555555556,
              "#d8576b"
             ],
             [
              0.6666666666666666,
              "#ed7953"
             ],
             [
              0.7777777777777778,
              "#fb9f3a"
             ],
             [
              0.8888888888888888,
              "#fdca26"
             ],
             [
              1,
              "#f0f921"
             ]
            ],
            "type": "histogram2dcontour"
           }
          ],
          "mesh3d": [
           {
            "colorbar": {
             "outlinewidth": 0,
             "ticks": ""
            },
            "type": "mesh3d"
           }
          ],
          "parcoords": [
           {
            "line": {
             "colorbar": {
              "outlinewidth": 0,
              "ticks": ""
             }
            },
            "type": "parcoords"
           }
          ],
          "pie": [
           {
            "automargin": true,
            "type": "pie"
           }
          ],
          "scatter": [
           {
            "marker": {
             "colorbar": {
              "outlinewidth": 0,
              "ticks": ""
             }
            },
            "type": "scatter"
           }
          ],
          "scatter3d": [
           {
            "line": {
             "colorbar": {
              "outlinewidth": 0,
              "ticks": ""
             }
            },
            "marker": {
             "colorbar": {
              "outlinewidth": 0,
              "ticks": ""
             }
            },
            "type": "scatter3d"
           }
          ],
          "scattercarpet": [
           {
            "marker": {
             "colorbar": {
              "outlinewidth": 0,
              "ticks": ""
             }
            },
            "type": "scattercarpet"
           }
          ],
          "scattergeo": [
           {
            "marker": {
             "colorbar": {
              "outlinewidth": 0,
              "ticks": ""
             }
            },
            "type": "scattergeo"
           }
          ],
          "scattergl": [
           {
            "marker": {
             "colorbar": {
              "outlinewidth": 0,
              "ticks": ""
             }
            },
            "type": "scattergl"
           }
          ],
          "scattermapbox": [
           {
            "marker": {
             "colorbar": {
              "outlinewidth": 0,
              "ticks": ""
             }
            },
            "type": "scattermapbox"
           }
          ],
          "scatterpolar": [
           {
            "marker": {
             "colorbar": {
              "outlinewidth": 0,
              "ticks": ""
             }
            },
            "type": "scatterpolar"
           }
          ],
          "scatterpolargl": [
           {
            "marker": {
             "colorbar": {
              "outlinewidth": 0,
              "ticks": ""
             }
            },
            "type": "scatterpolargl"
           }
          ],
          "scatterternary": [
           {
            "marker": {
             "colorbar": {
              "outlinewidth": 0,
              "ticks": ""
             }
            },
            "type": "scatterternary"
           }
          ],
          "surface": [
           {
            "colorbar": {
             "outlinewidth": 0,
             "ticks": ""
            },
            "colorscale": [
             [
              0,
              "#0d0887"
             ],
             [
              0.1111111111111111,
              "#46039f"
             ],
             [
              0.2222222222222222,
              "#7201a8"
             ],
             [
              0.3333333333333333,
              "#9c179e"
             ],
             [
              0.4444444444444444,
              "#bd3786"
             ],
             [
              0.5555555555555556,
              "#d8576b"
             ],
             [
              0.6666666666666666,
              "#ed7953"
             ],
             [
              0.7777777777777778,
              "#fb9f3a"
             ],
             [
              0.8888888888888888,
              "#fdca26"
             ],
             [
              1,
              "#f0f921"
             ]
            ],
            "type": "surface"
           }
          ],
          "table": [
           {
            "cells": {
             "fill": {
              "color": "#EBF0F8"
             },
             "line": {
              "color": "white"
             }
            },
            "header": {
             "fill": {
              "color": "#C8D4E3"
             },
             "line": {
              "color": "white"
             }
            },
            "type": "table"
           }
          ]
         },
         "layout": {
          "annotationdefaults": {
           "arrowcolor": "#2a3f5f",
           "arrowhead": 0,
           "arrowwidth": 1
          },
          "coloraxis": {
           "colorbar": {
            "outlinewidth": 0,
            "ticks": ""
           }
          },
          "colorscale": {
           "diverging": [
            [
             0,
             "#8e0152"
            ],
            [
             0.1,
             "#c51b7d"
            ],
            [
             0.2,
             "#de77ae"
            ],
            [
             0.3,
             "#f1b6da"
            ],
            [
             0.4,
             "#fde0ef"
            ],
            [
             0.5,
             "#f7f7f7"
            ],
            [
             0.6,
             "#e6f5d0"
            ],
            [
             0.7,
             "#b8e186"
            ],
            [
             0.8,
             "#7fbc41"
            ],
            [
             0.9,
             "#4d9221"
            ],
            [
             1,
             "#276419"
            ]
           ],
           "sequential": [
            [
             0,
             "#0d0887"
            ],
            [
             0.1111111111111111,
             "#46039f"
            ],
            [
             0.2222222222222222,
             "#7201a8"
            ],
            [
             0.3333333333333333,
             "#9c179e"
            ],
            [
             0.4444444444444444,
             "#bd3786"
            ],
            [
             0.5555555555555556,
             "#d8576b"
            ],
            [
             0.6666666666666666,
             "#ed7953"
            ],
            [
             0.7777777777777778,
             "#fb9f3a"
            ],
            [
             0.8888888888888888,
             "#fdca26"
            ],
            [
             1,
             "#f0f921"
            ]
           ],
           "sequentialminus": [
            [
             0,
             "#0d0887"
            ],
            [
             0.1111111111111111,
             "#46039f"
            ],
            [
             0.2222222222222222,
             "#7201a8"
            ],
            [
             0.3333333333333333,
             "#9c179e"
            ],
            [
             0.4444444444444444,
             "#bd3786"
            ],
            [
             0.5555555555555556,
             "#d8576b"
            ],
            [
             0.6666666666666666,
             "#ed7953"
            ],
            [
             0.7777777777777778,
             "#fb9f3a"
            ],
            [
             0.8888888888888888,
             "#fdca26"
            ],
            [
             1,
             "#f0f921"
            ]
           ]
          },
          "colorway": [
           "#636efa",
           "#EF553B",
           "#00cc96",
           "#ab63fa",
           "#FFA15A",
           "#19d3f3",
           "#FF6692",
           "#B6E880",
           "#FF97FF",
           "#FECB52"
          ],
          "font": {
           "color": "#2a3f5f"
          },
          "geo": {
           "bgcolor": "white",
           "lakecolor": "white",
           "landcolor": "#E5ECF6",
           "showlakes": true,
           "showland": true,
           "subunitcolor": "white"
          },
          "hoverlabel": {
           "align": "left"
          },
          "hovermode": "closest",
          "mapbox": {
           "style": "light"
          },
          "paper_bgcolor": "white",
          "plot_bgcolor": "#E5ECF6",
          "polar": {
           "angularaxis": {
            "gridcolor": "white",
            "linecolor": "white",
            "ticks": ""
           },
           "bgcolor": "#E5ECF6",
           "radialaxis": {
            "gridcolor": "white",
            "linecolor": "white",
            "ticks": ""
           }
          },
          "scene": {
           "xaxis": {
            "backgroundcolor": "#E5ECF6",
            "gridcolor": "white",
            "gridwidth": 2,
            "linecolor": "white",
            "showbackground": true,
            "ticks": "",
            "zerolinecolor": "white"
           },
           "yaxis": {
            "backgroundcolor": "#E5ECF6",
            "gridcolor": "white",
            "gridwidth": 2,
            "linecolor": "white",
            "showbackground": true,
            "ticks": "",
            "zerolinecolor": "white"
           },
           "zaxis": {
            "backgroundcolor": "#E5ECF6",
            "gridcolor": "white",
            "gridwidth": 2,
            "linecolor": "white",
            "showbackground": true,
            "ticks": "",
            "zerolinecolor": "white"
           }
          },
          "shapedefaults": {
           "line": {
            "color": "#2a3f5f"
           }
          },
          "ternary": {
           "aaxis": {
            "gridcolor": "white",
            "linecolor": "white",
            "ticks": ""
           },
           "baxis": {
            "gridcolor": "white",
            "linecolor": "white",
            "ticks": ""
           },
           "bgcolor": "#E5ECF6",
           "caxis": {
            "gridcolor": "white",
            "linecolor": "white",
            "ticks": ""
           }
          },
          "title": {
           "x": 0.05
          },
          "xaxis": {
           "automargin": true,
           "gridcolor": "white",
           "linecolor": "white",
           "ticks": "",
           "title": {
            "standoff": 15
           },
           "zerolinecolor": "white",
           "zerolinewidth": 2
          },
          "yaxis": {
           "automargin": true,
           "gridcolor": "white",
           "linecolor": "white",
           "ticks": "",
           "title": {
            "standoff": 15
           },
           "zerolinecolor": "white",
           "zerolinewidth": 2
          }
         }
        },
        "title": {
         "font": {
          "color": "#4D5663"
         }
        },
        "xaxis": {
         "gridcolor": "#E1E5ED",
         "showgrid": true,
         "tickfont": {
          "color": "#4D5663"
         },
         "title": {
          "font": {
           "color": "#4D5663"
          },
          "text": ""
         },
         "zerolinecolor": "#E1E5ED"
        },
        "yaxis": {
         "gridcolor": "#E1E5ED",
         "showgrid": true,
         "tickfont": {
          "color": "#4D5663"
         },
         "title": {
          "font": {
           "color": "#4D5663"
          },
          "text": ""
         },
         "zerolinecolor": "#E1E5ED"
        }
       }
      },
      "text/html": [
       "<div>\n",
       "        \n",
       "        \n",
       "            <div id=\"e7c6678c-3fbc-41b9-9736-2085fbd2904e\" class=\"plotly-graph-div\" style=\"height:525px; width:100%;\"></div>\n",
       "            <script type=\"text/javascript\">\n",
       "                require([\"plotly\"], function(Plotly) {\n",
       "                    window.PLOTLYENV=window.PLOTLYENV || {};\n",
       "                    window.PLOTLYENV.BASE_URL='https://plot.ly';\n",
       "                    \n",
       "                if (document.getElementById(\"e7c6678c-3fbc-41b9-9736-2085fbd2904e\")) {\n",
       "                    Plotly.newPlot(\n",
       "                        'e7c6678c-3fbc-41b9-9736-2085fbd2904e',\n",
       "                        [{\"marker\": {\"color\": \"rgba(255, 153, 51, 0.6)\", \"line\": {\"color\": \"rgba(255, 153, 51, 1.0)\", \"width\": 1}}, \"name\": \"None\", \"orientation\": \"v\", \"text\": \"\", \"type\": \"bar\", \"x\": [\"A\", \"B\", \"C\", \"D\"], \"y\": [100, 100, 100, 100]}],\n",
       "                        {\"legend\": {\"bgcolor\": \"#F5F6F9\", \"font\": {\"color\": \"#4D5663\"}}, \"paper_bgcolor\": \"#F5F6F9\", \"plot_bgcolor\": \"#F5F6F9\", \"template\": {\"data\": {\"bar\": [{\"error_x\": {\"color\": \"#2a3f5f\"}, \"error_y\": {\"color\": \"#2a3f5f\"}, \"marker\": {\"line\": {\"color\": \"#E5ECF6\", \"width\": 0.5}}, \"type\": \"bar\"}], \"barpolar\": [{\"marker\": {\"line\": {\"color\": \"#E5ECF6\", \"width\": 0.5}}, \"type\": \"barpolar\"}], \"carpet\": [{\"aaxis\": {\"endlinecolor\": \"#2a3f5f\", \"gridcolor\": \"white\", \"linecolor\": \"white\", \"minorgridcolor\": \"white\", \"startlinecolor\": \"#2a3f5f\"}, \"baxis\": {\"endlinecolor\": \"#2a3f5f\", \"gridcolor\": \"white\", \"linecolor\": \"white\", \"minorgridcolor\": \"white\", \"startlinecolor\": \"#2a3f5f\"}, \"type\": \"carpet\"}], \"choropleth\": [{\"colorbar\": {\"outlinewidth\": 0, \"ticks\": \"\"}, \"type\": \"choropleth\"}], \"contour\": [{\"colorbar\": {\"outlinewidth\": 0, \"ticks\": \"\"}, \"colorscale\": [[0.0, \"#0d0887\"], [0.1111111111111111, \"#46039f\"], [0.2222222222222222, \"#7201a8\"], [0.3333333333333333, \"#9c179e\"], [0.4444444444444444, \"#bd3786\"], [0.5555555555555556, \"#d8576b\"], [0.6666666666666666, \"#ed7953\"], [0.7777777777777778, \"#fb9f3a\"], [0.8888888888888888, \"#fdca26\"], [1.0, \"#f0f921\"]], \"type\": \"contour\"}], \"contourcarpet\": [{\"colorbar\": {\"outlinewidth\": 0, \"ticks\": \"\"}, \"type\": \"contourcarpet\"}], \"heatmap\": [{\"colorbar\": {\"outlinewidth\": 0, \"ticks\": \"\"}, \"colorscale\": [[0.0, \"#0d0887\"], [0.1111111111111111, \"#46039f\"], [0.2222222222222222, \"#7201a8\"], [0.3333333333333333, \"#9c179e\"], [0.4444444444444444, \"#bd3786\"], [0.5555555555555556, \"#d8576b\"], [0.6666666666666666, \"#ed7953\"], [0.7777777777777778, \"#fb9f3a\"], [0.8888888888888888, \"#fdca26\"], [1.0, \"#f0f921\"]], \"type\": \"heatmap\"}], \"heatmapgl\": [{\"colorbar\": {\"outlinewidth\": 0, \"ticks\": \"\"}, \"colorscale\": [[0.0, \"#0d0887\"], [0.1111111111111111, \"#46039f\"], [0.2222222222222222, \"#7201a8\"], [0.3333333333333333, \"#9c179e\"], [0.4444444444444444, \"#bd3786\"], [0.5555555555555556, \"#d8576b\"], [0.6666666666666666, \"#ed7953\"], [0.7777777777777778, \"#fb9f3a\"], [0.8888888888888888, \"#fdca26\"], [1.0, \"#f0f921\"]], \"type\": \"heatmapgl\"}], \"histogram\": [{\"marker\": {\"colorbar\": {\"outlinewidth\": 0, \"ticks\": \"\"}}, \"type\": \"histogram\"}], \"histogram2d\": [{\"colorbar\": {\"outlinewidth\": 0, \"ticks\": \"\"}, \"colorscale\": [[0.0, \"#0d0887\"], [0.1111111111111111, \"#46039f\"], [0.2222222222222222, \"#7201a8\"], [0.3333333333333333, \"#9c179e\"], [0.4444444444444444, \"#bd3786\"], [0.5555555555555556, \"#d8576b\"], [0.6666666666666666, \"#ed7953\"], [0.7777777777777778, \"#fb9f3a\"], [0.8888888888888888, \"#fdca26\"], [1.0, \"#f0f921\"]], \"type\": \"histogram2d\"}], \"histogram2dcontour\": [{\"colorbar\": {\"outlinewidth\": 0, \"ticks\": \"\"}, \"colorscale\": [[0.0, \"#0d0887\"], [0.1111111111111111, \"#46039f\"], [0.2222222222222222, \"#7201a8\"], [0.3333333333333333, \"#9c179e\"], [0.4444444444444444, \"#bd3786\"], [0.5555555555555556, \"#d8576b\"], [0.6666666666666666, \"#ed7953\"], [0.7777777777777778, \"#fb9f3a\"], [0.8888888888888888, \"#fdca26\"], [1.0, \"#f0f921\"]], \"type\": \"histogram2dcontour\"}], \"mesh3d\": [{\"colorbar\": {\"outlinewidth\": 0, \"ticks\": \"\"}, \"type\": \"mesh3d\"}], \"parcoords\": [{\"line\": {\"colorbar\": {\"outlinewidth\": 0, \"ticks\": \"\"}}, \"type\": \"parcoords\"}], \"pie\": [{\"automargin\": true, \"type\": \"pie\"}], \"scatter\": [{\"marker\": {\"colorbar\": {\"outlinewidth\": 0, \"ticks\": \"\"}}, \"type\": \"scatter\"}], \"scatter3d\": [{\"line\": {\"colorbar\": {\"outlinewidth\": 0, \"ticks\": \"\"}}, \"marker\": {\"colorbar\": {\"outlinewidth\": 0, \"ticks\": \"\"}}, \"type\": \"scatter3d\"}], \"scattercarpet\": [{\"marker\": {\"colorbar\": {\"outlinewidth\": 0, \"ticks\": \"\"}}, \"type\": \"scattercarpet\"}], \"scattergeo\": [{\"marker\": {\"colorbar\": {\"outlinewidth\": 0, \"ticks\": \"\"}}, \"type\": \"scattergeo\"}], \"scattergl\": [{\"marker\": {\"colorbar\": {\"outlinewidth\": 0, \"ticks\": \"\"}}, \"type\": \"scattergl\"}], \"scattermapbox\": [{\"marker\": {\"colorbar\": {\"outlinewidth\": 0, \"ticks\": \"\"}}, \"type\": \"scattermapbox\"}], \"scatterpolar\": [{\"marker\": {\"colorbar\": {\"outlinewidth\": 0, \"ticks\": \"\"}}, \"type\": \"scatterpolar\"}], \"scatterpolargl\": [{\"marker\": {\"colorbar\": {\"outlinewidth\": 0, \"ticks\": \"\"}}, \"type\": \"scatterpolargl\"}], \"scatterternary\": [{\"marker\": {\"colorbar\": {\"outlinewidth\": 0, \"ticks\": \"\"}}, \"type\": \"scatterternary\"}], \"surface\": [{\"colorbar\": {\"outlinewidth\": 0, \"ticks\": \"\"}, \"colorscale\": [[0.0, \"#0d0887\"], [0.1111111111111111, \"#46039f\"], [0.2222222222222222, \"#7201a8\"], [0.3333333333333333, \"#9c179e\"], [0.4444444444444444, \"#bd3786\"], [0.5555555555555556, \"#d8576b\"], [0.6666666666666666, \"#ed7953\"], [0.7777777777777778, \"#fb9f3a\"], [0.8888888888888888, \"#fdca26\"], [1.0, \"#f0f921\"]], \"type\": \"surface\"}], \"table\": [{\"cells\": {\"fill\": {\"color\": \"#EBF0F8\"}, \"line\": {\"color\": \"white\"}}, \"header\": {\"fill\": {\"color\": \"#C8D4E3\"}, \"line\": {\"color\": \"white\"}}, \"type\": \"table\"}]}, \"layout\": {\"annotationdefaults\": {\"arrowcolor\": \"#2a3f5f\", \"arrowhead\": 0, \"arrowwidth\": 1}, \"coloraxis\": {\"colorbar\": {\"outlinewidth\": 0, \"ticks\": \"\"}}, \"colorscale\": {\"diverging\": [[0, \"#8e0152\"], [0.1, \"#c51b7d\"], [0.2, \"#de77ae\"], [0.3, \"#f1b6da\"], [0.4, \"#fde0ef\"], [0.5, \"#f7f7f7\"], [0.6, \"#e6f5d0\"], [0.7, \"#b8e186\"], [0.8, \"#7fbc41\"], [0.9, \"#4d9221\"], [1, \"#276419\"]], \"sequential\": [[0.0, \"#0d0887\"], [0.1111111111111111, \"#46039f\"], [0.2222222222222222, \"#7201a8\"], [0.3333333333333333, \"#9c179e\"], [0.4444444444444444, \"#bd3786\"], [0.5555555555555556, \"#d8576b\"], [0.6666666666666666, \"#ed7953\"], [0.7777777777777778, \"#fb9f3a\"], [0.8888888888888888, \"#fdca26\"], [1.0, \"#f0f921\"]], \"sequentialminus\": [[0.0, \"#0d0887\"], [0.1111111111111111, \"#46039f\"], [0.2222222222222222, \"#7201a8\"], [0.3333333333333333, \"#9c179e\"], [0.4444444444444444, \"#bd3786\"], [0.5555555555555556, \"#d8576b\"], [0.6666666666666666, \"#ed7953\"], [0.7777777777777778, \"#fb9f3a\"], [0.8888888888888888, \"#fdca26\"], [1.0, \"#f0f921\"]]}, \"colorway\": [\"#636efa\", \"#EF553B\", \"#00cc96\", \"#ab63fa\", \"#FFA15A\", \"#19d3f3\", \"#FF6692\", \"#B6E880\", \"#FF97FF\", \"#FECB52\"], \"font\": {\"color\": \"#2a3f5f\"}, \"geo\": {\"bgcolor\": \"white\", \"lakecolor\": \"white\", \"landcolor\": \"#E5ECF6\", \"showlakes\": true, \"showland\": true, \"subunitcolor\": \"white\"}, \"hoverlabel\": {\"align\": \"left\"}, \"hovermode\": \"closest\", \"mapbox\": {\"style\": \"light\"}, \"paper_bgcolor\": \"white\", \"plot_bgcolor\": \"#E5ECF6\", \"polar\": {\"angularaxis\": {\"gridcolor\": \"white\", \"linecolor\": \"white\", \"ticks\": \"\"}, \"bgcolor\": \"#E5ECF6\", \"radialaxis\": {\"gridcolor\": \"white\", \"linecolor\": \"white\", \"ticks\": \"\"}}, \"scene\": {\"xaxis\": {\"backgroundcolor\": \"#E5ECF6\", \"gridcolor\": \"white\", \"gridwidth\": 2, \"linecolor\": \"white\", \"showbackground\": true, \"ticks\": \"\", \"zerolinecolor\": \"white\"}, \"yaxis\": {\"backgroundcolor\": \"#E5ECF6\", \"gridcolor\": \"white\", \"gridwidth\": 2, \"linecolor\": \"white\", \"showbackground\": true, \"ticks\": \"\", \"zerolinecolor\": \"white\"}, \"zaxis\": {\"backgroundcolor\": \"#E5ECF6\", \"gridcolor\": \"white\", \"gridwidth\": 2, \"linecolor\": \"white\", \"showbackground\": true, \"ticks\": \"\", \"zerolinecolor\": \"white\"}}, \"shapedefaults\": {\"line\": {\"color\": \"#2a3f5f\"}}, \"ternary\": {\"aaxis\": {\"gridcolor\": \"white\", \"linecolor\": \"white\", \"ticks\": \"\"}, \"baxis\": {\"gridcolor\": \"white\", \"linecolor\": \"white\", \"ticks\": \"\"}, \"bgcolor\": \"#E5ECF6\", \"caxis\": {\"gridcolor\": \"white\", \"linecolor\": \"white\", \"ticks\": \"\"}}, \"title\": {\"x\": 0.05}, \"xaxis\": {\"automargin\": true, \"gridcolor\": \"white\", \"linecolor\": \"white\", \"ticks\": \"\", \"title\": {\"standoff\": 15}, \"zerolinecolor\": \"white\", \"zerolinewidth\": 2}, \"yaxis\": {\"automargin\": true, \"gridcolor\": \"white\", \"linecolor\": \"white\", \"ticks\": \"\", \"title\": {\"standoff\": 15}, \"zerolinecolor\": \"white\", \"zerolinewidth\": 2}}}, \"title\": {\"font\": {\"color\": \"#4D5663\"}}, \"xaxis\": {\"gridcolor\": \"#E1E5ED\", \"showgrid\": true, \"tickfont\": {\"color\": \"#4D5663\"}, \"title\": {\"font\": {\"color\": \"#4D5663\"}, \"text\": \"\"}, \"zerolinecolor\": \"#E1E5ED\"}, \"yaxis\": {\"gridcolor\": \"#E1E5ED\", \"showgrid\": true, \"tickfont\": {\"color\": \"#4D5663\"}, \"title\": {\"font\": {\"color\": \"#4D5663\"}, \"text\": \"\"}, \"zerolinecolor\": \"#E1E5ED\"}},\n",
       "                        {\"showLink\": true, \"linkText\": \"Export to plot.ly\", \"plotlyServerURL\": \"https://plot.ly\", \"responsive\": true}\n",
       "                    ).then(function(){\n",
       "                            \n",
       "var gd = document.getElementById('e7c6678c-3fbc-41b9-9736-2085fbd2904e');\n",
       "var x = new MutationObserver(function (mutations, observer) {{\n",
       "        var display = window.getComputedStyle(gd).display;\n",
       "        if (!display || display === 'none') {{\n",
       "            console.log([gd, 'removed!']);\n",
       "            Plotly.purge(gd);\n",
       "            observer.disconnect();\n",
       "        }}\n",
       "}});\n",
       "\n",
       "// Listen for the removal of the full notebook cells\n",
       "var notebookContainer = gd.closest('#notebook-container');\n",
       "if (notebookContainer) {{\n",
       "    x.observe(notebookContainer, {childList: true});\n",
       "}}\n",
       "\n",
       "// Listen for the clearing of the current output cell\n",
       "var outputEl = gd.closest('.output');\n",
       "if (outputEl) {{\n",
       "    x.observe(outputEl, {childList: true});\n",
       "}}\n",
       "\n",
       "                        })\n",
       "                };\n",
       "                });\n",
       "            </script>\n",
       "        </div>"
      ]
     },
     "metadata": {},
     "output_type": "display_data"
    }
   ],
   "source": [
    "df.count().iplot(kind='bar')"
   ]
  },
  {
   "cell_type": "markdown",
   "metadata": {},
   "source": [
    "## Boxplots"
   ]
  },
  {
   "cell_type": "code",
   "execution_count": 14,
   "metadata": {},
   "outputs": [
    {
     "data": {
      "application/vnd.plotly.v1+json": {
       "config": {
        "linkText": "Export to plot.ly",
        "plotlyServerURL": "https://plot.ly",
        "showLink": true
       },
       "data": [
        {
         "boxpoints": false,
         "line": {
          "width": 1.3
         },
         "marker": {
          "color": "rgba(255, 153, 51, 1.0)"
         },
         "name": "A",
         "orientation": "v",
         "type": "box",
         "y": [
          0.18211528188351103,
          0.11443106335682444,
          0.5949692036342886,
          -0.3535342544087595,
          -0.47572636863988527,
          0.6611105346730619,
          1.0917475868868998,
          -1.055908421134264,
          0.7494679589241444,
          0.5789759034671067,
          0.7316774439952273,
          -0.4486644091579335,
          -0.3216613236541918,
          1.3398947178944725,
          -1.8158654345047331,
          0.5313904039049452,
          -0.7423013212863171,
          0.5331557511732393,
          0.0991340250011104,
          -0.888876014490736,
          -0.8071434029017788,
          0.22621387687134864,
          0.33846701985286654,
          1.2847481967645078,
          -1.3046454706066617,
          0.03165923167711625,
          -1.812749936339364,
          -0.3760202389737884,
          1.3773443376494576,
          -2.4683856625741445,
          0.16576781332166,
          0.45861358558459847,
          1.3116230867367287,
          -0.4092701515328862,
          1.9480137811637988,
          -0.24311669259196267,
          -1.2560627046642676,
          -1.1013099447982246,
          1.9186619850406614,
          -0.10627374375998706,
          -0.6196495923112475,
          -0.8298416977962055,
          -0.6757826281867358,
          0.2280090045808461,
          0.7648507904943159,
          1.3011275065550427,
          -0.04783545430568777,
          1.789352458526911,
          1.2482110579534083,
          0.7630239321342249,
          -2.0282702513681095,
          -0.7203015319260467,
          -0.05507082231774276,
          -0.7816847616571831,
          0.4459670558769205,
          0.3212838980346144,
          -0.6426253662138668,
          -0.0027100937375358005,
          0.2113669790740554,
          -1.1624280332116925,
          -1.2107191807959004,
          0.0023915808065864963,
          0.9477239269888895,
          2.0969969112315665,
          -0.6473295177516343,
          1.7239296014100238,
          -0.3054485264824094,
          1.276967520625875,
          -0.09911990914379495,
          0.46479845341110443,
          1.908453861164365,
          3.2946693525465824,
          0.4455923130866878,
          1.7263194925230791,
          -0.11369290761079535,
          -0.5605401630316551,
          -0.7195145870525593,
          2.4171089252328173,
          1.1119174808971366,
          1.6058626990827998,
          -1.0471529563643316,
          -1.880630666155797,
          1.015554806251903,
          -1.0412013633671626,
          0.15290879219816925,
          0.398987354671911,
          0.38330897229416844,
          1.3474622977012083,
          0.182933725350078,
          -0.8699642581973692,
          0.4133254150315233,
          0.07694373551123751,
          -1.2265406355999857,
          1.0485399380470044,
          0.2733731206474115,
          -0.7293710670711111,
          -0.9662635657350681,
          -0.3915848836708997,
          -1.0552550223150015,
          1.3045085529377953
         ]
        },
        {
         "boxpoints": false,
         "line": {
          "width": 1.3
         },
         "marker": {
          "color": "rgba(55, 128, 191, 1.0)"
         },
         "name": "B",
         "orientation": "v",
         "type": "box",
         "y": [
          -0.02018755564793259,
          -1.3437652881828532,
          -1.1111743886255112,
          1.8359557683550445,
          -0.6249666296815001,
          -2.023897039815607,
          -0.8601940309700603,
          0.16485301587299,
          1.4953349379652183,
          0.3730240119071808,
          0.15925679164929463,
          1.6149762610901233,
          1.1886259375183363,
          0.36490947137394925,
          -0.277109980002345,
          -0.7186159514942053,
          0.7932326128351476,
          -0.6947531868233376,
          -0.6728638956989003,
          1.168924580201343,
          -0.41233623513644024,
          0.19784681126554177,
          -0.16672974435674576,
          1.5787929527059819,
          -1.2036869576587854,
          1.6388602894589932,
          1.1089114782328384,
          -0.6721462245633214,
          -0.3138745235292235,
          -0.36686782982021504,
          0.4065463530031799,
          -0.2257079493612666,
          -0.43758529260168777,
          -0.2625152761872851,
          -1.328898373680611,
          -2.9542908677251907,
          0.21927251170457285,
          0.5340299809554598,
          -0.17813790978690175,
          -1.694306210049193,
          0.8453898499703644,
          -0.4470270295083598,
          1.4645815144212275,
          0.7910848605126803,
          -0.8297193499743546,
          1.6978211174739473,
          -0.9594406497906319,
          0.8588943710079524,
          0.5958120032635975,
          0.5812863670036684,
          0.006947874844667447,
          1.328502003354449,
          -0.023639303401695195,
          0.5988265122087519,
          0.08350412346342759,
          -0.546791662972372,
          -0.008976085354435942,
          -1.3006584746527383,
          -0.20279537336043443,
          0.40149387048614843,
          -0.44258682753169964,
          -0.6584645562551634,
          -0.9033796634003993,
          -0.9053368934817235,
          -0.46190729712378953,
          -0.6547812127063081,
          -1.0864383496934662,
          0.32165120874344855,
          2.613123546687639,
          1.3927968612517874,
          0.9919936360099734,
          -1.8454616872399732,
          0.5894927197443933,
          -0.03559551820886039,
          -0.7910367650609854,
          -1.6255372546247662,
          -0.24326405453267416,
          1.8413885707475877,
          0.92182013753838,
          -1.2389704928347567,
          -0.4681250751946212,
          -0.6564464802415292,
          1.1616997366798514,
          -1.6872613038346125,
          0.06782059673136204,
          0.10246372343762038,
          -0.9441951394571112,
          0.4646299907553265,
          0.5150963253406441,
          -1.0314331444035327,
          2.76602889102714,
          -1.077324321471914,
          -1.0627038272964975,
          -1.3541233150161391,
          -1.1865180094484067,
          -1.1649117176906831,
          -0.14218353540987846,
          -0.8214858920308317,
          1.75215782148672,
          0.4284955139825126
         ]
        },
        {
         "boxpoints": false,
         "line": {
          "width": 1.3
         },
         "marker": {
          "color": "rgba(50, 171, 96, 1.0)"
         },
         "name": "C",
         "orientation": "v",
         "type": "box",
         "y": [
          0.5518428296260244,
          1.0586804391840123,
          1.0365275747015392,
          -2.9981777461180927,
          0.2393081463236984,
          1.8872692011242316,
          -0.08393410152634781,
          0.16687386739827878,
          -0.25568560100690213,
          -1.6524168343385888,
          0.9018624301995285,
          1.9706936592959021,
          1.3196666619391262,
          1.80560282209464,
          0.1169649415974748,
          1.0200555409233896,
          -0.713293962117717,
          0.34663290034929894,
          1.9553668942821194,
          1.0572244131673274,
          0.23731600659371405,
          -0.03223778130846141,
          -0.7520054789340904,
          1.1024463153528665,
          -0.42873959191897,
          -1.0037676451014164,
          0.9909701722847235,
          0.6615956884327304,
          0.5435140345534052,
          -0.7981148017058789,
          -0.9048683138594317,
          -0.0013692686796361255,
          -0.32185030950073557,
          -0.873370590630425,
          0.5211634671549273,
          -0.5003155920879961,
          0.6895540877968527,
          0.2556938440662887,
          0.9140656488831231,
          0.33256356698999684,
          -0.08312203568317938,
          0.07020335575515782,
          0.2737462534668183,
          0.3648081809290682,
          -0.6303450808077177,
          0.03681908928834904,
          -1.8003004393922768,
          0.2830157753218885,
          0.5241979222791527,
          -0.4665430287189287,
          1.5499299717127788,
          0.6469600785277869,
          -0.8250004098446538,
          0.4233116384418227,
          1.2322347778823928,
          0.5263994492634283,
          0.06836858250917653,
          0.2268106943239445,
          0.4230903618598781,
          -1.0047231362657685,
          -0.39737069133271397,
          -0.07344313829557902,
          1.0732351002723863,
          -0.6447409426762986,
          0.05811677218658131,
          0.6809155967949494,
          -1.6277416030292955,
          -0.08011779693656904,
          0.12605767532523804,
          -0.5427044014254443,
          -0.03488139936261926,
          -0.26472206479304683,
          -0.24540813729398311,
          0.05787658500439807,
          -0.8327505442704737,
          0.8432112047945828,
          -0.07293256137350335,
          0.9382650424541648,
          -0.11857424537434501,
          0.09566984994854791,
          -1.1555681863500853,
          -0.5628180864415381,
          -0.030326902701813502,
          1.8872384972146499,
          -0.3825590879924287,
          -0.7347844102569788,
          2.071124053273013,
          0.0021686444798123114,
          1.1702844177756384,
          0.5507097527282829,
          0.5080239045387717,
          0.03608985471420347,
          0.9032285520857251,
          -1.0657048652768666,
          -0.6004926202340528,
          -0.7674944490251198,
          -2.3975308350523656,
          1.0634632471898193,
          0.18572032621691165,
          -0.13564355079462026
         ]
        },
        {
         "boxpoints": false,
         "line": {
          "width": 1.3
         },
         "marker": {
          "color": "rgba(128, 0, 128, 1.0)"
         },
         "name": "D",
         "orientation": "v",
         "type": "box",
         "y": [
          0.2738559016122897,
          0.7106502379418743,
          -1.7509084156433161,
          -0.9227763319033462,
          -0.1896771677542079,
          0.3026683859132041,
          -0.0920793486260978,
          -0.9495997396565908,
          -1.7749894508055353,
          -1.7535243348691498,
          -0.5988954962609513,
          -0.8303808063690381,
          0.8521524191089968,
          1.9662665203821206,
          -0.9755156030288992,
          -2.1513066476382043,
          -2.0149014361552062,
          1.4190512112043663,
          0.9101757994864929,
          0.2706871767071419,
          -0.21592636390465056,
          1.9391994568216602,
          0.07747697707792196,
          0.7779200326235947,
          -0.2772291910817807,
          -2.242501613667083,
          0.4918308687584895,
          0.8931991510725807,
          -0.17209096940054266,
          0.46784822980636726,
          -1.2878564615246344,
          0.60238360809786,
          -0.11343885434841276,
          0.8425259361263151,
          2.450738718164936,
          1.7644565022971292,
          0.14002090373597423,
          0.6278547242495557,
          -0.38923758768431627,
          -0.09731354951457473,
          -1.322639652790698,
          -0.24768605767131183,
          0.2846995770357078,
          -0.3594903757927821,
          -0.20673693654884476,
          2.4593116350956308,
          0.6065535437723129,
          -1.0246373342647117,
          -0.07976237682655041,
          0.57035784004666,
          1.2067255141088138,
          1.4104986023116812,
          0.25595380920077154,
          -0.3343992931212443,
          0.05980317789997982,
          -1.9467039940984174,
          -1.565869323653207,
          -0.2533814700811455,
          0.6308960196561134,
          -0.30821376612250556,
          -0.18399398643410958,
          0.8043101508258407,
          -0.13155361349583128,
          -1.4084353160404273,
          -0.4349940821430627,
          0.1664234569748299,
          -0.7901108936090245,
          1.4884838784331955,
          0.5925673693297888,
          -0.19686708296039054,
          0.12609007897393137,
          0.7812428395310707,
          -0.2602981736363745,
          0.3514862362992299,
          0.04486711361988808,
          -0.9273180908786917,
          0.0067026732445349116,
          0.6935454391728332,
          -1.2917279374782737,
          0.7287254117512857,
          -0.6782587204178349,
          -0.14265129979757074,
          0.30593909289019683,
          0.49220350505844146,
          -0.07444597486191551,
          -0.45995401480221126,
          0.02408849041473539,
          -0.054200525968196966,
          -0.09323659787118423,
          -0.5265777382946164,
          -0.4245176246163635,
          0.6902068699550099,
          -1.369310076792178,
          1.2895384944001946,
          -0.3199485321860116,
          0.7491705827529969,
          -1.6618011560128831,
          -0.6728917217096003,
          -0.9595010217541334,
          1.2680332547877091
         ]
        }
       ],
       "layout": {
        "legend": {
         "bgcolor": "#F5F6F9",
         "font": {
          "color": "#4D5663"
         }
        },
        "paper_bgcolor": "#F5F6F9",
        "plot_bgcolor": "#F5F6F9",
        "template": {
         "data": {
          "bar": [
           {
            "error_x": {
             "color": "#2a3f5f"
            },
            "error_y": {
             "color": "#2a3f5f"
            },
            "marker": {
             "line": {
              "color": "#E5ECF6",
              "width": 0.5
             }
            },
            "type": "bar"
           }
          ],
          "barpolar": [
           {
            "marker": {
             "line": {
              "color": "#E5ECF6",
              "width": 0.5
             }
            },
            "type": "barpolar"
           }
          ],
          "carpet": [
           {
            "aaxis": {
             "endlinecolor": "#2a3f5f",
             "gridcolor": "white",
             "linecolor": "white",
             "minorgridcolor": "white",
             "startlinecolor": "#2a3f5f"
            },
            "baxis": {
             "endlinecolor": "#2a3f5f",
             "gridcolor": "white",
             "linecolor": "white",
             "minorgridcolor": "white",
             "startlinecolor": "#2a3f5f"
            },
            "type": "carpet"
           }
          ],
          "choropleth": [
           {
            "colorbar": {
             "outlinewidth": 0,
             "ticks": ""
            },
            "type": "choropleth"
           }
          ],
          "contour": [
           {
            "colorbar": {
             "outlinewidth": 0,
             "ticks": ""
            },
            "colorscale": [
             [
              0,
              "#0d0887"
             ],
             [
              0.1111111111111111,
              "#46039f"
             ],
             [
              0.2222222222222222,
              "#7201a8"
             ],
             [
              0.3333333333333333,
              "#9c179e"
             ],
             [
              0.4444444444444444,
              "#bd3786"
             ],
             [
              0.5555555555555556,
              "#d8576b"
             ],
             [
              0.6666666666666666,
              "#ed7953"
             ],
             [
              0.7777777777777778,
              "#fb9f3a"
             ],
             [
              0.8888888888888888,
              "#fdca26"
             ],
             [
              1,
              "#f0f921"
             ]
            ],
            "type": "contour"
           }
          ],
          "contourcarpet": [
           {
            "colorbar": {
             "outlinewidth": 0,
             "ticks": ""
            },
            "type": "contourcarpet"
           }
          ],
          "heatmap": [
           {
            "colorbar": {
             "outlinewidth": 0,
             "ticks": ""
            },
            "colorscale": [
             [
              0,
              "#0d0887"
             ],
             [
              0.1111111111111111,
              "#46039f"
             ],
             [
              0.2222222222222222,
              "#7201a8"
             ],
             [
              0.3333333333333333,
              "#9c179e"
             ],
             [
              0.4444444444444444,
              "#bd3786"
             ],
             [
              0.5555555555555556,
              "#d8576b"
             ],
             [
              0.6666666666666666,
              "#ed7953"
             ],
             [
              0.7777777777777778,
              "#fb9f3a"
             ],
             [
              0.8888888888888888,
              "#fdca26"
             ],
             [
              1,
              "#f0f921"
             ]
            ],
            "type": "heatmap"
           }
          ],
          "heatmapgl": [
           {
            "colorbar": {
             "outlinewidth": 0,
             "ticks": ""
            },
            "colorscale": [
             [
              0,
              "#0d0887"
             ],
             [
              0.1111111111111111,
              "#46039f"
             ],
             [
              0.2222222222222222,
              "#7201a8"
             ],
             [
              0.3333333333333333,
              "#9c179e"
             ],
             [
              0.4444444444444444,
              "#bd3786"
             ],
             [
              0.5555555555555556,
              "#d8576b"
             ],
             [
              0.6666666666666666,
              "#ed7953"
             ],
             [
              0.7777777777777778,
              "#fb9f3a"
             ],
             [
              0.8888888888888888,
              "#fdca26"
             ],
             [
              1,
              "#f0f921"
             ]
            ],
            "type": "heatmapgl"
           }
          ],
          "histogram": [
           {
            "marker": {
             "colorbar": {
              "outlinewidth": 0,
              "ticks": ""
             }
            },
            "type": "histogram"
           }
          ],
          "histogram2d": [
           {
            "colorbar": {
             "outlinewidth": 0,
             "ticks": ""
            },
            "colorscale": [
             [
              0,
              "#0d0887"
             ],
             [
              0.1111111111111111,
              "#46039f"
             ],
             [
              0.2222222222222222,
              "#7201a8"
             ],
             [
              0.3333333333333333,
              "#9c179e"
             ],
             [
              0.4444444444444444,
              "#bd3786"
             ],
             [
              0.5555555555555556,
              "#d8576b"
             ],
             [
              0.6666666666666666,
              "#ed7953"
             ],
             [
              0.7777777777777778,
              "#fb9f3a"
             ],
             [
              0.8888888888888888,
              "#fdca26"
             ],
             [
              1,
              "#f0f921"
             ]
            ],
            "type": "histogram2d"
           }
          ],
          "histogram2dcontour": [
           {
            "colorbar": {
             "outlinewidth": 0,
             "ticks": ""
            },
            "colorscale": [
             [
              0,
              "#0d0887"
             ],
             [
              0.1111111111111111,
              "#46039f"
             ],
             [
              0.2222222222222222,
              "#7201a8"
             ],
             [
              0.3333333333333333,
              "#9c179e"
             ],
             [
              0.4444444444444444,
              "#bd3786"
             ],
             [
              0.5555555555555556,
              "#d8576b"
             ],
             [
              0.6666666666666666,
              "#ed7953"
             ],
             [
              0.7777777777777778,
              "#fb9f3a"
             ],
             [
              0.8888888888888888,
              "#fdca26"
             ],
             [
              1,
              "#f0f921"
             ]
            ],
            "type": "histogram2dcontour"
           }
          ],
          "mesh3d": [
           {
            "colorbar": {
             "outlinewidth": 0,
             "ticks": ""
            },
            "type": "mesh3d"
           }
          ],
          "parcoords": [
           {
            "line": {
             "colorbar": {
              "outlinewidth": 0,
              "ticks": ""
             }
            },
            "type": "parcoords"
           }
          ],
          "pie": [
           {
            "automargin": true,
            "type": "pie"
           }
          ],
          "scatter": [
           {
            "marker": {
             "colorbar": {
              "outlinewidth": 0,
              "ticks": ""
             }
            },
            "type": "scatter"
           }
          ],
          "scatter3d": [
           {
            "line": {
             "colorbar": {
              "outlinewidth": 0,
              "ticks": ""
             }
            },
            "marker": {
             "colorbar": {
              "outlinewidth": 0,
              "ticks": ""
             }
            },
            "type": "scatter3d"
           }
          ],
          "scattercarpet": [
           {
            "marker": {
             "colorbar": {
              "outlinewidth": 0,
              "ticks": ""
             }
            },
            "type": "scattercarpet"
           }
          ],
          "scattergeo": [
           {
            "marker": {
             "colorbar": {
              "outlinewidth": 0,
              "ticks": ""
             }
            },
            "type": "scattergeo"
           }
          ],
          "scattergl": [
           {
            "marker": {
             "colorbar": {
              "outlinewidth": 0,
              "ticks": ""
             }
            },
            "type": "scattergl"
           }
          ],
          "scattermapbox": [
           {
            "marker": {
             "colorbar": {
              "outlinewidth": 0,
              "ticks": ""
             }
            },
            "type": "scattermapbox"
           }
          ],
          "scatterpolar": [
           {
            "marker": {
             "colorbar": {
              "outlinewidth": 0,
              "ticks": ""
             }
            },
            "type": "scatterpolar"
           }
          ],
          "scatterpolargl": [
           {
            "marker": {
             "colorbar": {
              "outlinewidth": 0,
              "ticks": ""
             }
            },
            "type": "scatterpolargl"
           }
          ],
          "scatterternary": [
           {
            "marker": {
             "colorbar": {
              "outlinewidth": 0,
              "ticks": ""
             }
            },
            "type": "scatterternary"
           }
          ],
          "surface": [
           {
            "colorbar": {
             "outlinewidth": 0,
             "ticks": ""
            },
            "colorscale": [
             [
              0,
              "#0d0887"
             ],
             [
              0.1111111111111111,
              "#46039f"
             ],
             [
              0.2222222222222222,
              "#7201a8"
             ],
             [
              0.3333333333333333,
              "#9c179e"
             ],
             [
              0.4444444444444444,
              "#bd3786"
             ],
             [
              0.5555555555555556,
              "#d8576b"
             ],
             [
              0.6666666666666666,
              "#ed7953"
             ],
             [
              0.7777777777777778,
              "#fb9f3a"
             ],
             [
              0.8888888888888888,
              "#fdca26"
             ],
             [
              1,
              "#f0f921"
             ]
            ],
            "type": "surface"
           }
          ],
          "table": [
           {
            "cells": {
             "fill": {
              "color": "#EBF0F8"
             },
             "line": {
              "color": "white"
             }
            },
            "header": {
             "fill": {
              "color": "#C8D4E3"
             },
             "line": {
              "color": "white"
             }
            },
            "type": "table"
           }
          ]
         },
         "layout": {
          "annotationdefaults": {
           "arrowcolor": "#2a3f5f",
           "arrowhead": 0,
           "arrowwidth": 1
          },
          "coloraxis": {
           "colorbar": {
            "outlinewidth": 0,
            "ticks": ""
           }
          },
          "colorscale": {
           "diverging": [
            [
             0,
             "#8e0152"
            ],
            [
             0.1,
             "#c51b7d"
            ],
            [
             0.2,
             "#de77ae"
            ],
            [
             0.3,
             "#f1b6da"
            ],
            [
             0.4,
             "#fde0ef"
            ],
            [
             0.5,
             "#f7f7f7"
            ],
            [
             0.6,
             "#e6f5d0"
            ],
            [
             0.7,
             "#b8e186"
            ],
            [
             0.8,
             "#7fbc41"
            ],
            [
             0.9,
             "#4d9221"
            ],
            [
             1,
             "#276419"
            ]
           ],
           "sequential": [
            [
             0,
             "#0d0887"
            ],
            [
             0.1111111111111111,
             "#46039f"
            ],
            [
             0.2222222222222222,
             "#7201a8"
            ],
            [
             0.3333333333333333,
             "#9c179e"
            ],
            [
             0.4444444444444444,
             "#bd3786"
            ],
            [
             0.5555555555555556,
             "#d8576b"
            ],
            [
             0.6666666666666666,
             "#ed7953"
            ],
            [
             0.7777777777777778,
             "#fb9f3a"
            ],
            [
             0.8888888888888888,
             "#fdca26"
            ],
            [
             1,
             "#f0f921"
            ]
           ],
           "sequentialminus": [
            [
             0,
             "#0d0887"
            ],
            [
             0.1111111111111111,
             "#46039f"
            ],
            [
             0.2222222222222222,
             "#7201a8"
            ],
            [
             0.3333333333333333,
             "#9c179e"
            ],
            [
             0.4444444444444444,
             "#bd3786"
            ],
            [
             0.5555555555555556,
             "#d8576b"
            ],
            [
             0.6666666666666666,
             "#ed7953"
            ],
            [
             0.7777777777777778,
             "#fb9f3a"
            ],
            [
             0.8888888888888888,
             "#fdca26"
            ],
            [
             1,
             "#f0f921"
            ]
           ]
          },
          "colorway": [
           "#636efa",
           "#EF553B",
           "#00cc96",
           "#ab63fa",
           "#FFA15A",
           "#19d3f3",
           "#FF6692",
           "#B6E880",
           "#FF97FF",
           "#FECB52"
          ],
          "font": {
           "color": "#2a3f5f"
          },
          "geo": {
           "bgcolor": "white",
           "lakecolor": "white",
           "landcolor": "#E5ECF6",
           "showlakes": true,
           "showland": true,
           "subunitcolor": "white"
          },
          "hoverlabel": {
           "align": "left"
          },
          "hovermode": "closest",
          "mapbox": {
           "style": "light"
          },
          "paper_bgcolor": "white",
          "plot_bgcolor": "#E5ECF6",
          "polar": {
           "angularaxis": {
            "gridcolor": "white",
            "linecolor": "white",
            "ticks": ""
           },
           "bgcolor": "#E5ECF6",
           "radialaxis": {
            "gridcolor": "white",
            "linecolor": "white",
            "ticks": ""
           }
          },
          "scene": {
           "xaxis": {
            "backgroundcolor": "#E5ECF6",
            "gridcolor": "white",
            "gridwidth": 2,
            "linecolor": "white",
            "showbackground": true,
            "ticks": "",
            "zerolinecolor": "white"
           },
           "yaxis": {
            "backgroundcolor": "#E5ECF6",
            "gridcolor": "white",
            "gridwidth": 2,
            "linecolor": "white",
            "showbackground": true,
            "ticks": "",
            "zerolinecolor": "white"
           },
           "zaxis": {
            "backgroundcolor": "#E5ECF6",
            "gridcolor": "white",
            "gridwidth": 2,
            "linecolor": "white",
            "showbackground": true,
            "ticks": "",
            "zerolinecolor": "white"
           }
          },
          "shapedefaults": {
           "line": {
            "color": "#2a3f5f"
           }
          },
          "ternary": {
           "aaxis": {
            "gridcolor": "white",
            "linecolor": "white",
            "ticks": ""
           },
           "baxis": {
            "gridcolor": "white",
            "linecolor": "white",
            "ticks": ""
           },
           "bgcolor": "#E5ECF6",
           "caxis": {
            "gridcolor": "white",
            "linecolor": "white",
            "ticks": ""
           }
          },
          "title": {
           "x": 0.05
          },
          "xaxis": {
           "automargin": true,
           "gridcolor": "white",
           "linecolor": "white",
           "ticks": "",
           "title": {
            "standoff": 15
           },
           "zerolinecolor": "white",
           "zerolinewidth": 2
          },
          "yaxis": {
           "automargin": true,
           "gridcolor": "white",
           "linecolor": "white",
           "ticks": "",
           "title": {
            "standoff": 15
           },
           "zerolinecolor": "white",
           "zerolinewidth": 2
          }
         }
        },
        "title": {
         "font": {
          "color": "#4D5663"
         }
        },
        "xaxis": {
         "gridcolor": "#E1E5ED",
         "showgrid": true,
         "tickfont": {
          "color": "#4D5663"
         },
         "title": {
          "font": {
           "color": "#4D5663"
          },
          "text": ""
         },
         "zerolinecolor": "#E1E5ED"
        },
        "yaxis": {
         "gridcolor": "#E1E5ED",
         "showgrid": true,
         "tickfont": {
          "color": "#4D5663"
         },
         "title": {
          "font": {
           "color": "#4D5663"
          },
          "text": ""
         },
         "zerolinecolor": "#E1E5ED"
        }
       }
      },
      "text/html": [
       "<div>\n",
       "        \n",
       "        \n",
       "            <div id=\"24407173-dad5-456d-bd3e-5955f9ba64bf\" class=\"plotly-graph-div\" style=\"height:525px; width:100%;\"></div>\n",
       "            <script type=\"text/javascript\">\n",
       "                require([\"plotly\"], function(Plotly) {\n",
       "                    window.PLOTLYENV=window.PLOTLYENV || {};\n",
       "                    window.PLOTLYENV.BASE_URL='https://plot.ly';\n",
       "                    \n",
       "                if (document.getElementById(\"24407173-dad5-456d-bd3e-5955f9ba64bf\")) {\n",
       "                    Plotly.newPlot(\n",
       "                        '24407173-dad5-456d-bd3e-5955f9ba64bf',\n",
       "                        [{\"boxpoints\": false, \"line\": {\"width\": 1.3}, \"marker\": {\"color\": \"rgba(255, 153, 51, 1.0)\"}, \"name\": \"A\", \"orientation\": \"v\", \"type\": \"box\", \"y\": [0.18211528188351103, 0.11443106335682444, 0.5949692036342886, -0.3535342544087595, -0.47572636863988527, 0.6611105346730619, 1.0917475868868998, -1.055908421134264, 0.7494679589241444, 0.5789759034671067, 0.7316774439952273, -0.4486644091579335, -0.3216613236541918, 1.3398947178944725, -1.8158654345047331, 0.5313904039049452, -0.7423013212863171, 0.5331557511732393, 0.0991340250011104, -0.888876014490736, -0.8071434029017788, 0.22621387687134864, 0.33846701985286654, 1.2847481967645078, -1.3046454706066617, 0.03165923167711625, -1.812749936339364, -0.3760202389737884, 1.3773443376494576, -2.4683856625741445, 0.16576781332166, 0.45861358558459847, 1.3116230867367287, -0.4092701515328862, 1.9480137811637988, -0.24311669259196267, -1.2560627046642676, -1.1013099447982246, 1.9186619850406614, -0.10627374375998706, -0.6196495923112475, -0.8298416977962055, -0.6757826281867358, 0.2280090045808461, 0.7648507904943159, 1.3011275065550427, -0.04783545430568777, 1.789352458526911, 1.2482110579534083, 0.7630239321342249, -2.0282702513681095, -0.7203015319260467, -0.05507082231774276, -0.7816847616571831, 0.4459670558769205, 0.3212838980346144, -0.6426253662138668, -0.0027100937375358005, 0.2113669790740554, -1.1624280332116925, -1.2107191807959004, 0.0023915808065864963, 0.9477239269888895, 2.0969969112315665, -0.6473295177516343, 1.7239296014100238, -0.3054485264824094, 1.276967520625875, -0.09911990914379495, 0.46479845341110443, 1.908453861164365, 3.2946693525465824, 0.4455923130866878, 1.7263194925230791, -0.11369290761079535, -0.5605401630316551, -0.7195145870525593, 2.4171089252328173, 1.1119174808971366, 1.6058626990827998, -1.0471529563643316, -1.880630666155797, 1.015554806251903, -1.0412013633671626, 0.15290879219816925, 0.398987354671911, 0.38330897229416844, 1.3474622977012083, 0.182933725350078, -0.8699642581973692, 0.4133254150315233, 0.07694373551123751, -1.2265406355999857, 1.0485399380470044, 0.2733731206474115, -0.7293710670711111, -0.9662635657350681, -0.3915848836708997, -1.0552550223150015, 1.3045085529377953]}, {\"boxpoints\": false, \"line\": {\"width\": 1.3}, \"marker\": {\"color\": \"rgba(55, 128, 191, 1.0)\"}, \"name\": \"B\", \"orientation\": \"v\", \"type\": \"box\", \"y\": [-0.02018755564793259, -1.3437652881828532, -1.1111743886255112, 1.8359557683550445, -0.6249666296815001, -2.023897039815607, -0.8601940309700603, 0.16485301587299, 1.4953349379652183, 0.3730240119071808, 0.15925679164929463, 1.6149762610901233, 1.1886259375183363, 0.36490947137394925, -0.277109980002345, -0.7186159514942053, 0.7932326128351476, -0.6947531868233376, -0.6728638956989003, 1.168924580201343, -0.41233623513644024, 0.19784681126554177, -0.16672974435674576, 1.5787929527059819, -1.2036869576587854, 1.6388602894589932, 1.1089114782328384, -0.6721462245633214, -0.3138745235292235, -0.36686782982021504, 0.4065463530031799, -0.2257079493612666, -0.43758529260168777, -0.2625152761872851, -1.328898373680611, -2.9542908677251907, 0.21927251170457285, 0.5340299809554598, -0.17813790978690175, -1.694306210049193, 0.8453898499703644, -0.4470270295083598, 1.4645815144212275, 0.7910848605126803, -0.8297193499743546, 1.6978211174739473, -0.9594406497906319, 0.8588943710079524, 0.5958120032635975, 0.5812863670036684, 0.006947874844667447, 1.328502003354449, -0.023639303401695195, 0.5988265122087519, 0.08350412346342759, -0.546791662972372, -0.008976085354435942, -1.3006584746527383, -0.20279537336043443, 0.40149387048614843, -0.44258682753169964, -0.6584645562551634, -0.9033796634003993, -0.9053368934817235, -0.46190729712378953, -0.6547812127063081, -1.0864383496934662, 0.32165120874344855, 2.613123546687639, 1.3927968612517874, 0.9919936360099734, -1.8454616872399732, 0.5894927197443933, -0.03559551820886039, -0.7910367650609854, -1.6255372546247662, -0.24326405453267416, 1.8413885707475877, 0.92182013753838, -1.2389704928347567, -0.4681250751946212, -0.6564464802415292, 1.1616997366798514, -1.6872613038346125, 0.06782059673136204, 0.10246372343762038, -0.9441951394571112, 0.4646299907553265, 0.5150963253406441, -1.0314331444035327, 2.76602889102714, -1.077324321471914, -1.0627038272964975, -1.3541233150161391, -1.1865180094484067, -1.1649117176906831, -0.14218353540987846, -0.8214858920308317, 1.75215782148672, 0.4284955139825126]}, {\"boxpoints\": false, \"line\": {\"width\": 1.3}, \"marker\": {\"color\": \"rgba(50, 171, 96, 1.0)\"}, \"name\": \"C\", \"orientation\": \"v\", \"type\": \"box\", \"y\": [0.5518428296260244, 1.0586804391840123, 1.0365275747015392, -2.9981777461180927, 0.2393081463236984, 1.8872692011242316, -0.08393410152634781, 0.16687386739827878, -0.25568560100690213, -1.6524168343385888, 0.9018624301995285, 1.9706936592959021, 1.3196666619391262, 1.80560282209464, 0.1169649415974748, 1.0200555409233896, -0.713293962117717, 0.34663290034929894, 1.9553668942821194, 1.0572244131673274, 0.23731600659371405, -0.03223778130846141, -0.7520054789340904, 1.1024463153528665, -0.42873959191897, -1.0037676451014164, 0.9909701722847235, 0.6615956884327304, 0.5435140345534052, -0.7981148017058789, -0.9048683138594317, -0.0013692686796361255, -0.32185030950073557, -0.873370590630425, 0.5211634671549273, -0.5003155920879961, 0.6895540877968527, 0.2556938440662887, 0.9140656488831231, 0.33256356698999684, -0.08312203568317938, 0.07020335575515782, 0.2737462534668183, 0.3648081809290682, -0.6303450808077177, 0.03681908928834904, -1.8003004393922768, 0.2830157753218885, 0.5241979222791527, -0.4665430287189287, 1.5499299717127788, 0.6469600785277869, -0.8250004098446538, 0.4233116384418227, 1.2322347778823928, 0.5263994492634283, 0.06836858250917653, 0.2268106943239445, 0.4230903618598781, -1.0047231362657685, -0.39737069133271397, -0.07344313829557902, 1.0732351002723863, -0.6447409426762986, 0.05811677218658131, 0.6809155967949494, -1.6277416030292955, -0.08011779693656904, 0.12605767532523804, -0.5427044014254443, -0.03488139936261926, -0.26472206479304683, -0.24540813729398311, 0.05787658500439807, -0.8327505442704737, 0.8432112047945828, -0.07293256137350335, 0.9382650424541648, -0.11857424537434501, 0.09566984994854791, -1.1555681863500853, -0.5628180864415381, -0.030326902701813502, 1.8872384972146499, -0.3825590879924287, -0.7347844102569788, 2.071124053273013, 0.0021686444798123114, 1.1702844177756384, 0.5507097527282829, 0.5080239045387717, 0.03608985471420347, 0.9032285520857251, -1.0657048652768666, -0.6004926202340528, -0.7674944490251198, -2.3975308350523656, 1.0634632471898193, 0.18572032621691165, -0.13564355079462026]}, {\"boxpoints\": false, \"line\": {\"width\": 1.3}, \"marker\": {\"color\": \"rgba(128, 0, 128, 1.0)\"}, \"name\": \"D\", \"orientation\": \"v\", \"type\": \"box\", \"y\": [0.2738559016122897, 0.7106502379418743, -1.7509084156433161, -0.9227763319033462, -0.1896771677542079, 0.3026683859132041, -0.0920793486260978, -0.9495997396565908, -1.7749894508055353, -1.7535243348691498, -0.5988954962609513, -0.8303808063690381, 0.8521524191089968, 1.9662665203821206, -0.9755156030288992, -2.1513066476382043, -2.0149014361552062, 1.4190512112043663, 0.9101757994864929, 0.2706871767071419, -0.21592636390465056, 1.9391994568216602, 0.07747697707792196, 0.7779200326235947, -0.2772291910817807, -2.242501613667083, 0.4918308687584895, 0.8931991510725807, -0.17209096940054266, 0.46784822980636726, -1.2878564615246344, 0.60238360809786, -0.11343885434841276, 0.8425259361263151, 2.450738718164936, 1.7644565022971292, 0.14002090373597423, 0.6278547242495557, -0.38923758768431627, -0.09731354951457473, -1.322639652790698, -0.24768605767131183, 0.2846995770357078, -0.3594903757927821, -0.20673693654884476, 2.4593116350956308, 0.6065535437723129, -1.0246373342647117, -0.07976237682655041, 0.57035784004666, 1.2067255141088138, 1.4104986023116812, 0.25595380920077154, -0.3343992931212443, 0.05980317789997982, -1.9467039940984174, -1.565869323653207, -0.2533814700811455, 0.6308960196561134, -0.30821376612250556, -0.18399398643410958, 0.8043101508258407, -0.13155361349583128, -1.4084353160404273, -0.4349940821430627, 0.1664234569748299, -0.7901108936090245, 1.4884838784331955, 0.5925673693297888, -0.19686708296039054, 0.12609007897393137, 0.7812428395310707, -0.2602981736363745, 0.3514862362992299, 0.04486711361988808, -0.9273180908786917, 0.0067026732445349116, 0.6935454391728332, -1.2917279374782737, 0.7287254117512857, -0.6782587204178349, -0.14265129979757074, 0.30593909289019683, 0.49220350505844146, -0.07444597486191551, -0.45995401480221126, 0.02408849041473539, -0.054200525968196966, -0.09323659787118423, -0.5265777382946164, -0.4245176246163635, 0.6902068699550099, -1.369310076792178, 1.2895384944001946, -0.3199485321860116, 0.7491705827529969, -1.6618011560128831, -0.6728917217096003, -0.9595010217541334, 1.2680332547877091]}],\n",
       "                        {\"legend\": {\"bgcolor\": \"#F5F6F9\", \"font\": {\"color\": \"#4D5663\"}}, \"paper_bgcolor\": \"#F5F6F9\", \"plot_bgcolor\": \"#F5F6F9\", \"template\": {\"data\": {\"bar\": [{\"error_x\": {\"color\": \"#2a3f5f\"}, \"error_y\": {\"color\": \"#2a3f5f\"}, \"marker\": {\"line\": {\"color\": \"#E5ECF6\", \"width\": 0.5}}, \"type\": \"bar\"}], \"barpolar\": [{\"marker\": {\"line\": {\"color\": \"#E5ECF6\", \"width\": 0.5}}, \"type\": \"barpolar\"}], \"carpet\": [{\"aaxis\": {\"endlinecolor\": \"#2a3f5f\", \"gridcolor\": \"white\", \"linecolor\": \"white\", \"minorgridcolor\": \"white\", \"startlinecolor\": \"#2a3f5f\"}, \"baxis\": {\"endlinecolor\": \"#2a3f5f\", \"gridcolor\": \"white\", \"linecolor\": \"white\", \"minorgridcolor\": \"white\", \"startlinecolor\": \"#2a3f5f\"}, \"type\": \"carpet\"}], \"choropleth\": [{\"colorbar\": {\"outlinewidth\": 0, \"ticks\": \"\"}, \"type\": \"choropleth\"}], \"contour\": [{\"colorbar\": {\"outlinewidth\": 0, \"ticks\": \"\"}, \"colorscale\": [[0.0, \"#0d0887\"], [0.1111111111111111, \"#46039f\"], [0.2222222222222222, \"#7201a8\"], [0.3333333333333333, \"#9c179e\"], [0.4444444444444444, \"#bd3786\"], [0.5555555555555556, \"#d8576b\"], [0.6666666666666666, \"#ed7953\"], [0.7777777777777778, \"#fb9f3a\"], [0.8888888888888888, \"#fdca26\"], [1.0, \"#f0f921\"]], \"type\": \"contour\"}], \"contourcarpet\": [{\"colorbar\": {\"outlinewidth\": 0, \"ticks\": \"\"}, \"type\": \"contourcarpet\"}], \"heatmap\": [{\"colorbar\": {\"outlinewidth\": 0, \"ticks\": \"\"}, \"colorscale\": [[0.0, \"#0d0887\"], [0.1111111111111111, \"#46039f\"], [0.2222222222222222, \"#7201a8\"], [0.3333333333333333, \"#9c179e\"], [0.4444444444444444, \"#bd3786\"], [0.5555555555555556, \"#d8576b\"], [0.6666666666666666, \"#ed7953\"], [0.7777777777777778, \"#fb9f3a\"], [0.8888888888888888, \"#fdca26\"], [1.0, \"#f0f921\"]], \"type\": \"heatmap\"}], \"heatmapgl\": [{\"colorbar\": {\"outlinewidth\": 0, \"ticks\": \"\"}, \"colorscale\": [[0.0, \"#0d0887\"], [0.1111111111111111, \"#46039f\"], [0.2222222222222222, \"#7201a8\"], [0.3333333333333333, \"#9c179e\"], [0.4444444444444444, \"#bd3786\"], [0.5555555555555556, \"#d8576b\"], [0.6666666666666666, \"#ed7953\"], [0.7777777777777778, \"#fb9f3a\"], [0.8888888888888888, \"#fdca26\"], [1.0, \"#f0f921\"]], \"type\": \"heatmapgl\"}], \"histogram\": [{\"marker\": {\"colorbar\": {\"outlinewidth\": 0, \"ticks\": \"\"}}, \"type\": \"histogram\"}], \"histogram2d\": [{\"colorbar\": {\"outlinewidth\": 0, \"ticks\": \"\"}, \"colorscale\": [[0.0, \"#0d0887\"], [0.1111111111111111, \"#46039f\"], [0.2222222222222222, \"#7201a8\"], [0.3333333333333333, \"#9c179e\"], [0.4444444444444444, \"#bd3786\"], [0.5555555555555556, \"#d8576b\"], [0.6666666666666666, \"#ed7953\"], [0.7777777777777778, \"#fb9f3a\"], [0.8888888888888888, \"#fdca26\"], [1.0, \"#f0f921\"]], \"type\": \"histogram2d\"}], \"histogram2dcontour\": [{\"colorbar\": {\"outlinewidth\": 0, \"ticks\": \"\"}, \"colorscale\": [[0.0, \"#0d0887\"], [0.1111111111111111, \"#46039f\"], [0.2222222222222222, \"#7201a8\"], [0.3333333333333333, \"#9c179e\"], [0.4444444444444444, \"#bd3786\"], [0.5555555555555556, \"#d8576b\"], [0.6666666666666666, \"#ed7953\"], [0.7777777777777778, \"#fb9f3a\"], [0.8888888888888888, \"#fdca26\"], [1.0, \"#f0f921\"]], \"type\": \"histogram2dcontour\"}], \"mesh3d\": [{\"colorbar\": {\"outlinewidth\": 0, \"ticks\": \"\"}, \"type\": \"mesh3d\"}], \"parcoords\": [{\"line\": {\"colorbar\": {\"outlinewidth\": 0, \"ticks\": \"\"}}, \"type\": \"parcoords\"}], \"pie\": [{\"automargin\": true, \"type\": \"pie\"}], \"scatter\": [{\"marker\": {\"colorbar\": {\"outlinewidth\": 0, \"ticks\": \"\"}}, \"type\": \"scatter\"}], \"scatter3d\": [{\"line\": {\"colorbar\": {\"outlinewidth\": 0, \"ticks\": \"\"}}, \"marker\": {\"colorbar\": {\"outlinewidth\": 0, \"ticks\": \"\"}}, \"type\": \"scatter3d\"}], \"scattercarpet\": [{\"marker\": {\"colorbar\": {\"outlinewidth\": 0, \"ticks\": \"\"}}, \"type\": \"scattercarpet\"}], \"scattergeo\": [{\"marker\": {\"colorbar\": {\"outlinewidth\": 0, \"ticks\": \"\"}}, \"type\": \"scattergeo\"}], \"scattergl\": [{\"marker\": {\"colorbar\": {\"outlinewidth\": 0, \"ticks\": \"\"}}, \"type\": \"scattergl\"}], \"scattermapbox\": [{\"marker\": {\"colorbar\": {\"outlinewidth\": 0, \"ticks\": \"\"}}, \"type\": \"scattermapbox\"}], \"scatterpolar\": [{\"marker\": {\"colorbar\": {\"outlinewidth\": 0, \"ticks\": \"\"}}, \"type\": \"scatterpolar\"}], \"scatterpolargl\": [{\"marker\": {\"colorbar\": {\"outlinewidth\": 0, \"ticks\": \"\"}}, \"type\": \"scatterpolargl\"}], \"scatterternary\": [{\"marker\": {\"colorbar\": {\"outlinewidth\": 0, \"ticks\": \"\"}}, \"type\": \"scatterternary\"}], \"surface\": [{\"colorbar\": {\"outlinewidth\": 0, \"ticks\": \"\"}, \"colorscale\": [[0.0, \"#0d0887\"], [0.1111111111111111, \"#46039f\"], [0.2222222222222222, \"#7201a8\"], [0.3333333333333333, \"#9c179e\"], [0.4444444444444444, \"#bd3786\"], [0.5555555555555556, \"#d8576b\"], [0.6666666666666666, \"#ed7953\"], [0.7777777777777778, \"#fb9f3a\"], [0.8888888888888888, \"#fdca26\"], [1.0, \"#f0f921\"]], \"type\": \"surface\"}], \"table\": [{\"cells\": {\"fill\": {\"color\": \"#EBF0F8\"}, \"line\": {\"color\": \"white\"}}, \"header\": {\"fill\": {\"color\": \"#C8D4E3\"}, \"line\": {\"color\": \"white\"}}, \"type\": \"table\"}]}, \"layout\": {\"annotationdefaults\": {\"arrowcolor\": \"#2a3f5f\", \"arrowhead\": 0, \"arrowwidth\": 1}, \"coloraxis\": {\"colorbar\": {\"outlinewidth\": 0, \"ticks\": \"\"}}, \"colorscale\": {\"diverging\": [[0, \"#8e0152\"], [0.1, \"#c51b7d\"], [0.2, \"#de77ae\"], [0.3, \"#f1b6da\"], [0.4, \"#fde0ef\"], [0.5, \"#f7f7f7\"], [0.6, \"#e6f5d0\"], [0.7, \"#b8e186\"], [0.8, \"#7fbc41\"], [0.9, \"#4d9221\"], [1, \"#276419\"]], \"sequential\": [[0.0, \"#0d0887\"], [0.1111111111111111, \"#46039f\"], [0.2222222222222222, \"#7201a8\"], [0.3333333333333333, \"#9c179e\"], [0.4444444444444444, \"#bd3786\"], [0.5555555555555556, \"#d8576b\"], [0.6666666666666666, \"#ed7953\"], [0.7777777777777778, \"#fb9f3a\"], [0.8888888888888888, \"#fdca26\"], [1.0, \"#f0f921\"]], \"sequentialminus\": [[0.0, \"#0d0887\"], [0.1111111111111111, \"#46039f\"], [0.2222222222222222, \"#7201a8\"], [0.3333333333333333, \"#9c179e\"], [0.4444444444444444, \"#bd3786\"], [0.5555555555555556, \"#d8576b\"], [0.6666666666666666, \"#ed7953\"], [0.7777777777777778, \"#fb9f3a\"], [0.8888888888888888, \"#fdca26\"], [1.0, \"#f0f921\"]]}, \"colorway\": [\"#636efa\", \"#EF553B\", \"#00cc96\", \"#ab63fa\", \"#FFA15A\", \"#19d3f3\", \"#FF6692\", \"#B6E880\", \"#FF97FF\", \"#FECB52\"], \"font\": {\"color\": \"#2a3f5f\"}, \"geo\": {\"bgcolor\": \"white\", \"lakecolor\": \"white\", \"landcolor\": \"#E5ECF6\", \"showlakes\": true, \"showland\": true, \"subunitcolor\": \"white\"}, \"hoverlabel\": {\"align\": \"left\"}, \"hovermode\": \"closest\", \"mapbox\": {\"style\": \"light\"}, \"paper_bgcolor\": \"white\", \"plot_bgcolor\": \"#E5ECF6\", \"polar\": {\"angularaxis\": {\"gridcolor\": \"white\", \"linecolor\": \"white\", \"ticks\": \"\"}, \"bgcolor\": \"#E5ECF6\", \"radialaxis\": {\"gridcolor\": \"white\", \"linecolor\": \"white\", \"ticks\": \"\"}}, \"scene\": {\"xaxis\": {\"backgroundcolor\": \"#E5ECF6\", \"gridcolor\": \"white\", \"gridwidth\": 2, \"linecolor\": \"white\", \"showbackground\": true, \"ticks\": \"\", \"zerolinecolor\": \"white\"}, \"yaxis\": {\"backgroundcolor\": \"#E5ECF6\", \"gridcolor\": \"white\", \"gridwidth\": 2, \"linecolor\": \"white\", \"showbackground\": true, \"ticks\": \"\", \"zerolinecolor\": \"white\"}, \"zaxis\": {\"backgroundcolor\": \"#E5ECF6\", \"gridcolor\": \"white\", \"gridwidth\": 2, \"linecolor\": \"white\", \"showbackground\": true, \"ticks\": \"\", \"zerolinecolor\": \"white\"}}, \"shapedefaults\": {\"line\": {\"color\": \"#2a3f5f\"}}, \"ternary\": {\"aaxis\": {\"gridcolor\": \"white\", \"linecolor\": \"white\", \"ticks\": \"\"}, \"baxis\": {\"gridcolor\": \"white\", \"linecolor\": \"white\", \"ticks\": \"\"}, \"bgcolor\": \"#E5ECF6\", \"caxis\": {\"gridcolor\": \"white\", \"linecolor\": \"white\", \"ticks\": \"\"}}, \"title\": {\"x\": 0.05}, \"xaxis\": {\"automargin\": true, \"gridcolor\": \"white\", \"linecolor\": \"white\", \"ticks\": \"\", \"title\": {\"standoff\": 15}, \"zerolinecolor\": \"white\", \"zerolinewidth\": 2}, \"yaxis\": {\"automargin\": true, \"gridcolor\": \"white\", \"linecolor\": \"white\", \"ticks\": \"\", \"title\": {\"standoff\": 15}, \"zerolinecolor\": \"white\", \"zerolinewidth\": 2}}}, \"title\": {\"font\": {\"color\": \"#4D5663\"}}, \"xaxis\": {\"gridcolor\": \"#E1E5ED\", \"showgrid\": true, \"tickfont\": {\"color\": \"#4D5663\"}, \"title\": {\"font\": {\"color\": \"#4D5663\"}, \"text\": \"\"}, \"zerolinecolor\": \"#E1E5ED\"}, \"yaxis\": {\"gridcolor\": \"#E1E5ED\", \"showgrid\": true, \"tickfont\": {\"color\": \"#4D5663\"}, \"title\": {\"font\": {\"color\": \"#4D5663\"}, \"text\": \"\"}, \"zerolinecolor\": \"#E1E5ED\"}},\n",
       "                        {\"showLink\": true, \"linkText\": \"Export to plot.ly\", \"plotlyServerURL\": \"https://plot.ly\", \"responsive\": true}\n",
       "                    ).then(function(){\n",
       "                            \n",
       "var gd = document.getElementById('24407173-dad5-456d-bd3e-5955f9ba64bf');\n",
       "var x = new MutationObserver(function (mutations, observer) {{\n",
       "        var display = window.getComputedStyle(gd).display;\n",
       "        if (!display || display === 'none') {{\n",
       "            console.log([gd, 'removed!']);\n",
       "            Plotly.purge(gd);\n",
       "            observer.disconnect();\n",
       "        }}\n",
       "}});\n",
       "\n",
       "// Listen for the removal of the full notebook cells\n",
       "var notebookContainer = gd.closest('#notebook-container');\n",
       "if (notebookContainer) {{\n",
       "    x.observe(notebookContainer, {childList: true});\n",
       "}}\n",
       "\n",
       "// Listen for the clearing of the current output cell\n",
       "var outputEl = gd.closest('.output');\n",
       "if (outputEl) {{\n",
       "    x.observe(outputEl, {childList: true});\n",
       "}}\n",
       "\n",
       "                        })\n",
       "                };\n",
       "                });\n",
       "            </script>\n",
       "        </div>"
      ]
     },
     "metadata": {},
     "output_type": "display_data"
    }
   ],
   "source": [
    "df.iplot(kind='box')"
   ]
  },
  {
   "cell_type": "markdown",
   "metadata": {},
   "source": [
    "## 3d Surface"
   ]
  },
  {
   "cell_type": "code",
   "execution_count": 15,
   "metadata": {},
   "outputs": [
    {
     "data": {
      "application/vnd.plotly.v1+json": {
       "config": {
        "linkText": "Export to plot.ly",
        "plotlyServerURL": "https://plot.ly",
        "showLink": true
       },
       "data": [
        {
         "colorscale": [
          [
           0,
           "rgb(165,0,38)"
          ],
          [
           0.1,
           "rgb(215,48,39)"
          ],
          [
           0.2,
           "rgb(244,109,67)"
          ],
          [
           0.3,
           "rgb(253,174,97)"
          ],
          [
           0.4,
           "rgb(254,224,144)"
          ],
          [
           0.5,
           "rgb(255,255,191)"
          ],
          [
           0.6,
           "rgb(224,243,248)"
          ],
          [
           0.7,
           "rgb(171,217,233)"
          ],
          [
           0.8,
           "rgb(116,173,209)"
          ],
          [
           0.9,
           "rgb(69,117,180)"
          ],
          [
           1,
           "rgb(49,54,149)"
          ]
         ],
         "type": "surface",
         "x": [
          0,
          1,
          2,
          3,
          4
         ],
         "y": [
          "x",
          "y",
          "z"
         ],
         "z": [
          [
           1,
           2,
           3,
           4,
           5
          ],
          [
           10,
           20,
           30,
           20,
           10
          ],
          [
           5,
           4,
           3,
           2,
           1
          ]
         ]
        }
       ],
       "layout": {
        "legend": {
         "bgcolor": "#F5F6F9",
         "font": {
          "color": "#4D5663"
         }
        },
        "paper_bgcolor": "#F5F6F9",
        "plot_bgcolor": "#F5F6F9",
        "template": {
         "data": {
          "bar": [
           {
            "error_x": {
             "color": "#2a3f5f"
            },
            "error_y": {
             "color": "#2a3f5f"
            },
            "marker": {
             "line": {
              "color": "#E5ECF6",
              "width": 0.5
             }
            },
            "type": "bar"
           }
          ],
          "barpolar": [
           {
            "marker": {
             "line": {
              "color": "#E5ECF6",
              "width": 0.5
             }
            },
            "type": "barpolar"
           }
          ],
          "carpet": [
           {
            "aaxis": {
             "endlinecolor": "#2a3f5f",
             "gridcolor": "white",
             "linecolor": "white",
             "minorgridcolor": "white",
             "startlinecolor": "#2a3f5f"
            },
            "baxis": {
             "endlinecolor": "#2a3f5f",
             "gridcolor": "white",
             "linecolor": "white",
             "minorgridcolor": "white",
             "startlinecolor": "#2a3f5f"
            },
            "type": "carpet"
           }
          ],
          "choropleth": [
           {
            "colorbar": {
             "outlinewidth": 0,
             "ticks": ""
            },
            "type": "choropleth"
           }
          ],
          "contour": [
           {
            "colorbar": {
             "outlinewidth": 0,
             "ticks": ""
            },
            "colorscale": [
             [
              0,
              "#0d0887"
             ],
             [
              0.1111111111111111,
              "#46039f"
             ],
             [
              0.2222222222222222,
              "#7201a8"
             ],
             [
              0.3333333333333333,
              "#9c179e"
             ],
             [
              0.4444444444444444,
              "#bd3786"
             ],
             [
              0.5555555555555556,
              "#d8576b"
             ],
             [
              0.6666666666666666,
              "#ed7953"
             ],
             [
              0.7777777777777778,
              "#fb9f3a"
             ],
             [
              0.8888888888888888,
              "#fdca26"
             ],
             [
              1,
              "#f0f921"
             ]
            ],
            "type": "contour"
           }
          ],
          "contourcarpet": [
           {
            "colorbar": {
             "outlinewidth": 0,
             "ticks": ""
            },
            "type": "contourcarpet"
           }
          ],
          "heatmap": [
           {
            "colorbar": {
             "outlinewidth": 0,
             "ticks": ""
            },
            "colorscale": [
             [
              0,
              "#0d0887"
             ],
             [
              0.1111111111111111,
              "#46039f"
             ],
             [
              0.2222222222222222,
              "#7201a8"
             ],
             [
              0.3333333333333333,
              "#9c179e"
             ],
             [
              0.4444444444444444,
              "#bd3786"
             ],
             [
              0.5555555555555556,
              "#d8576b"
             ],
             [
              0.6666666666666666,
              "#ed7953"
             ],
             [
              0.7777777777777778,
              "#fb9f3a"
             ],
             [
              0.8888888888888888,
              "#fdca26"
             ],
             [
              1,
              "#f0f921"
             ]
            ],
            "type": "heatmap"
           }
          ],
          "heatmapgl": [
           {
            "colorbar": {
             "outlinewidth": 0,
             "ticks": ""
            },
            "colorscale": [
             [
              0,
              "#0d0887"
             ],
             [
              0.1111111111111111,
              "#46039f"
             ],
             [
              0.2222222222222222,
              "#7201a8"
             ],
             [
              0.3333333333333333,
              "#9c179e"
             ],
             [
              0.4444444444444444,
              "#bd3786"
             ],
             [
              0.5555555555555556,
              "#d8576b"
             ],
             [
              0.6666666666666666,
              "#ed7953"
             ],
             [
              0.7777777777777778,
              "#fb9f3a"
             ],
             [
              0.8888888888888888,
              "#fdca26"
             ],
             [
              1,
              "#f0f921"
             ]
            ],
            "type": "heatmapgl"
           }
          ],
          "histogram": [
           {
            "marker": {
             "colorbar": {
              "outlinewidth": 0,
              "ticks": ""
             }
            },
            "type": "histogram"
           }
          ],
          "histogram2d": [
           {
            "colorbar": {
             "outlinewidth": 0,
             "ticks": ""
            },
            "colorscale": [
             [
              0,
              "#0d0887"
             ],
             [
              0.1111111111111111,
              "#46039f"
             ],
             [
              0.2222222222222222,
              "#7201a8"
             ],
             [
              0.3333333333333333,
              "#9c179e"
             ],
             [
              0.4444444444444444,
              "#bd3786"
             ],
             [
              0.5555555555555556,
              "#d8576b"
             ],
             [
              0.6666666666666666,
              "#ed7953"
             ],
             [
              0.7777777777777778,
              "#fb9f3a"
             ],
             [
              0.8888888888888888,
              "#fdca26"
             ],
             [
              1,
              "#f0f921"
             ]
            ],
            "type": "histogram2d"
           }
          ],
          "histogram2dcontour": [
           {
            "colorbar": {
             "outlinewidth": 0,
             "ticks": ""
            },
            "colorscale": [
             [
              0,
              "#0d0887"
             ],
             [
              0.1111111111111111,
              "#46039f"
             ],
             [
              0.2222222222222222,
              "#7201a8"
             ],
             [
              0.3333333333333333,
              "#9c179e"
             ],
             [
              0.4444444444444444,
              "#bd3786"
             ],
             [
              0.5555555555555556,
              "#d8576b"
             ],
             [
              0.6666666666666666,
              "#ed7953"
             ],
             [
              0.7777777777777778,
              "#fb9f3a"
             ],
             [
              0.8888888888888888,
              "#fdca26"
             ],
             [
              1,
              "#f0f921"
             ]
            ],
            "type": "histogram2dcontour"
           }
          ],
          "mesh3d": [
           {
            "colorbar": {
             "outlinewidth": 0,
             "ticks": ""
            },
            "type": "mesh3d"
           }
          ],
          "parcoords": [
           {
            "line": {
             "colorbar": {
              "outlinewidth": 0,
              "ticks": ""
             }
            },
            "type": "parcoords"
           }
          ],
          "pie": [
           {
            "automargin": true,
            "type": "pie"
           }
          ],
          "scatter": [
           {
            "marker": {
             "colorbar": {
              "outlinewidth": 0,
              "ticks": ""
             }
            },
            "type": "scatter"
           }
          ],
          "scatter3d": [
           {
            "line": {
             "colorbar": {
              "outlinewidth": 0,
              "ticks": ""
             }
            },
            "marker": {
             "colorbar": {
              "outlinewidth": 0,
              "ticks": ""
             }
            },
            "type": "scatter3d"
           }
          ],
          "scattercarpet": [
           {
            "marker": {
             "colorbar": {
              "outlinewidth": 0,
              "ticks": ""
             }
            },
            "type": "scattercarpet"
           }
          ],
          "scattergeo": [
           {
            "marker": {
             "colorbar": {
              "outlinewidth": 0,
              "ticks": ""
             }
            },
            "type": "scattergeo"
           }
          ],
          "scattergl": [
           {
            "marker": {
             "colorbar": {
              "outlinewidth": 0,
              "ticks": ""
             }
            },
            "type": "scattergl"
           }
          ],
          "scattermapbox": [
           {
            "marker": {
             "colorbar": {
              "outlinewidth": 0,
              "ticks": ""
             }
            },
            "type": "scattermapbox"
           }
          ],
          "scatterpolar": [
           {
            "marker": {
             "colorbar": {
              "outlinewidth": 0,
              "ticks": ""
             }
            },
            "type": "scatterpolar"
           }
          ],
          "scatterpolargl": [
           {
            "marker": {
             "colorbar": {
              "outlinewidth": 0,
              "ticks": ""
             }
            },
            "type": "scatterpolargl"
           }
          ],
          "scatterternary": [
           {
            "marker": {
             "colorbar": {
              "outlinewidth": 0,
              "ticks": ""
             }
            },
            "type": "scatterternary"
           }
          ],
          "surface": [
           {
            "colorbar": {
             "outlinewidth": 0,
             "ticks": ""
            },
            "colorscale": [
             [
              0,
              "#0d0887"
             ],
             [
              0.1111111111111111,
              "#46039f"
             ],
             [
              0.2222222222222222,
              "#7201a8"
             ],
             [
              0.3333333333333333,
              "#9c179e"
             ],
             [
              0.4444444444444444,
              "#bd3786"
             ],
             [
              0.5555555555555556,
              "#d8576b"
             ],
             [
              0.6666666666666666,
              "#ed7953"
             ],
             [
              0.7777777777777778,
              "#fb9f3a"
             ],
             [
              0.8888888888888888,
              "#fdca26"
             ],
             [
              1,
              "#f0f921"
             ]
            ],
            "type": "surface"
           }
          ],
          "table": [
           {
            "cells": {
             "fill": {
              "color": "#EBF0F8"
             },
             "line": {
              "color": "white"
             }
            },
            "header": {
             "fill": {
              "color": "#C8D4E3"
             },
             "line": {
              "color": "white"
             }
            },
            "type": "table"
           }
          ]
         },
         "layout": {
          "annotationdefaults": {
           "arrowcolor": "#2a3f5f",
           "arrowhead": 0,
           "arrowwidth": 1
          },
          "coloraxis": {
           "colorbar": {
            "outlinewidth": 0,
            "ticks": ""
           }
          },
          "colorscale": {
           "diverging": [
            [
             0,
             "#8e0152"
            ],
            [
             0.1,
             "#c51b7d"
            ],
            [
             0.2,
             "#de77ae"
            ],
            [
             0.3,
             "#f1b6da"
            ],
            [
             0.4,
             "#fde0ef"
            ],
            [
             0.5,
             "#f7f7f7"
            ],
            [
             0.6,
             "#e6f5d0"
            ],
            [
             0.7,
             "#b8e186"
            ],
            [
             0.8,
             "#7fbc41"
            ],
            [
             0.9,
             "#4d9221"
            ],
            [
             1,
             "#276419"
            ]
           ],
           "sequential": [
            [
             0,
             "#0d0887"
            ],
            [
             0.1111111111111111,
             "#46039f"
            ],
            [
             0.2222222222222222,
             "#7201a8"
            ],
            [
             0.3333333333333333,
             "#9c179e"
            ],
            [
             0.4444444444444444,
             "#bd3786"
            ],
            [
             0.5555555555555556,
             "#d8576b"
            ],
            [
             0.6666666666666666,
             "#ed7953"
            ],
            [
             0.7777777777777778,
             "#fb9f3a"
            ],
            [
             0.8888888888888888,
             "#fdca26"
            ],
            [
             1,
             "#f0f921"
            ]
           ],
           "sequentialminus": [
            [
             0,
             "#0d0887"
            ],
            [
             0.1111111111111111,
             "#46039f"
            ],
            [
             0.2222222222222222,
             "#7201a8"
            ],
            [
             0.3333333333333333,
             "#9c179e"
            ],
            [
             0.4444444444444444,
             "#bd3786"
            ],
            [
             0.5555555555555556,
             "#d8576b"
            ],
            [
             0.6666666666666666,
             "#ed7953"
            ],
            [
             0.7777777777777778,
             "#fb9f3a"
            ],
            [
             0.8888888888888888,
             "#fdca26"
            ],
            [
             1,
             "#f0f921"
            ]
           ]
          },
          "colorway": [
           "#636efa",
           "#EF553B",
           "#00cc96",
           "#ab63fa",
           "#FFA15A",
           "#19d3f3",
           "#FF6692",
           "#B6E880",
           "#FF97FF",
           "#FECB52"
          ],
          "font": {
           "color": "#2a3f5f"
          },
          "geo": {
           "bgcolor": "white",
           "lakecolor": "white",
           "landcolor": "#E5ECF6",
           "showlakes": true,
           "showland": true,
           "subunitcolor": "white"
          },
          "hoverlabel": {
           "align": "left"
          },
          "hovermode": "closest",
          "mapbox": {
           "style": "light"
          },
          "paper_bgcolor": "white",
          "plot_bgcolor": "#E5ECF6",
          "polar": {
           "angularaxis": {
            "gridcolor": "white",
            "linecolor": "white",
            "ticks": ""
           },
           "bgcolor": "#E5ECF6",
           "radialaxis": {
            "gridcolor": "white",
            "linecolor": "white",
            "ticks": ""
           }
          },
          "scene": {
           "xaxis": {
            "backgroundcolor": "#E5ECF6",
            "gridcolor": "white",
            "gridwidth": 2,
            "linecolor": "white",
            "showbackground": true,
            "ticks": "",
            "zerolinecolor": "white"
           },
           "yaxis": {
            "backgroundcolor": "#E5ECF6",
            "gridcolor": "white",
            "gridwidth": 2,
            "linecolor": "white",
            "showbackground": true,
            "ticks": "",
            "zerolinecolor": "white"
           },
           "zaxis": {
            "backgroundcolor": "#E5ECF6",
            "gridcolor": "white",
            "gridwidth": 2,
            "linecolor": "white",
            "showbackground": true,
            "ticks": "",
            "zerolinecolor": "white"
           }
          },
          "shapedefaults": {
           "line": {
            "color": "#2a3f5f"
           }
          },
          "ternary": {
           "aaxis": {
            "gridcolor": "white",
            "linecolor": "white",
            "ticks": ""
           },
           "baxis": {
            "gridcolor": "white",
            "linecolor": "white",
            "ticks": ""
           },
           "bgcolor": "#E5ECF6",
           "caxis": {
            "gridcolor": "white",
            "linecolor": "white",
            "ticks": ""
           }
          },
          "title": {
           "x": 0.05
          },
          "xaxis": {
           "automargin": true,
           "gridcolor": "white",
           "linecolor": "white",
           "ticks": "",
           "title": {
            "standoff": 15
           },
           "zerolinecolor": "white",
           "zerolinewidth": 2
          },
          "yaxis": {
           "automargin": true,
           "gridcolor": "white",
           "linecolor": "white",
           "ticks": "",
           "title": {
            "standoff": 15
           },
           "zerolinecolor": "white",
           "zerolinewidth": 2
          }
         }
        },
        "title": {
         "font": {
          "color": "#4D5663"
         }
        },
        "xaxis": {
         "gridcolor": "#E1E5ED",
         "showgrid": true,
         "tickfont": {
          "color": "#4D5663"
         },
         "title": {
          "font": {
           "color": "#4D5663"
          },
          "text": ""
         },
         "zerolinecolor": "#E1E5ED"
        },
        "yaxis": {
         "gridcolor": "#E1E5ED",
         "showgrid": true,
         "tickfont": {
          "color": "#4D5663"
         },
         "title": {
          "font": {
           "color": "#4D5663"
          },
          "text": ""
         },
         "zerolinecolor": "#E1E5ED"
        }
       }
      },
      "text/html": [
       "<div>\n",
       "        \n",
       "        \n",
       "            <div id=\"8869a2fb-7735-4577-884e-f597ba0df57d\" class=\"plotly-graph-div\" style=\"height:525px; width:100%;\"></div>\n",
       "            <script type=\"text/javascript\">\n",
       "                require([\"plotly\"], function(Plotly) {\n",
       "                    window.PLOTLYENV=window.PLOTLYENV || {};\n",
       "                    window.PLOTLYENV.BASE_URL='https://plot.ly';\n",
       "                    \n",
       "                if (document.getElementById(\"8869a2fb-7735-4577-884e-f597ba0df57d\")) {\n",
       "                    Plotly.newPlot(\n",
       "                        '8869a2fb-7735-4577-884e-f597ba0df57d',\n",
       "                        [{\"colorscale\": [[0.0, \"rgb(165,0,38)\"], [0.1, \"rgb(215,48,39)\"], [0.2, \"rgb(244,109,67)\"], [0.3, \"rgb(253,174,97)\"], [0.4, \"rgb(254,224,144)\"], [0.5, \"rgb(255,255,191)\"], [0.6, \"rgb(224,243,248)\"], [0.7, \"rgb(171,217,233)\"], [0.8, \"rgb(116,173,209)\"], [0.9, \"rgb(69,117,180)\"], [1.0, \"rgb(49,54,149)\"]], \"type\": \"surface\", \"x\": [0, 1, 2, 3, 4], \"y\": [\"x\", \"y\", \"z\"], \"z\": [[1, 2, 3, 4, 5], [10, 20, 30, 20, 10], [5, 4, 3, 2, 1]]}],\n",
       "                        {\"legend\": {\"bgcolor\": \"#F5F6F9\", \"font\": {\"color\": \"#4D5663\"}}, \"paper_bgcolor\": \"#F5F6F9\", \"plot_bgcolor\": \"#F5F6F9\", \"template\": {\"data\": {\"bar\": [{\"error_x\": {\"color\": \"#2a3f5f\"}, \"error_y\": {\"color\": \"#2a3f5f\"}, \"marker\": {\"line\": {\"color\": \"#E5ECF6\", \"width\": 0.5}}, \"type\": \"bar\"}], \"barpolar\": [{\"marker\": {\"line\": {\"color\": \"#E5ECF6\", \"width\": 0.5}}, \"type\": \"barpolar\"}], \"carpet\": [{\"aaxis\": {\"endlinecolor\": \"#2a3f5f\", \"gridcolor\": \"white\", \"linecolor\": \"white\", \"minorgridcolor\": \"white\", \"startlinecolor\": \"#2a3f5f\"}, \"baxis\": {\"endlinecolor\": \"#2a3f5f\", \"gridcolor\": \"white\", \"linecolor\": \"white\", \"minorgridcolor\": \"white\", \"startlinecolor\": \"#2a3f5f\"}, \"type\": \"carpet\"}], \"choropleth\": [{\"colorbar\": {\"outlinewidth\": 0, \"ticks\": \"\"}, \"type\": \"choropleth\"}], \"contour\": [{\"colorbar\": {\"outlinewidth\": 0, \"ticks\": \"\"}, \"colorscale\": [[0.0, \"#0d0887\"], [0.1111111111111111, \"#46039f\"], [0.2222222222222222, \"#7201a8\"], [0.3333333333333333, \"#9c179e\"], [0.4444444444444444, \"#bd3786\"], [0.5555555555555556, \"#d8576b\"], [0.6666666666666666, \"#ed7953\"], [0.7777777777777778, \"#fb9f3a\"], [0.8888888888888888, \"#fdca26\"], [1.0, \"#f0f921\"]], \"type\": \"contour\"}], \"contourcarpet\": [{\"colorbar\": {\"outlinewidth\": 0, \"ticks\": \"\"}, \"type\": \"contourcarpet\"}], \"heatmap\": [{\"colorbar\": {\"outlinewidth\": 0, \"ticks\": \"\"}, \"colorscale\": [[0.0, \"#0d0887\"], [0.1111111111111111, \"#46039f\"], [0.2222222222222222, \"#7201a8\"], [0.3333333333333333, \"#9c179e\"], [0.4444444444444444, \"#bd3786\"], [0.5555555555555556, \"#d8576b\"], [0.6666666666666666, \"#ed7953\"], [0.7777777777777778, \"#fb9f3a\"], [0.8888888888888888, \"#fdca26\"], [1.0, \"#f0f921\"]], \"type\": \"heatmap\"}], \"heatmapgl\": [{\"colorbar\": {\"outlinewidth\": 0, \"ticks\": \"\"}, \"colorscale\": [[0.0, \"#0d0887\"], [0.1111111111111111, \"#46039f\"], [0.2222222222222222, \"#7201a8\"], [0.3333333333333333, \"#9c179e\"], [0.4444444444444444, \"#bd3786\"], [0.5555555555555556, \"#d8576b\"], [0.6666666666666666, \"#ed7953\"], [0.7777777777777778, \"#fb9f3a\"], [0.8888888888888888, \"#fdca26\"], [1.0, \"#f0f921\"]], \"type\": \"heatmapgl\"}], \"histogram\": [{\"marker\": {\"colorbar\": {\"outlinewidth\": 0, \"ticks\": \"\"}}, \"type\": \"histogram\"}], \"histogram2d\": [{\"colorbar\": {\"outlinewidth\": 0, \"ticks\": \"\"}, \"colorscale\": [[0.0, \"#0d0887\"], [0.1111111111111111, \"#46039f\"], [0.2222222222222222, \"#7201a8\"], [0.3333333333333333, \"#9c179e\"], [0.4444444444444444, \"#bd3786\"], [0.5555555555555556, \"#d8576b\"], [0.6666666666666666, \"#ed7953\"], [0.7777777777777778, \"#fb9f3a\"], [0.8888888888888888, \"#fdca26\"], [1.0, \"#f0f921\"]], \"type\": \"histogram2d\"}], \"histogram2dcontour\": [{\"colorbar\": {\"outlinewidth\": 0, \"ticks\": \"\"}, \"colorscale\": [[0.0, \"#0d0887\"], [0.1111111111111111, \"#46039f\"], [0.2222222222222222, \"#7201a8\"], [0.3333333333333333, \"#9c179e\"], [0.4444444444444444, \"#bd3786\"], [0.5555555555555556, \"#d8576b\"], [0.6666666666666666, \"#ed7953\"], [0.7777777777777778, \"#fb9f3a\"], [0.8888888888888888, \"#fdca26\"], [1.0, \"#f0f921\"]], \"type\": \"histogram2dcontour\"}], \"mesh3d\": [{\"colorbar\": {\"outlinewidth\": 0, \"ticks\": \"\"}, \"type\": \"mesh3d\"}], \"parcoords\": [{\"line\": {\"colorbar\": {\"outlinewidth\": 0, \"ticks\": \"\"}}, \"type\": \"parcoords\"}], \"pie\": [{\"automargin\": true, \"type\": \"pie\"}], \"scatter\": [{\"marker\": {\"colorbar\": {\"outlinewidth\": 0, \"ticks\": \"\"}}, \"type\": \"scatter\"}], \"scatter3d\": [{\"line\": {\"colorbar\": {\"outlinewidth\": 0, \"ticks\": \"\"}}, \"marker\": {\"colorbar\": {\"outlinewidth\": 0, \"ticks\": \"\"}}, \"type\": \"scatter3d\"}], \"scattercarpet\": [{\"marker\": {\"colorbar\": {\"outlinewidth\": 0, \"ticks\": \"\"}}, \"type\": \"scattercarpet\"}], \"scattergeo\": [{\"marker\": {\"colorbar\": {\"outlinewidth\": 0, \"ticks\": \"\"}}, \"type\": \"scattergeo\"}], \"scattergl\": [{\"marker\": {\"colorbar\": {\"outlinewidth\": 0, \"ticks\": \"\"}}, \"type\": \"scattergl\"}], \"scattermapbox\": [{\"marker\": {\"colorbar\": {\"outlinewidth\": 0, \"ticks\": \"\"}}, \"type\": \"scattermapbox\"}], \"scatterpolar\": [{\"marker\": {\"colorbar\": {\"outlinewidth\": 0, \"ticks\": \"\"}}, \"type\": \"scatterpolar\"}], \"scatterpolargl\": [{\"marker\": {\"colorbar\": {\"outlinewidth\": 0, \"ticks\": \"\"}}, \"type\": \"scatterpolargl\"}], \"scatterternary\": [{\"marker\": {\"colorbar\": {\"outlinewidth\": 0, \"ticks\": \"\"}}, \"type\": \"scatterternary\"}], \"surface\": [{\"colorbar\": {\"outlinewidth\": 0, \"ticks\": \"\"}, \"colorscale\": [[0.0, \"#0d0887\"], [0.1111111111111111, \"#46039f\"], [0.2222222222222222, \"#7201a8\"], [0.3333333333333333, \"#9c179e\"], [0.4444444444444444, \"#bd3786\"], [0.5555555555555556, \"#d8576b\"], [0.6666666666666666, \"#ed7953\"], [0.7777777777777778, \"#fb9f3a\"], [0.8888888888888888, \"#fdca26\"], [1.0, \"#f0f921\"]], \"type\": \"surface\"}], \"table\": [{\"cells\": {\"fill\": {\"color\": \"#EBF0F8\"}, \"line\": {\"color\": \"white\"}}, \"header\": {\"fill\": {\"color\": \"#C8D4E3\"}, \"line\": {\"color\": \"white\"}}, \"type\": \"table\"}]}, \"layout\": {\"annotationdefaults\": {\"arrowcolor\": \"#2a3f5f\", \"arrowhead\": 0, \"arrowwidth\": 1}, \"coloraxis\": {\"colorbar\": {\"outlinewidth\": 0, \"ticks\": \"\"}}, \"colorscale\": {\"diverging\": [[0, \"#8e0152\"], [0.1, \"#c51b7d\"], [0.2, \"#de77ae\"], [0.3, \"#f1b6da\"], [0.4, \"#fde0ef\"], [0.5, \"#f7f7f7\"], [0.6, \"#e6f5d0\"], [0.7, \"#b8e186\"], [0.8, \"#7fbc41\"], [0.9, \"#4d9221\"], [1, \"#276419\"]], \"sequential\": [[0.0, \"#0d0887\"], [0.1111111111111111, \"#46039f\"], [0.2222222222222222, \"#7201a8\"], [0.3333333333333333, \"#9c179e\"], [0.4444444444444444, \"#bd3786\"], [0.5555555555555556, \"#d8576b\"], [0.6666666666666666, \"#ed7953\"], [0.7777777777777778, \"#fb9f3a\"], [0.8888888888888888, \"#fdca26\"], [1.0, \"#f0f921\"]], \"sequentialminus\": [[0.0, \"#0d0887\"], [0.1111111111111111, \"#46039f\"], [0.2222222222222222, \"#7201a8\"], [0.3333333333333333, \"#9c179e\"], [0.4444444444444444, \"#bd3786\"], [0.5555555555555556, \"#d8576b\"], [0.6666666666666666, \"#ed7953\"], [0.7777777777777778, \"#fb9f3a\"], [0.8888888888888888, \"#fdca26\"], [1.0, \"#f0f921\"]]}, \"colorway\": [\"#636efa\", \"#EF553B\", \"#00cc96\", \"#ab63fa\", \"#FFA15A\", \"#19d3f3\", \"#FF6692\", \"#B6E880\", \"#FF97FF\", \"#FECB52\"], \"font\": {\"color\": \"#2a3f5f\"}, \"geo\": {\"bgcolor\": \"white\", \"lakecolor\": \"white\", \"landcolor\": \"#E5ECF6\", \"showlakes\": true, \"showland\": true, \"subunitcolor\": \"white\"}, \"hoverlabel\": {\"align\": \"left\"}, \"hovermode\": \"closest\", \"mapbox\": {\"style\": \"light\"}, \"paper_bgcolor\": \"white\", \"plot_bgcolor\": \"#E5ECF6\", \"polar\": {\"angularaxis\": {\"gridcolor\": \"white\", \"linecolor\": \"white\", \"ticks\": \"\"}, \"bgcolor\": \"#E5ECF6\", \"radialaxis\": {\"gridcolor\": \"white\", \"linecolor\": \"white\", \"ticks\": \"\"}}, \"scene\": {\"xaxis\": {\"backgroundcolor\": \"#E5ECF6\", \"gridcolor\": \"white\", \"gridwidth\": 2, \"linecolor\": \"white\", \"showbackground\": true, \"ticks\": \"\", \"zerolinecolor\": \"white\"}, \"yaxis\": {\"backgroundcolor\": \"#E5ECF6\", \"gridcolor\": \"white\", \"gridwidth\": 2, \"linecolor\": \"white\", \"showbackground\": true, \"ticks\": \"\", \"zerolinecolor\": \"white\"}, \"zaxis\": {\"backgroundcolor\": \"#E5ECF6\", \"gridcolor\": \"white\", \"gridwidth\": 2, \"linecolor\": \"white\", \"showbackground\": true, \"ticks\": \"\", \"zerolinecolor\": \"white\"}}, \"shapedefaults\": {\"line\": {\"color\": \"#2a3f5f\"}}, \"ternary\": {\"aaxis\": {\"gridcolor\": \"white\", \"linecolor\": \"white\", \"ticks\": \"\"}, \"baxis\": {\"gridcolor\": \"white\", \"linecolor\": \"white\", \"ticks\": \"\"}, \"bgcolor\": \"#E5ECF6\", \"caxis\": {\"gridcolor\": \"white\", \"linecolor\": \"white\", \"ticks\": \"\"}}, \"title\": {\"x\": 0.05}, \"xaxis\": {\"automargin\": true, \"gridcolor\": \"white\", \"linecolor\": \"white\", \"ticks\": \"\", \"title\": {\"standoff\": 15}, \"zerolinecolor\": \"white\", \"zerolinewidth\": 2}, \"yaxis\": {\"automargin\": true, \"gridcolor\": \"white\", \"linecolor\": \"white\", \"ticks\": \"\", \"title\": {\"standoff\": 15}, \"zerolinecolor\": \"white\", \"zerolinewidth\": 2}}}, \"title\": {\"font\": {\"color\": \"#4D5663\"}}, \"xaxis\": {\"gridcolor\": \"#E1E5ED\", \"showgrid\": true, \"tickfont\": {\"color\": \"#4D5663\"}, \"title\": {\"font\": {\"color\": \"#4D5663\"}, \"text\": \"\"}, \"zerolinecolor\": \"#E1E5ED\"}, \"yaxis\": {\"gridcolor\": \"#E1E5ED\", \"showgrid\": true, \"tickfont\": {\"color\": \"#4D5663\"}, \"title\": {\"font\": {\"color\": \"#4D5663\"}, \"text\": \"\"}, \"zerolinecolor\": \"#E1E5ED\"}},\n",
       "                        {\"showLink\": true, \"linkText\": \"Export to plot.ly\", \"plotlyServerURL\": \"https://plot.ly\", \"responsive\": true}\n",
       "                    ).then(function(){\n",
       "                            \n",
       "var gd = document.getElementById('8869a2fb-7735-4577-884e-f597ba0df57d');\n",
       "var x = new MutationObserver(function (mutations, observer) {{\n",
       "        var display = window.getComputedStyle(gd).display;\n",
       "        if (!display || display === 'none') {{\n",
       "            console.log([gd, 'removed!']);\n",
       "            Plotly.purge(gd);\n",
       "            observer.disconnect();\n",
       "        }}\n",
       "}});\n",
       "\n",
       "// Listen for the removal of the full notebook cells\n",
       "var notebookContainer = gd.closest('#notebook-container');\n",
       "if (notebookContainer) {{\n",
       "    x.observe(notebookContainer, {childList: true});\n",
       "}}\n",
       "\n",
       "// Listen for the clearing of the current output cell\n",
       "var outputEl = gd.closest('.output');\n",
       "if (outputEl) {{\n",
       "    x.observe(outputEl, {childList: true});\n",
       "}}\n",
       "\n",
       "                        })\n",
       "                };\n",
       "                });\n",
       "            </script>\n",
       "        </div>"
      ]
     },
     "metadata": {},
     "output_type": "display_data"
    }
   ],
   "source": [
    "df3 = pd.DataFrame({'x':[1,2,3,4,5],'y':[10,20,30,20,10],'z':[5,4,3,2,1]})\n",
    "df3.iplot(kind='surface',colorscale='rdylbu')"
   ]
  },
  {
   "cell_type": "markdown",
   "metadata": {},
   "source": [
    "## Spread"
   ]
  },
  {
   "cell_type": "code",
   "execution_count": 16,
   "metadata": {},
   "outputs": [
    {
     "data": {
      "application/vnd.plotly.v1+json": {
       "config": {
        "linkText": "Export to plot.ly",
        "plotlyServerURL": "https://plot.ly",
        "showLink": true
       },
       "data": [
        {
         "line": {
          "color": "rgba(255, 153, 51, 1.0)",
          "dash": "solid",
          "shape": "linear",
          "width": 1.3
         },
         "mode": "lines",
         "name": "A",
         "text": "",
         "type": "scatter",
         "x": [
          0,
          1,
          2,
          3,
          4,
          5,
          6,
          7,
          8,
          9,
          10,
          11,
          12,
          13,
          14,
          15,
          16,
          17,
          18,
          19,
          20,
          21,
          22,
          23,
          24,
          25,
          26,
          27,
          28,
          29,
          30,
          31,
          32,
          33,
          34,
          35,
          36,
          37,
          38,
          39,
          40,
          41,
          42,
          43,
          44,
          45,
          46,
          47,
          48,
          49,
          50,
          51,
          52,
          53,
          54,
          55,
          56,
          57,
          58,
          59,
          60,
          61,
          62,
          63,
          64,
          65,
          66,
          67,
          68,
          69,
          70,
          71,
          72,
          73,
          74,
          75,
          76,
          77,
          78,
          79,
          80,
          81,
          82,
          83,
          84,
          85,
          86,
          87,
          88,
          89,
          90,
          91,
          92,
          93,
          94,
          95,
          96,
          97,
          98,
          99
         ],
         "y": [
          0.18211528188351103,
          0.11443106335682444,
          0.5949692036342886,
          -0.3535342544087595,
          -0.47572636863988527,
          0.6611105346730619,
          1.0917475868868998,
          -1.055908421134264,
          0.7494679589241444,
          0.5789759034671067,
          0.7316774439952273,
          -0.4486644091579335,
          -0.3216613236541918,
          1.3398947178944725,
          -1.8158654345047331,
          0.5313904039049452,
          -0.7423013212863171,
          0.5331557511732393,
          0.0991340250011104,
          -0.888876014490736,
          -0.8071434029017788,
          0.22621387687134864,
          0.33846701985286654,
          1.2847481967645078,
          -1.3046454706066617,
          0.03165923167711625,
          -1.812749936339364,
          -0.3760202389737884,
          1.3773443376494576,
          -2.4683856625741445,
          0.16576781332166,
          0.45861358558459847,
          1.3116230867367287,
          -0.4092701515328862,
          1.9480137811637988,
          -0.24311669259196267,
          -1.2560627046642676,
          -1.1013099447982246,
          1.9186619850406614,
          -0.10627374375998706,
          -0.6196495923112475,
          -0.8298416977962055,
          -0.6757826281867358,
          0.2280090045808461,
          0.7648507904943159,
          1.3011275065550427,
          -0.04783545430568777,
          1.789352458526911,
          1.2482110579534083,
          0.7630239321342249,
          -2.0282702513681095,
          -0.7203015319260467,
          -0.05507082231774276,
          -0.7816847616571831,
          0.4459670558769205,
          0.3212838980346144,
          -0.6426253662138668,
          -0.0027100937375358005,
          0.2113669790740554,
          -1.1624280332116925,
          -1.2107191807959004,
          0.0023915808065864963,
          0.9477239269888895,
          2.0969969112315665,
          -0.6473295177516343,
          1.7239296014100238,
          -0.3054485264824094,
          1.276967520625875,
          -0.09911990914379495,
          0.46479845341110443,
          1.908453861164365,
          3.2946693525465824,
          0.4455923130866878,
          1.7263194925230791,
          -0.11369290761079535,
          -0.5605401630316551,
          -0.7195145870525593,
          2.4171089252328173,
          1.1119174808971366,
          1.6058626990827998,
          -1.0471529563643316,
          -1.880630666155797,
          1.015554806251903,
          -1.0412013633671626,
          0.15290879219816925,
          0.398987354671911,
          0.38330897229416844,
          1.3474622977012083,
          0.182933725350078,
          -0.8699642581973692,
          0.4133254150315233,
          0.07694373551123751,
          -1.2265406355999857,
          1.0485399380470044,
          0.2733731206474115,
          -0.7293710670711111,
          -0.9662635657350681,
          -0.3915848836708997,
          -1.0552550223150015,
          1.3045085529377953
         ]
        },
        {
         "line": {
          "color": "rgba(55, 128, 191, 1.0)",
          "dash": "solid",
          "shape": "linear",
          "width": 1.3
         },
         "mode": "lines",
         "name": "B",
         "text": "",
         "type": "scatter",
         "x": [
          0,
          1,
          2,
          3,
          4,
          5,
          6,
          7,
          8,
          9,
          10,
          11,
          12,
          13,
          14,
          15,
          16,
          17,
          18,
          19,
          20,
          21,
          22,
          23,
          24,
          25,
          26,
          27,
          28,
          29,
          30,
          31,
          32,
          33,
          34,
          35,
          36,
          37,
          38,
          39,
          40,
          41,
          42,
          43,
          44,
          45,
          46,
          47,
          48,
          49,
          50,
          51,
          52,
          53,
          54,
          55,
          56,
          57,
          58,
          59,
          60,
          61,
          62,
          63,
          64,
          65,
          66,
          67,
          68,
          69,
          70,
          71,
          72,
          73,
          74,
          75,
          76,
          77,
          78,
          79,
          80,
          81,
          82,
          83,
          84,
          85,
          86,
          87,
          88,
          89,
          90,
          91,
          92,
          93,
          94,
          95,
          96,
          97,
          98,
          99
         ],
         "y": [
          -0.02018755564793259,
          -1.3437652881828532,
          -1.1111743886255112,
          1.8359557683550445,
          -0.6249666296815001,
          -2.023897039815607,
          -0.8601940309700603,
          0.16485301587299,
          1.4953349379652183,
          0.3730240119071808,
          0.15925679164929463,
          1.6149762610901233,
          1.1886259375183363,
          0.36490947137394925,
          -0.277109980002345,
          -0.7186159514942053,
          0.7932326128351476,
          -0.6947531868233376,
          -0.6728638956989003,
          1.168924580201343,
          -0.41233623513644024,
          0.19784681126554177,
          -0.16672974435674576,
          1.5787929527059819,
          -1.2036869576587854,
          1.6388602894589932,
          1.1089114782328384,
          -0.6721462245633214,
          -0.3138745235292235,
          -0.36686782982021504,
          0.4065463530031799,
          -0.2257079493612666,
          -0.43758529260168777,
          -0.2625152761872851,
          -1.328898373680611,
          -2.9542908677251907,
          0.21927251170457285,
          0.5340299809554598,
          -0.17813790978690175,
          -1.694306210049193,
          0.8453898499703644,
          -0.4470270295083598,
          1.4645815144212275,
          0.7910848605126803,
          -0.8297193499743546,
          1.6978211174739473,
          -0.9594406497906319,
          0.8588943710079524,
          0.5958120032635975,
          0.5812863670036684,
          0.006947874844667447,
          1.328502003354449,
          -0.023639303401695195,
          0.5988265122087519,
          0.08350412346342759,
          -0.546791662972372,
          -0.008976085354435942,
          -1.3006584746527383,
          -0.20279537336043443,
          0.40149387048614843,
          -0.44258682753169964,
          -0.6584645562551634,
          -0.9033796634003993,
          -0.9053368934817235,
          -0.46190729712378953,
          -0.6547812127063081,
          -1.0864383496934662,
          0.32165120874344855,
          2.613123546687639,
          1.3927968612517874,
          0.9919936360099734,
          -1.8454616872399732,
          0.5894927197443933,
          -0.03559551820886039,
          -0.7910367650609854,
          -1.6255372546247662,
          -0.24326405453267416,
          1.8413885707475877,
          0.92182013753838,
          -1.2389704928347567,
          -0.4681250751946212,
          -0.6564464802415292,
          1.1616997366798514,
          -1.6872613038346125,
          0.06782059673136204,
          0.10246372343762038,
          -0.9441951394571112,
          0.4646299907553265,
          0.5150963253406441,
          -1.0314331444035327,
          2.76602889102714,
          -1.077324321471914,
          -1.0627038272964975,
          -1.3541233150161391,
          -1.1865180094484067,
          -1.1649117176906831,
          -0.14218353540987846,
          -0.8214858920308317,
          1.75215782148672,
          0.4284955139825126
         ]
        },
        {
         "connectgaps": false,
         "fill": "tozeroy",
         "line": {
          "color": "green",
          "dash": "solid",
          "shape": "linear",
          "width": 0.5
         },
         "mode": "lines",
         "name": "Spread",
         "showlegend": false,
         "type": "scatter",
         "x": [
          0,
          1,
          2,
          3,
          4,
          5,
          6,
          7,
          8,
          9,
          10,
          11,
          12,
          13,
          14,
          15,
          16,
          17,
          18,
          19,
          20,
          21,
          22,
          23,
          24,
          25,
          26,
          27,
          28,
          29,
          30,
          31,
          32,
          33,
          34,
          35,
          36,
          37,
          38,
          39,
          40,
          41,
          42,
          43,
          44,
          45,
          46,
          47,
          48,
          49,
          50,
          51,
          52,
          53,
          54,
          55,
          56,
          57,
          58,
          59,
          60,
          61,
          62,
          63,
          64,
          65,
          66,
          67,
          68,
          69,
          70,
          71,
          72,
          73,
          74,
          75,
          76,
          77,
          78,
          79,
          80,
          81,
          82,
          83,
          84,
          85,
          86,
          87,
          88,
          89,
          90,
          91,
          92,
          93,
          94,
          95,
          96,
          97,
          98,
          99
         ],
         "xaxis": "x2",
         "y": [
          0.20230283753144362,
          1.4581963515396776,
          1.7061435922597998,
          "",
          0.1492402610416148,
          2.685007574488669,
          1.95194161785696,
          "",
          "",
          0.20595189155992588,
          0.5724206523459326,
          "",
          "",
          0.9749852465205232,
          "",
          1.2500063553991505,
          "",
          1.227908937996577,
          0.7719979207000107,
          "",
          "",
          0.028367065605806874,
          0.5051967642096122,
          "",
          "",
          "",
          "",
          0.296125985589533,
          1.6912188611786811,
          "",
          "",
          0.6843215349458651,
          1.7492083793384166,
          "",
          3.2769121548444096,
          2.711174175133228,
          "",
          "",
          2.096799894827563,
          1.588032466289206,
          "",
          "",
          "",
          "",
          1.5945701404686705,
          "",
          0.9116051954849441,
          0.9304580875189585,
          0.6523990546898107,
          0.1817375651305565,
          "",
          "",
          "",
          "",
          0.3624629324134929,
          0.8680755610069864,
          "",
          1.2979483809152026,
          0.41416235243448984,
          "",
          "",
          0.66085613706175,
          1.8511035903892887,
          3.00233380471329,
          "",
          2.378710814116332,
          0.7809898232110568,
          0.9553163118824265,
          "",
          "",
          0.9164602251543917,
          5.140131039786556,
          "",
          1.7619150107319395,
          0.6773438574501901,
          1.064997091593111,
          "",
          0.5757203544852296,
          0.1900973433587566,
          2.8448331919175565,
          "",
          "",
          "",
          0.6460599404674499,
          0.08508819546680721,
          0.2965236312342906,
          1.3275041117512796,
          0.8828323069458818,
          "",
          0.1614688862061635,
          "",
          1.1542680569831514,
          "",
          2.4026632530631433,
          1.4598911300958182,
          0.43554065061957203,
          "",
          0.42990100835993195,
          "",
          0.8760130389552827
         ],
         "yaxis": "y2"
        },
        {
         "connectgaps": false,
         "fill": "tozeroy",
         "line": {
          "color": "red",
          "dash": "solid",
          "shape": "linear",
          "width": 0.5
         },
         "mode": "lines",
         "name": "Spread",
         "showlegend": false,
         "type": "scatter",
         "x": [
          0,
          1,
          2,
          3,
          4,
          5,
          6,
          7,
          8,
          9,
          10,
          11,
          12,
          13,
          14,
          15,
          16,
          17,
          18,
          19,
          20,
          21,
          22,
          23,
          24,
          25,
          26,
          27,
          28,
          29,
          30,
          31,
          32,
          33,
          34,
          35,
          36,
          37,
          38,
          39,
          40,
          41,
          42,
          43,
          44,
          45,
          46,
          47,
          48,
          49,
          50,
          51,
          52,
          53,
          54,
          55,
          56,
          57,
          58,
          59,
          60,
          61,
          62,
          63,
          64,
          65,
          66,
          67,
          68,
          69,
          70,
          71,
          72,
          73,
          74,
          75,
          76,
          77,
          78,
          79,
          80,
          81,
          82,
          83,
          84,
          85,
          86,
          87,
          88,
          89,
          90,
          91,
          92,
          93,
          94,
          95,
          96,
          97,
          98,
          99
         ],
         "xaxis": "x2",
         "y": [
          "",
          "",
          "",
          -2.189490022763804,
          "",
          "",
          "",
          -1.220761437007254,
          -0.7458669790410739,
          "",
          "",
          -2.0636406702480565,
          -1.5102872611725282,
          "",
          -1.5387554545023883,
          "",
          -1.5355339341214647,
          "",
          "",
          -2.057800594692079,
          -0.39480716776533853,
          "",
          "",
          -0.29404475594147406,
          -0.10095851294787628,
          -1.607201057781877,
          -2.9216614145722026,
          "",
          "",
          -2.1015178327539292,
          -0.24077853968151994,
          "",
          "",
          -0.1467548753456011,
          "",
          "",
          -1.4753352163688405,
          -1.6353399257536845,
          "",
          "",
          -1.4650394422816118,
          -0.3828146682878457,
          -2.1403641426079636,
          -0.5630758559318343,
          "",
          -0.39669361091890454,
          "",
          "",
          "",
          "",
          -2.035218126212777,
          -2.048803535280496,
          -0.03143151891604756,
          -1.380511273865935,
          "",
          "",
          -0.6336492808594308,
          "",
          "",
          -1.563921903697841,
          -0.7681323532642007,
          "",
          "",
          "",
          -0.18542222062784475,
          "",
          "",
          "",
          -2.712243455831434,
          -0.9279984078406829,
          "",
          "",
          -0.14390040665770554,
          "",
          "",
          "",
          -0.47625053251988514,
          "",
          "",
          "",
          -0.5790278811697104,
          -1.2241841859142677,
          -0.1461449304279483,
          "",
          "",
          "",
          "",
          "",
          -0.3321625999905661,
          "",
          -2.3527034759956167,
          "",
          -0.16383680830348823,
          "",
          "",
          "",
          -0.8240800303251896,
          "",
          -2.807412843801721,
          ""
         ],
         "yaxis": "y2"
        }
       ],
       "layout": {
        "hovermode": "x",
        "legend": {
         "bgcolor": "#F5F6F9",
         "font": {
          "color": "#4D5663"
         }
        },
        "paper_bgcolor": "#F5F6F9",
        "plot_bgcolor": "#F5F6F9",
        "template": {
         "data": {
          "bar": [
           {
            "error_x": {
             "color": "#2a3f5f"
            },
            "error_y": {
             "color": "#2a3f5f"
            },
            "marker": {
             "line": {
              "color": "#E5ECF6",
              "width": 0.5
             }
            },
            "type": "bar"
           }
          ],
          "barpolar": [
           {
            "marker": {
             "line": {
              "color": "#E5ECF6",
              "width": 0.5
             }
            },
            "type": "barpolar"
           }
          ],
          "carpet": [
           {
            "aaxis": {
             "endlinecolor": "#2a3f5f",
             "gridcolor": "white",
             "linecolor": "white",
             "minorgridcolor": "white",
             "startlinecolor": "#2a3f5f"
            },
            "baxis": {
             "endlinecolor": "#2a3f5f",
             "gridcolor": "white",
             "linecolor": "white",
             "minorgridcolor": "white",
             "startlinecolor": "#2a3f5f"
            },
            "type": "carpet"
           }
          ],
          "choropleth": [
           {
            "colorbar": {
             "outlinewidth": 0,
             "ticks": ""
            },
            "type": "choropleth"
           }
          ],
          "contour": [
           {
            "colorbar": {
             "outlinewidth": 0,
             "ticks": ""
            },
            "colorscale": [
             [
              0,
              "#0d0887"
             ],
             [
              0.1111111111111111,
              "#46039f"
             ],
             [
              0.2222222222222222,
              "#7201a8"
             ],
             [
              0.3333333333333333,
              "#9c179e"
             ],
             [
              0.4444444444444444,
              "#bd3786"
             ],
             [
              0.5555555555555556,
              "#d8576b"
             ],
             [
              0.6666666666666666,
              "#ed7953"
             ],
             [
              0.7777777777777778,
              "#fb9f3a"
             ],
             [
              0.8888888888888888,
              "#fdca26"
             ],
             [
              1,
              "#f0f921"
             ]
            ],
            "type": "contour"
           }
          ],
          "contourcarpet": [
           {
            "colorbar": {
             "outlinewidth": 0,
             "ticks": ""
            },
            "type": "contourcarpet"
           }
          ],
          "heatmap": [
           {
            "colorbar": {
             "outlinewidth": 0,
             "ticks": ""
            },
            "colorscale": [
             [
              0,
              "#0d0887"
             ],
             [
              0.1111111111111111,
              "#46039f"
             ],
             [
              0.2222222222222222,
              "#7201a8"
             ],
             [
              0.3333333333333333,
              "#9c179e"
             ],
             [
              0.4444444444444444,
              "#bd3786"
             ],
             [
              0.5555555555555556,
              "#d8576b"
             ],
             [
              0.6666666666666666,
              "#ed7953"
             ],
             [
              0.7777777777777778,
              "#fb9f3a"
             ],
             [
              0.8888888888888888,
              "#fdca26"
             ],
             [
              1,
              "#f0f921"
             ]
            ],
            "type": "heatmap"
           }
          ],
          "heatmapgl": [
           {
            "colorbar": {
             "outlinewidth": 0,
             "ticks": ""
            },
            "colorscale": [
             [
              0,
              "#0d0887"
             ],
             [
              0.1111111111111111,
              "#46039f"
             ],
             [
              0.2222222222222222,
              "#7201a8"
             ],
             [
              0.3333333333333333,
              "#9c179e"
             ],
             [
              0.4444444444444444,
              "#bd3786"
             ],
             [
              0.5555555555555556,
              "#d8576b"
             ],
             [
              0.6666666666666666,
              "#ed7953"
             ],
             [
              0.7777777777777778,
              "#fb9f3a"
             ],
             [
              0.8888888888888888,
              "#fdca26"
             ],
             [
              1,
              "#f0f921"
             ]
            ],
            "type": "heatmapgl"
           }
          ],
          "histogram": [
           {
            "marker": {
             "colorbar": {
              "outlinewidth": 0,
              "ticks": ""
             }
            },
            "type": "histogram"
           }
          ],
          "histogram2d": [
           {
            "colorbar": {
             "outlinewidth": 0,
             "ticks": ""
            },
            "colorscale": [
             [
              0,
              "#0d0887"
             ],
             [
              0.1111111111111111,
              "#46039f"
             ],
             [
              0.2222222222222222,
              "#7201a8"
             ],
             [
              0.3333333333333333,
              "#9c179e"
             ],
             [
              0.4444444444444444,
              "#bd3786"
             ],
             [
              0.5555555555555556,
              "#d8576b"
             ],
             [
              0.6666666666666666,
              "#ed7953"
             ],
             [
              0.7777777777777778,
              "#fb9f3a"
             ],
             [
              0.8888888888888888,
              "#fdca26"
             ],
             [
              1,
              "#f0f921"
             ]
            ],
            "type": "histogram2d"
           }
          ],
          "histogram2dcontour": [
           {
            "colorbar": {
             "outlinewidth": 0,
             "ticks": ""
            },
            "colorscale": [
             [
              0,
              "#0d0887"
             ],
             [
              0.1111111111111111,
              "#46039f"
             ],
             [
              0.2222222222222222,
              "#7201a8"
             ],
             [
              0.3333333333333333,
              "#9c179e"
             ],
             [
              0.4444444444444444,
              "#bd3786"
             ],
             [
              0.5555555555555556,
              "#d8576b"
             ],
             [
              0.6666666666666666,
              "#ed7953"
             ],
             [
              0.7777777777777778,
              "#fb9f3a"
             ],
             [
              0.8888888888888888,
              "#fdca26"
             ],
             [
              1,
              "#f0f921"
             ]
            ],
            "type": "histogram2dcontour"
           }
          ],
          "mesh3d": [
           {
            "colorbar": {
             "outlinewidth": 0,
             "ticks": ""
            },
            "type": "mesh3d"
           }
          ],
          "parcoords": [
           {
            "line": {
             "colorbar": {
              "outlinewidth": 0,
              "ticks": ""
             }
            },
            "type": "parcoords"
           }
          ],
          "pie": [
           {
            "automargin": true,
            "type": "pie"
           }
          ],
          "scatter": [
           {
            "marker": {
             "colorbar": {
              "outlinewidth": 0,
              "ticks": ""
             }
            },
            "type": "scatter"
           }
          ],
          "scatter3d": [
           {
            "line": {
             "colorbar": {
              "outlinewidth": 0,
              "ticks": ""
             }
            },
            "marker": {
             "colorbar": {
              "outlinewidth": 0,
              "ticks": ""
             }
            },
            "type": "scatter3d"
           }
          ],
          "scattercarpet": [
           {
            "marker": {
             "colorbar": {
              "outlinewidth": 0,
              "ticks": ""
             }
            },
            "type": "scattercarpet"
           }
          ],
          "scattergeo": [
           {
            "marker": {
             "colorbar": {
              "outlinewidth": 0,
              "ticks": ""
             }
            },
            "type": "scattergeo"
           }
          ],
          "scattergl": [
           {
            "marker": {
             "colorbar": {
              "outlinewidth": 0,
              "ticks": ""
             }
            },
            "type": "scattergl"
           }
          ],
          "scattermapbox": [
           {
            "marker": {
             "colorbar": {
              "outlinewidth": 0,
              "ticks": ""
             }
            },
            "type": "scattermapbox"
           }
          ],
          "scatterpolar": [
           {
            "marker": {
             "colorbar": {
              "outlinewidth": 0,
              "ticks": ""
             }
            },
            "type": "scatterpolar"
           }
          ],
          "scatterpolargl": [
           {
            "marker": {
             "colorbar": {
              "outlinewidth": 0,
              "ticks": ""
             }
            },
            "type": "scatterpolargl"
           }
          ],
          "scatterternary": [
           {
            "marker": {
             "colorbar": {
              "outlinewidth": 0,
              "ticks": ""
             }
            },
            "type": "scatterternary"
           }
          ],
          "surface": [
           {
            "colorbar": {
             "outlinewidth": 0,
             "ticks": ""
            },
            "colorscale": [
             [
              0,
              "#0d0887"
             ],
             [
              0.1111111111111111,
              "#46039f"
             ],
             [
              0.2222222222222222,
              "#7201a8"
             ],
             [
              0.3333333333333333,
              "#9c179e"
             ],
             [
              0.4444444444444444,
              "#bd3786"
             ],
             [
              0.5555555555555556,
              "#d8576b"
             ],
             [
              0.6666666666666666,
              "#ed7953"
             ],
             [
              0.7777777777777778,
              "#fb9f3a"
             ],
             [
              0.8888888888888888,
              "#fdca26"
             ],
             [
              1,
              "#f0f921"
             ]
            ],
            "type": "surface"
           }
          ],
          "table": [
           {
            "cells": {
             "fill": {
              "color": "#EBF0F8"
             },
             "line": {
              "color": "white"
             }
            },
            "header": {
             "fill": {
              "color": "#C8D4E3"
             },
             "line": {
              "color": "white"
             }
            },
            "type": "table"
           }
          ]
         },
         "layout": {
          "annotationdefaults": {
           "arrowcolor": "#2a3f5f",
           "arrowhead": 0,
           "arrowwidth": 1
          },
          "coloraxis": {
           "colorbar": {
            "outlinewidth": 0,
            "ticks": ""
           }
          },
          "colorscale": {
           "diverging": [
            [
             0,
             "#8e0152"
            ],
            [
             0.1,
             "#c51b7d"
            ],
            [
             0.2,
             "#de77ae"
            ],
            [
             0.3,
             "#f1b6da"
            ],
            [
             0.4,
             "#fde0ef"
            ],
            [
             0.5,
             "#f7f7f7"
            ],
            [
             0.6,
             "#e6f5d0"
            ],
            [
             0.7,
             "#b8e186"
            ],
            [
             0.8,
             "#7fbc41"
            ],
            [
             0.9,
             "#4d9221"
            ],
            [
             1,
             "#276419"
            ]
           ],
           "sequential": [
            [
             0,
             "#0d0887"
            ],
            [
             0.1111111111111111,
             "#46039f"
            ],
            [
             0.2222222222222222,
             "#7201a8"
            ],
            [
             0.3333333333333333,
             "#9c179e"
            ],
            [
             0.4444444444444444,
             "#bd3786"
            ],
            [
             0.5555555555555556,
             "#d8576b"
            ],
            [
             0.6666666666666666,
             "#ed7953"
            ],
            [
             0.7777777777777778,
             "#fb9f3a"
            ],
            [
             0.8888888888888888,
             "#fdca26"
            ],
            [
             1,
             "#f0f921"
            ]
           ],
           "sequentialminus": [
            [
             0,
             "#0d0887"
            ],
            [
             0.1111111111111111,
             "#46039f"
            ],
            [
             0.2222222222222222,
             "#7201a8"
            ],
            [
             0.3333333333333333,
             "#9c179e"
            ],
            [
             0.4444444444444444,
             "#bd3786"
            ],
            [
             0.5555555555555556,
             "#d8576b"
            ],
            [
             0.6666666666666666,
             "#ed7953"
            ],
            [
             0.7777777777777778,
             "#fb9f3a"
            ],
            [
             0.8888888888888888,
             "#fdca26"
            ],
            [
             1,
             "#f0f921"
            ]
           ]
          },
          "colorway": [
           "#636efa",
           "#EF553B",
           "#00cc96",
           "#ab63fa",
           "#FFA15A",
           "#19d3f3",
           "#FF6692",
           "#B6E880",
           "#FF97FF",
           "#FECB52"
          ],
          "font": {
           "color": "#2a3f5f"
          },
          "geo": {
           "bgcolor": "white",
           "lakecolor": "white",
           "landcolor": "#E5ECF6",
           "showlakes": true,
           "showland": true,
           "subunitcolor": "white"
          },
          "hoverlabel": {
           "align": "left"
          },
          "hovermode": "closest",
          "mapbox": {
           "style": "light"
          },
          "paper_bgcolor": "white",
          "plot_bgcolor": "#E5ECF6",
          "polar": {
           "angularaxis": {
            "gridcolor": "white",
            "linecolor": "white",
            "ticks": ""
           },
           "bgcolor": "#E5ECF6",
           "radialaxis": {
            "gridcolor": "white",
            "linecolor": "white",
            "ticks": ""
           }
          },
          "scene": {
           "xaxis": {
            "backgroundcolor": "#E5ECF6",
            "gridcolor": "white",
            "gridwidth": 2,
            "linecolor": "white",
            "showbackground": true,
            "ticks": "",
            "zerolinecolor": "white"
           },
           "yaxis": {
            "backgroundcolor": "#E5ECF6",
            "gridcolor": "white",
            "gridwidth": 2,
            "linecolor": "white",
            "showbackground": true,
            "ticks": "",
            "zerolinecolor": "white"
           },
           "zaxis": {
            "backgroundcolor": "#E5ECF6",
            "gridcolor": "white",
            "gridwidth": 2,
            "linecolor": "white",
            "showbackground": true,
            "ticks": "",
            "zerolinecolor": "white"
           }
          },
          "shapedefaults": {
           "line": {
            "color": "#2a3f5f"
           }
          },
          "ternary": {
           "aaxis": {
            "gridcolor": "white",
            "linecolor": "white",
            "ticks": ""
           },
           "baxis": {
            "gridcolor": "white",
            "linecolor": "white",
            "ticks": ""
           },
           "bgcolor": "#E5ECF6",
           "caxis": {
            "gridcolor": "white",
            "linecolor": "white",
            "ticks": ""
           }
          },
          "title": {
           "x": 0.05
          },
          "xaxis": {
           "automargin": true,
           "gridcolor": "white",
           "linecolor": "white",
           "ticks": "",
           "title": {
            "standoff": 15
           },
           "zerolinecolor": "white",
           "zerolinewidth": 2
          },
          "yaxis": {
           "automargin": true,
           "gridcolor": "white",
           "linecolor": "white",
           "ticks": "",
           "title": {
            "standoff": 15
           },
           "zerolinecolor": "white",
           "zerolinewidth": 2
          }
         }
        },
        "title": {
         "font": {
          "color": "#4D5663"
         }
        },
        "xaxis": {
         "gridcolor": "#E1E5ED",
         "showgrid": true,
         "tickfont": {
          "color": "#4D5663"
         },
         "title": {
          "font": {
           "color": "#4D5663"
          },
          "text": ""
         },
         "zerolinecolor": "#E1E5ED"
        },
        "xaxis2": {
         "anchor": "y2",
         "gridcolor": "#E1E5ED",
         "showgrid": true,
         "showticklabels": false,
         "tickfont": {
          "color": "#4D5663"
         },
         "title": {
          "font": {
           "color": "#4D5663"
          },
          "text": ""
         },
         "zerolinecolor": "#E1E5ED"
        },
        "yaxis": {
         "domain": [
          0.3,
          1
         ],
         "gridcolor": "#E1E5ED",
         "showgrid": true,
         "tickfont": {
          "color": "#4D5663"
         },
         "title": {
          "font": {
           "color": "#4D5663"
          },
          "text": ""
         },
         "zerolinecolor": "#E1E5ED"
        },
        "yaxis2": {
         "domain": [
          0,
          0.25
         ],
         "gridcolor": "#E1E5ED",
         "showgrid": true,
         "tickfont": {
          "color": "#4D5663"
         },
         "title": {
          "font": {
           "color": "#4D5663"
          },
          "text": "Spread"
         },
         "zerolinecolor": "#E1E5ED"
        }
       }
      },
      "text/html": [
       "<div>\n",
       "        \n",
       "        \n",
       "            <div id=\"0a26acaa-b5d5-4591-8e7e-f9fd28be3065\" class=\"plotly-graph-div\" style=\"height:525px; width:100%;\"></div>\n",
       "            <script type=\"text/javascript\">\n",
       "                require([\"plotly\"], function(Plotly) {\n",
       "                    window.PLOTLYENV=window.PLOTLYENV || {};\n",
       "                    window.PLOTLYENV.BASE_URL='https://plot.ly';\n",
       "                    \n",
       "                if (document.getElementById(\"0a26acaa-b5d5-4591-8e7e-f9fd28be3065\")) {\n",
       "                    Plotly.newPlot(\n",
       "                        '0a26acaa-b5d5-4591-8e7e-f9fd28be3065',\n",
       "                        [{\"line\": {\"color\": \"rgba(255, 153, 51, 1.0)\", \"dash\": \"solid\", \"shape\": \"linear\", \"width\": 1.3}, \"mode\": \"lines\", \"name\": \"A\", \"text\": \"\", \"type\": \"scatter\", \"x\": [0, 1, 2, 3, 4, 5, 6, 7, 8, 9, 10, 11, 12, 13, 14, 15, 16, 17, 18, 19, 20, 21, 22, 23, 24, 25, 26, 27, 28, 29, 30, 31, 32, 33, 34, 35, 36, 37, 38, 39, 40, 41, 42, 43, 44, 45, 46, 47, 48, 49, 50, 51, 52, 53, 54, 55, 56, 57, 58, 59, 60, 61, 62, 63, 64, 65, 66, 67, 68, 69, 70, 71, 72, 73, 74, 75, 76, 77, 78, 79, 80, 81, 82, 83, 84, 85, 86, 87, 88, 89, 90, 91, 92, 93, 94, 95, 96, 97, 98, 99], \"y\": [0.18211528188351103, 0.11443106335682444, 0.5949692036342886, -0.3535342544087595, -0.47572636863988527, 0.6611105346730619, 1.0917475868868998, -1.055908421134264, 0.7494679589241444, 0.5789759034671067, 0.7316774439952273, -0.4486644091579335, -0.3216613236541918, 1.3398947178944725, -1.8158654345047331, 0.5313904039049452, -0.7423013212863171, 0.5331557511732393, 0.0991340250011104, -0.888876014490736, -0.8071434029017788, 0.22621387687134864, 0.33846701985286654, 1.2847481967645078, -1.3046454706066617, 0.03165923167711625, -1.812749936339364, -0.3760202389737884, 1.3773443376494576, -2.4683856625741445, 0.16576781332166, 0.45861358558459847, 1.3116230867367287, -0.4092701515328862, 1.9480137811637988, -0.24311669259196267, -1.2560627046642676, -1.1013099447982246, 1.9186619850406614, -0.10627374375998706, -0.6196495923112475, -0.8298416977962055, -0.6757826281867358, 0.2280090045808461, 0.7648507904943159, 1.3011275065550427, -0.04783545430568777, 1.789352458526911, 1.2482110579534083, 0.7630239321342249, -2.0282702513681095, -0.7203015319260467, -0.05507082231774276, -0.7816847616571831, 0.4459670558769205, 0.3212838980346144, -0.6426253662138668, -0.0027100937375358005, 0.2113669790740554, -1.1624280332116925, -1.2107191807959004, 0.0023915808065864963, 0.9477239269888895, 2.0969969112315665, -0.6473295177516343, 1.7239296014100238, -0.3054485264824094, 1.276967520625875, -0.09911990914379495, 0.46479845341110443, 1.908453861164365, 3.2946693525465824, 0.4455923130866878, 1.7263194925230791, -0.11369290761079535, -0.5605401630316551, -0.7195145870525593, 2.4171089252328173, 1.1119174808971366, 1.6058626990827998, -1.0471529563643316, -1.880630666155797, 1.015554806251903, -1.0412013633671626, 0.15290879219816925, 0.398987354671911, 0.38330897229416844, 1.3474622977012083, 0.182933725350078, -0.8699642581973692, 0.4133254150315233, 0.07694373551123751, -1.2265406355999857, 1.0485399380470044, 0.2733731206474115, -0.7293710670711111, -0.9662635657350681, -0.3915848836708997, -1.0552550223150015, 1.3045085529377953]}, {\"line\": {\"color\": \"rgba(55, 128, 191, 1.0)\", \"dash\": \"solid\", \"shape\": \"linear\", \"width\": 1.3}, \"mode\": \"lines\", \"name\": \"B\", \"text\": \"\", \"type\": \"scatter\", \"x\": [0, 1, 2, 3, 4, 5, 6, 7, 8, 9, 10, 11, 12, 13, 14, 15, 16, 17, 18, 19, 20, 21, 22, 23, 24, 25, 26, 27, 28, 29, 30, 31, 32, 33, 34, 35, 36, 37, 38, 39, 40, 41, 42, 43, 44, 45, 46, 47, 48, 49, 50, 51, 52, 53, 54, 55, 56, 57, 58, 59, 60, 61, 62, 63, 64, 65, 66, 67, 68, 69, 70, 71, 72, 73, 74, 75, 76, 77, 78, 79, 80, 81, 82, 83, 84, 85, 86, 87, 88, 89, 90, 91, 92, 93, 94, 95, 96, 97, 98, 99], \"y\": [-0.02018755564793259, -1.3437652881828532, -1.1111743886255112, 1.8359557683550445, -0.6249666296815001, -2.023897039815607, -0.8601940309700603, 0.16485301587299, 1.4953349379652183, 0.3730240119071808, 0.15925679164929463, 1.6149762610901233, 1.1886259375183363, 0.36490947137394925, -0.277109980002345, -0.7186159514942053, 0.7932326128351476, -0.6947531868233376, -0.6728638956989003, 1.168924580201343, -0.41233623513644024, 0.19784681126554177, -0.16672974435674576, 1.5787929527059819, -1.2036869576587854, 1.6388602894589932, 1.1089114782328384, -0.6721462245633214, -0.3138745235292235, -0.36686782982021504, 0.4065463530031799, -0.2257079493612666, -0.43758529260168777, -0.2625152761872851, -1.328898373680611, -2.9542908677251907, 0.21927251170457285, 0.5340299809554598, -0.17813790978690175, -1.694306210049193, 0.8453898499703644, -0.4470270295083598, 1.4645815144212275, 0.7910848605126803, -0.8297193499743546, 1.6978211174739473, -0.9594406497906319, 0.8588943710079524, 0.5958120032635975, 0.5812863670036684, 0.006947874844667447, 1.328502003354449, -0.023639303401695195, 0.5988265122087519, 0.08350412346342759, -0.546791662972372, -0.008976085354435942, -1.3006584746527383, -0.20279537336043443, 0.40149387048614843, -0.44258682753169964, -0.6584645562551634, -0.9033796634003993, -0.9053368934817235, -0.46190729712378953, -0.6547812127063081, -1.0864383496934662, 0.32165120874344855, 2.613123546687639, 1.3927968612517874, 0.9919936360099734, -1.8454616872399732, 0.5894927197443933, -0.03559551820886039, -0.7910367650609854, -1.6255372546247662, -0.24326405453267416, 1.8413885707475877, 0.92182013753838, -1.2389704928347567, -0.4681250751946212, -0.6564464802415292, 1.1616997366798514, -1.6872613038346125, 0.06782059673136204, 0.10246372343762038, -0.9441951394571112, 0.4646299907553265, 0.5150963253406441, -1.0314331444035327, 2.76602889102714, -1.077324321471914, -1.0627038272964975, -1.3541233150161391, -1.1865180094484067, -1.1649117176906831, -0.14218353540987846, -0.8214858920308317, 1.75215782148672, 0.4284955139825126]}, {\"connectgaps\": false, \"fill\": \"tozeroy\", \"line\": {\"color\": \"green\", \"dash\": \"solid\", \"shape\": \"linear\", \"width\": 0.5}, \"mode\": \"lines\", \"name\": \"Spread\", \"showlegend\": false, \"type\": \"scatter\", \"x\": [0, 1, 2, 3, 4, 5, 6, 7, 8, 9, 10, 11, 12, 13, 14, 15, 16, 17, 18, 19, 20, 21, 22, 23, 24, 25, 26, 27, 28, 29, 30, 31, 32, 33, 34, 35, 36, 37, 38, 39, 40, 41, 42, 43, 44, 45, 46, 47, 48, 49, 50, 51, 52, 53, 54, 55, 56, 57, 58, 59, 60, 61, 62, 63, 64, 65, 66, 67, 68, 69, 70, 71, 72, 73, 74, 75, 76, 77, 78, 79, 80, 81, 82, 83, 84, 85, 86, 87, 88, 89, 90, 91, 92, 93, 94, 95, 96, 97, 98, 99], \"xaxis\": \"x2\", \"y\": [0.20230283753144362, 1.4581963515396776, 1.7061435922597998, \"\", 0.1492402610416148, 2.685007574488669, 1.95194161785696, \"\", \"\", 0.20595189155992588, 0.5724206523459326, \"\", \"\", 0.9749852465205232, \"\", 1.2500063553991505, \"\", 1.227908937996577, 0.7719979207000107, \"\", \"\", 0.028367065605806874, 0.5051967642096122, \"\", \"\", \"\", \"\", 0.296125985589533, 1.6912188611786811, \"\", \"\", 0.6843215349458651, 1.7492083793384166, \"\", 3.2769121548444096, 2.711174175133228, \"\", \"\", 2.096799894827563, 1.588032466289206, \"\", \"\", \"\", \"\", 1.5945701404686705, \"\", 0.9116051954849441, 0.9304580875189585, 0.6523990546898107, 0.1817375651305565, \"\", \"\", \"\", \"\", 0.3624629324134929, 0.8680755610069864, \"\", 1.2979483809152026, 0.41416235243448984, \"\", \"\", 0.66085613706175, 1.8511035903892887, 3.00233380471329, \"\", 2.378710814116332, 0.7809898232110568, 0.9553163118824265, \"\", \"\", 0.9164602251543917, 5.140131039786556, \"\", 1.7619150107319395, 0.6773438574501901, 1.064997091593111, \"\", 0.5757203544852296, 0.1900973433587566, 2.8448331919175565, \"\", \"\", \"\", 0.6460599404674499, 0.08508819546680721, 0.2965236312342906, 1.3275041117512796, 0.8828323069458818, \"\", 0.1614688862061635, \"\", 1.1542680569831514, \"\", 2.4026632530631433, 1.4598911300958182, 0.43554065061957203, \"\", 0.42990100835993195, \"\", 0.8760130389552827], \"yaxis\": \"y2\"}, {\"connectgaps\": false, \"fill\": \"tozeroy\", \"line\": {\"color\": \"red\", \"dash\": \"solid\", \"shape\": \"linear\", \"width\": 0.5}, \"mode\": \"lines\", \"name\": \"Spread\", \"showlegend\": false, \"type\": \"scatter\", \"x\": [0, 1, 2, 3, 4, 5, 6, 7, 8, 9, 10, 11, 12, 13, 14, 15, 16, 17, 18, 19, 20, 21, 22, 23, 24, 25, 26, 27, 28, 29, 30, 31, 32, 33, 34, 35, 36, 37, 38, 39, 40, 41, 42, 43, 44, 45, 46, 47, 48, 49, 50, 51, 52, 53, 54, 55, 56, 57, 58, 59, 60, 61, 62, 63, 64, 65, 66, 67, 68, 69, 70, 71, 72, 73, 74, 75, 76, 77, 78, 79, 80, 81, 82, 83, 84, 85, 86, 87, 88, 89, 90, 91, 92, 93, 94, 95, 96, 97, 98, 99], \"xaxis\": \"x2\", \"y\": [\"\", \"\", \"\", -2.189490022763804, \"\", \"\", \"\", -1.220761437007254, -0.7458669790410739, \"\", \"\", -2.0636406702480565, -1.5102872611725282, \"\", -1.5387554545023883, \"\", -1.5355339341214647, \"\", \"\", -2.057800594692079, -0.39480716776533853, \"\", \"\", -0.29404475594147406, -0.10095851294787628, -1.607201057781877, -2.9216614145722026, \"\", \"\", -2.1015178327539292, -0.24077853968151994, \"\", \"\", -0.1467548753456011, \"\", \"\", -1.4753352163688405, -1.6353399257536845, \"\", \"\", -1.4650394422816118, -0.3828146682878457, -2.1403641426079636, -0.5630758559318343, \"\", -0.39669361091890454, \"\", \"\", \"\", \"\", -2.035218126212777, -2.048803535280496, -0.03143151891604756, -1.380511273865935, \"\", \"\", -0.6336492808594308, \"\", \"\", -1.563921903697841, -0.7681323532642007, \"\", \"\", \"\", -0.18542222062784475, \"\", \"\", \"\", -2.712243455831434, -0.9279984078406829, \"\", \"\", -0.14390040665770554, \"\", \"\", \"\", -0.47625053251988514, \"\", \"\", \"\", -0.5790278811697104, -1.2241841859142677, -0.1461449304279483, \"\", \"\", \"\", \"\", \"\", -0.3321625999905661, \"\", -2.3527034759956167, \"\", -0.16383680830348823, \"\", \"\", \"\", -0.8240800303251896, \"\", -2.807412843801721, \"\"], \"yaxis\": \"y2\"}],\n",
       "                        {\"hovermode\": \"x\", \"legend\": {\"bgcolor\": \"#F5F6F9\", \"font\": {\"color\": \"#4D5663\"}}, \"paper_bgcolor\": \"#F5F6F9\", \"plot_bgcolor\": \"#F5F6F9\", \"template\": {\"data\": {\"bar\": [{\"error_x\": {\"color\": \"#2a3f5f\"}, \"error_y\": {\"color\": \"#2a3f5f\"}, \"marker\": {\"line\": {\"color\": \"#E5ECF6\", \"width\": 0.5}}, \"type\": \"bar\"}], \"barpolar\": [{\"marker\": {\"line\": {\"color\": \"#E5ECF6\", \"width\": 0.5}}, \"type\": \"barpolar\"}], \"carpet\": [{\"aaxis\": {\"endlinecolor\": \"#2a3f5f\", \"gridcolor\": \"white\", \"linecolor\": \"white\", \"minorgridcolor\": \"white\", \"startlinecolor\": \"#2a3f5f\"}, \"baxis\": {\"endlinecolor\": \"#2a3f5f\", \"gridcolor\": \"white\", \"linecolor\": \"white\", \"minorgridcolor\": \"white\", \"startlinecolor\": \"#2a3f5f\"}, \"type\": \"carpet\"}], \"choropleth\": [{\"colorbar\": {\"outlinewidth\": 0, \"ticks\": \"\"}, \"type\": \"choropleth\"}], \"contour\": [{\"colorbar\": {\"outlinewidth\": 0, \"ticks\": \"\"}, \"colorscale\": [[0.0, \"#0d0887\"], [0.1111111111111111, \"#46039f\"], [0.2222222222222222, \"#7201a8\"], [0.3333333333333333, \"#9c179e\"], [0.4444444444444444, \"#bd3786\"], [0.5555555555555556, \"#d8576b\"], [0.6666666666666666, \"#ed7953\"], [0.7777777777777778, \"#fb9f3a\"], [0.8888888888888888, \"#fdca26\"], [1.0, \"#f0f921\"]], \"type\": \"contour\"}], \"contourcarpet\": [{\"colorbar\": {\"outlinewidth\": 0, \"ticks\": \"\"}, \"type\": \"contourcarpet\"}], \"heatmap\": [{\"colorbar\": {\"outlinewidth\": 0, \"ticks\": \"\"}, \"colorscale\": [[0.0, \"#0d0887\"], [0.1111111111111111, \"#46039f\"], [0.2222222222222222, \"#7201a8\"], [0.3333333333333333, \"#9c179e\"], [0.4444444444444444, \"#bd3786\"], [0.5555555555555556, \"#d8576b\"], [0.6666666666666666, \"#ed7953\"], [0.7777777777777778, \"#fb9f3a\"], [0.8888888888888888, \"#fdca26\"], [1.0, \"#f0f921\"]], \"type\": \"heatmap\"}], \"heatmapgl\": [{\"colorbar\": {\"outlinewidth\": 0, \"ticks\": \"\"}, \"colorscale\": [[0.0, \"#0d0887\"], [0.1111111111111111, \"#46039f\"], [0.2222222222222222, \"#7201a8\"], [0.3333333333333333, \"#9c179e\"], [0.4444444444444444, \"#bd3786\"], [0.5555555555555556, \"#d8576b\"], [0.6666666666666666, \"#ed7953\"], [0.7777777777777778, \"#fb9f3a\"], [0.8888888888888888, \"#fdca26\"], [1.0, \"#f0f921\"]], \"type\": \"heatmapgl\"}], \"histogram\": [{\"marker\": {\"colorbar\": {\"outlinewidth\": 0, \"ticks\": \"\"}}, \"type\": \"histogram\"}], \"histogram2d\": [{\"colorbar\": {\"outlinewidth\": 0, \"ticks\": \"\"}, \"colorscale\": [[0.0, \"#0d0887\"], [0.1111111111111111, \"#46039f\"], [0.2222222222222222, \"#7201a8\"], [0.3333333333333333, \"#9c179e\"], [0.4444444444444444, \"#bd3786\"], [0.5555555555555556, \"#d8576b\"], [0.6666666666666666, \"#ed7953\"], [0.7777777777777778, \"#fb9f3a\"], [0.8888888888888888, \"#fdca26\"], [1.0, \"#f0f921\"]], \"type\": \"histogram2d\"}], \"histogram2dcontour\": [{\"colorbar\": {\"outlinewidth\": 0, \"ticks\": \"\"}, \"colorscale\": [[0.0, \"#0d0887\"], [0.1111111111111111, \"#46039f\"], [0.2222222222222222, \"#7201a8\"], [0.3333333333333333, \"#9c179e\"], [0.4444444444444444, \"#bd3786\"], [0.5555555555555556, \"#d8576b\"], [0.6666666666666666, \"#ed7953\"], [0.7777777777777778, \"#fb9f3a\"], [0.8888888888888888, \"#fdca26\"], [1.0, \"#f0f921\"]], \"type\": \"histogram2dcontour\"}], \"mesh3d\": [{\"colorbar\": {\"outlinewidth\": 0, \"ticks\": \"\"}, \"type\": \"mesh3d\"}], \"parcoords\": [{\"line\": {\"colorbar\": {\"outlinewidth\": 0, \"ticks\": \"\"}}, \"type\": \"parcoords\"}], \"pie\": [{\"automargin\": true, \"type\": \"pie\"}], \"scatter\": [{\"marker\": {\"colorbar\": {\"outlinewidth\": 0, \"ticks\": \"\"}}, \"type\": \"scatter\"}], \"scatter3d\": [{\"line\": {\"colorbar\": {\"outlinewidth\": 0, \"ticks\": \"\"}}, \"marker\": {\"colorbar\": {\"outlinewidth\": 0, \"ticks\": \"\"}}, \"type\": \"scatter3d\"}], \"scattercarpet\": [{\"marker\": {\"colorbar\": {\"outlinewidth\": 0, \"ticks\": \"\"}}, \"type\": \"scattercarpet\"}], \"scattergeo\": [{\"marker\": {\"colorbar\": {\"outlinewidth\": 0, \"ticks\": \"\"}}, \"type\": \"scattergeo\"}], \"scattergl\": [{\"marker\": {\"colorbar\": {\"outlinewidth\": 0, \"ticks\": \"\"}}, \"type\": \"scattergl\"}], \"scattermapbox\": [{\"marker\": {\"colorbar\": {\"outlinewidth\": 0, \"ticks\": \"\"}}, \"type\": \"scattermapbox\"}], \"scatterpolar\": [{\"marker\": {\"colorbar\": {\"outlinewidth\": 0, \"ticks\": \"\"}}, \"type\": \"scatterpolar\"}], \"scatterpolargl\": [{\"marker\": {\"colorbar\": {\"outlinewidth\": 0, \"ticks\": \"\"}}, \"type\": \"scatterpolargl\"}], \"scatterternary\": [{\"marker\": {\"colorbar\": {\"outlinewidth\": 0, \"ticks\": \"\"}}, \"type\": \"scatterternary\"}], \"surface\": [{\"colorbar\": {\"outlinewidth\": 0, \"ticks\": \"\"}, \"colorscale\": [[0.0, \"#0d0887\"], [0.1111111111111111, \"#46039f\"], [0.2222222222222222, \"#7201a8\"], [0.3333333333333333, \"#9c179e\"], [0.4444444444444444, \"#bd3786\"], [0.5555555555555556, \"#d8576b\"], [0.6666666666666666, \"#ed7953\"], [0.7777777777777778, \"#fb9f3a\"], [0.8888888888888888, \"#fdca26\"], [1.0, \"#f0f921\"]], \"type\": \"surface\"}], \"table\": [{\"cells\": {\"fill\": {\"color\": \"#EBF0F8\"}, \"line\": {\"color\": \"white\"}}, \"header\": {\"fill\": {\"color\": \"#C8D4E3\"}, \"line\": {\"color\": \"white\"}}, \"type\": \"table\"}]}, \"layout\": {\"annotationdefaults\": {\"arrowcolor\": \"#2a3f5f\", \"arrowhead\": 0, \"arrowwidth\": 1}, \"coloraxis\": {\"colorbar\": {\"outlinewidth\": 0, \"ticks\": \"\"}}, \"colorscale\": {\"diverging\": [[0, \"#8e0152\"], [0.1, \"#c51b7d\"], [0.2, \"#de77ae\"], [0.3, \"#f1b6da\"], [0.4, \"#fde0ef\"], [0.5, \"#f7f7f7\"], [0.6, \"#e6f5d0\"], [0.7, \"#b8e186\"], [0.8, \"#7fbc41\"], [0.9, \"#4d9221\"], [1, \"#276419\"]], \"sequential\": [[0.0, \"#0d0887\"], [0.1111111111111111, \"#46039f\"], [0.2222222222222222, \"#7201a8\"], [0.3333333333333333, \"#9c179e\"], [0.4444444444444444, \"#bd3786\"], [0.5555555555555556, \"#d8576b\"], [0.6666666666666666, \"#ed7953\"], [0.7777777777777778, \"#fb9f3a\"], [0.8888888888888888, \"#fdca26\"], [1.0, \"#f0f921\"]], \"sequentialminus\": [[0.0, \"#0d0887\"], [0.1111111111111111, \"#46039f\"], [0.2222222222222222, \"#7201a8\"], [0.3333333333333333, \"#9c179e\"], [0.4444444444444444, \"#bd3786\"], [0.5555555555555556, \"#d8576b\"], [0.6666666666666666, \"#ed7953\"], [0.7777777777777778, \"#fb9f3a\"], [0.8888888888888888, \"#fdca26\"], [1.0, \"#f0f921\"]]}, \"colorway\": [\"#636efa\", \"#EF553B\", \"#00cc96\", \"#ab63fa\", \"#FFA15A\", \"#19d3f3\", \"#FF6692\", \"#B6E880\", \"#FF97FF\", \"#FECB52\"], \"font\": {\"color\": \"#2a3f5f\"}, \"geo\": {\"bgcolor\": \"white\", \"lakecolor\": \"white\", \"landcolor\": \"#E5ECF6\", \"showlakes\": true, \"showland\": true, \"subunitcolor\": \"white\"}, \"hoverlabel\": {\"align\": \"left\"}, \"hovermode\": \"closest\", \"mapbox\": {\"style\": \"light\"}, \"paper_bgcolor\": \"white\", \"plot_bgcolor\": \"#E5ECF6\", \"polar\": {\"angularaxis\": {\"gridcolor\": \"white\", \"linecolor\": \"white\", \"ticks\": \"\"}, \"bgcolor\": \"#E5ECF6\", \"radialaxis\": {\"gridcolor\": \"white\", \"linecolor\": \"white\", \"ticks\": \"\"}}, \"scene\": {\"xaxis\": {\"backgroundcolor\": \"#E5ECF6\", \"gridcolor\": \"white\", \"gridwidth\": 2, \"linecolor\": \"white\", \"showbackground\": true, \"ticks\": \"\", \"zerolinecolor\": \"white\"}, \"yaxis\": {\"backgroundcolor\": \"#E5ECF6\", \"gridcolor\": \"white\", \"gridwidth\": 2, \"linecolor\": \"white\", \"showbackground\": true, \"ticks\": \"\", \"zerolinecolor\": \"white\"}, \"zaxis\": {\"backgroundcolor\": \"#E5ECF6\", \"gridcolor\": \"white\", \"gridwidth\": 2, \"linecolor\": \"white\", \"showbackground\": true, \"ticks\": \"\", \"zerolinecolor\": \"white\"}}, \"shapedefaults\": {\"line\": {\"color\": \"#2a3f5f\"}}, \"ternary\": {\"aaxis\": {\"gridcolor\": \"white\", \"linecolor\": \"white\", \"ticks\": \"\"}, \"baxis\": {\"gridcolor\": \"white\", \"linecolor\": \"white\", \"ticks\": \"\"}, \"bgcolor\": \"#E5ECF6\", \"caxis\": {\"gridcolor\": \"white\", \"linecolor\": \"white\", \"ticks\": \"\"}}, \"title\": {\"x\": 0.05}, \"xaxis\": {\"automargin\": true, \"gridcolor\": \"white\", \"linecolor\": \"white\", \"ticks\": \"\", \"title\": {\"standoff\": 15}, \"zerolinecolor\": \"white\", \"zerolinewidth\": 2}, \"yaxis\": {\"automargin\": true, \"gridcolor\": \"white\", \"linecolor\": \"white\", \"ticks\": \"\", \"title\": {\"standoff\": 15}, \"zerolinecolor\": \"white\", \"zerolinewidth\": 2}}}, \"title\": {\"font\": {\"color\": \"#4D5663\"}}, \"xaxis\": {\"gridcolor\": \"#E1E5ED\", \"showgrid\": true, \"tickfont\": {\"color\": \"#4D5663\"}, \"title\": {\"font\": {\"color\": \"#4D5663\"}, \"text\": \"\"}, \"zerolinecolor\": \"#E1E5ED\"}, \"xaxis2\": {\"anchor\": \"y2\", \"gridcolor\": \"#E1E5ED\", \"showgrid\": true, \"showticklabels\": false, \"tickfont\": {\"color\": \"#4D5663\"}, \"title\": {\"font\": {\"color\": \"#4D5663\"}, \"text\": \"\"}, \"zerolinecolor\": \"#E1E5ED\"}, \"yaxis\": {\"domain\": [0.3, 1], \"gridcolor\": \"#E1E5ED\", \"showgrid\": true, \"tickfont\": {\"color\": \"#4D5663\"}, \"title\": {\"font\": {\"color\": \"#4D5663\"}, \"text\": \"\"}, \"zerolinecolor\": \"#E1E5ED\"}, \"yaxis2\": {\"domain\": [0, 0.25], \"gridcolor\": \"#E1E5ED\", \"showgrid\": true, \"tickfont\": {\"color\": \"#4D5663\"}, \"title\": {\"font\": {\"color\": \"#4D5663\"}, \"text\": \"Spread\"}, \"zerolinecolor\": \"#E1E5ED\"}},\n",
       "                        {\"showLink\": true, \"linkText\": \"Export to plot.ly\", \"plotlyServerURL\": \"https://plot.ly\", \"responsive\": true}\n",
       "                    ).then(function(){\n",
       "                            \n",
       "var gd = document.getElementById('0a26acaa-b5d5-4591-8e7e-f9fd28be3065');\n",
       "var x = new MutationObserver(function (mutations, observer) {{\n",
       "        var display = window.getComputedStyle(gd).display;\n",
       "        if (!display || display === 'none') {{\n",
       "            console.log([gd, 'removed!']);\n",
       "            Plotly.purge(gd);\n",
       "            observer.disconnect();\n",
       "        }}\n",
       "}});\n",
       "\n",
       "// Listen for the removal of the full notebook cells\n",
       "var notebookContainer = gd.closest('#notebook-container');\n",
       "if (notebookContainer) {{\n",
       "    x.observe(notebookContainer, {childList: true});\n",
       "}}\n",
       "\n",
       "// Listen for the clearing of the current output cell\n",
       "var outputEl = gd.closest('.output');\n",
       "if (outputEl) {{\n",
       "    x.observe(outputEl, {childList: true});\n",
       "}}\n",
       "\n",
       "                        })\n",
       "                };\n",
       "                });\n",
       "            </script>\n",
       "        </div>"
      ]
     },
     "metadata": {},
     "output_type": "display_data"
    }
   ],
   "source": [
    "df[['A','B']].iplot(kind='spread')"
   ]
  },
  {
   "cell_type": "markdown",
   "metadata": {},
   "source": [
    "## histogram"
   ]
  },
  {
   "cell_type": "code",
   "execution_count": 22,
   "metadata": {},
   "outputs": [
    {
     "data": {
      "application/vnd.plotly.v1+json": {
       "config": {
        "linkText": "Export to plot.ly",
        "plotlyServerURL": "https://plot.ly",
        "showLink": true
       },
       "data": [
        {
         "histfunc": "count",
         "histnorm": "",
         "marker": {
          "color": "rgba(255, 153, 51, 1.0)",
          "line": {
           "color": "#4D5663",
           "width": 1.3
          }
         },
         "name": "A",
         "nbinsx": 20,
         "opacity": 0.8,
         "orientation": "v",
         "type": "histogram",
         "x": [
          0.18211528188351103,
          0.11443106335682444,
          0.5949692036342886,
          -0.3535342544087595,
          -0.47572636863988527,
          0.6611105346730619,
          1.0917475868868998,
          -1.055908421134264,
          0.7494679589241444,
          0.5789759034671067,
          0.7316774439952273,
          -0.4486644091579335,
          -0.3216613236541918,
          1.3398947178944725,
          -1.8158654345047331,
          0.5313904039049452,
          -0.7423013212863171,
          0.5331557511732393,
          0.0991340250011104,
          -0.888876014490736,
          -0.8071434029017788,
          0.22621387687134864,
          0.33846701985286654,
          1.2847481967645078,
          -1.3046454706066617,
          0.03165923167711625,
          -1.812749936339364,
          -0.3760202389737884,
          1.3773443376494576,
          -2.4683856625741445,
          0.16576781332166,
          0.45861358558459847,
          1.3116230867367287,
          -0.4092701515328862,
          1.9480137811637988,
          -0.24311669259196267,
          -1.2560627046642676,
          -1.1013099447982246,
          1.9186619850406614,
          -0.10627374375998706,
          -0.6196495923112475,
          -0.8298416977962055,
          -0.6757826281867358,
          0.2280090045808461,
          0.7648507904943159,
          1.3011275065550427,
          -0.04783545430568777,
          1.789352458526911,
          1.2482110579534083,
          0.7630239321342249,
          -2.0282702513681095,
          -0.7203015319260467,
          -0.05507082231774276,
          -0.7816847616571831,
          0.4459670558769205,
          0.3212838980346144,
          -0.6426253662138668,
          -0.0027100937375358005,
          0.2113669790740554,
          -1.1624280332116925,
          -1.2107191807959004,
          0.0023915808065864963,
          0.9477239269888895,
          2.0969969112315665,
          -0.6473295177516343,
          1.7239296014100238,
          -0.3054485264824094,
          1.276967520625875,
          -0.09911990914379495,
          0.46479845341110443,
          1.908453861164365,
          3.2946693525465824,
          0.4455923130866878,
          1.7263194925230791,
          -0.11369290761079535,
          -0.5605401630316551,
          -0.7195145870525593,
          2.4171089252328173,
          1.1119174808971366,
          1.6058626990827998,
          -1.0471529563643316,
          -1.880630666155797,
          1.015554806251903,
          -1.0412013633671626,
          0.15290879219816925,
          0.398987354671911,
          0.38330897229416844,
          1.3474622977012083,
          0.182933725350078,
          -0.8699642581973692,
          0.4133254150315233,
          0.07694373551123751,
          -1.2265406355999857,
          1.0485399380470044,
          0.2733731206474115,
          -0.7293710670711111,
          -0.9662635657350681,
          -0.3915848836708997,
          -1.0552550223150015,
          1.3045085529377953
         ]
        }
       ],
       "layout": {
        "barmode": "overlay",
        "legend": {
         "bgcolor": "#F5F6F9",
         "font": {
          "color": "#4D5663"
         }
        },
        "paper_bgcolor": "#F5F6F9",
        "plot_bgcolor": "#F5F6F9",
        "template": {
         "data": {
          "bar": [
           {
            "error_x": {
             "color": "#2a3f5f"
            },
            "error_y": {
             "color": "#2a3f5f"
            },
            "marker": {
             "line": {
              "color": "#E5ECF6",
              "width": 0.5
             }
            },
            "type": "bar"
           }
          ],
          "barpolar": [
           {
            "marker": {
             "line": {
              "color": "#E5ECF6",
              "width": 0.5
             }
            },
            "type": "barpolar"
           }
          ],
          "carpet": [
           {
            "aaxis": {
             "endlinecolor": "#2a3f5f",
             "gridcolor": "white",
             "linecolor": "white",
             "minorgridcolor": "white",
             "startlinecolor": "#2a3f5f"
            },
            "baxis": {
             "endlinecolor": "#2a3f5f",
             "gridcolor": "white",
             "linecolor": "white",
             "minorgridcolor": "white",
             "startlinecolor": "#2a3f5f"
            },
            "type": "carpet"
           }
          ],
          "choropleth": [
           {
            "colorbar": {
             "outlinewidth": 0,
             "ticks": ""
            },
            "type": "choropleth"
           }
          ],
          "contour": [
           {
            "colorbar": {
             "outlinewidth": 0,
             "ticks": ""
            },
            "colorscale": [
             [
              0,
              "#0d0887"
             ],
             [
              0.1111111111111111,
              "#46039f"
             ],
             [
              0.2222222222222222,
              "#7201a8"
             ],
             [
              0.3333333333333333,
              "#9c179e"
             ],
             [
              0.4444444444444444,
              "#bd3786"
             ],
             [
              0.5555555555555556,
              "#d8576b"
             ],
             [
              0.6666666666666666,
              "#ed7953"
             ],
             [
              0.7777777777777778,
              "#fb9f3a"
             ],
             [
              0.8888888888888888,
              "#fdca26"
             ],
             [
              1,
              "#f0f921"
             ]
            ],
            "type": "contour"
           }
          ],
          "contourcarpet": [
           {
            "colorbar": {
             "outlinewidth": 0,
             "ticks": ""
            },
            "type": "contourcarpet"
           }
          ],
          "heatmap": [
           {
            "colorbar": {
             "outlinewidth": 0,
             "ticks": ""
            },
            "colorscale": [
             [
              0,
              "#0d0887"
             ],
             [
              0.1111111111111111,
              "#46039f"
             ],
             [
              0.2222222222222222,
              "#7201a8"
             ],
             [
              0.3333333333333333,
              "#9c179e"
             ],
             [
              0.4444444444444444,
              "#bd3786"
             ],
             [
              0.5555555555555556,
              "#d8576b"
             ],
             [
              0.6666666666666666,
              "#ed7953"
             ],
             [
              0.7777777777777778,
              "#fb9f3a"
             ],
             [
              0.8888888888888888,
              "#fdca26"
             ],
             [
              1,
              "#f0f921"
             ]
            ],
            "type": "heatmap"
           }
          ],
          "heatmapgl": [
           {
            "colorbar": {
             "outlinewidth": 0,
             "ticks": ""
            },
            "colorscale": [
             [
              0,
              "#0d0887"
             ],
             [
              0.1111111111111111,
              "#46039f"
             ],
             [
              0.2222222222222222,
              "#7201a8"
             ],
             [
              0.3333333333333333,
              "#9c179e"
             ],
             [
              0.4444444444444444,
              "#bd3786"
             ],
             [
              0.5555555555555556,
              "#d8576b"
             ],
             [
              0.6666666666666666,
              "#ed7953"
             ],
             [
              0.7777777777777778,
              "#fb9f3a"
             ],
             [
              0.8888888888888888,
              "#fdca26"
             ],
             [
              1,
              "#f0f921"
             ]
            ],
            "type": "heatmapgl"
           }
          ],
          "histogram": [
           {
            "marker": {
             "colorbar": {
              "outlinewidth": 0,
              "ticks": ""
             }
            },
            "type": "histogram"
           }
          ],
          "histogram2d": [
           {
            "colorbar": {
             "outlinewidth": 0,
             "ticks": ""
            },
            "colorscale": [
             [
              0,
              "#0d0887"
             ],
             [
              0.1111111111111111,
              "#46039f"
             ],
             [
              0.2222222222222222,
              "#7201a8"
             ],
             [
              0.3333333333333333,
              "#9c179e"
             ],
             [
              0.4444444444444444,
              "#bd3786"
             ],
             [
              0.5555555555555556,
              "#d8576b"
             ],
             [
              0.6666666666666666,
              "#ed7953"
             ],
             [
              0.7777777777777778,
              "#fb9f3a"
             ],
             [
              0.8888888888888888,
              "#fdca26"
             ],
             [
              1,
              "#f0f921"
             ]
            ],
            "type": "histogram2d"
           }
          ],
          "histogram2dcontour": [
           {
            "colorbar": {
             "outlinewidth": 0,
             "ticks": ""
            },
            "colorscale": [
             [
              0,
              "#0d0887"
             ],
             [
              0.1111111111111111,
              "#46039f"
             ],
             [
              0.2222222222222222,
              "#7201a8"
             ],
             [
              0.3333333333333333,
              "#9c179e"
             ],
             [
              0.4444444444444444,
              "#bd3786"
             ],
             [
              0.5555555555555556,
              "#d8576b"
             ],
             [
              0.6666666666666666,
              "#ed7953"
             ],
             [
              0.7777777777777778,
              "#fb9f3a"
             ],
             [
              0.8888888888888888,
              "#fdca26"
             ],
             [
              1,
              "#f0f921"
             ]
            ],
            "type": "histogram2dcontour"
           }
          ],
          "mesh3d": [
           {
            "colorbar": {
             "outlinewidth": 0,
             "ticks": ""
            },
            "type": "mesh3d"
           }
          ],
          "parcoords": [
           {
            "line": {
             "colorbar": {
              "outlinewidth": 0,
              "ticks": ""
             }
            },
            "type": "parcoords"
           }
          ],
          "pie": [
           {
            "automargin": true,
            "type": "pie"
           }
          ],
          "scatter": [
           {
            "marker": {
             "colorbar": {
              "outlinewidth": 0,
              "ticks": ""
             }
            },
            "type": "scatter"
           }
          ],
          "scatter3d": [
           {
            "line": {
             "colorbar": {
              "outlinewidth": 0,
              "ticks": ""
             }
            },
            "marker": {
             "colorbar": {
              "outlinewidth": 0,
              "ticks": ""
             }
            },
            "type": "scatter3d"
           }
          ],
          "scattercarpet": [
           {
            "marker": {
             "colorbar": {
              "outlinewidth": 0,
              "ticks": ""
             }
            },
            "type": "scattercarpet"
           }
          ],
          "scattergeo": [
           {
            "marker": {
             "colorbar": {
              "outlinewidth": 0,
              "ticks": ""
             }
            },
            "type": "scattergeo"
           }
          ],
          "scattergl": [
           {
            "marker": {
             "colorbar": {
              "outlinewidth": 0,
              "ticks": ""
             }
            },
            "type": "scattergl"
           }
          ],
          "scattermapbox": [
           {
            "marker": {
             "colorbar": {
              "outlinewidth": 0,
              "ticks": ""
             }
            },
            "type": "scattermapbox"
           }
          ],
          "scatterpolar": [
           {
            "marker": {
             "colorbar": {
              "outlinewidth": 0,
              "ticks": ""
             }
            },
            "type": "scatterpolar"
           }
          ],
          "scatterpolargl": [
           {
            "marker": {
             "colorbar": {
              "outlinewidth": 0,
              "ticks": ""
             }
            },
            "type": "scatterpolargl"
           }
          ],
          "scatterternary": [
           {
            "marker": {
             "colorbar": {
              "outlinewidth": 0,
              "ticks": ""
             }
            },
            "type": "scatterternary"
           }
          ],
          "surface": [
           {
            "colorbar": {
             "outlinewidth": 0,
             "ticks": ""
            },
            "colorscale": [
             [
              0,
              "#0d0887"
             ],
             [
              0.1111111111111111,
              "#46039f"
             ],
             [
              0.2222222222222222,
              "#7201a8"
             ],
             [
              0.3333333333333333,
              "#9c179e"
             ],
             [
              0.4444444444444444,
              "#bd3786"
             ],
             [
              0.5555555555555556,
              "#d8576b"
             ],
             [
              0.6666666666666666,
              "#ed7953"
             ],
             [
              0.7777777777777778,
              "#fb9f3a"
             ],
             [
              0.8888888888888888,
              "#fdca26"
             ],
             [
              1,
              "#f0f921"
             ]
            ],
            "type": "surface"
           }
          ],
          "table": [
           {
            "cells": {
             "fill": {
              "color": "#EBF0F8"
             },
             "line": {
              "color": "white"
             }
            },
            "header": {
             "fill": {
              "color": "#C8D4E3"
             },
             "line": {
              "color": "white"
             }
            },
            "type": "table"
           }
          ]
         },
         "layout": {
          "annotationdefaults": {
           "arrowcolor": "#2a3f5f",
           "arrowhead": 0,
           "arrowwidth": 1
          },
          "coloraxis": {
           "colorbar": {
            "outlinewidth": 0,
            "ticks": ""
           }
          },
          "colorscale": {
           "diverging": [
            [
             0,
             "#8e0152"
            ],
            [
             0.1,
             "#c51b7d"
            ],
            [
             0.2,
             "#de77ae"
            ],
            [
             0.3,
             "#f1b6da"
            ],
            [
             0.4,
             "#fde0ef"
            ],
            [
             0.5,
             "#f7f7f7"
            ],
            [
             0.6,
             "#e6f5d0"
            ],
            [
             0.7,
             "#b8e186"
            ],
            [
             0.8,
             "#7fbc41"
            ],
            [
             0.9,
             "#4d9221"
            ],
            [
             1,
             "#276419"
            ]
           ],
           "sequential": [
            [
             0,
             "#0d0887"
            ],
            [
             0.1111111111111111,
             "#46039f"
            ],
            [
             0.2222222222222222,
             "#7201a8"
            ],
            [
             0.3333333333333333,
             "#9c179e"
            ],
            [
             0.4444444444444444,
             "#bd3786"
            ],
            [
             0.5555555555555556,
             "#d8576b"
            ],
            [
             0.6666666666666666,
             "#ed7953"
            ],
            [
             0.7777777777777778,
             "#fb9f3a"
            ],
            [
             0.8888888888888888,
             "#fdca26"
            ],
            [
             1,
             "#f0f921"
            ]
           ],
           "sequentialminus": [
            [
             0,
             "#0d0887"
            ],
            [
             0.1111111111111111,
             "#46039f"
            ],
            [
             0.2222222222222222,
             "#7201a8"
            ],
            [
             0.3333333333333333,
             "#9c179e"
            ],
            [
             0.4444444444444444,
             "#bd3786"
            ],
            [
             0.5555555555555556,
             "#d8576b"
            ],
            [
             0.6666666666666666,
             "#ed7953"
            ],
            [
             0.7777777777777778,
             "#fb9f3a"
            ],
            [
             0.8888888888888888,
             "#fdca26"
            ],
            [
             1,
             "#f0f921"
            ]
           ]
          },
          "colorway": [
           "#636efa",
           "#EF553B",
           "#00cc96",
           "#ab63fa",
           "#FFA15A",
           "#19d3f3",
           "#FF6692",
           "#B6E880",
           "#FF97FF",
           "#FECB52"
          ],
          "font": {
           "color": "#2a3f5f"
          },
          "geo": {
           "bgcolor": "white",
           "lakecolor": "white",
           "landcolor": "#E5ECF6",
           "showlakes": true,
           "showland": true,
           "subunitcolor": "white"
          },
          "hoverlabel": {
           "align": "left"
          },
          "hovermode": "closest",
          "mapbox": {
           "style": "light"
          },
          "paper_bgcolor": "white",
          "plot_bgcolor": "#E5ECF6",
          "polar": {
           "angularaxis": {
            "gridcolor": "white",
            "linecolor": "white",
            "ticks": ""
           },
           "bgcolor": "#E5ECF6",
           "radialaxis": {
            "gridcolor": "white",
            "linecolor": "white",
            "ticks": ""
           }
          },
          "scene": {
           "xaxis": {
            "backgroundcolor": "#E5ECF6",
            "gridcolor": "white",
            "gridwidth": 2,
            "linecolor": "white",
            "showbackground": true,
            "ticks": "",
            "zerolinecolor": "white"
           },
           "yaxis": {
            "backgroundcolor": "#E5ECF6",
            "gridcolor": "white",
            "gridwidth": 2,
            "linecolor": "white",
            "showbackground": true,
            "ticks": "",
            "zerolinecolor": "white"
           },
           "zaxis": {
            "backgroundcolor": "#E5ECF6",
            "gridcolor": "white",
            "gridwidth": 2,
            "linecolor": "white",
            "showbackground": true,
            "ticks": "",
            "zerolinecolor": "white"
           }
          },
          "shapedefaults": {
           "line": {
            "color": "#2a3f5f"
           }
          },
          "ternary": {
           "aaxis": {
            "gridcolor": "white",
            "linecolor": "white",
            "ticks": ""
           },
           "baxis": {
            "gridcolor": "white",
            "linecolor": "white",
            "ticks": ""
           },
           "bgcolor": "#E5ECF6",
           "caxis": {
            "gridcolor": "white",
            "linecolor": "white",
            "ticks": ""
           }
          },
          "title": {
           "x": 0.05
          },
          "xaxis": {
           "automargin": true,
           "gridcolor": "white",
           "linecolor": "white",
           "ticks": "",
           "title": {
            "standoff": 15
           },
           "zerolinecolor": "white",
           "zerolinewidth": 2
          },
          "yaxis": {
           "automargin": true,
           "gridcolor": "white",
           "linecolor": "white",
           "ticks": "",
           "title": {
            "standoff": 15
           },
           "zerolinecolor": "white",
           "zerolinewidth": 2
          }
         }
        },
        "title": {
         "font": {
          "color": "#4D5663"
         }
        },
        "xaxis": {
         "gridcolor": "#E1E5ED",
         "showgrid": true,
         "tickfont": {
          "color": "#4D5663"
         },
         "title": {
          "font": {
           "color": "#4D5663"
          },
          "text": ""
         },
         "zerolinecolor": "#E1E5ED"
        },
        "yaxis": {
         "gridcolor": "#E1E5ED",
         "showgrid": true,
         "tickfont": {
          "color": "#4D5663"
         },
         "title": {
          "font": {
           "color": "#4D5663"
          },
          "text": ""
         },
         "zerolinecolor": "#E1E5ED"
        }
       }
      },
      "text/html": [
       "<div>\n",
       "        \n",
       "        \n",
       "            <div id=\"ca6b856e-8702-4d65-b055-084def209ae0\" class=\"plotly-graph-div\" style=\"height:525px; width:100%;\"></div>\n",
       "            <script type=\"text/javascript\">\n",
       "                require([\"plotly\"], function(Plotly) {\n",
       "                    window.PLOTLYENV=window.PLOTLYENV || {};\n",
       "                    window.PLOTLYENV.BASE_URL='https://plot.ly';\n",
       "                    \n",
       "                if (document.getElementById(\"ca6b856e-8702-4d65-b055-084def209ae0\")) {\n",
       "                    Plotly.newPlot(\n",
       "                        'ca6b856e-8702-4d65-b055-084def209ae0',\n",
       "                        [{\"histfunc\": \"count\", \"histnorm\": \"\", \"marker\": {\"color\": \"rgba(255, 153, 51, 1.0)\", \"line\": {\"color\": \"#4D5663\", \"width\": 1.3}}, \"name\": \"A\", \"nbinsx\": 20, \"opacity\": 0.8, \"orientation\": \"v\", \"type\": \"histogram\", \"x\": [0.18211528188351103, 0.11443106335682444, 0.5949692036342886, -0.3535342544087595, -0.47572636863988527, 0.6611105346730619, 1.0917475868868998, -1.055908421134264, 0.7494679589241444, 0.5789759034671067, 0.7316774439952273, -0.4486644091579335, -0.3216613236541918, 1.3398947178944725, -1.8158654345047331, 0.5313904039049452, -0.7423013212863171, 0.5331557511732393, 0.0991340250011104, -0.888876014490736, -0.8071434029017788, 0.22621387687134864, 0.33846701985286654, 1.2847481967645078, -1.3046454706066617, 0.03165923167711625, -1.812749936339364, -0.3760202389737884, 1.3773443376494576, -2.4683856625741445, 0.16576781332166, 0.45861358558459847, 1.3116230867367287, -0.4092701515328862, 1.9480137811637988, -0.24311669259196267, -1.2560627046642676, -1.1013099447982246, 1.9186619850406614, -0.10627374375998706, -0.6196495923112475, -0.8298416977962055, -0.6757826281867358, 0.2280090045808461, 0.7648507904943159, 1.3011275065550427, -0.04783545430568777, 1.789352458526911, 1.2482110579534083, 0.7630239321342249, -2.0282702513681095, -0.7203015319260467, -0.05507082231774276, -0.7816847616571831, 0.4459670558769205, 0.3212838980346144, -0.6426253662138668, -0.0027100937375358005, 0.2113669790740554, -1.1624280332116925, -1.2107191807959004, 0.0023915808065864963, 0.9477239269888895, 2.0969969112315665, -0.6473295177516343, 1.7239296014100238, -0.3054485264824094, 1.276967520625875, -0.09911990914379495, 0.46479845341110443, 1.908453861164365, 3.2946693525465824, 0.4455923130866878, 1.7263194925230791, -0.11369290761079535, -0.5605401630316551, -0.7195145870525593, 2.4171089252328173, 1.1119174808971366, 1.6058626990827998, -1.0471529563643316, -1.880630666155797, 1.015554806251903, -1.0412013633671626, 0.15290879219816925, 0.398987354671911, 0.38330897229416844, 1.3474622977012083, 0.182933725350078, -0.8699642581973692, 0.4133254150315233, 0.07694373551123751, -1.2265406355999857, 1.0485399380470044, 0.2733731206474115, -0.7293710670711111, -0.9662635657350681, -0.3915848836708997, -1.0552550223150015, 1.3045085529377953]}],\n",
       "                        {\"barmode\": \"overlay\", \"legend\": {\"bgcolor\": \"#F5F6F9\", \"font\": {\"color\": \"#4D5663\"}}, \"paper_bgcolor\": \"#F5F6F9\", \"plot_bgcolor\": \"#F5F6F9\", \"template\": {\"data\": {\"bar\": [{\"error_x\": {\"color\": \"#2a3f5f\"}, \"error_y\": {\"color\": \"#2a3f5f\"}, \"marker\": {\"line\": {\"color\": \"#E5ECF6\", \"width\": 0.5}}, \"type\": \"bar\"}], \"barpolar\": [{\"marker\": {\"line\": {\"color\": \"#E5ECF6\", \"width\": 0.5}}, \"type\": \"barpolar\"}], \"carpet\": [{\"aaxis\": {\"endlinecolor\": \"#2a3f5f\", \"gridcolor\": \"white\", \"linecolor\": \"white\", \"minorgridcolor\": \"white\", \"startlinecolor\": \"#2a3f5f\"}, \"baxis\": {\"endlinecolor\": \"#2a3f5f\", \"gridcolor\": \"white\", \"linecolor\": \"white\", \"minorgridcolor\": \"white\", \"startlinecolor\": \"#2a3f5f\"}, \"type\": \"carpet\"}], \"choropleth\": [{\"colorbar\": {\"outlinewidth\": 0, \"ticks\": \"\"}, \"type\": \"choropleth\"}], \"contour\": [{\"colorbar\": {\"outlinewidth\": 0, \"ticks\": \"\"}, \"colorscale\": [[0.0, \"#0d0887\"], [0.1111111111111111, \"#46039f\"], [0.2222222222222222, \"#7201a8\"], [0.3333333333333333, \"#9c179e\"], [0.4444444444444444, \"#bd3786\"], [0.5555555555555556, \"#d8576b\"], [0.6666666666666666, \"#ed7953\"], [0.7777777777777778, \"#fb9f3a\"], [0.8888888888888888, \"#fdca26\"], [1.0, \"#f0f921\"]], \"type\": \"contour\"}], \"contourcarpet\": [{\"colorbar\": {\"outlinewidth\": 0, \"ticks\": \"\"}, \"type\": \"contourcarpet\"}], \"heatmap\": [{\"colorbar\": {\"outlinewidth\": 0, \"ticks\": \"\"}, \"colorscale\": [[0.0, \"#0d0887\"], [0.1111111111111111, \"#46039f\"], [0.2222222222222222, \"#7201a8\"], [0.3333333333333333, \"#9c179e\"], [0.4444444444444444, \"#bd3786\"], [0.5555555555555556, \"#d8576b\"], [0.6666666666666666, \"#ed7953\"], [0.7777777777777778, \"#fb9f3a\"], [0.8888888888888888, \"#fdca26\"], [1.0, \"#f0f921\"]], \"type\": \"heatmap\"}], \"heatmapgl\": [{\"colorbar\": {\"outlinewidth\": 0, \"ticks\": \"\"}, \"colorscale\": [[0.0, \"#0d0887\"], [0.1111111111111111, \"#46039f\"], [0.2222222222222222, \"#7201a8\"], [0.3333333333333333, \"#9c179e\"], [0.4444444444444444, \"#bd3786\"], [0.5555555555555556, \"#d8576b\"], [0.6666666666666666, \"#ed7953\"], [0.7777777777777778, \"#fb9f3a\"], [0.8888888888888888, \"#fdca26\"], [1.0, \"#f0f921\"]], \"type\": \"heatmapgl\"}], \"histogram\": [{\"marker\": {\"colorbar\": {\"outlinewidth\": 0, \"ticks\": \"\"}}, \"type\": \"histogram\"}], \"histogram2d\": [{\"colorbar\": {\"outlinewidth\": 0, \"ticks\": \"\"}, \"colorscale\": [[0.0, \"#0d0887\"], [0.1111111111111111, \"#46039f\"], [0.2222222222222222, \"#7201a8\"], [0.3333333333333333, \"#9c179e\"], [0.4444444444444444, \"#bd3786\"], [0.5555555555555556, \"#d8576b\"], [0.6666666666666666, \"#ed7953\"], [0.7777777777777778, \"#fb9f3a\"], [0.8888888888888888, \"#fdca26\"], [1.0, \"#f0f921\"]], \"type\": \"histogram2d\"}], \"histogram2dcontour\": [{\"colorbar\": {\"outlinewidth\": 0, \"ticks\": \"\"}, \"colorscale\": [[0.0, \"#0d0887\"], [0.1111111111111111, \"#46039f\"], [0.2222222222222222, \"#7201a8\"], [0.3333333333333333, \"#9c179e\"], [0.4444444444444444, \"#bd3786\"], [0.5555555555555556, \"#d8576b\"], [0.6666666666666666, \"#ed7953\"], [0.7777777777777778, \"#fb9f3a\"], [0.8888888888888888, \"#fdca26\"], [1.0, \"#f0f921\"]], \"type\": \"histogram2dcontour\"}], \"mesh3d\": [{\"colorbar\": {\"outlinewidth\": 0, \"ticks\": \"\"}, \"type\": \"mesh3d\"}], \"parcoords\": [{\"line\": {\"colorbar\": {\"outlinewidth\": 0, \"ticks\": \"\"}}, \"type\": \"parcoords\"}], \"pie\": [{\"automargin\": true, \"type\": \"pie\"}], \"scatter\": [{\"marker\": {\"colorbar\": {\"outlinewidth\": 0, \"ticks\": \"\"}}, \"type\": \"scatter\"}], \"scatter3d\": [{\"line\": {\"colorbar\": {\"outlinewidth\": 0, \"ticks\": \"\"}}, \"marker\": {\"colorbar\": {\"outlinewidth\": 0, \"ticks\": \"\"}}, \"type\": \"scatter3d\"}], \"scattercarpet\": [{\"marker\": {\"colorbar\": {\"outlinewidth\": 0, \"ticks\": \"\"}}, \"type\": \"scattercarpet\"}], \"scattergeo\": [{\"marker\": {\"colorbar\": {\"outlinewidth\": 0, \"ticks\": \"\"}}, \"type\": \"scattergeo\"}], \"scattergl\": [{\"marker\": {\"colorbar\": {\"outlinewidth\": 0, \"ticks\": \"\"}}, \"type\": \"scattergl\"}], \"scattermapbox\": [{\"marker\": {\"colorbar\": {\"outlinewidth\": 0, \"ticks\": \"\"}}, \"type\": \"scattermapbox\"}], \"scatterpolar\": [{\"marker\": {\"colorbar\": {\"outlinewidth\": 0, \"ticks\": \"\"}}, \"type\": \"scatterpolar\"}], \"scatterpolargl\": [{\"marker\": {\"colorbar\": {\"outlinewidth\": 0, \"ticks\": \"\"}}, \"type\": \"scatterpolargl\"}], \"scatterternary\": [{\"marker\": {\"colorbar\": {\"outlinewidth\": 0, \"ticks\": \"\"}}, \"type\": \"scatterternary\"}], \"surface\": [{\"colorbar\": {\"outlinewidth\": 0, \"ticks\": \"\"}, \"colorscale\": [[0.0, \"#0d0887\"], [0.1111111111111111, \"#46039f\"], [0.2222222222222222, \"#7201a8\"], [0.3333333333333333, \"#9c179e\"], [0.4444444444444444, \"#bd3786\"], [0.5555555555555556, \"#d8576b\"], [0.6666666666666666, \"#ed7953\"], [0.7777777777777778, \"#fb9f3a\"], [0.8888888888888888, \"#fdca26\"], [1.0, \"#f0f921\"]], \"type\": \"surface\"}], \"table\": [{\"cells\": {\"fill\": {\"color\": \"#EBF0F8\"}, \"line\": {\"color\": \"white\"}}, \"header\": {\"fill\": {\"color\": \"#C8D4E3\"}, \"line\": {\"color\": \"white\"}}, \"type\": \"table\"}]}, \"layout\": {\"annotationdefaults\": {\"arrowcolor\": \"#2a3f5f\", \"arrowhead\": 0, \"arrowwidth\": 1}, \"coloraxis\": {\"colorbar\": {\"outlinewidth\": 0, \"ticks\": \"\"}}, \"colorscale\": {\"diverging\": [[0, \"#8e0152\"], [0.1, \"#c51b7d\"], [0.2, \"#de77ae\"], [0.3, \"#f1b6da\"], [0.4, \"#fde0ef\"], [0.5, \"#f7f7f7\"], [0.6, \"#e6f5d0\"], [0.7, \"#b8e186\"], [0.8, \"#7fbc41\"], [0.9, \"#4d9221\"], [1, \"#276419\"]], \"sequential\": [[0.0, \"#0d0887\"], [0.1111111111111111, \"#46039f\"], [0.2222222222222222, \"#7201a8\"], [0.3333333333333333, \"#9c179e\"], [0.4444444444444444, \"#bd3786\"], [0.5555555555555556, \"#d8576b\"], [0.6666666666666666, \"#ed7953\"], [0.7777777777777778, \"#fb9f3a\"], [0.8888888888888888, \"#fdca26\"], [1.0, \"#f0f921\"]], \"sequentialminus\": [[0.0, \"#0d0887\"], [0.1111111111111111, \"#46039f\"], [0.2222222222222222, \"#7201a8\"], [0.3333333333333333, \"#9c179e\"], [0.4444444444444444, \"#bd3786\"], [0.5555555555555556, \"#d8576b\"], [0.6666666666666666, \"#ed7953\"], [0.7777777777777778, \"#fb9f3a\"], [0.8888888888888888, \"#fdca26\"], [1.0, \"#f0f921\"]]}, \"colorway\": [\"#636efa\", \"#EF553B\", \"#00cc96\", \"#ab63fa\", \"#FFA15A\", \"#19d3f3\", \"#FF6692\", \"#B6E880\", \"#FF97FF\", \"#FECB52\"], \"font\": {\"color\": \"#2a3f5f\"}, \"geo\": {\"bgcolor\": \"white\", \"lakecolor\": \"white\", \"landcolor\": \"#E5ECF6\", \"showlakes\": true, \"showland\": true, \"subunitcolor\": \"white\"}, \"hoverlabel\": {\"align\": \"left\"}, \"hovermode\": \"closest\", \"mapbox\": {\"style\": \"light\"}, \"paper_bgcolor\": \"white\", \"plot_bgcolor\": \"#E5ECF6\", \"polar\": {\"angularaxis\": {\"gridcolor\": \"white\", \"linecolor\": \"white\", \"ticks\": \"\"}, \"bgcolor\": \"#E5ECF6\", \"radialaxis\": {\"gridcolor\": \"white\", \"linecolor\": \"white\", \"ticks\": \"\"}}, \"scene\": {\"xaxis\": {\"backgroundcolor\": \"#E5ECF6\", \"gridcolor\": \"white\", \"gridwidth\": 2, \"linecolor\": \"white\", \"showbackground\": true, \"ticks\": \"\", \"zerolinecolor\": \"white\"}, \"yaxis\": {\"backgroundcolor\": \"#E5ECF6\", \"gridcolor\": \"white\", \"gridwidth\": 2, \"linecolor\": \"white\", \"showbackground\": true, \"ticks\": \"\", \"zerolinecolor\": \"white\"}, \"zaxis\": {\"backgroundcolor\": \"#E5ECF6\", \"gridcolor\": \"white\", \"gridwidth\": 2, \"linecolor\": \"white\", \"showbackground\": true, \"ticks\": \"\", \"zerolinecolor\": \"white\"}}, \"shapedefaults\": {\"line\": {\"color\": \"#2a3f5f\"}}, \"ternary\": {\"aaxis\": {\"gridcolor\": \"white\", \"linecolor\": \"white\", \"ticks\": \"\"}, \"baxis\": {\"gridcolor\": \"white\", \"linecolor\": \"white\", \"ticks\": \"\"}, \"bgcolor\": \"#E5ECF6\", \"caxis\": {\"gridcolor\": \"white\", \"linecolor\": \"white\", \"ticks\": \"\"}}, \"title\": {\"x\": 0.05}, \"xaxis\": {\"automargin\": true, \"gridcolor\": \"white\", \"linecolor\": \"white\", \"ticks\": \"\", \"title\": {\"standoff\": 15}, \"zerolinecolor\": \"white\", \"zerolinewidth\": 2}, \"yaxis\": {\"automargin\": true, \"gridcolor\": \"white\", \"linecolor\": \"white\", \"ticks\": \"\", \"title\": {\"standoff\": 15}, \"zerolinecolor\": \"white\", \"zerolinewidth\": 2}}}, \"title\": {\"font\": {\"color\": \"#4D5663\"}}, \"xaxis\": {\"gridcolor\": \"#E1E5ED\", \"showgrid\": true, \"tickfont\": {\"color\": \"#4D5663\"}, \"title\": {\"font\": {\"color\": \"#4D5663\"}, \"text\": \"\"}, \"zerolinecolor\": \"#E1E5ED\"}, \"yaxis\": {\"gridcolor\": \"#E1E5ED\", \"showgrid\": true, \"tickfont\": {\"color\": \"#4D5663\"}, \"title\": {\"font\": {\"color\": \"#4D5663\"}, \"text\": \"\"}, \"zerolinecolor\": \"#E1E5ED\"}},\n",
       "                        {\"showLink\": true, \"linkText\": \"Export to plot.ly\", \"plotlyServerURL\": \"https://plot.ly\", \"responsive\": true}\n",
       "                    ).then(function(){\n",
       "                            \n",
       "var gd = document.getElementById('ca6b856e-8702-4d65-b055-084def209ae0');\n",
       "var x = new MutationObserver(function (mutations, observer) {{\n",
       "        var display = window.getComputedStyle(gd).display;\n",
       "        if (!display || display === 'none') {{\n",
       "            console.log([gd, 'removed!']);\n",
       "            Plotly.purge(gd);\n",
       "            observer.disconnect();\n",
       "        }}\n",
       "}});\n",
       "\n",
       "// Listen for the removal of the full notebook cells\n",
       "var notebookContainer = gd.closest('#notebook-container');\n",
       "if (notebookContainer) {{\n",
       "    x.observe(notebookContainer, {childList: true});\n",
       "}}\n",
       "\n",
       "// Listen for the clearing of the current output cell\n",
       "var outputEl = gd.closest('.output');\n",
       "if (outputEl) {{\n",
       "    x.observe(outputEl, {childList: true});\n",
       "}}\n",
       "\n",
       "                        })\n",
       "                };\n",
       "                });\n",
       "            </script>\n",
       "        </div>"
      ]
     },
     "metadata": {},
     "output_type": "display_data"
    }
   ],
   "source": [
    "df['A'].iplot(kind='hist',bins=20)"
   ]
  },
  {
   "cell_type": "code",
   "execution_count": 29,
   "metadata": {},
   "outputs": [
    {
     "data": {
      "application/vnd.plotly.v1+json": {
       "config": {
        "linkText": "Export to plot.ly",
        "plotlyServerURL": "https://plot.ly",
        "showLink": true
       },
       "data": [
        {
         "marker": {
          "color": [
           "pink",
           "pink",
           "pink",
           "pink",
           "pink",
           "pink",
           "pink",
           "pink",
           "pink",
           "pink",
           "pink",
           "pink",
           "pink",
           "pink",
           "pink",
           "pink",
           "pink",
           "pink",
           "pink",
           "pink",
           "pink",
           "pink",
           "pink",
           "pink",
           "pink",
           "pink",
           "pink",
           "pink",
           "pink",
           "pink",
           "pink",
           "pink",
           "pink",
           "pink",
           "pink",
           "pink",
           "pink",
           "pink",
           "pink",
           "pink",
           "pink",
           "pink",
           "pink",
           "pink",
           "pink",
           "pink",
           "pink",
           "pink",
           "pink",
           "pink",
           "pink",
           "pink",
           "pink",
           "pink",
           "pink",
           "pink",
           "pink",
           "pink",
           "pink",
           "pink",
           "pink",
           "pink",
           "pink",
           "pink",
           "pink",
           "pink",
           "pink",
           "pink",
           "pink",
           "pink",
           "pink",
           "pink",
           "pink",
           "pink",
           "pink",
           "pink",
           "pink",
           "pink",
           "pink",
           "pink",
           "pink",
           "pink",
           "pink",
           "pink",
           "pink",
           "pink",
           "pink",
           "pink",
           "pink",
           "pink",
           "pink",
           "pink",
           "pink",
           "pink",
           "pink",
           "pink",
           "pink",
           "pink",
           "pink",
           "pink"
          ],
          "line": {
           "width": 1.3
          },
          "size": [
           82,
           92,
           91,
           12,
           75,
           108,
           69,
           74,
           66,
           38,
           88,
           110,
           97,
           106,
           73,
           91,
           57,
           77,
           109,
           91,
           75,
           70,
           56,
           92,
           62,
           51,
           90,
           84,
           81,
           55,
           53,
           71,
           64,
           53,
           81,
           61,
           84,
           76,
           89,
           77,
           69,
           72,
           76,
           78,
           58,
           71,
           35,
           76,
           81,
           61,
           101,
           83,
           54,
           79,
           95,
           81,
           72,
           75,
           79,
           51,
           63,
           69,
           92,
           58,
           72,
           84,
           39,
           69,
           73,
           60,
           70,
           65,
           66,
           72,
           54,
           87,
           69,
           89,
           68,
           73,
           48,
           60,
           70,
           108,
           63,
           56,
           112,
           71,
           94,
           82,
           81,
           71,
           88,
           50,
           59,
           56,
           23,
           92,
           74,
           68
          ],
          "symbol": "circle"
         },
         "mode": "markers",
         "text": "",
         "type": "scatter",
         "x": [
          0.18211528188351103,
          0.11443106335682444,
          0.5949692036342886,
          -0.3535342544087595,
          -0.47572636863988527,
          0.6611105346730619,
          1.0917475868868998,
          -1.055908421134264,
          0.7494679589241444,
          0.5789759034671067,
          0.7316774439952273,
          -0.4486644091579335,
          -0.3216613236541918,
          1.3398947178944725,
          -1.8158654345047331,
          0.5313904039049452,
          -0.7423013212863171,
          0.5331557511732393,
          0.0991340250011104,
          -0.888876014490736,
          -0.8071434029017788,
          0.22621387687134864,
          0.33846701985286654,
          1.2847481967645078,
          -1.3046454706066617,
          0.03165923167711625,
          -1.812749936339364,
          -0.3760202389737884,
          1.3773443376494576,
          -2.4683856625741445,
          0.16576781332166,
          0.45861358558459847,
          1.3116230867367287,
          -0.4092701515328862,
          1.9480137811637988,
          -0.24311669259196267,
          -1.2560627046642676,
          -1.1013099447982246,
          1.9186619850406614,
          -0.10627374375998706,
          -0.6196495923112475,
          -0.8298416977962055,
          -0.6757826281867358,
          0.2280090045808461,
          0.7648507904943159,
          1.3011275065550427,
          -0.04783545430568777,
          1.789352458526911,
          1.2482110579534083,
          0.7630239321342249,
          -2.0282702513681095,
          -0.7203015319260467,
          -0.05507082231774276,
          -0.7816847616571831,
          0.4459670558769205,
          0.3212838980346144,
          -0.6426253662138668,
          -0.0027100937375358005,
          0.2113669790740554,
          -1.1624280332116925,
          -1.2107191807959004,
          0.0023915808065864963,
          0.9477239269888895,
          2.0969969112315665,
          -0.6473295177516343,
          1.7239296014100238,
          -0.3054485264824094,
          1.276967520625875,
          -0.09911990914379495,
          0.46479845341110443,
          1.908453861164365,
          3.2946693525465824,
          0.4455923130866878,
          1.7263194925230791,
          -0.11369290761079535,
          -0.5605401630316551,
          -0.7195145870525593,
          2.4171089252328173,
          1.1119174808971366,
          1.6058626990827998,
          -1.0471529563643316,
          -1.880630666155797,
          1.015554806251903,
          -1.0412013633671626,
          0.15290879219816925,
          0.398987354671911,
          0.38330897229416844,
          1.3474622977012083,
          0.182933725350078,
          -0.8699642581973692,
          0.4133254150315233,
          0.07694373551123751,
          -1.2265406355999857,
          1.0485399380470044,
          0.2733731206474115,
          -0.7293710670711111,
          -0.9662635657350681,
          -0.3915848836708997,
          -1.0552550223150015,
          1.3045085529377953
         ],
         "y": [
          -0.02018755564793259,
          -1.3437652881828532,
          -1.1111743886255112,
          1.8359557683550445,
          -0.6249666296815001,
          -2.023897039815607,
          -0.8601940309700603,
          0.16485301587299,
          1.4953349379652183,
          0.3730240119071808,
          0.15925679164929463,
          1.6149762610901233,
          1.1886259375183363,
          0.36490947137394925,
          -0.277109980002345,
          -0.7186159514942053,
          0.7932326128351476,
          -0.6947531868233376,
          -0.6728638956989003,
          1.168924580201343,
          -0.41233623513644024,
          0.19784681126554177,
          -0.16672974435674576,
          1.5787929527059819,
          -1.2036869576587854,
          1.6388602894589932,
          1.1089114782328384,
          -0.6721462245633214,
          -0.3138745235292235,
          -0.36686782982021504,
          0.4065463530031799,
          -0.2257079493612666,
          -0.43758529260168777,
          -0.2625152761872851,
          -1.328898373680611,
          -2.9542908677251907,
          0.21927251170457285,
          0.5340299809554598,
          -0.17813790978690175,
          -1.694306210049193,
          0.8453898499703644,
          -0.4470270295083598,
          1.4645815144212275,
          0.7910848605126803,
          -0.8297193499743546,
          1.6978211174739473,
          -0.9594406497906319,
          0.8588943710079524,
          0.5958120032635975,
          0.5812863670036684,
          0.006947874844667447,
          1.328502003354449,
          -0.023639303401695195,
          0.5988265122087519,
          0.08350412346342759,
          -0.546791662972372,
          -0.008976085354435942,
          -1.3006584746527383,
          -0.20279537336043443,
          0.40149387048614843,
          -0.44258682753169964,
          -0.6584645562551634,
          -0.9033796634003993,
          -0.9053368934817235,
          -0.46190729712378953,
          -0.6547812127063081,
          -1.0864383496934662,
          0.32165120874344855,
          2.613123546687639,
          1.3927968612517874,
          0.9919936360099734,
          -1.8454616872399732,
          0.5894927197443933,
          -0.03559551820886039,
          -0.7910367650609854,
          -1.6255372546247662,
          -0.24326405453267416,
          1.8413885707475877,
          0.92182013753838,
          -1.2389704928347567,
          -0.4681250751946212,
          -0.6564464802415292,
          1.1616997366798514,
          -1.6872613038346125,
          0.06782059673136204,
          0.10246372343762038,
          -0.9441951394571112,
          0.4646299907553265,
          0.5150963253406441,
          -1.0314331444035327,
          2.76602889102714,
          -1.077324321471914,
          -1.0627038272964975,
          -1.3541233150161391,
          -1.1865180094484067,
          -1.1649117176906831,
          -0.14218353540987846,
          -0.8214858920308317,
          1.75215782148672,
          0.4284955139825126
         ]
        }
       ],
       "layout": {
        "legend": {
         "bgcolor": "#F5F6F9",
         "font": {
          "color": "#4D5663"
         }
        },
        "paper_bgcolor": "#F5F6F9",
        "plot_bgcolor": "#F5F6F9",
        "template": {
         "data": {
          "bar": [
           {
            "error_x": {
             "color": "#2a3f5f"
            },
            "error_y": {
             "color": "#2a3f5f"
            },
            "marker": {
             "line": {
              "color": "#E5ECF6",
              "width": 0.5
             }
            },
            "type": "bar"
           }
          ],
          "barpolar": [
           {
            "marker": {
             "line": {
              "color": "#E5ECF6",
              "width": 0.5
             }
            },
            "type": "barpolar"
           }
          ],
          "carpet": [
           {
            "aaxis": {
             "endlinecolor": "#2a3f5f",
             "gridcolor": "white",
             "linecolor": "white",
             "minorgridcolor": "white",
             "startlinecolor": "#2a3f5f"
            },
            "baxis": {
             "endlinecolor": "#2a3f5f",
             "gridcolor": "white",
             "linecolor": "white",
             "minorgridcolor": "white",
             "startlinecolor": "#2a3f5f"
            },
            "type": "carpet"
           }
          ],
          "choropleth": [
           {
            "colorbar": {
             "outlinewidth": 0,
             "ticks": ""
            },
            "type": "choropleth"
           }
          ],
          "contour": [
           {
            "colorbar": {
             "outlinewidth": 0,
             "ticks": ""
            },
            "colorscale": [
             [
              0,
              "#0d0887"
             ],
             [
              0.1111111111111111,
              "#46039f"
             ],
             [
              0.2222222222222222,
              "#7201a8"
             ],
             [
              0.3333333333333333,
              "#9c179e"
             ],
             [
              0.4444444444444444,
              "#bd3786"
             ],
             [
              0.5555555555555556,
              "#d8576b"
             ],
             [
              0.6666666666666666,
              "#ed7953"
             ],
             [
              0.7777777777777778,
              "#fb9f3a"
             ],
             [
              0.8888888888888888,
              "#fdca26"
             ],
             [
              1,
              "#f0f921"
             ]
            ],
            "type": "contour"
           }
          ],
          "contourcarpet": [
           {
            "colorbar": {
             "outlinewidth": 0,
             "ticks": ""
            },
            "type": "contourcarpet"
           }
          ],
          "heatmap": [
           {
            "colorbar": {
             "outlinewidth": 0,
             "ticks": ""
            },
            "colorscale": [
             [
              0,
              "#0d0887"
             ],
             [
              0.1111111111111111,
              "#46039f"
             ],
             [
              0.2222222222222222,
              "#7201a8"
             ],
             [
              0.3333333333333333,
              "#9c179e"
             ],
             [
              0.4444444444444444,
              "#bd3786"
             ],
             [
              0.5555555555555556,
              "#d8576b"
             ],
             [
              0.6666666666666666,
              "#ed7953"
             ],
             [
              0.7777777777777778,
              "#fb9f3a"
             ],
             [
              0.8888888888888888,
              "#fdca26"
             ],
             [
              1,
              "#f0f921"
             ]
            ],
            "type": "heatmap"
           }
          ],
          "heatmapgl": [
           {
            "colorbar": {
             "outlinewidth": 0,
             "ticks": ""
            },
            "colorscale": [
             [
              0,
              "#0d0887"
             ],
             [
              0.1111111111111111,
              "#46039f"
             ],
             [
              0.2222222222222222,
              "#7201a8"
             ],
             [
              0.3333333333333333,
              "#9c179e"
             ],
             [
              0.4444444444444444,
              "#bd3786"
             ],
             [
              0.5555555555555556,
              "#d8576b"
             ],
             [
              0.6666666666666666,
              "#ed7953"
             ],
             [
              0.7777777777777778,
              "#fb9f3a"
             ],
             [
              0.8888888888888888,
              "#fdca26"
             ],
             [
              1,
              "#f0f921"
             ]
            ],
            "type": "heatmapgl"
           }
          ],
          "histogram": [
           {
            "marker": {
             "colorbar": {
              "outlinewidth": 0,
              "ticks": ""
             }
            },
            "type": "histogram"
           }
          ],
          "histogram2d": [
           {
            "colorbar": {
             "outlinewidth": 0,
             "ticks": ""
            },
            "colorscale": [
             [
              0,
              "#0d0887"
             ],
             [
              0.1111111111111111,
              "#46039f"
             ],
             [
              0.2222222222222222,
              "#7201a8"
             ],
             [
              0.3333333333333333,
              "#9c179e"
             ],
             [
              0.4444444444444444,
              "#bd3786"
             ],
             [
              0.5555555555555556,
              "#d8576b"
             ],
             [
              0.6666666666666666,
              "#ed7953"
             ],
             [
              0.7777777777777778,
              "#fb9f3a"
             ],
             [
              0.8888888888888888,
              "#fdca26"
             ],
             [
              1,
              "#f0f921"
             ]
            ],
            "type": "histogram2d"
           }
          ],
          "histogram2dcontour": [
           {
            "colorbar": {
             "outlinewidth": 0,
             "ticks": ""
            },
            "colorscale": [
             [
              0,
              "#0d0887"
             ],
             [
              0.1111111111111111,
              "#46039f"
             ],
             [
              0.2222222222222222,
              "#7201a8"
             ],
             [
              0.3333333333333333,
              "#9c179e"
             ],
             [
              0.4444444444444444,
              "#bd3786"
             ],
             [
              0.5555555555555556,
              "#d8576b"
             ],
             [
              0.6666666666666666,
              "#ed7953"
             ],
             [
              0.7777777777777778,
              "#fb9f3a"
             ],
             [
              0.8888888888888888,
              "#fdca26"
             ],
             [
              1,
              "#f0f921"
             ]
            ],
            "type": "histogram2dcontour"
           }
          ],
          "mesh3d": [
           {
            "colorbar": {
             "outlinewidth": 0,
             "ticks": ""
            },
            "type": "mesh3d"
           }
          ],
          "parcoords": [
           {
            "line": {
             "colorbar": {
              "outlinewidth": 0,
              "ticks": ""
             }
            },
            "type": "parcoords"
           }
          ],
          "pie": [
           {
            "automargin": true,
            "type": "pie"
           }
          ],
          "scatter": [
           {
            "marker": {
             "colorbar": {
              "outlinewidth": 0,
              "ticks": ""
             }
            },
            "type": "scatter"
           }
          ],
          "scatter3d": [
           {
            "line": {
             "colorbar": {
              "outlinewidth": 0,
              "ticks": ""
             }
            },
            "marker": {
             "colorbar": {
              "outlinewidth": 0,
              "ticks": ""
             }
            },
            "type": "scatter3d"
           }
          ],
          "scattercarpet": [
           {
            "marker": {
             "colorbar": {
              "outlinewidth": 0,
              "ticks": ""
             }
            },
            "type": "scattercarpet"
           }
          ],
          "scattergeo": [
           {
            "marker": {
             "colorbar": {
              "outlinewidth": 0,
              "ticks": ""
             }
            },
            "type": "scattergeo"
           }
          ],
          "scattergl": [
           {
            "marker": {
             "colorbar": {
              "outlinewidth": 0,
              "ticks": ""
             }
            },
            "type": "scattergl"
           }
          ],
          "scattermapbox": [
           {
            "marker": {
             "colorbar": {
              "outlinewidth": 0,
              "ticks": ""
             }
            },
            "type": "scattermapbox"
           }
          ],
          "scatterpolar": [
           {
            "marker": {
             "colorbar": {
              "outlinewidth": 0,
              "ticks": ""
             }
            },
            "type": "scatterpolar"
           }
          ],
          "scatterpolargl": [
           {
            "marker": {
             "colorbar": {
              "outlinewidth": 0,
              "ticks": ""
             }
            },
            "type": "scatterpolargl"
           }
          ],
          "scatterternary": [
           {
            "marker": {
             "colorbar": {
              "outlinewidth": 0,
              "ticks": ""
             }
            },
            "type": "scatterternary"
           }
          ],
          "surface": [
           {
            "colorbar": {
             "outlinewidth": 0,
             "ticks": ""
            },
            "colorscale": [
             [
              0,
              "#0d0887"
             ],
             [
              0.1111111111111111,
              "#46039f"
             ],
             [
              0.2222222222222222,
              "#7201a8"
             ],
             [
              0.3333333333333333,
              "#9c179e"
             ],
             [
              0.4444444444444444,
              "#bd3786"
             ],
             [
              0.5555555555555556,
              "#d8576b"
             ],
             [
              0.6666666666666666,
              "#ed7953"
             ],
             [
              0.7777777777777778,
              "#fb9f3a"
             ],
             [
              0.8888888888888888,
              "#fdca26"
             ],
             [
              1,
              "#f0f921"
             ]
            ],
            "type": "surface"
           }
          ],
          "table": [
           {
            "cells": {
             "fill": {
              "color": "#EBF0F8"
             },
             "line": {
              "color": "white"
             }
            },
            "header": {
             "fill": {
              "color": "#C8D4E3"
             },
             "line": {
              "color": "white"
             }
            },
            "type": "table"
           }
          ]
         },
         "layout": {
          "annotationdefaults": {
           "arrowcolor": "#2a3f5f",
           "arrowhead": 0,
           "arrowwidth": 1
          },
          "coloraxis": {
           "colorbar": {
            "outlinewidth": 0,
            "ticks": ""
           }
          },
          "colorscale": {
           "diverging": [
            [
             0,
             "#8e0152"
            ],
            [
             0.1,
             "#c51b7d"
            ],
            [
             0.2,
             "#de77ae"
            ],
            [
             0.3,
             "#f1b6da"
            ],
            [
             0.4,
             "#fde0ef"
            ],
            [
             0.5,
             "#f7f7f7"
            ],
            [
             0.6,
             "#e6f5d0"
            ],
            [
             0.7,
             "#b8e186"
            ],
            [
             0.8,
             "#7fbc41"
            ],
            [
             0.9,
             "#4d9221"
            ],
            [
             1,
             "#276419"
            ]
           ],
           "sequential": [
            [
             0,
             "#0d0887"
            ],
            [
             0.1111111111111111,
             "#46039f"
            ],
            [
             0.2222222222222222,
             "#7201a8"
            ],
            [
             0.3333333333333333,
             "#9c179e"
            ],
            [
             0.4444444444444444,
             "#bd3786"
            ],
            [
             0.5555555555555556,
             "#d8576b"
            ],
            [
             0.6666666666666666,
             "#ed7953"
            ],
            [
             0.7777777777777778,
             "#fb9f3a"
            ],
            [
             0.8888888888888888,
             "#fdca26"
            ],
            [
             1,
             "#f0f921"
            ]
           ],
           "sequentialminus": [
            [
             0,
             "#0d0887"
            ],
            [
             0.1111111111111111,
             "#46039f"
            ],
            [
             0.2222222222222222,
             "#7201a8"
            ],
            [
             0.3333333333333333,
             "#9c179e"
            ],
            [
             0.4444444444444444,
             "#bd3786"
            ],
            [
             0.5555555555555556,
             "#d8576b"
            ],
            [
             0.6666666666666666,
             "#ed7953"
            ],
            [
             0.7777777777777778,
             "#fb9f3a"
            ],
            [
             0.8888888888888888,
             "#fdca26"
            ],
            [
             1,
             "#f0f921"
            ]
           ]
          },
          "colorway": [
           "#636efa",
           "#EF553B",
           "#00cc96",
           "#ab63fa",
           "#FFA15A",
           "#19d3f3",
           "#FF6692",
           "#B6E880",
           "#FF97FF",
           "#FECB52"
          ],
          "font": {
           "color": "#2a3f5f"
          },
          "geo": {
           "bgcolor": "white",
           "lakecolor": "white",
           "landcolor": "#E5ECF6",
           "showlakes": true,
           "showland": true,
           "subunitcolor": "white"
          },
          "hoverlabel": {
           "align": "left"
          },
          "hovermode": "closest",
          "mapbox": {
           "style": "light"
          },
          "paper_bgcolor": "white",
          "plot_bgcolor": "#E5ECF6",
          "polar": {
           "angularaxis": {
            "gridcolor": "white",
            "linecolor": "white",
            "ticks": ""
           },
           "bgcolor": "#E5ECF6",
           "radialaxis": {
            "gridcolor": "white",
            "linecolor": "white",
            "ticks": ""
           }
          },
          "scene": {
           "xaxis": {
            "backgroundcolor": "#E5ECF6",
            "gridcolor": "white",
            "gridwidth": 2,
            "linecolor": "white",
            "showbackground": true,
            "ticks": "",
            "zerolinecolor": "white"
           },
           "yaxis": {
            "backgroundcolor": "#E5ECF6",
            "gridcolor": "white",
            "gridwidth": 2,
            "linecolor": "white",
            "showbackground": true,
            "ticks": "",
            "zerolinecolor": "white"
           },
           "zaxis": {
            "backgroundcolor": "#E5ECF6",
            "gridcolor": "white",
            "gridwidth": 2,
            "linecolor": "white",
            "showbackground": true,
            "ticks": "",
            "zerolinecolor": "white"
           }
          },
          "shapedefaults": {
           "line": {
            "color": "#2a3f5f"
           }
          },
          "ternary": {
           "aaxis": {
            "gridcolor": "white",
            "linecolor": "white",
            "ticks": ""
           },
           "baxis": {
            "gridcolor": "white",
            "linecolor": "white",
            "ticks": ""
           },
           "bgcolor": "#E5ECF6",
           "caxis": {
            "gridcolor": "white",
            "linecolor": "white",
            "ticks": ""
           }
          },
          "title": {
           "x": 0.05
          },
          "xaxis": {
           "automargin": true,
           "gridcolor": "white",
           "linecolor": "white",
           "ticks": "",
           "title": {
            "standoff": 15
           },
           "zerolinecolor": "white",
           "zerolinewidth": 2
          },
          "yaxis": {
           "automargin": true,
           "gridcolor": "white",
           "linecolor": "white",
           "ticks": "",
           "title": {
            "standoff": 15
           },
           "zerolinecolor": "white",
           "zerolinewidth": 2
          }
         }
        },
        "title": {
         "font": {
          "color": "#4D5663"
         }
        },
        "xaxis": {
         "gridcolor": "#E1E5ED",
         "showgrid": true,
         "tickfont": {
          "color": "#4D5663"
         },
         "title": {
          "font": {
           "color": "#4D5663"
          },
          "text": ""
         },
         "zerolinecolor": "#E1E5ED"
        },
        "yaxis": {
         "gridcolor": "#E1E5ED",
         "showgrid": true,
         "tickfont": {
          "color": "#4D5663"
         },
         "title": {
          "font": {
           "color": "#4D5663"
          },
          "text": ""
         },
         "zerolinecolor": "#E1E5ED"
        }
       }
      },
      "text/html": [
       "<div>\n",
       "        \n",
       "        \n",
       "            <div id=\"c28d6afb-6dbb-4a55-9c6a-f21f3dd5275e\" class=\"plotly-graph-div\" style=\"height:525px; width:100%;\"></div>\n",
       "            <script type=\"text/javascript\">\n",
       "                require([\"plotly\"], function(Plotly) {\n",
       "                    window.PLOTLYENV=window.PLOTLYENV || {};\n",
       "                    window.PLOTLYENV.BASE_URL='https://plot.ly';\n",
       "                    \n",
       "                if (document.getElementById(\"c28d6afb-6dbb-4a55-9c6a-f21f3dd5275e\")) {\n",
       "                    Plotly.newPlot(\n",
       "                        'c28d6afb-6dbb-4a55-9c6a-f21f3dd5275e',\n",
       "                        [{\"marker\": {\"color\": [\"pink\", \"pink\", \"pink\", \"pink\", \"pink\", \"pink\", \"pink\", \"pink\", \"pink\", \"pink\", \"pink\", \"pink\", \"pink\", \"pink\", \"pink\", \"pink\", \"pink\", \"pink\", \"pink\", \"pink\", \"pink\", \"pink\", \"pink\", \"pink\", \"pink\", \"pink\", \"pink\", \"pink\", \"pink\", \"pink\", \"pink\", \"pink\", \"pink\", \"pink\", \"pink\", \"pink\", \"pink\", \"pink\", \"pink\", \"pink\", \"pink\", \"pink\", \"pink\", \"pink\", \"pink\", \"pink\", \"pink\", \"pink\", \"pink\", \"pink\", \"pink\", \"pink\", \"pink\", \"pink\", \"pink\", \"pink\", \"pink\", \"pink\", \"pink\", \"pink\", \"pink\", \"pink\", \"pink\", \"pink\", \"pink\", \"pink\", \"pink\", \"pink\", \"pink\", \"pink\", \"pink\", \"pink\", \"pink\", \"pink\", \"pink\", \"pink\", \"pink\", \"pink\", \"pink\", \"pink\", \"pink\", \"pink\", \"pink\", \"pink\", \"pink\", \"pink\", \"pink\", \"pink\", \"pink\", \"pink\", \"pink\", \"pink\", \"pink\", \"pink\", \"pink\", \"pink\", \"pink\", \"pink\", \"pink\", \"pink\"], \"line\": {\"width\": 1.3}, \"size\": [82, 92, 91, 12, 75, 108, 69, 74, 66, 38, 88, 110, 97, 106, 73, 91, 57, 77, 109, 91, 75, 70, 56, 92, 62, 51, 90, 84, 81, 55, 53, 71, 64, 53, 81, 61, 84, 76, 89, 77, 69, 72, 76, 78, 58, 71, 35, 76, 81, 61, 101, 83, 54, 79, 95, 81, 72, 75, 79, 51, 63, 69, 92, 58, 72, 84, 39, 69, 73, 60, 70, 65, 66, 72, 54, 87, 69, 89, 68, 73, 48, 60, 70, 108, 63, 56, 112, 71, 94, 82, 81, 71, 88, 50, 59, 56, 23, 92, 74, 68], \"symbol\": \"circle\"}, \"mode\": \"markers\", \"text\": \"\", \"type\": \"scatter\", \"x\": [0.18211528188351103, 0.11443106335682444, 0.5949692036342886, -0.3535342544087595, -0.47572636863988527, 0.6611105346730619, 1.0917475868868998, -1.055908421134264, 0.7494679589241444, 0.5789759034671067, 0.7316774439952273, -0.4486644091579335, -0.3216613236541918, 1.3398947178944725, -1.8158654345047331, 0.5313904039049452, -0.7423013212863171, 0.5331557511732393, 0.0991340250011104, -0.888876014490736, -0.8071434029017788, 0.22621387687134864, 0.33846701985286654, 1.2847481967645078, -1.3046454706066617, 0.03165923167711625, -1.812749936339364, -0.3760202389737884, 1.3773443376494576, -2.4683856625741445, 0.16576781332166, 0.45861358558459847, 1.3116230867367287, -0.4092701515328862, 1.9480137811637988, -0.24311669259196267, -1.2560627046642676, -1.1013099447982246, 1.9186619850406614, -0.10627374375998706, -0.6196495923112475, -0.8298416977962055, -0.6757826281867358, 0.2280090045808461, 0.7648507904943159, 1.3011275065550427, -0.04783545430568777, 1.789352458526911, 1.2482110579534083, 0.7630239321342249, -2.0282702513681095, -0.7203015319260467, -0.05507082231774276, -0.7816847616571831, 0.4459670558769205, 0.3212838980346144, -0.6426253662138668, -0.0027100937375358005, 0.2113669790740554, -1.1624280332116925, -1.2107191807959004, 0.0023915808065864963, 0.9477239269888895, 2.0969969112315665, -0.6473295177516343, 1.7239296014100238, -0.3054485264824094, 1.276967520625875, -0.09911990914379495, 0.46479845341110443, 1.908453861164365, 3.2946693525465824, 0.4455923130866878, 1.7263194925230791, -0.11369290761079535, -0.5605401630316551, -0.7195145870525593, 2.4171089252328173, 1.1119174808971366, 1.6058626990827998, -1.0471529563643316, -1.880630666155797, 1.015554806251903, -1.0412013633671626, 0.15290879219816925, 0.398987354671911, 0.38330897229416844, 1.3474622977012083, 0.182933725350078, -0.8699642581973692, 0.4133254150315233, 0.07694373551123751, -1.2265406355999857, 1.0485399380470044, 0.2733731206474115, -0.7293710670711111, -0.9662635657350681, -0.3915848836708997, -1.0552550223150015, 1.3045085529377953], \"y\": [-0.02018755564793259, -1.3437652881828532, -1.1111743886255112, 1.8359557683550445, -0.6249666296815001, -2.023897039815607, -0.8601940309700603, 0.16485301587299, 1.4953349379652183, 0.3730240119071808, 0.15925679164929463, 1.6149762610901233, 1.1886259375183363, 0.36490947137394925, -0.277109980002345, -0.7186159514942053, 0.7932326128351476, -0.6947531868233376, -0.6728638956989003, 1.168924580201343, -0.41233623513644024, 0.19784681126554177, -0.16672974435674576, 1.5787929527059819, -1.2036869576587854, 1.6388602894589932, 1.1089114782328384, -0.6721462245633214, -0.3138745235292235, -0.36686782982021504, 0.4065463530031799, -0.2257079493612666, -0.43758529260168777, -0.2625152761872851, -1.328898373680611, -2.9542908677251907, 0.21927251170457285, 0.5340299809554598, -0.17813790978690175, -1.694306210049193, 0.8453898499703644, -0.4470270295083598, 1.4645815144212275, 0.7910848605126803, -0.8297193499743546, 1.6978211174739473, -0.9594406497906319, 0.8588943710079524, 0.5958120032635975, 0.5812863670036684, 0.006947874844667447, 1.328502003354449, -0.023639303401695195, 0.5988265122087519, 0.08350412346342759, -0.546791662972372, -0.008976085354435942, -1.3006584746527383, -0.20279537336043443, 0.40149387048614843, -0.44258682753169964, -0.6584645562551634, -0.9033796634003993, -0.9053368934817235, -0.46190729712378953, -0.6547812127063081, -1.0864383496934662, 0.32165120874344855, 2.613123546687639, 1.3927968612517874, 0.9919936360099734, -1.8454616872399732, 0.5894927197443933, -0.03559551820886039, -0.7910367650609854, -1.6255372546247662, -0.24326405453267416, 1.8413885707475877, 0.92182013753838, -1.2389704928347567, -0.4681250751946212, -0.6564464802415292, 1.1616997366798514, -1.6872613038346125, 0.06782059673136204, 0.10246372343762038, -0.9441951394571112, 0.4646299907553265, 0.5150963253406441, -1.0314331444035327, 2.76602889102714, -1.077324321471914, -1.0627038272964975, -1.3541233150161391, -1.1865180094484067, -1.1649117176906831, -0.14218353540987846, -0.8214858920308317, 1.75215782148672, 0.4284955139825126]}],\n",
       "                        {\"legend\": {\"bgcolor\": \"#F5F6F9\", \"font\": {\"color\": \"#4D5663\"}}, \"paper_bgcolor\": \"#F5F6F9\", \"plot_bgcolor\": \"#F5F6F9\", \"template\": {\"data\": {\"bar\": [{\"error_x\": {\"color\": \"#2a3f5f\"}, \"error_y\": {\"color\": \"#2a3f5f\"}, \"marker\": {\"line\": {\"color\": \"#E5ECF6\", \"width\": 0.5}}, \"type\": \"bar\"}], \"barpolar\": [{\"marker\": {\"line\": {\"color\": \"#E5ECF6\", \"width\": 0.5}}, \"type\": \"barpolar\"}], \"carpet\": [{\"aaxis\": {\"endlinecolor\": \"#2a3f5f\", \"gridcolor\": \"white\", \"linecolor\": \"white\", \"minorgridcolor\": \"white\", \"startlinecolor\": \"#2a3f5f\"}, \"baxis\": {\"endlinecolor\": \"#2a3f5f\", \"gridcolor\": \"white\", \"linecolor\": \"white\", \"minorgridcolor\": \"white\", \"startlinecolor\": \"#2a3f5f\"}, \"type\": \"carpet\"}], \"choropleth\": [{\"colorbar\": {\"outlinewidth\": 0, \"ticks\": \"\"}, \"type\": \"choropleth\"}], \"contour\": [{\"colorbar\": {\"outlinewidth\": 0, \"ticks\": \"\"}, \"colorscale\": [[0.0, \"#0d0887\"], [0.1111111111111111, \"#46039f\"], [0.2222222222222222, \"#7201a8\"], [0.3333333333333333, \"#9c179e\"], [0.4444444444444444, \"#bd3786\"], [0.5555555555555556, \"#d8576b\"], [0.6666666666666666, \"#ed7953\"], [0.7777777777777778, \"#fb9f3a\"], [0.8888888888888888, \"#fdca26\"], [1.0, \"#f0f921\"]], \"type\": \"contour\"}], \"contourcarpet\": [{\"colorbar\": {\"outlinewidth\": 0, \"ticks\": \"\"}, \"type\": \"contourcarpet\"}], \"heatmap\": [{\"colorbar\": {\"outlinewidth\": 0, \"ticks\": \"\"}, \"colorscale\": [[0.0, \"#0d0887\"], [0.1111111111111111, \"#46039f\"], [0.2222222222222222, \"#7201a8\"], [0.3333333333333333, \"#9c179e\"], [0.4444444444444444, \"#bd3786\"], [0.5555555555555556, \"#d8576b\"], [0.6666666666666666, \"#ed7953\"], [0.7777777777777778, \"#fb9f3a\"], [0.8888888888888888, \"#fdca26\"], [1.0, \"#f0f921\"]], \"type\": \"heatmap\"}], \"heatmapgl\": [{\"colorbar\": {\"outlinewidth\": 0, \"ticks\": \"\"}, \"colorscale\": [[0.0, \"#0d0887\"], [0.1111111111111111, \"#46039f\"], [0.2222222222222222, \"#7201a8\"], [0.3333333333333333, \"#9c179e\"], [0.4444444444444444, \"#bd3786\"], [0.5555555555555556, \"#d8576b\"], [0.6666666666666666, \"#ed7953\"], [0.7777777777777778, \"#fb9f3a\"], [0.8888888888888888, \"#fdca26\"], [1.0, \"#f0f921\"]], \"type\": \"heatmapgl\"}], \"histogram\": [{\"marker\": {\"colorbar\": {\"outlinewidth\": 0, \"ticks\": \"\"}}, \"type\": \"histogram\"}], \"histogram2d\": [{\"colorbar\": {\"outlinewidth\": 0, \"ticks\": \"\"}, \"colorscale\": [[0.0, \"#0d0887\"], [0.1111111111111111, \"#46039f\"], [0.2222222222222222, \"#7201a8\"], [0.3333333333333333, \"#9c179e\"], [0.4444444444444444, \"#bd3786\"], [0.5555555555555556, \"#d8576b\"], [0.6666666666666666, \"#ed7953\"], [0.7777777777777778, \"#fb9f3a\"], [0.8888888888888888, \"#fdca26\"], [1.0, \"#f0f921\"]], \"type\": \"histogram2d\"}], \"histogram2dcontour\": [{\"colorbar\": {\"outlinewidth\": 0, \"ticks\": \"\"}, \"colorscale\": [[0.0, \"#0d0887\"], [0.1111111111111111, \"#46039f\"], [0.2222222222222222, \"#7201a8\"], [0.3333333333333333, \"#9c179e\"], [0.4444444444444444, \"#bd3786\"], [0.5555555555555556, \"#d8576b\"], [0.6666666666666666, \"#ed7953\"], [0.7777777777777778, \"#fb9f3a\"], [0.8888888888888888, \"#fdca26\"], [1.0, \"#f0f921\"]], \"type\": \"histogram2dcontour\"}], \"mesh3d\": [{\"colorbar\": {\"outlinewidth\": 0, \"ticks\": \"\"}, \"type\": \"mesh3d\"}], \"parcoords\": [{\"line\": {\"colorbar\": {\"outlinewidth\": 0, \"ticks\": \"\"}}, \"type\": \"parcoords\"}], \"pie\": [{\"automargin\": true, \"type\": \"pie\"}], \"scatter\": [{\"marker\": {\"colorbar\": {\"outlinewidth\": 0, \"ticks\": \"\"}}, \"type\": \"scatter\"}], \"scatter3d\": [{\"line\": {\"colorbar\": {\"outlinewidth\": 0, \"ticks\": \"\"}}, \"marker\": {\"colorbar\": {\"outlinewidth\": 0, \"ticks\": \"\"}}, \"type\": \"scatter3d\"}], \"scattercarpet\": [{\"marker\": {\"colorbar\": {\"outlinewidth\": 0, \"ticks\": \"\"}}, \"type\": \"scattercarpet\"}], \"scattergeo\": [{\"marker\": {\"colorbar\": {\"outlinewidth\": 0, \"ticks\": \"\"}}, \"type\": \"scattergeo\"}], \"scattergl\": [{\"marker\": {\"colorbar\": {\"outlinewidth\": 0, \"ticks\": \"\"}}, \"type\": \"scattergl\"}], \"scattermapbox\": [{\"marker\": {\"colorbar\": {\"outlinewidth\": 0, \"ticks\": \"\"}}, \"type\": \"scattermapbox\"}], \"scatterpolar\": [{\"marker\": {\"colorbar\": {\"outlinewidth\": 0, \"ticks\": \"\"}}, \"type\": \"scatterpolar\"}], \"scatterpolargl\": [{\"marker\": {\"colorbar\": {\"outlinewidth\": 0, \"ticks\": \"\"}}, \"type\": \"scatterpolargl\"}], \"scatterternary\": [{\"marker\": {\"colorbar\": {\"outlinewidth\": 0, \"ticks\": \"\"}}, \"type\": \"scatterternary\"}], \"surface\": [{\"colorbar\": {\"outlinewidth\": 0, \"ticks\": \"\"}, \"colorscale\": [[0.0, \"#0d0887\"], [0.1111111111111111, \"#46039f\"], [0.2222222222222222, \"#7201a8\"], [0.3333333333333333, \"#9c179e\"], [0.4444444444444444, \"#bd3786\"], [0.5555555555555556, \"#d8576b\"], [0.6666666666666666, \"#ed7953\"], [0.7777777777777778, \"#fb9f3a\"], [0.8888888888888888, \"#fdca26\"], [1.0, \"#f0f921\"]], \"type\": \"surface\"}], \"table\": [{\"cells\": {\"fill\": {\"color\": \"#EBF0F8\"}, \"line\": {\"color\": \"white\"}}, \"header\": {\"fill\": {\"color\": \"#C8D4E3\"}, \"line\": {\"color\": \"white\"}}, \"type\": \"table\"}]}, \"layout\": {\"annotationdefaults\": {\"arrowcolor\": \"#2a3f5f\", \"arrowhead\": 0, \"arrowwidth\": 1}, \"coloraxis\": {\"colorbar\": {\"outlinewidth\": 0, \"ticks\": \"\"}}, \"colorscale\": {\"diverging\": [[0, \"#8e0152\"], [0.1, \"#c51b7d\"], [0.2, \"#de77ae\"], [0.3, \"#f1b6da\"], [0.4, \"#fde0ef\"], [0.5, \"#f7f7f7\"], [0.6, \"#e6f5d0\"], [0.7, \"#b8e186\"], [0.8, \"#7fbc41\"], [0.9, \"#4d9221\"], [1, \"#276419\"]], \"sequential\": [[0.0, \"#0d0887\"], [0.1111111111111111, \"#46039f\"], [0.2222222222222222, \"#7201a8\"], [0.3333333333333333, \"#9c179e\"], [0.4444444444444444, \"#bd3786\"], [0.5555555555555556, \"#d8576b\"], [0.6666666666666666, \"#ed7953\"], [0.7777777777777778, \"#fb9f3a\"], [0.8888888888888888, \"#fdca26\"], [1.0, \"#f0f921\"]], \"sequentialminus\": [[0.0, \"#0d0887\"], [0.1111111111111111, \"#46039f\"], [0.2222222222222222, \"#7201a8\"], [0.3333333333333333, \"#9c179e\"], [0.4444444444444444, \"#bd3786\"], [0.5555555555555556, \"#d8576b\"], [0.6666666666666666, \"#ed7953\"], [0.7777777777777778, \"#fb9f3a\"], [0.8888888888888888, \"#fdca26\"], [1.0, \"#f0f921\"]]}, \"colorway\": [\"#636efa\", \"#EF553B\", \"#00cc96\", \"#ab63fa\", \"#FFA15A\", \"#19d3f3\", \"#FF6692\", \"#B6E880\", \"#FF97FF\", \"#FECB52\"], \"font\": {\"color\": \"#2a3f5f\"}, \"geo\": {\"bgcolor\": \"white\", \"lakecolor\": \"white\", \"landcolor\": \"#E5ECF6\", \"showlakes\": true, \"showland\": true, \"subunitcolor\": \"white\"}, \"hoverlabel\": {\"align\": \"left\"}, \"hovermode\": \"closest\", \"mapbox\": {\"style\": \"light\"}, \"paper_bgcolor\": \"white\", \"plot_bgcolor\": \"#E5ECF6\", \"polar\": {\"angularaxis\": {\"gridcolor\": \"white\", \"linecolor\": \"white\", \"ticks\": \"\"}, \"bgcolor\": \"#E5ECF6\", \"radialaxis\": {\"gridcolor\": \"white\", \"linecolor\": \"white\", \"ticks\": \"\"}}, \"scene\": {\"xaxis\": {\"backgroundcolor\": \"#E5ECF6\", \"gridcolor\": \"white\", \"gridwidth\": 2, \"linecolor\": \"white\", \"showbackground\": true, \"ticks\": \"\", \"zerolinecolor\": \"white\"}, \"yaxis\": {\"backgroundcolor\": \"#E5ECF6\", \"gridcolor\": \"white\", \"gridwidth\": 2, \"linecolor\": \"white\", \"showbackground\": true, \"ticks\": \"\", \"zerolinecolor\": \"white\"}, \"zaxis\": {\"backgroundcolor\": \"#E5ECF6\", \"gridcolor\": \"white\", \"gridwidth\": 2, \"linecolor\": \"white\", \"showbackground\": true, \"ticks\": \"\", \"zerolinecolor\": \"white\"}}, \"shapedefaults\": {\"line\": {\"color\": \"#2a3f5f\"}}, \"ternary\": {\"aaxis\": {\"gridcolor\": \"white\", \"linecolor\": \"white\", \"ticks\": \"\"}, \"baxis\": {\"gridcolor\": \"white\", \"linecolor\": \"white\", \"ticks\": \"\"}, \"bgcolor\": \"#E5ECF6\", \"caxis\": {\"gridcolor\": \"white\", \"linecolor\": \"white\", \"ticks\": \"\"}}, \"title\": {\"x\": 0.05}, \"xaxis\": {\"automargin\": true, \"gridcolor\": \"white\", \"linecolor\": \"white\", \"ticks\": \"\", \"title\": {\"standoff\": 15}, \"zerolinecolor\": \"white\", \"zerolinewidth\": 2}, \"yaxis\": {\"automargin\": true, \"gridcolor\": \"white\", \"linecolor\": \"white\", \"ticks\": \"\", \"title\": {\"standoff\": 15}, \"zerolinecolor\": \"white\", \"zerolinewidth\": 2}}}, \"title\": {\"font\": {\"color\": \"#4D5663\"}}, \"xaxis\": {\"gridcolor\": \"#E1E5ED\", \"showgrid\": true, \"tickfont\": {\"color\": \"#4D5663\"}, \"title\": {\"font\": {\"color\": \"#4D5663\"}, \"text\": \"\"}, \"zerolinecolor\": \"#E1E5ED\"}, \"yaxis\": {\"gridcolor\": \"#E1E5ED\", \"showgrid\": true, \"tickfont\": {\"color\": \"#4D5663\"}, \"title\": {\"font\": {\"color\": \"#4D5663\"}, \"text\": \"\"}, \"zerolinecolor\": \"#E1E5ED\"}},\n",
       "                        {\"showLink\": true, \"linkText\": \"Export to plot.ly\", \"plotlyServerURL\": \"https://plot.ly\", \"responsive\": true}\n",
       "                    ).then(function(){\n",
       "                            \n",
       "var gd = document.getElementById('c28d6afb-6dbb-4a55-9c6a-f21f3dd5275e');\n",
       "var x = new MutationObserver(function (mutations, observer) {{\n",
       "        var display = window.getComputedStyle(gd).display;\n",
       "        if (!display || display === 'none') {{\n",
       "            console.log([gd, 'removed!']);\n",
       "            Plotly.purge(gd);\n",
       "            observer.disconnect();\n",
       "        }}\n",
       "}});\n",
       "\n",
       "// Listen for the removal of the full notebook cells\n",
       "var notebookContainer = gd.closest('#notebook-container');\n",
       "if (notebookContainer) {{\n",
       "    x.observe(notebookContainer, {childList: true});\n",
       "}}\n",
       "\n",
       "// Listen for the clearing of the current output cell\n",
       "var outputEl = gd.closest('.output');\n",
       "if (outputEl) {{\n",
       "    x.observe(outputEl, {childList: true});\n",
       "}}\n",
       "\n",
       "                        })\n",
       "                };\n",
       "                });\n",
       "            </script>\n",
       "        </div>"
      ]
     },
     "metadata": {},
     "output_type": "display_data"
    }
   ],
   "source": [
    "df.iplot(kind='bubble',x='A',y='B',size='C', color='pink')"
   ]
  },
  {
   "cell_type": "markdown",
   "metadata": {},
   "source": [
    "## scatter_matrix()\n",
    "\n",
    "Similar to sns.pairplot()"
   ]
  },
  {
   "cell_type": "code",
   "execution_count": 30,
   "metadata": {},
   "outputs": [
    {
     "data": {
      "application/vnd.plotly.v1+json": {
       "config": {
        "linkText": "Export to plot.ly",
        "plotlyServerURL": "https://plot.ly",
        "showLink": true
       },
       "data": [
        {
         "histfunc": "count",
         "histnorm": "",
         "marker": {
          "color": "rgba(255, 153, 51, 1.0)",
          "line": {
           "color": "#4D5663",
           "width": 1.3
          }
         },
         "name": "A",
         "nbinsx": 10,
         "opacity": 0.8,
         "orientation": "v",
         "type": "histogram",
         "x": [
          0.18211528188351103,
          0.11443106335682444,
          0.5949692036342886,
          -0.3535342544087595,
          -0.47572636863988527,
          0.6611105346730619,
          1.0917475868868998,
          -1.055908421134264,
          0.7494679589241444,
          0.5789759034671067,
          0.7316774439952273,
          -0.4486644091579335,
          -0.3216613236541918,
          1.3398947178944725,
          -1.8158654345047331,
          0.5313904039049452,
          -0.7423013212863171,
          0.5331557511732393,
          0.0991340250011104,
          -0.888876014490736,
          -0.8071434029017788,
          0.22621387687134864,
          0.33846701985286654,
          1.2847481967645078,
          -1.3046454706066617,
          0.03165923167711625,
          -1.812749936339364,
          -0.3760202389737884,
          1.3773443376494576,
          -2.4683856625741445,
          0.16576781332166,
          0.45861358558459847,
          1.3116230867367287,
          -0.4092701515328862,
          1.9480137811637988,
          -0.24311669259196267,
          -1.2560627046642676,
          -1.1013099447982246,
          1.9186619850406614,
          -0.10627374375998706,
          -0.6196495923112475,
          -0.8298416977962055,
          -0.6757826281867358,
          0.2280090045808461,
          0.7648507904943159,
          1.3011275065550427,
          -0.04783545430568777,
          1.789352458526911,
          1.2482110579534083,
          0.7630239321342249,
          -2.0282702513681095,
          -0.7203015319260467,
          -0.05507082231774276,
          -0.7816847616571831,
          0.4459670558769205,
          0.3212838980346144,
          -0.6426253662138668,
          -0.0027100937375358005,
          0.2113669790740554,
          -1.1624280332116925,
          -1.2107191807959004,
          0.0023915808065864963,
          0.9477239269888895,
          2.0969969112315665,
          -0.6473295177516343,
          1.7239296014100238,
          -0.3054485264824094,
          1.276967520625875,
          -0.09911990914379495,
          0.46479845341110443,
          1.908453861164365,
          3.2946693525465824,
          0.4455923130866878,
          1.7263194925230791,
          -0.11369290761079535,
          -0.5605401630316551,
          -0.7195145870525593,
          2.4171089252328173,
          1.1119174808971366,
          1.6058626990827998,
          -1.0471529563643316,
          -1.880630666155797,
          1.015554806251903,
          -1.0412013633671626,
          0.15290879219816925,
          0.398987354671911,
          0.38330897229416844,
          1.3474622977012083,
          0.182933725350078,
          -0.8699642581973692,
          0.4133254150315233,
          0.07694373551123751,
          -1.2265406355999857,
          1.0485399380470044,
          0.2733731206474115,
          -0.7293710670711111,
          -0.9662635657350681,
          -0.3915848836708997,
          -1.0552550223150015,
          1.3045085529377953
         ],
         "xaxis": "x",
         "yaxis": "y"
        },
        {
         "line": {
          "color": "rgba(128, 128, 128, 1.0)",
          "dash": "solid",
          "shape": "linear",
          "width": 1.3
         },
         "marker": {
          "size": 2,
          "symbol": "circle"
         },
         "mode": "markers",
         "name": "A",
         "text": "",
         "type": "scatter",
         "x": [
          -0.02018755564793259,
          -1.3437652881828532,
          -1.1111743886255112,
          1.8359557683550445,
          -0.6249666296815001,
          -2.023897039815607,
          -0.8601940309700603,
          0.16485301587299,
          1.4953349379652183,
          0.3730240119071808,
          0.15925679164929463,
          1.6149762610901233,
          1.1886259375183363,
          0.36490947137394925,
          -0.277109980002345,
          -0.7186159514942053,
          0.7932326128351476,
          -0.6947531868233376,
          -0.6728638956989003,
          1.168924580201343,
          -0.41233623513644024,
          0.19784681126554177,
          -0.16672974435674576,
          1.5787929527059819,
          -1.2036869576587854,
          1.6388602894589932,
          1.1089114782328384,
          -0.6721462245633214,
          -0.3138745235292235,
          -0.36686782982021504,
          0.4065463530031799,
          -0.2257079493612666,
          -0.43758529260168777,
          -0.2625152761872851,
          -1.328898373680611,
          -2.9542908677251907,
          0.21927251170457285,
          0.5340299809554598,
          -0.17813790978690175,
          -1.694306210049193,
          0.8453898499703644,
          -0.4470270295083598,
          1.4645815144212275,
          0.7910848605126803,
          -0.8297193499743546,
          1.6978211174739473,
          -0.9594406497906319,
          0.8588943710079524,
          0.5958120032635975,
          0.5812863670036684,
          0.006947874844667447,
          1.328502003354449,
          -0.023639303401695195,
          0.5988265122087519,
          0.08350412346342759,
          -0.546791662972372,
          -0.008976085354435942,
          -1.3006584746527383,
          -0.20279537336043443,
          0.40149387048614843,
          -0.44258682753169964,
          -0.6584645562551634,
          -0.9033796634003993,
          -0.9053368934817235,
          -0.46190729712378953,
          -0.6547812127063081,
          -1.0864383496934662,
          0.32165120874344855,
          2.613123546687639,
          1.3927968612517874,
          0.9919936360099734,
          -1.8454616872399732,
          0.5894927197443933,
          -0.03559551820886039,
          -0.7910367650609854,
          -1.6255372546247662,
          -0.24326405453267416,
          1.8413885707475877,
          0.92182013753838,
          -1.2389704928347567,
          -0.4681250751946212,
          -0.6564464802415292,
          1.1616997366798514,
          -1.6872613038346125,
          0.06782059673136204,
          0.10246372343762038,
          -0.9441951394571112,
          0.4646299907553265,
          0.5150963253406441,
          -1.0314331444035327,
          2.76602889102714,
          -1.077324321471914,
          -1.0627038272964975,
          -1.3541233150161391,
          -1.1865180094484067,
          -1.1649117176906831,
          -0.14218353540987846,
          -0.8214858920308317,
          1.75215782148672,
          0.4284955139825126
         ],
         "xaxis": "x2",
         "y": [
          0.18211528188351103,
          0.11443106335682444,
          0.5949692036342886,
          -0.3535342544087595,
          -0.47572636863988527,
          0.6611105346730619,
          1.0917475868868998,
          -1.055908421134264,
          0.7494679589241444,
          0.5789759034671067,
          0.7316774439952273,
          -0.4486644091579335,
          -0.3216613236541918,
          1.3398947178944725,
          -1.8158654345047331,
          0.5313904039049452,
          -0.7423013212863171,
          0.5331557511732393,
          0.0991340250011104,
          -0.888876014490736,
          -0.8071434029017788,
          0.22621387687134864,
          0.33846701985286654,
          1.2847481967645078,
          -1.3046454706066617,
          0.03165923167711625,
          -1.812749936339364,
          -0.3760202389737884,
          1.3773443376494576,
          -2.4683856625741445,
          0.16576781332166,
          0.45861358558459847,
          1.3116230867367287,
          -0.4092701515328862,
          1.9480137811637988,
          -0.24311669259196267,
          -1.2560627046642676,
          -1.1013099447982246,
          1.9186619850406614,
          -0.10627374375998706,
          -0.6196495923112475,
          -0.8298416977962055,
          -0.6757826281867358,
          0.2280090045808461,
          0.7648507904943159,
          1.3011275065550427,
          -0.04783545430568777,
          1.789352458526911,
          1.2482110579534083,
          0.7630239321342249,
          -2.0282702513681095,
          -0.7203015319260467,
          -0.05507082231774276,
          -0.7816847616571831,
          0.4459670558769205,
          0.3212838980346144,
          -0.6426253662138668,
          -0.0027100937375358005,
          0.2113669790740554,
          -1.1624280332116925,
          -1.2107191807959004,
          0.0023915808065864963,
          0.9477239269888895,
          2.0969969112315665,
          -0.6473295177516343,
          1.7239296014100238,
          -0.3054485264824094,
          1.276967520625875,
          -0.09911990914379495,
          0.46479845341110443,
          1.908453861164365,
          3.2946693525465824,
          0.4455923130866878,
          1.7263194925230791,
          -0.11369290761079535,
          -0.5605401630316551,
          -0.7195145870525593,
          2.4171089252328173,
          1.1119174808971366,
          1.6058626990827998,
          -1.0471529563643316,
          -1.880630666155797,
          1.015554806251903,
          -1.0412013633671626,
          0.15290879219816925,
          0.398987354671911,
          0.38330897229416844,
          1.3474622977012083,
          0.182933725350078,
          -0.8699642581973692,
          0.4133254150315233,
          0.07694373551123751,
          -1.2265406355999857,
          1.0485399380470044,
          0.2733731206474115,
          -0.7293710670711111,
          -0.9662635657350681,
          -0.3915848836708997,
          -1.0552550223150015,
          1.3045085529377953
         ],
         "yaxis": "y2"
        },
        {
         "line": {
          "color": "rgba(128, 128, 128, 1.0)",
          "dash": "solid",
          "shape": "linear",
          "width": 1.3
         },
         "marker": {
          "size": 2,
          "symbol": "circle"
         },
         "mode": "markers",
         "name": "A",
         "text": "",
         "type": "scatter",
         "x": [
          0.5518428296260244,
          1.0586804391840123,
          1.0365275747015392,
          -2.9981777461180927,
          0.2393081463236984,
          1.8872692011242316,
          -0.08393410152634781,
          0.16687386739827878,
          -0.25568560100690213,
          -1.6524168343385888,
          0.9018624301995285,
          1.9706936592959021,
          1.3196666619391262,
          1.80560282209464,
          0.1169649415974748,
          1.0200555409233896,
          -0.713293962117717,
          0.34663290034929894,
          1.9553668942821194,
          1.0572244131673274,
          0.23731600659371405,
          -0.03223778130846141,
          -0.7520054789340904,
          1.1024463153528665,
          -0.42873959191897,
          -1.0037676451014164,
          0.9909701722847235,
          0.6615956884327304,
          0.5435140345534052,
          -0.7981148017058789,
          -0.9048683138594317,
          -0.0013692686796361255,
          -0.32185030950073557,
          -0.873370590630425,
          0.5211634671549273,
          -0.5003155920879961,
          0.6895540877968527,
          0.2556938440662887,
          0.9140656488831231,
          0.33256356698999684,
          -0.08312203568317938,
          0.07020335575515782,
          0.2737462534668183,
          0.3648081809290682,
          -0.6303450808077177,
          0.03681908928834904,
          -1.8003004393922768,
          0.2830157753218885,
          0.5241979222791527,
          -0.4665430287189287,
          1.5499299717127788,
          0.6469600785277869,
          -0.8250004098446538,
          0.4233116384418227,
          1.2322347778823928,
          0.5263994492634283,
          0.06836858250917653,
          0.2268106943239445,
          0.4230903618598781,
          -1.0047231362657685,
          -0.39737069133271397,
          -0.07344313829557902,
          1.0732351002723863,
          -0.6447409426762986,
          0.05811677218658131,
          0.6809155967949494,
          -1.6277416030292955,
          -0.08011779693656904,
          0.12605767532523804,
          -0.5427044014254443,
          -0.03488139936261926,
          -0.26472206479304683,
          -0.24540813729398311,
          0.05787658500439807,
          -0.8327505442704737,
          0.8432112047945828,
          -0.07293256137350335,
          0.9382650424541648,
          -0.11857424537434501,
          0.09566984994854791,
          -1.1555681863500853,
          -0.5628180864415381,
          -0.030326902701813502,
          1.8872384972146499,
          -0.3825590879924287,
          -0.7347844102569788,
          2.071124053273013,
          0.0021686444798123114,
          1.1702844177756384,
          0.5507097527282829,
          0.5080239045387717,
          0.03608985471420347,
          0.9032285520857251,
          -1.0657048652768666,
          -0.6004926202340528,
          -0.7674944490251198,
          -2.3975308350523656,
          1.0634632471898193,
          0.18572032621691165,
          -0.13564355079462026
         ],
         "xaxis": "x3",
         "y": [
          0.18211528188351103,
          0.11443106335682444,
          0.5949692036342886,
          -0.3535342544087595,
          -0.47572636863988527,
          0.6611105346730619,
          1.0917475868868998,
          -1.055908421134264,
          0.7494679589241444,
          0.5789759034671067,
          0.7316774439952273,
          -0.4486644091579335,
          -0.3216613236541918,
          1.3398947178944725,
          -1.8158654345047331,
          0.5313904039049452,
          -0.7423013212863171,
          0.5331557511732393,
          0.0991340250011104,
          -0.888876014490736,
          -0.8071434029017788,
          0.22621387687134864,
          0.33846701985286654,
          1.2847481967645078,
          -1.3046454706066617,
          0.03165923167711625,
          -1.812749936339364,
          -0.3760202389737884,
          1.3773443376494576,
          -2.4683856625741445,
          0.16576781332166,
          0.45861358558459847,
          1.3116230867367287,
          -0.4092701515328862,
          1.9480137811637988,
          -0.24311669259196267,
          -1.2560627046642676,
          -1.1013099447982246,
          1.9186619850406614,
          -0.10627374375998706,
          -0.6196495923112475,
          -0.8298416977962055,
          -0.6757826281867358,
          0.2280090045808461,
          0.7648507904943159,
          1.3011275065550427,
          -0.04783545430568777,
          1.789352458526911,
          1.2482110579534083,
          0.7630239321342249,
          -2.0282702513681095,
          -0.7203015319260467,
          -0.05507082231774276,
          -0.7816847616571831,
          0.4459670558769205,
          0.3212838980346144,
          -0.6426253662138668,
          -0.0027100937375358005,
          0.2113669790740554,
          -1.1624280332116925,
          -1.2107191807959004,
          0.0023915808065864963,
          0.9477239269888895,
          2.0969969112315665,
          -0.6473295177516343,
          1.7239296014100238,
          -0.3054485264824094,
          1.276967520625875,
          -0.09911990914379495,
          0.46479845341110443,
          1.908453861164365,
          3.2946693525465824,
          0.4455923130866878,
          1.7263194925230791,
          -0.11369290761079535,
          -0.5605401630316551,
          -0.7195145870525593,
          2.4171089252328173,
          1.1119174808971366,
          1.6058626990827998,
          -1.0471529563643316,
          -1.880630666155797,
          1.015554806251903,
          -1.0412013633671626,
          0.15290879219816925,
          0.398987354671911,
          0.38330897229416844,
          1.3474622977012083,
          0.182933725350078,
          -0.8699642581973692,
          0.4133254150315233,
          0.07694373551123751,
          -1.2265406355999857,
          1.0485399380470044,
          0.2733731206474115,
          -0.7293710670711111,
          -0.9662635657350681,
          -0.3915848836708997,
          -1.0552550223150015,
          1.3045085529377953
         ],
         "yaxis": "y3"
        },
        {
         "line": {
          "color": "rgba(128, 128, 128, 1.0)",
          "dash": "solid",
          "shape": "linear",
          "width": 1.3
         },
         "marker": {
          "size": 2,
          "symbol": "circle"
         },
         "mode": "markers",
         "name": "A",
         "text": "",
         "type": "scatter",
         "x": [
          0.2738559016122897,
          0.7106502379418743,
          -1.7509084156433161,
          -0.9227763319033462,
          -0.1896771677542079,
          0.3026683859132041,
          -0.0920793486260978,
          -0.9495997396565908,
          -1.7749894508055353,
          -1.7535243348691498,
          -0.5988954962609513,
          -0.8303808063690381,
          0.8521524191089968,
          1.9662665203821206,
          -0.9755156030288992,
          -2.1513066476382043,
          -2.0149014361552062,
          1.4190512112043663,
          0.9101757994864929,
          0.2706871767071419,
          -0.21592636390465056,
          1.9391994568216602,
          0.07747697707792196,
          0.7779200326235947,
          -0.2772291910817807,
          -2.242501613667083,
          0.4918308687584895,
          0.8931991510725807,
          -0.17209096940054266,
          0.46784822980636726,
          -1.2878564615246344,
          0.60238360809786,
          -0.11343885434841276,
          0.8425259361263151,
          2.450738718164936,
          1.7644565022971292,
          0.14002090373597423,
          0.6278547242495557,
          -0.38923758768431627,
          -0.09731354951457473,
          -1.322639652790698,
          -0.24768605767131183,
          0.2846995770357078,
          -0.3594903757927821,
          -0.20673693654884476,
          2.4593116350956308,
          0.6065535437723129,
          -1.0246373342647117,
          -0.07976237682655041,
          0.57035784004666,
          1.2067255141088138,
          1.4104986023116812,
          0.25595380920077154,
          -0.3343992931212443,
          0.05980317789997982,
          -1.9467039940984174,
          -1.565869323653207,
          -0.2533814700811455,
          0.6308960196561134,
          -0.30821376612250556,
          -0.18399398643410958,
          0.8043101508258407,
          -0.13155361349583128,
          -1.4084353160404273,
          -0.4349940821430627,
          0.1664234569748299,
          -0.7901108936090245,
          1.4884838784331955,
          0.5925673693297888,
          -0.19686708296039054,
          0.12609007897393137,
          0.7812428395310707,
          -0.2602981736363745,
          0.3514862362992299,
          0.04486711361988808,
          -0.9273180908786917,
          0.0067026732445349116,
          0.6935454391728332,
          -1.2917279374782737,
          0.7287254117512857,
          -0.6782587204178349,
          -0.14265129979757074,
          0.30593909289019683,
          0.49220350505844146,
          -0.07444597486191551,
          -0.45995401480221126,
          0.02408849041473539,
          -0.054200525968196966,
          -0.09323659787118423,
          -0.5265777382946164,
          -0.4245176246163635,
          0.6902068699550099,
          -1.369310076792178,
          1.2895384944001946,
          -0.3199485321860116,
          0.7491705827529969,
          -1.6618011560128831,
          -0.6728917217096003,
          -0.9595010217541334,
          1.2680332547877091
         ],
         "xaxis": "x4",
         "y": [
          0.18211528188351103,
          0.11443106335682444,
          0.5949692036342886,
          -0.3535342544087595,
          -0.47572636863988527,
          0.6611105346730619,
          1.0917475868868998,
          -1.055908421134264,
          0.7494679589241444,
          0.5789759034671067,
          0.7316774439952273,
          -0.4486644091579335,
          -0.3216613236541918,
          1.3398947178944725,
          -1.8158654345047331,
          0.5313904039049452,
          -0.7423013212863171,
          0.5331557511732393,
          0.0991340250011104,
          -0.888876014490736,
          -0.8071434029017788,
          0.22621387687134864,
          0.33846701985286654,
          1.2847481967645078,
          -1.3046454706066617,
          0.03165923167711625,
          -1.812749936339364,
          -0.3760202389737884,
          1.3773443376494576,
          -2.4683856625741445,
          0.16576781332166,
          0.45861358558459847,
          1.3116230867367287,
          -0.4092701515328862,
          1.9480137811637988,
          -0.24311669259196267,
          -1.2560627046642676,
          -1.1013099447982246,
          1.9186619850406614,
          -0.10627374375998706,
          -0.6196495923112475,
          -0.8298416977962055,
          -0.6757826281867358,
          0.2280090045808461,
          0.7648507904943159,
          1.3011275065550427,
          -0.04783545430568777,
          1.789352458526911,
          1.2482110579534083,
          0.7630239321342249,
          -2.0282702513681095,
          -0.7203015319260467,
          -0.05507082231774276,
          -0.7816847616571831,
          0.4459670558769205,
          0.3212838980346144,
          -0.6426253662138668,
          -0.0027100937375358005,
          0.2113669790740554,
          -1.1624280332116925,
          -1.2107191807959004,
          0.0023915808065864963,
          0.9477239269888895,
          2.0969969112315665,
          -0.6473295177516343,
          1.7239296014100238,
          -0.3054485264824094,
          1.276967520625875,
          -0.09911990914379495,
          0.46479845341110443,
          1.908453861164365,
          3.2946693525465824,
          0.4455923130866878,
          1.7263194925230791,
          -0.11369290761079535,
          -0.5605401630316551,
          -0.7195145870525593,
          2.4171089252328173,
          1.1119174808971366,
          1.6058626990827998,
          -1.0471529563643316,
          -1.880630666155797,
          1.015554806251903,
          -1.0412013633671626,
          0.15290879219816925,
          0.398987354671911,
          0.38330897229416844,
          1.3474622977012083,
          0.182933725350078,
          -0.8699642581973692,
          0.4133254150315233,
          0.07694373551123751,
          -1.2265406355999857,
          1.0485399380470044,
          0.2733731206474115,
          -0.7293710670711111,
          -0.9662635657350681,
          -0.3915848836708997,
          -1.0552550223150015,
          1.3045085529377953
         ],
         "yaxis": "y4"
        },
        {
         "line": {
          "color": "rgba(128, 128, 128, 1.0)",
          "dash": "solid",
          "shape": "linear",
          "width": 1.3
         },
         "marker": {
          "size": 2,
          "symbol": "circle"
         },
         "mode": "markers",
         "name": "B",
         "text": "",
         "type": "scatter",
         "x": [
          0.18211528188351103,
          0.11443106335682444,
          0.5949692036342886,
          -0.3535342544087595,
          -0.47572636863988527,
          0.6611105346730619,
          1.0917475868868998,
          -1.055908421134264,
          0.7494679589241444,
          0.5789759034671067,
          0.7316774439952273,
          -0.4486644091579335,
          -0.3216613236541918,
          1.3398947178944725,
          -1.8158654345047331,
          0.5313904039049452,
          -0.7423013212863171,
          0.5331557511732393,
          0.0991340250011104,
          -0.888876014490736,
          -0.8071434029017788,
          0.22621387687134864,
          0.33846701985286654,
          1.2847481967645078,
          -1.3046454706066617,
          0.03165923167711625,
          -1.812749936339364,
          -0.3760202389737884,
          1.3773443376494576,
          -2.4683856625741445,
          0.16576781332166,
          0.45861358558459847,
          1.3116230867367287,
          -0.4092701515328862,
          1.9480137811637988,
          -0.24311669259196267,
          -1.2560627046642676,
          -1.1013099447982246,
          1.9186619850406614,
          -0.10627374375998706,
          -0.6196495923112475,
          -0.8298416977962055,
          -0.6757826281867358,
          0.2280090045808461,
          0.7648507904943159,
          1.3011275065550427,
          -0.04783545430568777,
          1.789352458526911,
          1.2482110579534083,
          0.7630239321342249,
          -2.0282702513681095,
          -0.7203015319260467,
          -0.05507082231774276,
          -0.7816847616571831,
          0.4459670558769205,
          0.3212838980346144,
          -0.6426253662138668,
          -0.0027100937375358005,
          0.2113669790740554,
          -1.1624280332116925,
          -1.2107191807959004,
          0.0023915808065864963,
          0.9477239269888895,
          2.0969969112315665,
          -0.6473295177516343,
          1.7239296014100238,
          -0.3054485264824094,
          1.276967520625875,
          -0.09911990914379495,
          0.46479845341110443,
          1.908453861164365,
          3.2946693525465824,
          0.4455923130866878,
          1.7263194925230791,
          -0.11369290761079535,
          -0.5605401630316551,
          -0.7195145870525593,
          2.4171089252328173,
          1.1119174808971366,
          1.6058626990827998,
          -1.0471529563643316,
          -1.880630666155797,
          1.015554806251903,
          -1.0412013633671626,
          0.15290879219816925,
          0.398987354671911,
          0.38330897229416844,
          1.3474622977012083,
          0.182933725350078,
          -0.8699642581973692,
          0.4133254150315233,
          0.07694373551123751,
          -1.2265406355999857,
          1.0485399380470044,
          0.2733731206474115,
          -0.7293710670711111,
          -0.9662635657350681,
          -0.3915848836708997,
          -1.0552550223150015,
          1.3045085529377953
         ],
         "xaxis": "x5",
         "y": [
          -0.02018755564793259,
          -1.3437652881828532,
          -1.1111743886255112,
          1.8359557683550445,
          -0.6249666296815001,
          -2.023897039815607,
          -0.8601940309700603,
          0.16485301587299,
          1.4953349379652183,
          0.3730240119071808,
          0.15925679164929463,
          1.6149762610901233,
          1.1886259375183363,
          0.36490947137394925,
          -0.277109980002345,
          -0.7186159514942053,
          0.7932326128351476,
          -0.6947531868233376,
          -0.6728638956989003,
          1.168924580201343,
          -0.41233623513644024,
          0.19784681126554177,
          -0.16672974435674576,
          1.5787929527059819,
          -1.2036869576587854,
          1.6388602894589932,
          1.1089114782328384,
          -0.6721462245633214,
          -0.3138745235292235,
          -0.36686782982021504,
          0.4065463530031799,
          -0.2257079493612666,
          -0.43758529260168777,
          -0.2625152761872851,
          -1.328898373680611,
          -2.9542908677251907,
          0.21927251170457285,
          0.5340299809554598,
          -0.17813790978690175,
          -1.694306210049193,
          0.8453898499703644,
          -0.4470270295083598,
          1.4645815144212275,
          0.7910848605126803,
          -0.8297193499743546,
          1.6978211174739473,
          -0.9594406497906319,
          0.8588943710079524,
          0.5958120032635975,
          0.5812863670036684,
          0.006947874844667447,
          1.328502003354449,
          -0.023639303401695195,
          0.5988265122087519,
          0.08350412346342759,
          -0.546791662972372,
          -0.008976085354435942,
          -1.3006584746527383,
          -0.20279537336043443,
          0.40149387048614843,
          -0.44258682753169964,
          -0.6584645562551634,
          -0.9033796634003993,
          -0.9053368934817235,
          -0.46190729712378953,
          -0.6547812127063081,
          -1.0864383496934662,
          0.32165120874344855,
          2.613123546687639,
          1.3927968612517874,
          0.9919936360099734,
          -1.8454616872399732,
          0.5894927197443933,
          -0.03559551820886039,
          -0.7910367650609854,
          -1.6255372546247662,
          -0.24326405453267416,
          1.8413885707475877,
          0.92182013753838,
          -1.2389704928347567,
          -0.4681250751946212,
          -0.6564464802415292,
          1.1616997366798514,
          -1.6872613038346125,
          0.06782059673136204,
          0.10246372343762038,
          -0.9441951394571112,
          0.4646299907553265,
          0.5150963253406441,
          -1.0314331444035327,
          2.76602889102714,
          -1.077324321471914,
          -1.0627038272964975,
          -1.3541233150161391,
          -1.1865180094484067,
          -1.1649117176906831,
          -0.14218353540987846,
          -0.8214858920308317,
          1.75215782148672,
          0.4284955139825126
         ],
         "yaxis": "y5"
        },
        {
         "histfunc": "count",
         "histnorm": "",
         "marker": {
          "color": "rgba(55, 128, 191, 1.0)",
          "line": {
           "color": "#4D5663",
           "width": 1.3
          }
         },
         "name": "B",
         "nbinsx": 10,
         "opacity": 0.8,
         "orientation": "v",
         "type": "histogram",
         "x": [
          -0.02018755564793259,
          -1.3437652881828532,
          -1.1111743886255112,
          1.8359557683550445,
          -0.6249666296815001,
          -2.023897039815607,
          -0.8601940309700603,
          0.16485301587299,
          1.4953349379652183,
          0.3730240119071808,
          0.15925679164929463,
          1.6149762610901233,
          1.1886259375183363,
          0.36490947137394925,
          -0.277109980002345,
          -0.7186159514942053,
          0.7932326128351476,
          -0.6947531868233376,
          -0.6728638956989003,
          1.168924580201343,
          -0.41233623513644024,
          0.19784681126554177,
          -0.16672974435674576,
          1.5787929527059819,
          -1.2036869576587854,
          1.6388602894589932,
          1.1089114782328384,
          -0.6721462245633214,
          -0.3138745235292235,
          -0.36686782982021504,
          0.4065463530031799,
          -0.2257079493612666,
          -0.43758529260168777,
          -0.2625152761872851,
          -1.328898373680611,
          -2.9542908677251907,
          0.21927251170457285,
          0.5340299809554598,
          -0.17813790978690175,
          -1.694306210049193,
          0.8453898499703644,
          -0.4470270295083598,
          1.4645815144212275,
          0.7910848605126803,
          -0.8297193499743546,
          1.6978211174739473,
          -0.9594406497906319,
          0.8588943710079524,
          0.5958120032635975,
          0.5812863670036684,
          0.006947874844667447,
          1.328502003354449,
          -0.023639303401695195,
          0.5988265122087519,
          0.08350412346342759,
          -0.546791662972372,
          -0.008976085354435942,
          -1.3006584746527383,
          -0.20279537336043443,
          0.40149387048614843,
          -0.44258682753169964,
          -0.6584645562551634,
          -0.9033796634003993,
          -0.9053368934817235,
          -0.46190729712378953,
          -0.6547812127063081,
          -1.0864383496934662,
          0.32165120874344855,
          2.613123546687639,
          1.3927968612517874,
          0.9919936360099734,
          -1.8454616872399732,
          0.5894927197443933,
          -0.03559551820886039,
          -0.7910367650609854,
          -1.6255372546247662,
          -0.24326405453267416,
          1.8413885707475877,
          0.92182013753838,
          -1.2389704928347567,
          -0.4681250751946212,
          -0.6564464802415292,
          1.1616997366798514,
          -1.6872613038346125,
          0.06782059673136204,
          0.10246372343762038,
          -0.9441951394571112,
          0.4646299907553265,
          0.5150963253406441,
          -1.0314331444035327,
          2.76602889102714,
          -1.077324321471914,
          -1.0627038272964975,
          -1.3541233150161391,
          -1.1865180094484067,
          -1.1649117176906831,
          -0.14218353540987846,
          -0.8214858920308317,
          1.75215782148672,
          0.4284955139825126
         ],
         "xaxis": "x6",
         "yaxis": "y6"
        },
        {
         "line": {
          "color": "rgba(128, 128, 128, 1.0)",
          "dash": "solid",
          "shape": "linear",
          "width": 1.3
         },
         "marker": {
          "size": 2,
          "symbol": "circle"
         },
         "mode": "markers",
         "name": "B",
         "text": "",
         "type": "scatter",
         "x": [
          0.5518428296260244,
          1.0586804391840123,
          1.0365275747015392,
          -2.9981777461180927,
          0.2393081463236984,
          1.8872692011242316,
          -0.08393410152634781,
          0.16687386739827878,
          -0.25568560100690213,
          -1.6524168343385888,
          0.9018624301995285,
          1.9706936592959021,
          1.3196666619391262,
          1.80560282209464,
          0.1169649415974748,
          1.0200555409233896,
          -0.713293962117717,
          0.34663290034929894,
          1.9553668942821194,
          1.0572244131673274,
          0.23731600659371405,
          -0.03223778130846141,
          -0.7520054789340904,
          1.1024463153528665,
          -0.42873959191897,
          -1.0037676451014164,
          0.9909701722847235,
          0.6615956884327304,
          0.5435140345534052,
          -0.7981148017058789,
          -0.9048683138594317,
          -0.0013692686796361255,
          -0.32185030950073557,
          -0.873370590630425,
          0.5211634671549273,
          -0.5003155920879961,
          0.6895540877968527,
          0.2556938440662887,
          0.9140656488831231,
          0.33256356698999684,
          -0.08312203568317938,
          0.07020335575515782,
          0.2737462534668183,
          0.3648081809290682,
          -0.6303450808077177,
          0.03681908928834904,
          -1.8003004393922768,
          0.2830157753218885,
          0.5241979222791527,
          -0.4665430287189287,
          1.5499299717127788,
          0.6469600785277869,
          -0.8250004098446538,
          0.4233116384418227,
          1.2322347778823928,
          0.5263994492634283,
          0.06836858250917653,
          0.2268106943239445,
          0.4230903618598781,
          -1.0047231362657685,
          -0.39737069133271397,
          -0.07344313829557902,
          1.0732351002723863,
          -0.6447409426762986,
          0.05811677218658131,
          0.6809155967949494,
          -1.6277416030292955,
          -0.08011779693656904,
          0.12605767532523804,
          -0.5427044014254443,
          -0.03488139936261926,
          -0.26472206479304683,
          -0.24540813729398311,
          0.05787658500439807,
          -0.8327505442704737,
          0.8432112047945828,
          -0.07293256137350335,
          0.9382650424541648,
          -0.11857424537434501,
          0.09566984994854791,
          -1.1555681863500853,
          -0.5628180864415381,
          -0.030326902701813502,
          1.8872384972146499,
          -0.3825590879924287,
          -0.7347844102569788,
          2.071124053273013,
          0.0021686444798123114,
          1.1702844177756384,
          0.5507097527282829,
          0.5080239045387717,
          0.03608985471420347,
          0.9032285520857251,
          -1.0657048652768666,
          -0.6004926202340528,
          -0.7674944490251198,
          -2.3975308350523656,
          1.0634632471898193,
          0.18572032621691165,
          -0.13564355079462026
         ],
         "xaxis": "x7",
         "y": [
          -0.02018755564793259,
          -1.3437652881828532,
          -1.1111743886255112,
          1.8359557683550445,
          -0.6249666296815001,
          -2.023897039815607,
          -0.8601940309700603,
          0.16485301587299,
          1.4953349379652183,
          0.3730240119071808,
          0.15925679164929463,
          1.6149762610901233,
          1.1886259375183363,
          0.36490947137394925,
          -0.277109980002345,
          -0.7186159514942053,
          0.7932326128351476,
          -0.6947531868233376,
          -0.6728638956989003,
          1.168924580201343,
          -0.41233623513644024,
          0.19784681126554177,
          -0.16672974435674576,
          1.5787929527059819,
          -1.2036869576587854,
          1.6388602894589932,
          1.1089114782328384,
          -0.6721462245633214,
          -0.3138745235292235,
          -0.36686782982021504,
          0.4065463530031799,
          -0.2257079493612666,
          -0.43758529260168777,
          -0.2625152761872851,
          -1.328898373680611,
          -2.9542908677251907,
          0.21927251170457285,
          0.5340299809554598,
          -0.17813790978690175,
          -1.694306210049193,
          0.8453898499703644,
          -0.4470270295083598,
          1.4645815144212275,
          0.7910848605126803,
          -0.8297193499743546,
          1.6978211174739473,
          -0.9594406497906319,
          0.8588943710079524,
          0.5958120032635975,
          0.5812863670036684,
          0.006947874844667447,
          1.328502003354449,
          -0.023639303401695195,
          0.5988265122087519,
          0.08350412346342759,
          -0.546791662972372,
          -0.008976085354435942,
          -1.3006584746527383,
          -0.20279537336043443,
          0.40149387048614843,
          -0.44258682753169964,
          -0.6584645562551634,
          -0.9033796634003993,
          -0.9053368934817235,
          -0.46190729712378953,
          -0.6547812127063081,
          -1.0864383496934662,
          0.32165120874344855,
          2.613123546687639,
          1.3927968612517874,
          0.9919936360099734,
          -1.8454616872399732,
          0.5894927197443933,
          -0.03559551820886039,
          -0.7910367650609854,
          -1.6255372546247662,
          -0.24326405453267416,
          1.8413885707475877,
          0.92182013753838,
          -1.2389704928347567,
          -0.4681250751946212,
          -0.6564464802415292,
          1.1616997366798514,
          -1.6872613038346125,
          0.06782059673136204,
          0.10246372343762038,
          -0.9441951394571112,
          0.4646299907553265,
          0.5150963253406441,
          -1.0314331444035327,
          2.76602889102714,
          -1.077324321471914,
          -1.0627038272964975,
          -1.3541233150161391,
          -1.1865180094484067,
          -1.1649117176906831,
          -0.14218353540987846,
          -0.8214858920308317,
          1.75215782148672,
          0.4284955139825126
         ],
         "yaxis": "y7"
        },
        {
         "line": {
          "color": "rgba(128, 128, 128, 1.0)",
          "dash": "solid",
          "shape": "linear",
          "width": 1.3
         },
         "marker": {
          "size": 2,
          "symbol": "circle"
         },
         "mode": "markers",
         "name": "B",
         "text": "",
         "type": "scatter",
         "x": [
          0.2738559016122897,
          0.7106502379418743,
          -1.7509084156433161,
          -0.9227763319033462,
          -0.1896771677542079,
          0.3026683859132041,
          -0.0920793486260978,
          -0.9495997396565908,
          -1.7749894508055353,
          -1.7535243348691498,
          -0.5988954962609513,
          -0.8303808063690381,
          0.8521524191089968,
          1.9662665203821206,
          -0.9755156030288992,
          -2.1513066476382043,
          -2.0149014361552062,
          1.4190512112043663,
          0.9101757994864929,
          0.2706871767071419,
          -0.21592636390465056,
          1.9391994568216602,
          0.07747697707792196,
          0.7779200326235947,
          -0.2772291910817807,
          -2.242501613667083,
          0.4918308687584895,
          0.8931991510725807,
          -0.17209096940054266,
          0.46784822980636726,
          -1.2878564615246344,
          0.60238360809786,
          -0.11343885434841276,
          0.8425259361263151,
          2.450738718164936,
          1.7644565022971292,
          0.14002090373597423,
          0.6278547242495557,
          -0.38923758768431627,
          -0.09731354951457473,
          -1.322639652790698,
          -0.24768605767131183,
          0.2846995770357078,
          -0.3594903757927821,
          -0.20673693654884476,
          2.4593116350956308,
          0.6065535437723129,
          -1.0246373342647117,
          -0.07976237682655041,
          0.57035784004666,
          1.2067255141088138,
          1.4104986023116812,
          0.25595380920077154,
          -0.3343992931212443,
          0.05980317789997982,
          -1.9467039940984174,
          -1.565869323653207,
          -0.2533814700811455,
          0.6308960196561134,
          -0.30821376612250556,
          -0.18399398643410958,
          0.8043101508258407,
          -0.13155361349583128,
          -1.4084353160404273,
          -0.4349940821430627,
          0.1664234569748299,
          -0.7901108936090245,
          1.4884838784331955,
          0.5925673693297888,
          -0.19686708296039054,
          0.12609007897393137,
          0.7812428395310707,
          -0.2602981736363745,
          0.3514862362992299,
          0.04486711361988808,
          -0.9273180908786917,
          0.0067026732445349116,
          0.6935454391728332,
          -1.2917279374782737,
          0.7287254117512857,
          -0.6782587204178349,
          -0.14265129979757074,
          0.30593909289019683,
          0.49220350505844146,
          -0.07444597486191551,
          -0.45995401480221126,
          0.02408849041473539,
          -0.054200525968196966,
          -0.09323659787118423,
          -0.5265777382946164,
          -0.4245176246163635,
          0.6902068699550099,
          -1.369310076792178,
          1.2895384944001946,
          -0.3199485321860116,
          0.7491705827529969,
          -1.6618011560128831,
          -0.6728917217096003,
          -0.9595010217541334,
          1.2680332547877091
         ],
         "xaxis": "x8",
         "y": [
          -0.02018755564793259,
          -1.3437652881828532,
          -1.1111743886255112,
          1.8359557683550445,
          -0.6249666296815001,
          -2.023897039815607,
          -0.8601940309700603,
          0.16485301587299,
          1.4953349379652183,
          0.3730240119071808,
          0.15925679164929463,
          1.6149762610901233,
          1.1886259375183363,
          0.36490947137394925,
          -0.277109980002345,
          -0.7186159514942053,
          0.7932326128351476,
          -0.6947531868233376,
          -0.6728638956989003,
          1.168924580201343,
          -0.41233623513644024,
          0.19784681126554177,
          -0.16672974435674576,
          1.5787929527059819,
          -1.2036869576587854,
          1.6388602894589932,
          1.1089114782328384,
          -0.6721462245633214,
          -0.3138745235292235,
          -0.36686782982021504,
          0.4065463530031799,
          -0.2257079493612666,
          -0.43758529260168777,
          -0.2625152761872851,
          -1.328898373680611,
          -2.9542908677251907,
          0.21927251170457285,
          0.5340299809554598,
          -0.17813790978690175,
          -1.694306210049193,
          0.8453898499703644,
          -0.4470270295083598,
          1.4645815144212275,
          0.7910848605126803,
          -0.8297193499743546,
          1.6978211174739473,
          -0.9594406497906319,
          0.8588943710079524,
          0.5958120032635975,
          0.5812863670036684,
          0.006947874844667447,
          1.328502003354449,
          -0.023639303401695195,
          0.5988265122087519,
          0.08350412346342759,
          -0.546791662972372,
          -0.008976085354435942,
          -1.3006584746527383,
          -0.20279537336043443,
          0.40149387048614843,
          -0.44258682753169964,
          -0.6584645562551634,
          -0.9033796634003993,
          -0.9053368934817235,
          -0.46190729712378953,
          -0.6547812127063081,
          -1.0864383496934662,
          0.32165120874344855,
          2.613123546687639,
          1.3927968612517874,
          0.9919936360099734,
          -1.8454616872399732,
          0.5894927197443933,
          -0.03559551820886039,
          -0.7910367650609854,
          -1.6255372546247662,
          -0.24326405453267416,
          1.8413885707475877,
          0.92182013753838,
          -1.2389704928347567,
          -0.4681250751946212,
          -0.6564464802415292,
          1.1616997366798514,
          -1.6872613038346125,
          0.06782059673136204,
          0.10246372343762038,
          -0.9441951394571112,
          0.4646299907553265,
          0.5150963253406441,
          -1.0314331444035327,
          2.76602889102714,
          -1.077324321471914,
          -1.0627038272964975,
          -1.3541233150161391,
          -1.1865180094484067,
          -1.1649117176906831,
          -0.14218353540987846,
          -0.8214858920308317,
          1.75215782148672,
          0.4284955139825126
         ],
         "yaxis": "y8"
        },
        {
         "line": {
          "color": "rgba(128, 128, 128, 1.0)",
          "dash": "solid",
          "shape": "linear",
          "width": 1.3
         },
         "marker": {
          "size": 2,
          "symbol": "circle"
         },
         "mode": "markers",
         "name": "C",
         "text": "",
         "type": "scatter",
         "x": [
          0.18211528188351103,
          0.11443106335682444,
          0.5949692036342886,
          -0.3535342544087595,
          -0.47572636863988527,
          0.6611105346730619,
          1.0917475868868998,
          -1.055908421134264,
          0.7494679589241444,
          0.5789759034671067,
          0.7316774439952273,
          -0.4486644091579335,
          -0.3216613236541918,
          1.3398947178944725,
          -1.8158654345047331,
          0.5313904039049452,
          -0.7423013212863171,
          0.5331557511732393,
          0.0991340250011104,
          -0.888876014490736,
          -0.8071434029017788,
          0.22621387687134864,
          0.33846701985286654,
          1.2847481967645078,
          -1.3046454706066617,
          0.03165923167711625,
          -1.812749936339364,
          -0.3760202389737884,
          1.3773443376494576,
          -2.4683856625741445,
          0.16576781332166,
          0.45861358558459847,
          1.3116230867367287,
          -0.4092701515328862,
          1.9480137811637988,
          -0.24311669259196267,
          -1.2560627046642676,
          -1.1013099447982246,
          1.9186619850406614,
          -0.10627374375998706,
          -0.6196495923112475,
          -0.8298416977962055,
          -0.6757826281867358,
          0.2280090045808461,
          0.7648507904943159,
          1.3011275065550427,
          -0.04783545430568777,
          1.789352458526911,
          1.2482110579534083,
          0.7630239321342249,
          -2.0282702513681095,
          -0.7203015319260467,
          -0.05507082231774276,
          -0.7816847616571831,
          0.4459670558769205,
          0.3212838980346144,
          -0.6426253662138668,
          -0.0027100937375358005,
          0.2113669790740554,
          -1.1624280332116925,
          -1.2107191807959004,
          0.0023915808065864963,
          0.9477239269888895,
          2.0969969112315665,
          -0.6473295177516343,
          1.7239296014100238,
          -0.3054485264824094,
          1.276967520625875,
          -0.09911990914379495,
          0.46479845341110443,
          1.908453861164365,
          3.2946693525465824,
          0.4455923130866878,
          1.7263194925230791,
          -0.11369290761079535,
          -0.5605401630316551,
          -0.7195145870525593,
          2.4171089252328173,
          1.1119174808971366,
          1.6058626990827998,
          -1.0471529563643316,
          -1.880630666155797,
          1.015554806251903,
          -1.0412013633671626,
          0.15290879219816925,
          0.398987354671911,
          0.38330897229416844,
          1.3474622977012083,
          0.182933725350078,
          -0.8699642581973692,
          0.4133254150315233,
          0.07694373551123751,
          -1.2265406355999857,
          1.0485399380470044,
          0.2733731206474115,
          -0.7293710670711111,
          -0.9662635657350681,
          -0.3915848836708997,
          -1.0552550223150015,
          1.3045085529377953
         ],
         "xaxis": "x9",
         "y": [
          0.5518428296260244,
          1.0586804391840123,
          1.0365275747015392,
          -2.9981777461180927,
          0.2393081463236984,
          1.8872692011242316,
          -0.08393410152634781,
          0.16687386739827878,
          -0.25568560100690213,
          -1.6524168343385888,
          0.9018624301995285,
          1.9706936592959021,
          1.3196666619391262,
          1.80560282209464,
          0.1169649415974748,
          1.0200555409233896,
          -0.713293962117717,
          0.34663290034929894,
          1.9553668942821194,
          1.0572244131673274,
          0.23731600659371405,
          -0.03223778130846141,
          -0.7520054789340904,
          1.1024463153528665,
          -0.42873959191897,
          -1.0037676451014164,
          0.9909701722847235,
          0.6615956884327304,
          0.5435140345534052,
          -0.7981148017058789,
          -0.9048683138594317,
          -0.0013692686796361255,
          -0.32185030950073557,
          -0.873370590630425,
          0.5211634671549273,
          -0.5003155920879961,
          0.6895540877968527,
          0.2556938440662887,
          0.9140656488831231,
          0.33256356698999684,
          -0.08312203568317938,
          0.07020335575515782,
          0.2737462534668183,
          0.3648081809290682,
          -0.6303450808077177,
          0.03681908928834904,
          -1.8003004393922768,
          0.2830157753218885,
          0.5241979222791527,
          -0.4665430287189287,
          1.5499299717127788,
          0.6469600785277869,
          -0.8250004098446538,
          0.4233116384418227,
          1.2322347778823928,
          0.5263994492634283,
          0.06836858250917653,
          0.2268106943239445,
          0.4230903618598781,
          -1.0047231362657685,
          -0.39737069133271397,
          -0.07344313829557902,
          1.0732351002723863,
          -0.6447409426762986,
          0.05811677218658131,
          0.6809155967949494,
          -1.6277416030292955,
          -0.08011779693656904,
          0.12605767532523804,
          -0.5427044014254443,
          -0.03488139936261926,
          -0.26472206479304683,
          -0.24540813729398311,
          0.05787658500439807,
          -0.8327505442704737,
          0.8432112047945828,
          -0.07293256137350335,
          0.9382650424541648,
          -0.11857424537434501,
          0.09566984994854791,
          -1.1555681863500853,
          -0.5628180864415381,
          -0.030326902701813502,
          1.8872384972146499,
          -0.3825590879924287,
          -0.7347844102569788,
          2.071124053273013,
          0.0021686444798123114,
          1.1702844177756384,
          0.5507097527282829,
          0.5080239045387717,
          0.03608985471420347,
          0.9032285520857251,
          -1.0657048652768666,
          -0.6004926202340528,
          -0.7674944490251198,
          -2.3975308350523656,
          1.0634632471898193,
          0.18572032621691165,
          -0.13564355079462026
         ],
         "yaxis": "y9"
        },
        {
         "line": {
          "color": "rgba(128, 128, 128, 1.0)",
          "dash": "solid",
          "shape": "linear",
          "width": 1.3
         },
         "marker": {
          "size": 2,
          "symbol": "circle"
         },
         "mode": "markers",
         "name": "C",
         "text": "",
         "type": "scatter",
         "x": [
          -0.02018755564793259,
          -1.3437652881828532,
          -1.1111743886255112,
          1.8359557683550445,
          -0.6249666296815001,
          -2.023897039815607,
          -0.8601940309700603,
          0.16485301587299,
          1.4953349379652183,
          0.3730240119071808,
          0.15925679164929463,
          1.6149762610901233,
          1.1886259375183363,
          0.36490947137394925,
          -0.277109980002345,
          -0.7186159514942053,
          0.7932326128351476,
          -0.6947531868233376,
          -0.6728638956989003,
          1.168924580201343,
          -0.41233623513644024,
          0.19784681126554177,
          -0.16672974435674576,
          1.5787929527059819,
          -1.2036869576587854,
          1.6388602894589932,
          1.1089114782328384,
          -0.6721462245633214,
          -0.3138745235292235,
          -0.36686782982021504,
          0.4065463530031799,
          -0.2257079493612666,
          -0.43758529260168777,
          -0.2625152761872851,
          -1.328898373680611,
          -2.9542908677251907,
          0.21927251170457285,
          0.5340299809554598,
          -0.17813790978690175,
          -1.694306210049193,
          0.8453898499703644,
          -0.4470270295083598,
          1.4645815144212275,
          0.7910848605126803,
          -0.8297193499743546,
          1.6978211174739473,
          -0.9594406497906319,
          0.8588943710079524,
          0.5958120032635975,
          0.5812863670036684,
          0.006947874844667447,
          1.328502003354449,
          -0.023639303401695195,
          0.5988265122087519,
          0.08350412346342759,
          -0.546791662972372,
          -0.008976085354435942,
          -1.3006584746527383,
          -0.20279537336043443,
          0.40149387048614843,
          -0.44258682753169964,
          -0.6584645562551634,
          -0.9033796634003993,
          -0.9053368934817235,
          -0.46190729712378953,
          -0.6547812127063081,
          -1.0864383496934662,
          0.32165120874344855,
          2.613123546687639,
          1.3927968612517874,
          0.9919936360099734,
          -1.8454616872399732,
          0.5894927197443933,
          -0.03559551820886039,
          -0.7910367650609854,
          -1.6255372546247662,
          -0.24326405453267416,
          1.8413885707475877,
          0.92182013753838,
          -1.2389704928347567,
          -0.4681250751946212,
          -0.6564464802415292,
          1.1616997366798514,
          -1.6872613038346125,
          0.06782059673136204,
          0.10246372343762038,
          -0.9441951394571112,
          0.4646299907553265,
          0.5150963253406441,
          -1.0314331444035327,
          2.76602889102714,
          -1.077324321471914,
          -1.0627038272964975,
          -1.3541233150161391,
          -1.1865180094484067,
          -1.1649117176906831,
          -0.14218353540987846,
          -0.8214858920308317,
          1.75215782148672,
          0.4284955139825126
         ],
         "xaxis": "x10",
         "y": [
          0.5518428296260244,
          1.0586804391840123,
          1.0365275747015392,
          -2.9981777461180927,
          0.2393081463236984,
          1.8872692011242316,
          -0.08393410152634781,
          0.16687386739827878,
          -0.25568560100690213,
          -1.6524168343385888,
          0.9018624301995285,
          1.9706936592959021,
          1.3196666619391262,
          1.80560282209464,
          0.1169649415974748,
          1.0200555409233896,
          -0.713293962117717,
          0.34663290034929894,
          1.9553668942821194,
          1.0572244131673274,
          0.23731600659371405,
          -0.03223778130846141,
          -0.7520054789340904,
          1.1024463153528665,
          -0.42873959191897,
          -1.0037676451014164,
          0.9909701722847235,
          0.6615956884327304,
          0.5435140345534052,
          -0.7981148017058789,
          -0.9048683138594317,
          -0.0013692686796361255,
          -0.32185030950073557,
          -0.873370590630425,
          0.5211634671549273,
          -0.5003155920879961,
          0.6895540877968527,
          0.2556938440662887,
          0.9140656488831231,
          0.33256356698999684,
          -0.08312203568317938,
          0.07020335575515782,
          0.2737462534668183,
          0.3648081809290682,
          -0.6303450808077177,
          0.03681908928834904,
          -1.8003004393922768,
          0.2830157753218885,
          0.5241979222791527,
          -0.4665430287189287,
          1.5499299717127788,
          0.6469600785277869,
          -0.8250004098446538,
          0.4233116384418227,
          1.2322347778823928,
          0.5263994492634283,
          0.06836858250917653,
          0.2268106943239445,
          0.4230903618598781,
          -1.0047231362657685,
          -0.39737069133271397,
          -0.07344313829557902,
          1.0732351002723863,
          -0.6447409426762986,
          0.05811677218658131,
          0.6809155967949494,
          -1.6277416030292955,
          -0.08011779693656904,
          0.12605767532523804,
          -0.5427044014254443,
          -0.03488139936261926,
          -0.26472206479304683,
          -0.24540813729398311,
          0.05787658500439807,
          -0.8327505442704737,
          0.8432112047945828,
          -0.07293256137350335,
          0.9382650424541648,
          -0.11857424537434501,
          0.09566984994854791,
          -1.1555681863500853,
          -0.5628180864415381,
          -0.030326902701813502,
          1.8872384972146499,
          -0.3825590879924287,
          -0.7347844102569788,
          2.071124053273013,
          0.0021686444798123114,
          1.1702844177756384,
          0.5507097527282829,
          0.5080239045387717,
          0.03608985471420347,
          0.9032285520857251,
          -1.0657048652768666,
          -0.6004926202340528,
          -0.7674944490251198,
          -2.3975308350523656,
          1.0634632471898193,
          0.18572032621691165,
          -0.13564355079462026
         ],
         "yaxis": "y10"
        },
        {
         "histfunc": "count",
         "histnorm": "",
         "marker": {
          "color": "rgba(50, 171, 96, 1.0)",
          "line": {
           "color": "#4D5663",
           "width": 1.3
          }
         },
         "name": "C",
         "nbinsx": 10,
         "opacity": 0.8,
         "orientation": "v",
         "type": "histogram",
         "x": [
          0.5518428296260244,
          1.0586804391840123,
          1.0365275747015392,
          -2.9981777461180927,
          0.2393081463236984,
          1.8872692011242316,
          -0.08393410152634781,
          0.16687386739827878,
          -0.25568560100690213,
          -1.6524168343385888,
          0.9018624301995285,
          1.9706936592959021,
          1.3196666619391262,
          1.80560282209464,
          0.1169649415974748,
          1.0200555409233896,
          -0.713293962117717,
          0.34663290034929894,
          1.9553668942821194,
          1.0572244131673274,
          0.23731600659371405,
          -0.03223778130846141,
          -0.7520054789340904,
          1.1024463153528665,
          -0.42873959191897,
          -1.0037676451014164,
          0.9909701722847235,
          0.6615956884327304,
          0.5435140345534052,
          -0.7981148017058789,
          -0.9048683138594317,
          -0.0013692686796361255,
          -0.32185030950073557,
          -0.873370590630425,
          0.5211634671549273,
          -0.5003155920879961,
          0.6895540877968527,
          0.2556938440662887,
          0.9140656488831231,
          0.33256356698999684,
          -0.08312203568317938,
          0.07020335575515782,
          0.2737462534668183,
          0.3648081809290682,
          -0.6303450808077177,
          0.03681908928834904,
          -1.8003004393922768,
          0.2830157753218885,
          0.5241979222791527,
          -0.4665430287189287,
          1.5499299717127788,
          0.6469600785277869,
          -0.8250004098446538,
          0.4233116384418227,
          1.2322347778823928,
          0.5263994492634283,
          0.06836858250917653,
          0.2268106943239445,
          0.4230903618598781,
          -1.0047231362657685,
          -0.39737069133271397,
          -0.07344313829557902,
          1.0732351002723863,
          -0.6447409426762986,
          0.05811677218658131,
          0.6809155967949494,
          -1.6277416030292955,
          -0.08011779693656904,
          0.12605767532523804,
          -0.5427044014254443,
          -0.03488139936261926,
          -0.26472206479304683,
          -0.24540813729398311,
          0.05787658500439807,
          -0.8327505442704737,
          0.8432112047945828,
          -0.07293256137350335,
          0.9382650424541648,
          -0.11857424537434501,
          0.09566984994854791,
          -1.1555681863500853,
          -0.5628180864415381,
          -0.030326902701813502,
          1.8872384972146499,
          -0.3825590879924287,
          -0.7347844102569788,
          2.071124053273013,
          0.0021686444798123114,
          1.1702844177756384,
          0.5507097527282829,
          0.5080239045387717,
          0.03608985471420347,
          0.9032285520857251,
          -1.0657048652768666,
          -0.6004926202340528,
          -0.7674944490251198,
          -2.3975308350523656,
          1.0634632471898193,
          0.18572032621691165,
          -0.13564355079462026
         ],
         "xaxis": "x11",
         "yaxis": "y11"
        },
        {
         "line": {
          "color": "rgba(128, 128, 128, 1.0)",
          "dash": "solid",
          "shape": "linear",
          "width": 1.3
         },
         "marker": {
          "size": 2,
          "symbol": "circle"
         },
         "mode": "markers",
         "name": "C",
         "text": "",
         "type": "scatter",
         "x": [
          0.2738559016122897,
          0.7106502379418743,
          -1.7509084156433161,
          -0.9227763319033462,
          -0.1896771677542079,
          0.3026683859132041,
          -0.0920793486260978,
          -0.9495997396565908,
          -1.7749894508055353,
          -1.7535243348691498,
          -0.5988954962609513,
          -0.8303808063690381,
          0.8521524191089968,
          1.9662665203821206,
          -0.9755156030288992,
          -2.1513066476382043,
          -2.0149014361552062,
          1.4190512112043663,
          0.9101757994864929,
          0.2706871767071419,
          -0.21592636390465056,
          1.9391994568216602,
          0.07747697707792196,
          0.7779200326235947,
          -0.2772291910817807,
          -2.242501613667083,
          0.4918308687584895,
          0.8931991510725807,
          -0.17209096940054266,
          0.46784822980636726,
          -1.2878564615246344,
          0.60238360809786,
          -0.11343885434841276,
          0.8425259361263151,
          2.450738718164936,
          1.7644565022971292,
          0.14002090373597423,
          0.6278547242495557,
          -0.38923758768431627,
          -0.09731354951457473,
          -1.322639652790698,
          -0.24768605767131183,
          0.2846995770357078,
          -0.3594903757927821,
          -0.20673693654884476,
          2.4593116350956308,
          0.6065535437723129,
          -1.0246373342647117,
          -0.07976237682655041,
          0.57035784004666,
          1.2067255141088138,
          1.4104986023116812,
          0.25595380920077154,
          -0.3343992931212443,
          0.05980317789997982,
          -1.9467039940984174,
          -1.565869323653207,
          -0.2533814700811455,
          0.6308960196561134,
          -0.30821376612250556,
          -0.18399398643410958,
          0.8043101508258407,
          -0.13155361349583128,
          -1.4084353160404273,
          -0.4349940821430627,
          0.1664234569748299,
          -0.7901108936090245,
          1.4884838784331955,
          0.5925673693297888,
          -0.19686708296039054,
          0.12609007897393137,
          0.7812428395310707,
          -0.2602981736363745,
          0.3514862362992299,
          0.04486711361988808,
          -0.9273180908786917,
          0.0067026732445349116,
          0.6935454391728332,
          -1.2917279374782737,
          0.7287254117512857,
          -0.6782587204178349,
          -0.14265129979757074,
          0.30593909289019683,
          0.49220350505844146,
          -0.07444597486191551,
          -0.45995401480221126,
          0.02408849041473539,
          -0.054200525968196966,
          -0.09323659787118423,
          -0.5265777382946164,
          -0.4245176246163635,
          0.6902068699550099,
          -1.369310076792178,
          1.2895384944001946,
          -0.3199485321860116,
          0.7491705827529969,
          -1.6618011560128831,
          -0.6728917217096003,
          -0.9595010217541334,
          1.2680332547877091
         ],
         "xaxis": "x12",
         "y": [
          0.5518428296260244,
          1.0586804391840123,
          1.0365275747015392,
          -2.9981777461180927,
          0.2393081463236984,
          1.8872692011242316,
          -0.08393410152634781,
          0.16687386739827878,
          -0.25568560100690213,
          -1.6524168343385888,
          0.9018624301995285,
          1.9706936592959021,
          1.3196666619391262,
          1.80560282209464,
          0.1169649415974748,
          1.0200555409233896,
          -0.713293962117717,
          0.34663290034929894,
          1.9553668942821194,
          1.0572244131673274,
          0.23731600659371405,
          -0.03223778130846141,
          -0.7520054789340904,
          1.1024463153528665,
          -0.42873959191897,
          -1.0037676451014164,
          0.9909701722847235,
          0.6615956884327304,
          0.5435140345534052,
          -0.7981148017058789,
          -0.9048683138594317,
          -0.0013692686796361255,
          -0.32185030950073557,
          -0.873370590630425,
          0.5211634671549273,
          -0.5003155920879961,
          0.6895540877968527,
          0.2556938440662887,
          0.9140656488831231,
          0.33256356698999684,
          -0.08312203568317938,
          0.07020335575515782,
          0.2737462534668183,
          0.3648081809290682,
          -0.6303450808077177,
          0.03681908928834904,
          -1.8003004393922768,
          0.2830157753218885,
          0.5241979222791527,
          -0.4665430287189287,
          1.5499299717127788,
          0.6469600785277869,
          -0.8250004098446538,
          0.4233116384418227,
          1.2322347778823928,
          0.5263994492634283,
          0.06836858250917653,
          0.2268106943239445,
          0.4230903618598781,
          -1.0047231362657685,
          -0.39737069133271397,
          -0.07344313829557902,
          1.0732351002723863,
          -0.6447409426762986,
          0.05811677218658131,
          0.6809155967949494,
          -1.6277416030292955,
          -0.08011779693656904,
          0.12605767532523804,
          -0.5427044014254443,
          -0.03488139936261926,
          -0.26472206479304683,
          -0.24540813729398311,
          0.05787658500439807,
          -0.8327505442704737,
          0.8432112047945828,
          -0.07293256137350335,
          0.9382650424541648,
          -0.11857424537434501,
          0.09566984994854791,
          -1.1555681863500853,
          -0.5628180864415381,
          -0.030326902701813502,
          1.8872384972146499,
          -0.3825590879924287,
          -0.7347844102569788,
          2.071124053273013,
          0.0021686444798123114,
          1.1702844177756384,
          0.5507097527282829,
          0.5080239045387717,
          0.03608985471420347,
          0.9032285520857251,
          -1.0657048652768666,
          -0.6004926202340528,
          -0.7674944490251198,
          -2.3975308350523656,
          1.0634632471898193,
          0.18572032621691165,
          -0.13564355079462026
         ],
         "yaxis": "y12"
        },
        {
         "line": {
          "color": "rgba(128, 128, 128, 1.0)",
          "dash": "solid",
          "shape": "linear",
          "width": 1.3
         },
         "marker": {
          "size": 2,
          "symbol": "circle"
         },
         "mode": "markers",
         "name": "D",
         "text": "",
         "type": "scatter",
         "x": [
          0.18211528188351103,
          0.11443106335682444,
          0.5949692036342886,
          -0.3535342544087595,
          -0.47572636863988527,
          0.6611105346730619,
          1.0917475868868998,
          -1.055908421134264,
          0.7494679589241444,
          0.5789759034671067,
          0.7316774439952273,
          -0.4486644091579335,
          -0.3216613236541918,
          1.3398947178944725,
          -1.8158654345047331,
          0.5313904039049452,
          -0.7423013212863171,
          0.5331557511732393,
          0.0991340250011104,
          -0.888876014490736,
          -0.8071434029017788,
          0.22621387687134864,
          0.33846701985286654,
          1.2847481967645078,
          -1.3046454706066617,
          0.03165923167711625,
          -1.812749936339364,
          -0.3760202389737884,
          1.3773443376494576,
          -2.4683856625741445,
          0.16576781332166,
          0.45861358558459847,
          1.3116230867367287,
          -0.4092701515328862,
          1.9480137811637988,
          -0.24311669259196267,
          -1.2560627046642676,
          -1.1013099447982246,
          1.9186619850406614,
          -0.10627374375998706,
          -0.6196495923112475,
          -0.8298416977962055,
          -0.6757826281867358,
          0.2280090045808461,
          0.7648507904943159,
          1.3011275065550427,
          -0.04783545430568777,
          1.789352458526911,
          1.2482110579534083,
          0.7630239321342249,
          -2.0282702513681095,
          -0.7203015319260467,
          -0.05507082231774276,
          -0.7816847616571831,
          0.4459670558769205,
          0.3212838980346144,
          -0.6426253662138668,
          -0.0027100937375358005,
          0.2113669790740554,
          -1.1624280332116925,
          -1.2107191807959004,
          0.0023915808065864963,
          0.9477239269888895,
          2.0969969112315665,
          -0.6473295177516343,
          1.7239296014100238,
          -0.3054485264824094,
          1.276967520625875,
          -0.09911990914379495,
          0.46479845341110443,
          1.908453861164365,
          3.2946693525465824,
          0.4455923130866878,
          1.7263194925230791,
          -0.11369290761079535,
          -0.5605401630316551,
          -0.7195145870525593,
          2.4171089252328173,
          1.1119174808971366,
          1.6058626990827998,
          -1.0471529563643316,
          -1.880630666155797,
          1.015554806251903,
          -1.0412013633671626,
          0.15290879219816925,
          0.398987354671911,
          0.38330897229416844,
          1.3474622977012083,
          0.182933725350078,
          -0.8699642581973692,
          0.4133254150315233,
          0.07694373551123751,
          -1.2265406355999857,
          1.0485399380470044,
          0.2733731206474115,
          -0.7293710670711111,
          -0.9662635657350681,
          -0.3915848836708997,
          -1.0552550223150015,
          1.3045085529377953
         ],
         "xaxis": "x13",
         "y": [
          0.2738559016122897,
          0.7106502379418743,
          -1.7509084156433161,
          -0.9227763319033462,
          -0.1896771677542079,
          0.3026683859132041,
          -0.0920793486260978,
          -0.9495997396565908,
          -1.7749894508055353,
          -1.7535243348691498,
          -0.5988954962609513,
          -0.8303808063690381,
          0.8521524191089968,
          1.9662665203821206,
          -0.9755156030288992,
          -2.1513066476382043,
          -2.0149014361552062,
          1.4190512112043663,
          0.9101757994864929,
          0.2706871767071419,
          -0.21592636390465056,
          1.9391994568216602,
          0.07747697707792196,
          0.7779200326235947,
          -0.2772291910817807,
          -2.242501613667083,
          0.4918308687584895,
          0.8931991510725807,
          -0.17209096940054266,
          0.46784822980636726,
          -1.2878564615246344,
          0.60238360809786,
          -0.11343885434841276,
          0.8425259361263151,
          2.450738718164936,
          1.7644565022971292,
          0.14002090373597423,
          0.6278547242495557,
          -0.38923758768431627,
          -0.09731354951457473,
          -1.322639652790698,
          -0.24768605767131183,
          0.2846995770357078,
          -0.3594903757927821,
          -0.20673693654884476,
          2.4593116350956308,
          0.6065535437723129,
          -1.0246373342647117,
          -0.07976237682655041,
          0.57035784004666,
          1.2067255141088138,
          1.4104986023116812,
          0.25595380920077154,
          -0.3343992931212443,
          0.05980317789997982,
          -1.9467039940984174,
          -1.565869323653207,
          -0.2533814700811455,
          0.6308960196561134,
          -0.30821376612250556,
          -0.18399398643410958,
          0.8043101508258407,
          -0.13155361349583128,
          -1.4084353160404273,
          -0.4349940821430627,
          0.1664234569748299,
          -0.7901108936090245,
          1.4884838784331955,
          0.5925673693297888,
          -0.19686708296039054,
          0.12609007897393137,
          0.7812428395310707,
          -0.2602981736363745,
          0.3514862362992299,
          0.04486711361988808,
          -0.9273180908786917,
          0.0067026732445349116,
          0.6935454391728332,
          -1.2917279374782737,
          0.7287254117512857,
          -0.6782587204178349,
          -0.14265129979757074,
          0.30593909289019683,
          0.49220350505844146,
          -0.07444597486191551,
          -0.45995401480221126,
          0.02408849041473539,
          -0.054200525968196966,
          -0.09323659787118423,
          -0.5265777382946164,
          -0.4245176246163635,
          0.6902068699550099,
          -1.369310076792178,
          1.2895384944001946,
          -0.3199485321860116,
          0.7491705827529969,
          -1.6618011560128831,
          -0.6728917217096003,
          -0.9595010217541334,
          1.2680332547877091
         ],
         "yaxis": "y13"
        },
        {
         "line": {
          "color": "rgba(128, 128, 128, 1.0)",
          "dash": "solid",
          "shape": "linear",
          "width": 1.3
         },
         "marker": {
          "size": 2,
          "symbol": "circle"
         },
         "mode": "markers",
         "name": "D",
         "text": "",
         "type": "scatter",
         "x": [
          -0.02018755564793259,
          -1.3437652881828532,
          -1.1111743886255112,
          1.8359557683550445,
          -0.6249666296815001,
          -2.023897039815607,
          -0.8601940309700603,
          0.16485301587299,
          1.4953349379652183,
          0.3730240119071808,
          0.15925679164929463,
          1.6149762610901233,
          1.1886259375183363,
          0.36490947137394925,
          -0.277109980002345,
          -0.7186159514942053,
          0.7932326128351476,
          -0.6947531868233376,
          -0.6728638956989003,
          1.168924580201343,
          -0.41233623513644024,
          0.19784681126554177,
          -0.16672974435674576,
          1.5787929527059819,
          -1.2036869576587854,
          1.6388602894589932,
          1.1089114782328384,
          -0.6721462245633214,
          -0.3138745235292235,
          -0.36686782982021504,
          0.4065463530031799,
          -0.2257079493612666,
          -0.43758529260168777,
          -0.2625152761872851,
          -1.328898373680611,
          -2.9542908677251907,
          0.21927251170457285,
          0.5340299809554598,
          -0.17813790978690175,
          -1.694306210049193,
          0.8453898499703644,
          -0.4470270295083598,
          1.4645815144212275,
          0.7910848605126803,
          -0.8297193499743546,
          1.6978211174739473,
          -0.9594406497906319,
          0.8588943710079524,
          0.5958120032635975,
          0.5812863670036684,
          0.006947874844667447,
          1.328502003354449,
          -0.023639303401695195,
          0.5988265122087519,
          0.08350412346342759,
          -0.546791662972372,
          -0.008976085354435942,
          -1.3006584746527383,
          -0.20279537336043443,
          0.40149387048614843,
          -0.44258682753169964,
          -0.6584645562551634,
          -0.9033796634003993,
          -0.9053368934817235,
          -0.46190729712378953,
          -0.6547812127063081,
          -1.0864383496934662,
          0.32165120874344855,
          2.613123546687639,
          1.3927968612517874,
          0.9919936360099734,
          -1.8454616872399732,
          0.5894927197443933,
          -0.03559551820886039,
          -0.7910367650609854,
          -1.6255372546247662,
          -0.24326405453267416,
          1.8413885707475877,
          0.92182013753838,
          -1.2389704928347567,
          -0.4681250751946212,
          -0.6564464802415292,
          1.1616997366798514,
          -1.6872613038346125,
          0.06782059673136204,
          0.10246372343762038,
          -0.9441951394571112,
          0.4646299907553265,
          0.5150963253406441,
          -1.0314331444035327,
          2.76602889102714,
          -1.077324321471914,
          -1.0627038272964975,
          -1.3541233150161391,
          -1.1865180094484067,
          -1.1649117176906831,
          -0.14218353540987846,
          -0.8214858920308317,
          1.75215782148672,
          0.4284955139825126
         ],
         "xaxis": "x14",
         "y": [
          0.2738559016122897,
          0.7106502379418743,
          -1.7509084156433161,
          -0.9227763319033462,
          -0.1896771677542079,
          0.3026683859132041,
          -0.0920793486260978,
          -0.9495997396565908,
          -1.7749894508055353,
          -1.7535243348691498,
          -0.5988954962609513,
          -0.8303808063690381,
          0.8521524191089968,
          1.9662665203821206,
          -0.9755156030288992,
          -2.1513066476382043,
          -2.0149014361552062,
          1.4190512112043663,
          0.9101757994864929,
          0.2706871767071419,
          -0.21592636390465056,
          1.9391994568216602,
          0.07747697707792196,
          0.7779200326235947,
          -0.2772291910817807,
          -2.242501613667083,
          0.4918308687584895,
          0.8931991510725807,
          -0.17209096940054266,
          0.46784822980636726,
          -1.2878564615246344,
          0.60238360809786,
          -0.11343885434841276,
          0.8425259361263151,
          2.450738718164936,
          1.7644565022971292,
          0.14002090373597423,
          0.6278547242495557,
          -0.38923758768431627,
          -0.09731354951457473,
          -1.322639652790698,
          -0.24768605767131183,
          0.2846995770357078,
          -0.3594903757927821,
          -0.20673693654884476,
          2.4593116350956308,
          0.6065535437723129,
          -1.0246373342647117,
          -0.07976237682655041,
          0.57035784004666,
          1.2067255141088138,
          1.4104986023116812,
          0.25595380920077154,
          -0.3343992931212443,
          0.05980317789997982,
          -1.9467039940984174,
          -1.565869323653207,
          -0.2533814700811455,
          0.6308960196561134,
          -0.30821376612250556,
          -0.18399398643410958,
          0.8043101508258407,
          -0.13155361349583128,
          -1.4084353160404273,
          -0.4349940821430627,
          0.1664234569748299,
          -0.7901108936090245,
          1.4884838784331955,
          0.5925673693297888,
          -0.19686708296039054,
          0.12609007897393137,
          0.7812428395310707,
          -0.2602981736363745,
          0.3514862362992299,
          0.04486711361988808,
          -0.9273180908786917,
          0.0067026732445349116,
          0.6935454391728332,
          -1.2917279374782737,
          0.7287254117512857,
          -0.6782587204178349,
          -0.14265129979757074,
          0.30593909289019683,
          0.49220350505844146,
          -0.07444597486191551,
          -0.45995401480221126,
          0.02408849041473539,
          -0.054200525968196966,
          -0.09323659787118423,
          -0.5265777382946164,
          -0.4245176246163635,
          0.6902068699550099,
          -1.369310076792178,
          1.2895384944001946,
          -0.3199485321860116,
          0.7491705827529969,
          -1.6618011560128831,
          -0.6728917217096003,
          -0.9595010217541334,
          1.2680332547877091
         ],
         "yaxis": "y14"
        },
        {
         "line": {
          "color": "rgba(128, 128, 128, 1.0)",
          "dash": "solid",
          "shape": "linear",
          "width": 1.3
         },
         "marker": {
          "size": 2,
          "symbol": "circle"
         },
         "mode": "markers",
         "name": "D",
         "text": "",
         "type": "scatter",
         "x": [
          0.5518428296260244,
          1.0586804391840123,
          1.0365275747015392,
          -2.9981777461180927,
          0.2393081463236984,
          1.8872692011242316,
          -0.08393410152634781,
          0.16687386739827878,
          -0.25568560100690213,
          -1.6524168343385888,
          0.9018624301995285,
          1.9706936592959021,
          1.3196666619391262,
          1.80560282209464,
          0.1169649415974748,
          1.0200555409233896,
          -0.713293962117717,
          0.34663290034929894,
          1.9553668942821194,
          1.0572244131673274,
          0.23731600659371405,
          -0.03223778130846141,
          -0.7520054789340904,
          1.1024463153528665,
          -0.42873959191897,
          -1.0037676451014164,
          0.9909701722847235,
          0.6615956884327304,
          0.5435140345534052,
          -0.7981148017058789,
          -0.9048683138594317,
          -0.0013692686796361255,
          -0.32185030950073557,
          -0.873370590630425,
          0.5211634671549273,
          -0.5003155920879961,
          0.6895540877968527,
          0.2556938440662887,
          0.9140656488831231,
          0.33256356698999684,
          -0.08312203568317938,
          0.07020335575515782,
          0.2737462534668183,
          0.3648081809290682,
          -0.6303450808077177,
          0.03681908928834904,
          -1.8003004393922768,
          0.2830157753218885,
          0.5241979222791527,
          -0.4665430287189287,
          1.5499299717127788,
          0.6469600785277869,
          -0.8250004098446538,
          0.4233116384418227,
          1.2322347778823928,
          0.5263994492634283,
          0.06836858250917653,
          0.2268106943239445,
          0.4230903618598781,
          -1.0047231362657685,
          -0.39737069133271397,
          -0.07344313829557902,
          1.0732351002723863,
          -0.6447409426762986,
          0.05811677218658131,
          0.6809155967949494,
          -1.6277416030292955,
          -0.08011779693656904,
          0.12605767532523804,
          -0.5427044014254443,
          -0.03488139936261926,
          -0.26472206479304683,
          -0.24540813729398311,
          0.05787658500439807,
          -0.8327505442704737,
          0.8432112047945828,
          -0.07293256137350335,
          0.9382650424541648,
          -0.11857424537434501,
          0.09566984994854791,
          -1.1555681863500853,
          -0.5628180864415381,
          -0.030326902701813502,
          1.8872384972146499,
          -0.3825590879924287,
          -0.7347844102569788,
          2.071124053273013,
          0.0021686444798123114,
          1.1702844177756384,
          0.5507097527282829,
          0.5080239045387717,
          0.03608985471420347,
          0.9032285520857251,
          -1.0657048652768666,
          -0.6004926202340528,
          -0.7674944490251198,
          -2.3975308350523656,
          1.0634632471898193,
          0.18572032621691165,
          -0.13564355079462026
         ],
         "xaxis": "x15",
         "y": [
          0.2738559016122897,
          0.7106502379418743,
          -1.7509084156433161,
          -0.9227763319033462,
          -0.1896771677542079,
          0.3026683859132041,
          -0.0920793486260978,
          -0.9495997396565908,
          -1.7749894508055353,
          -1.7535243348691498,
          -0.5988954962609513,
          -0.8303808063690381,
          0.8521524191089968,
          1.9662665203821206,
          -0.9755156030288992,
          -2.1513066476382043,
          -2.0149014361552062,
          1.4190512112043663,
          0.9101757994864929,
          0.2706871767071419,
          -0.21592636390465056,
          1.9391994568216602,
          0.07747697707792196,
          0.7779200326235947,
          -0.2772291910817807,
          -2.242501613667083,
          0.4918308687584895,
          0.8931991510725807,
          -0.17209096940054266,
          0.46784822980636726,
          -1.2878564615246344,
          0.60238360809786,
          -0.11343885434841276,
          0.8425259361263151,
          2.450738718164936,
          1.7644565022971292,
          0.14002090373597423,
          0.6278547242495557,
          -0.38923758768431627,
          -0.09731354951457473,
          -1.322639652790698,
          -0.24768605767131183,
          0.2846995770357078,
          -0.3594903757927821,
          -0.20673693654884476,
          2.4593116350956308,
          0.6065535437723129,
          -1.0246373342647117,
          -0.07976237682655041,
          0.57035784004666,
          1.2067255141088138,
          1.4104986023116812,
          0.25595380920077154,
          -0.3343992931212443,
          0.05980317789997982,
          -1.9467039940984174,
          -1.565869323653207,
          -0.2533814700811455,
          0.6308960196561134,
          -0.30821376612250556,
          -0.18399398643410958,
          0.8043101508258407,
          -0.13155361349583128,
          -1.4084353160404273,
          -0.4349940821430627,
          0.1664234569748299,
          -0.7901108936090245,
          1.4884838784331955,
          0.5925673693297888,
          -0.19686708296039054,
          0.12609007897393137,
          0.7812428395310707,
          -0.2602981736363745,
          0.3514862362992299,
          0.04486711361988808,
          -0.9273180908786917,
          0.0067026732445349116,
          0.6935454391728332,
          -1.2917279374782737,
          0.7287254117512857,
          -0.6782587204178349,
          -0.14265129979757074,
          0.30593909289019683,
          0.49220350505844146,
          -0.07444597486191551,
          -0.45995401480221126,
          0.02408849041473539,
          -0.054200525968196966,
          -0.09323659787118423,
          -0.5265777382946164,
          -0.4245176246163635,
          0.6902068699550099,
          -1.369310076792178,
          1.2895384944001946,
          -0.3199485321860116,
          0.7491705827529969,
          -1.6618011560128831,
          -0.6728917217096003,
          -0.9595010217541334,
          1.2680332547877091
         ],
         "yaxis": "y15"
        },
        {
         "histfunc": "count",
         "histnorm": "",
         "marker": {
          "color": "rgba(128, 0, 128, 1.0)",
          "line": {
           "color": "#4D5663",
           "width": 1.3
          }
         },
         "name": "D",
         "nbinsx": 10,
         "opacity": 0.8,
         "orientation": "v",
         "type": "histogram",
         "x": [
          0.2738559016122897,
          0.7106502379418743,
          -1.7509084156433161,
          -0.9227763319033462,
          -0.1896771677542079,
          0.3026683859132041,
          -0.0920793486260978,
          -0.9495997396565908,
          -1.7749894508055353,
          -1.7535243348691498,
          -0.5988954962609513,
          -0.8303808063690381,
          0.8521524191089968,
          1.9662665203821206,
          -0.9755156030288992,
          -2.1513066476382043,
          -2.0149014361552062,
          1.4190512112043663,
          0.9101757994864929,
          0.2706871767071419,
          -0.21592636390465056,
          1.9391994568216602,
          0.07747697707792196,
          0.7779200326235947,
          -0.2772291910817807,
          -2.242501613667083,
          0.4918308687584895,
          0.8931991510725807,
          -0.17209096940054266,
          0.46784822980636726,
          -1.2878564615246344,
          0.60238360809786,
          -0.11343885434841276,
          0.8425259361263151,
          2.450738718164936,
          1.7644565022971292,
          0.14002090373597423,
          0.6278547242495557,
          -0.38923758768431627,
          -0.09731354951457473,
          -1.322639652790698,
          -0.24768605767131183,
          0.2846995770357078,
          -0.3594903757927821,
          -0.20673693654884476,
          2.4593116350956308,
          0.6065535437723129,
          -1.0246373342647117,
          -0.07976237682655041,
          0.57035784004666,
          1.2067255141088138,
          1.4104986023116812,
          0.25595380920077154,
          -0.3343992931212443,
          0.05980317789997982,
          -1.9467039940984174,
          -1.565869323653207,
          -0.2533814700811455,
          0.6308960196561134,
          -0.30821376612250556,
          -0.18399398643410958,
          0.8043101508258407,
          -0.13155361349583128,
          -1.4084353160404273,
          -0.4349940821430627,
          0.1664234569748299,
          -0.7901108936090245,
          1.4884838784331955,
          0.5925673693297888,
          -0.19686708296039054,
          0.12609007897393137,
          0.7812428395310707,
          -0.2602981736363745,
          0.3514862362992299,
          0.04486711361988808,
          -0.9273180908786917,
          0.0067026732445349116,
          0.6935454391728332,
          -1.2917279374782737,
          0.7287254117512857,
          -0.6782587204178349,
          -0.14265129979757074,
          0.30593909289019683,
          0.49220350505844146,
          -0.07444597486191551,
          -0.45995401480221126,
          0.02408849041473539,
          -0.054200525968196966,
          -0.09323659787118423,
          -0.5265777382946164,
          -0.4245176246163635,
          0.6902068699550099,
          -1.369310076792178,
          1.2895384944001946,
          -0.3199485321860116,
          0.7491705827529969,
          -1.6618011560128831,
          -0.6728917217096003,
          -0.9595010217541334,
          1.2680332547877091
         ],
         "xaxis": "x16",
         "yaxis": "y16"
        }
       ],
       "layout": {
        "bargap": 0.02,
        "legend": {
         "bgcolor": "#F5F6F9",
         "font": {
          "color": "#4D5663"
         }
        },
        "paper_bgcolor": "#F5F6F9",
        "plot_bgcolor": "#F5F6F9",
        "showlegend": false,
        "template": {
         "data": {
          "bar": [
           {
            "error_x": {
             "color": "#2a3f5f"
            },
            "error_y": {
             "color": "#2a3f5f"
            },
            "marker": {
             "line": {
              "color": "#E5ECF6",
              "width": 0.5
             }
            },
            "type": "bar"
           }
          ],
          "barpolar": [
           {
            "marker": {
             "line": {
              "color": "#E5ECF6",
              "width": 0.5
             }
            },
            "type": "barpolar"
           }
          ],
          "carpet": [
           {
            "aaxis": {
             "endlinecolor": "#2a3f5f",
             "gridcolor": "white",
             "linecolor": "white",
             "minorgridcolor": "white",
             "startlinecolor": "#2a3f5f"
            },
            "baxis": {
             "endlinecolor": "#2a3f5f",
             "gridcolor": "white",
             "linecolor": "white",
             "minorgridcolor": "white",
             "startlinecolor": "#2a3f5f"
            },
            "type": "carpet"
           }
          ],
          "choropleth": [
           {
            "colorbar": {
             "outlinewidth": 0,
             "ticks": ""
            },
            "type": "choropleth"
           }
          ],
          "contour": [
           {
            "colorbar": {
             "outlinewidth": 0,
             "ticks": ""
            },
            "colorscale": [
             [
              0,
              "#0d0887"
             ],
             [
              0.1111111111111111,
              "#46039f"
             ],
             [
              0.2222222222222222,
              "#7201a8"
             ],
             [
              0.3333333333333333,
              "#9c179e"
             ],
             [
              0.4444444444444444,
              "#bd3786"
             ],
             [
              0.5555555555555556,
              "#d8576b"
             ],
             [
              0.6666666666666666,
              "#ed7953"
             ],
             [
              0.7777777777777778,
              "#fb9f3a"
             ],
             [
              0.8888888888888888,
              "#fdca26"
             ],
             [
              1,
              "#f0f921"
             ]
            ],
            "type": "contour"
           }
          ],
          "contourcarpet": [
           {
            "colorbar": {
             "outlinewidth": 0,
             "ticks": ""
            },
            "type": "contourcarpet"
           }
          ],
          "heatmap": [
           {
            "colorbar": {
             "outlinewidth": 0,
             "ticks": ""
            },
            "colorscale": [
             [
              0,
              "#0d0887"
             ],
             [
              0.1111111111111111,
              "#46039f"
             ],
             [
              0.2222222222222222,
              "#7201a8"
             ],
             [
              0.3333333333333333,
              "#9c179e"
             ],
             [
              0.4444444444444444,
              "#bd3786"
             ],
             [
              0.5555555555555556,
              "#d8576b"
             ],
             [
              0.6666666666666666,
              "#ed7953"
             ],
             [
              0.7777777777777778,
              "#fb9f3a"
             ],
             [
              0.8888888888888888,
              "#fdca26"
             ],
             [
              1,
              "#f0f921"
             ]
            ],
            "type": "heatmap"
           }
          ],
          "heatmapgl": [
           {
            "colorbar": {
             "outlinewidth": 0,
             "ticks": ""
            },
            "colorscale": [
             [
              0,
              "#0d0887"
             ],
             [
              0.1111111111111111,
              "#46039f"
             ],
             [
              0.2222222222222222,
              "#7201a8"
             ],
             [
              0.3333333333333333,
              "#9c179e"
             ],
             [
              0.4444444444444444,
              "#bd3786"
             ],
             [
              0.5555555555555556,
              "#d8576b"
             ],
             [
              0.6666666666666666,
              "#ed7953"
             ],
             [
              0.7777777777777778,
              "#fb9f3a"
             ],
             [
              0.8888888888888888,
              "#fdca26"
             ],
             [
              1,
              "#f0f921"
             ]
            ],
            "type": "heatmapgl"
           }
          ],
          "histogram": [
           {
            "marker": {
             "colorbar": {
              "outlinewidth": 0,
              "ticks": ""
             }
            },
            "type": "histogram"
           }
          ],
          "histogram2d": [
           {
            "colorbar": {
             "outlinewidth": 0,
             "ticks": ""
            },
            "colorscale": [
             [
              0,
              "#0d0887"
             ],
             [
              0.1111111111111111,
              "#46039f"
             ],
             [
              0.2222222222222222,
              "#7201a8"
             ],
             [
              0.3333333333333333,
              "#9c179e"
             ],
             [
              0.4444444444444444,
              "#bd3786"
             ],
             [
              0.5555555555555556,
              "#d8576b"
             ],
             [
              0.6666666666666666,
              "#ed7953"
             ],
             [
              0.7777777777777778,
              "#fb9f3a"
             ],
             [
              0.8888888888888888,
              "#fdca26"
             ],
             [
              1,
              "#f0f921"
             ]
            ],
            "type": "histogram2d"
           }
          ],
          "histogram2dcontour": [
           {
            "colorbar": {
             "outlinewidth": 0,
             "ticks": ""
            },
            "colorscale": [
             [
              0,
              "#0d0887"
             ],
             [
              0.1111111111111111,
              "#46039f"
             ],
             [
              0.2222222222222222,
              "#7201a8"
             ],
             [
              0.3333333333333333,
              "#9c179e"
             ],
             [
              0.4444444444444444,
              "#bd3786"
             ],
             [
              0.5555555555555556,
              "#d8576b"
             ],
             [
              0.6666666666666666,
              "#ed7953"
             ],
             [
              0.7777777777777778,
              "#fb9f3a"
             ],
             [
              0.8888888888888888,
              "#fdca26"
             ],
             [
              1,
              "#f0f921"
             ]
            ],
            "type": "histogram2dcontour"
           }
          ],
          "mesh3d": [
           {
            "colorbar": {
             "outlinewidth": 0,
             "ticks": ""
            },
            "type": "mesh3d"
           }
          ],
          "parcoords": [
           {
            "line": {
             "colorbar": {
              "outlinewidth": 0,
              "ticks": ""
             }
            },
            "type": "parcoords"
           }
          ],
          "pie": [
           {
            "automargin": true,
            "type": "pie"
           }
          ],
          "scatter": [
           {
            "marker": {
             "colorbar": {
              "outlinewidth": 0,
              "ticks": ""
             }
            },
            "type": "scatter"
           }
          ],
          "scatter3d": [
           {
            "line": {
             "colorbar": {
              "outlinewidth": 0,
              "ticks": ""
             }
            },
            "marker": {
             "colorbar": {
              "outlinewidth": 0,
              "ticks": ""
             }
            },
            "type": "scatter3d"
           }
          ],
          "scattercarpet": [
           {
            "marker": {
             "colorbar": {
              "outlinewidth": 0,
              "ticks": ""
             }
            },
            "type": "scattercarpet"
           }
          ],
          "scattergeo": [
           {
            "marker": {
             "colorbar": {
              "outlinewidth": 0,
              "ticks": ""
             }
            },
            "type": "scattergeo"
           }
          ],
          "scattergl": [
           {
            "marker": {
             "colorbar": {
              "outlinewidth": 0,
              "ticks": ""
             }
            },
            "type": "scattergl"
           }
          ],
          "scattermapbox": [
           {
            "marker": {
             "colorbar": {
              "outlinewidth": 0,
              "ticks": ""
             }
            },
            "type": "scattermapbox"
           }
          ],
          "scatterpolar": [
           {
            "marker": {
             "colorbar": {
              "outlinewidth": 0,
              "ticks": ""
             }
            },
            "type": "scatterpolar"
           }
          ],
          "scatterpolargl": [
           {
            "marker": {
             "colorbar": {
              "outlinewidth": 0,
              "ticks": ""
             }
            },
            "type": "scatterpolargl"
           }
          ],
          "scatterternary": [
           {
            "marker": {
             "colorbar": {
              "outlinewidth": 0,
              "ticks": ""
             }
            },
            "type": "scatterternary"
           }
          ],
          "surface": [
           {
            "colorbar": {
             "outlinewidth": 0,
             "ticks": ""
            },
            "colorscale": [
             [
              0,
              "#0d0887"
             ],
             [
              0.1111111111111111,
              "#46039f"
             ],
             [
              0.2222222222222222,
              "#7201a8"
             ],
             [
              0.3333333333333333,
              "#9c179e"
             ],
             [
              0.4444444444444444,
              "#bd3786"
             ],
             [
              0.5555555555555556,
              "#d8576b"
             ],
             [
              0.6666666666666666,
              "#ed7953"
             ],
             [
              0.7777777777777778,
              "#fb9f3a"
             ],
             [
              0.8888888888888888,
              "#fdca26"
             ],
             [
              1,
              "#f0f921"
             ]
            ],
            "type": "surface"
           }
          ],
          "table": [
           {
            "cells": {
             "fill": {
              "color": "#EBF0F8"
             },
             "line": {
              "color": "white"
             }
            },
            "header": {
             "fill": {
              "color": "#C8D4E3"
             },
             "line": {
              "color": "white"
             }
            },
            "type": "table"
           }
          ]
         },
         "layout": {
          "annotationdefaults": {
           "arrowcolor": "#2a3f5f",
           "arrowhead": 0,
           "arrowwidth": 1
          },
          "coloraxis": {
           "colorbar": {
            "outlinewidth": 0,
            "ticks": ""
           }
          },
          "colorscale": {
           "diverging": [
            [
             0,
             "#8e0152"
            ],
            [
             0.1,
             "#c51b7d"
            ],
            [
             0.2,
             "#de77ae"
            ],
            [
             0.3,
             "#f1b6da"
            ],
            [
             0.4,
             "#fde0ef"
            ],
            [
             0.5,
             "#f7f7f7"
            ],
            [
             0.6,
             "#e6f5d0"
            ],
            [
             0.7,
             "#b8e186"
            ],
            [
             0.8,
             "#7fbc41"
            ],
            [
             0.9,
             "#4d9221"
            ],
            [
             1,
             "#276419"
            ]
           ],
           "sequential": [
            [
             0,
             "#0d0887"
            ],
            [
             0.1111111111111111,
             "#46039f"
            ],
            [
             0.2222222222222222,
             "#7201a8"
            ],
            [
             0.3333333333333333,
             "#9c179e"
            ],
            [
             0.4444444444444444,
             "#bd3786"
            ],
            [
             0.5555555555555556,
             "#d8576b"
            ],
            [
             0.6666666666666666,
             "#ed7953"
            ],
            [
             0.7777777777777778,
             "#fb9f3a"
            ],
            [
             0.8888888888888888,
             "#fdca26"
            ],
            [
             1,
             "#f0f921"
            ]
           ],
           "sequentialminus": [
            [
             0,
             "#0d0887"
            ],
            [
             0.1111111111111111,
             "#46039f"
            ],
            [
             0.2222222222222222,
             "#7201a8"
            ],
            [
             0.3333333333333333,
             "#9c179e"
            ],
            [
             0.4444444444444444,
             "#bd3786"
            ],
            [
             0.5555555555555556,
             "#d8576b"
            ],
            [
             0.6666666666666666,
             "#ed7953"
            ],
            [
             0.7777777777777778,
             "#fb9f3a"
            ],
            [
             0.8888888888888888,
             "#fdca26"
            ],
            [
             1,
             "#f0f921"
            ]
           ]
          },
          "colorway": [
           "#636efa",
           "#EF553B",
           "#00cc96",
           "#ab63fa",
           "#FFA15A",
           "#19d3f3",
           "#FF6692",
           "#B6E880",
           "#FF97FF",
           "#FECB52"
          ],
          "font": {
           "color": "#2a3f5f"
          },
          "geo": {
           "bgcolor": "white",
           "lakecolor": "white",
           "landcolor": "#E5ECF6",
           "showlakes": true,
           "showland": true,
           "subunitcolor": "white"
          },
          "hoverlabel": {
           "align": "left"
          },
          "hovermode": "closest",
          "mapbox": {
           "style": "light"
          },
          "paper_bgcolor": "white",
          "plot_bgcolor": "#E5ECF6",
          "polar": {
           "angularaxis": {
            "gridcolor": "white",
            "linecolor": "white",
            "ticks": ""
           },
           "bgcolor": "#E5ECF6",
           "radialaxis": {
            "gridcolor": "white",
            "linecolor": "white",
            "ticks": ""
           }
          },
          "scene": {
           "xaxis": {
            "backgroundcolor": "#E5ECF6",
            "gridcolor": "white",
            "gridwidth": 2,
            "linecolor": "white",
            "showbackground": true,
            "ticks": "",
            "zerolinecolor": "white"
           },
           "yaxis": {
            "backgroundcolor": "#E5ECF6",
            "gridcolor": "white",
            "gridwidth": 2,
            "linecolor": "white",
            "showbackground": true,
            "ticks": "",
            "zerolinecolor": "white"
           },
           "zaxis": {
            "backgroundcolor": "#E5ECF6",
            "gridcolor": "white",
            "gridwidth": 2,
            "linecolor": "white",
            "showbackground": true,
            "ticks": "",
            "zerolinecolor": "white"
           }
          },
          "shapedefaults": {
           "line": {
            "color": "#2a3f5f"
           }
          },
          "ternary": {
           "aaxis": {
            "gridcolor": "white",
            "linecolor": "white",
            "ticks": ""
           },
           "baxis": {
            "gridcolor": "white",
            "linecolor": "white",
            "ticks": ""
           },
           "bgcolor": "#E5ECF6",
           "caxis": {
            "gridcolor": "white",
            "linecolor": "white",
            "ticks": ""
           }
          },
          "title": {
           "x": 0.05
          },
          "xaxis": {
           "automargin": true,
           "gridcolor": "white",
           "linecolor": "white",
           "ticks": "",
           "title": {
            "standoff": 15
           },
           "zerolinecolor": "white",
           "zerolinewidth": 2
          },
          "yaxis": {
           "automargin": true,
           "gridcolor": "white",
           "linecolor": "white",
           "ticks": "",
           "title": {
            "standoff": 15
           },
           "zerolinecolor": "white",
           "zerolinewidth": 2
          }
         }
        },
        "title": {
         "font": {
          "color": "#4D5663"
         }
        },
        "xaxis": {
         "anchor": "y",
         "domain": [
          0,
          0.2125
         ],
         "gridcolor": "#E1E5ED",
         "showgrid": false,
         "tickfont": {
          "color": "#4D5663"
         },
         "title": {
          "font": {
           "color": "#4D5663"
          },
          "text": ""
         },
         "zerolinecolor": "#E1E5ED"
        },
        "xaxis10": {
         "anchor": "y10",
         "domain": [
          0.2625,
          0.475
         ],
         "gridcolor": "#E1E5ED",
         "showgrid": false,
         "tickfont": {
          "color": "#4D5663"
         },
         "title": {
          "font": {
           "color": "#4D5663"
          },
          "text": ""
         },
         "zerolinecolor": "#E1E5ED"
        },
        "xaxis11": {
         "anchor": "y11",
         "domain": [
          0.525,
          0.7375
         ],
         "gridcolor": "#E1E5ED",
         "showgrid": false,
         "tickfont": {
          "color": "#4D5663"
         },
         "title": {
          "font": {
           "color": "#4D5663"
          },
          "text": ""
         },
         "zerolinecolor": "#E1E5ED"
        },
        "xaxis12": {
         "anchor": "y12",
         "domain": [
          0.7875,
          1
         ],
         "gridcolor": "#E1E5ED",
         "showgrid": false,
         "tickfont": {
          "color": "#4D5663"
         },
         "title": {
          "font": {
           "color": "#4D5663"
          },
          "text": ""
         },
         "zerolinecolor": "#E1E5ED"
        },
        "xaxis13": {
         "anchor": "y13",
         "domain": [
          0,
          0.2125
         ],
         "gridcolor": "#E1E5ED",
         "showgrid": false,
         "tickfont": {
          "color": "#4D5663"
         },
         "title": {
          "font": {
           "color": "#4D5663"
          },
          "text": ""
         },
         "zerolinecolor": "#E1E5ED"
        },
        "xaxis14": {
         "anchor": "y14",
         "domain": [
          0.2625,
          0.475
         ],
         "gridcolor": "#E1E5ED",
         "showgrid": false,
         "tickfont": {
          "color": "#4D5663"
         },
         "title": {
          "font": {
           "color": "#4D5663"
          },
          "text": ""
         },
         "zerolinecolor": "#E1E5ED"
        },
        "xaxis15": {
         "anchor": "y15",
         "domain": [
          0.525,
          0.7375
         ],
         "gridcolor": "#E1E5ED",
         "showgrid": false,
         "tickfont": {
          "color": "#4D5663"
         },
         "title": {
          "font": {
           "color": "#4D5663"
          },
          "text": ""
         },
         "zerolinecolor": "#E1E5ED"
        },
        "xaxis16": {
         "anchor": "y16",
         "domain": [
          0.7875,
          1
         ],
         "gridcolor": "#E1E5ED",
         "showgrid": false,
         "tickfont": {
          "color": "#4D5663"
         },
         "title": {
          "font": {
           "color": "#4D5663"
          },
          "text": ""
         },
         "zerolinecolor": "#E1E5ED"
        },
        "xaxis2": {
         "anchor": "y2",
         "domain": [
          0.2625,
          0.475
         ],
         "gridcolor": "#E1E5ED",
         "showgrid": false,
         "tickfont": {
          "color": "#4D5663"
         },
         "title": {
          "font": {
           "color": "#4D5663"
          },
          "text": ""
         },
         "zerolinecolor": "#E1E5ED"
        },
        "xaxis3": {
         "anchor": "y3",
         "domain": [
          0.525,
          0.7375
         ],
         "gridcolor": "#E1E5ED",
         "showgrid": false,
         "tickfont": {
          "color": "#4D5663"
         },
         "title": {
          "font": {
           "color": "#4D5663"
          },
          "text": ""
         },
         "zerolinecolor": "#E1E5ED"
        },
        "xaxis4": {
         "anchor": "y4",
         "domain": [
          0.7875,
          1
         ],
         "gridcolor": "#E1E5ED",
         "showgrid": false,
         "tickfont": {
          "color": "#4D5663"
         },
         "title": {
          "font": {
           "color": "#4D5663"
          },
          "text": ""
         },
         "zerolinecolor": "#E1E5ED"
        },
        "xaxis5": {
         "anchor": "y5",
         "domain": [
          0,
          0.2125
         ],
         "gridcolor": "#E1E5ED",
         "showgrid": false,
         "tickfont": {
          "color": "#4D5663"
         },
         "title": {
          "font": {
           "color": "#4D5663"
          },
          "text": ""
         },
         "zerolinecolor": "#E1E5ED"
        },
        "xaxis6": {
         "anchor": "y6",
         "domain": [
          0.2625,
          0.475
         ],
         "gridcolor": "#E1E5ED",
         "showgrid": false,
         "tickfont": {
          "color": "#4D5663"
         },
         "title": {
          "font": {
           "color": "#4D5663"
          },
          "text": ""
         },
         "zerolinecolor": "#E1E5ED"
        },
        "xaxis7": {
         "anchor": "y7",
         "domain": [
          0.525,
          0.7375
         ],
         "gridcolor": "#E1E5ED",
         "showgrid": false,
         "tickfont": {
          "color": "#4D5663"
         },
         "title": {
          "font": {
           "color": "#4D5663"
          },
          "text": ""
         },
         "zerolinecolor": "#E1E5ED"
        },
        "xaxis8": {
         "anchor": "y8",
         "domain": [
          0.7875,
          1
         ],
         "gridcolor": "#E1E5ED",
         "showgrid": false,
         "tickfont": {
          "color": "#4D5663"
         },
         "title": {
          "font": {
           "color": "#4D5663"
          },
          "text": ""
         },
         "zerolinecolor": "#E1E5ED"
        },
        "xaxis9": {
         "anchor": "y9",
         "domain": [
          0,
          0.2125
         ],
         "gridcolor": "#E1E5ED",
         "showgrid": false,
         "tickfont": {
          "color": "#4D5663"
         },
         "title": {
          "font": {
           "color": "#4D5663"
          },
          "text": ""
         },
         "zerolinecolor": "#E1E5ED"
        },
        "yaxis": {
         "anchor": "x",
         "domain": [
          0.8025,
          1
         ],
         "gridcolor": "#E1E5ED",
         "showgrid": false,
         "tickfont": {
          "color": "#4D5663"
         },
         "title": {
          "font": {
           "color": "#4D5663"
          },
          "text": ""
         },
         "zerolinecolor": "#E1E5ED"
        },
        "yaxis10": {
         "anchor": "x10",
         "domain": [
          0.2675,
          0.465
         ],
         "gridcolor": "#E1E5ED",
         "showgrid": false,
         "tickfont": {
          "color": "#4D5663"
         },
         "title": {
          "font": {
           "color": "#4D5663"
          },
          "text": ""
         },
         "zerolinecolor": "#E1E5ED"
        },
        "yaxis11": {
         "anchor": "x11",
         "domain": [
          0.2675,
          0.465
         ],
         "gridcolor": "#E1E5ED",
         "showgrid": false,
         "tickfont": {
          "color": "#4D5663"
         },
         "title": {
          "font": {
           "color": "#4D5663"
          },
          "text": ""
         },
         "zerolinecolor": "#E1E5ED"
        },
        "yaxis12": {
         "anchor": "x12",
         "domain": [
          0.2675,
          0.465
         ],
         "gridcolor": "#E1E5ED",
         "showgrid": false,
         "tickfont": {
          "color": "#4D5663"
         },
         "title": {
          "font": {
           "color": "#4D5663"
          },
          "text": ""
         },
         "zerolinecolor": "#E1E5ED"
        },
        "yaxis13": {
         "anchor": "x13",
         "domain": [
          0,
          0.1975
         ],
         "gridcolor": "#E1E5ED",
         "showgrid": false,
         "tickfont": {
          "color": "#4D5663"
         },
         "title": {
          "font": {
           "color": "#4D5663"
          },
          "text": ""
         },
         "zerolinecolor": "#E1E5ED"
        },
        "yaxis14": {
         "anchor": "x14",
         "domain": [
          0,
          0.1975
         ],
         "gridcolor": "#E1E5ED",
         "showgrid": false,
         "tickfont": {
          "color": "#4D5663"
         },
         "title": {
          "font": {
           "color": "#4D5663"
          },
          "text": ""
         },
         "zerolinecolor": "#E1E5ED"
        },
        "yaxis15": {
         "anchor": "x15",
         "domain": [
          0,
          0.1975
         ],
         "gridcolor": "#E1E5ED",
         "showgrid": false,
         "tickfont": {
          "color": "#4D5663"
         },
         "title": {
          "font": {
           "color": "#4D5663"
          },
          "text": ""
         },
         "zerolinecolor": "#E1E5ED"
        },
        "yaxis16": {
         "anchor": "x16",
         "domain": [
          0,
          0.1975
         ],
         "gridcolor": "#E1E5ED",
         "showgrid": false,
         "tickfont": {
          "color": "#4D5663"
         },
         "title": {
          "font": {
           "color": "#4D5663"
          },
          "text": ""
         },
         "zerolinecolor": "#E1E5ED"
        },
        "yaxis2": {
         "anchor": "x2",
         "domain": [
          0.8025,
          1
         ],
         "gridcolor": "#E1E5ED",
         "showgrid": false,
         "tickfont": {
          "color": "#4D5663"
         },
         "title": {
          "font": {
           "color": "#4D5663"
          },
          "text": ""
         },
         "zerolinecolor": "#E1E5ED"
        },
        "yaxis3": {
         "anchor": "x3",
         "domain": [
          0.8025,
          1
         ],
         "gridcolor": "#E1E5ED",
         "showgrid": false,
         "tickfont": {
          "color": "#4D5663"
         },
         "title": {
          "font": {
           "color": "#4D5663"
          },
          "text": ""
         },
         "zerolinecolor": "#E1E5ED"
        },
        "yaxis4": {
         "anchor": "x4",
         "domain": [
          0.8025,
          1
         ],
         "gridcolor": "#E1E5ED",
         "showgrid": false,
         "tickfont": {
          "color": "#4D5663"
         },
         "title": {
          "font": {
           "color": "#4D5663"
          },
          "text": ""
         },
         "zerolinecolor": "#E1E5ED"
        },
        "yaxis5": {
         "anchor": "x5",
         "domain": [
          0.535,
          0.7325
         ],
         "gridcolor": "#E1E5ED",
         "showgrid": false,
         "tickfont": {
          "color": "#4D5663"
         },
         "title": {
          "font": {
           "color": "#4D5663"
          },
          "text": ""
         },
         "zerolinecolor": "#E1E5ED"
        },
        "yaxis6": {
         "anchor": "x6",
         "domain": [
          0.535,
          0.7325
         ],
         "gridcolor": "#E1E5ED",
         "showgrid": false,
         "tickfont": {
          "color": "#4D5663"
         },
         "title": {
          "font": {
           "color": "#4D5663"
          },
          "text": ""
         },
         "zerolinecolor": "#E1E5ED"
        },
        "yaxis7": {
         "anchor": "x7",
         "domain": [
          0.535,
          0.7325
         ],
         "gridcolor": "#E1E5ED",
         "showgrid": false,
         "tickfont": {
          "color": "#4D5663"
         },
         "title": {
          "font": {
           "color": "#4D5663"
          },
          "text": ""
         },
         "zerolinecolor": "#E1E5ED"
        },
        "yaxis8": {
         "anchor": "x8",
         "domain": [
          0.535,
          0.7325
         ],
         "gridcolor": "#E1E5ED",
         "showgrid": false,
         "tickfont": {
          "color": "#4D5663"
         },
         "title": {
          "font": {
           "color": "#4D5663"
          },
          "text": ""
         },
         "zerolinecolor": "#E1E5ED"
        },
        "yaxis9": {
         "anchor": "x9",
         "domain": [
          0.2675,
          0.465
         ],
         "gridcolor": "#E1E5ED",
         "showgrid": false,
         "tickfont": {
          "color": "#4D5663"
         },
         "title": {
          "font": {
           "color": "#4D5663"
          },
          "text": ""
         },
         "zerolinecolor": "#E1E5ED"
        }
       }
      },
      "text/html": [
       "<div>\n",
       "        \n",
       "        \n",
       "            <div id=\"b33ae52b-ee54-4e23-bee3-808bed386320\" class=\"plotly-graph-div\" style=\"height:525px; width:100%;\"></div>\n",
       "            <script type=\"text/javascript\">\n",
       "                require([\"plotly\"], function(Plotly) {\n",
       "                    window.PLOTLYENV=window.PLOTLYENV || {};\n",
       "                    window.PLOTLYENV.BASE_URL='https://plot.ly';\n",
       "                    \n",
       "                if (document.getElementById(\"b33ae52b-ee54-4e23-bee3-808bed386320\")) {\n",
       "                    Plotly.newPlot(\n",
       "                        'b33ae52b-ee54-4e23-bee3-808bed386320',\n",
       "                        [{\"histfunc\": \"count\", \"histnorm\": \"\", \"marker\": {\"color\": \"rgba(255, 153, 51, 1.0)\", \"line\": {\"color\": \"#4D5663\", \"width\": 1.3}}, \"name\": \"A\", \"nbinsx\": 10, \"opacity\": 0.8, \"orientation\": \"v\", \"type\": \"histogram\", \"x\": [0.18211528188351103, 0.11443106335682444, 0.5949692036342886, -0.3535342544087595, -0.47572636863988527, 0.6611105346730619, 1.0917475868868998, -1.055908421134264, 0.7494679589241444, 0.5789759034671067, 0.7316774439952273, -0.4486644091579335, -0.3216613236541918, 1.3398947178944725, -1.8158654345047331, 0.5313904039049452, -0.7423013212863171, 0.5331557511732393, 0.0991340250011104, -0.888876014490736, -0.8071434029017788, 0.22621387687134864, 0.33846701985286654, 1.2847481967645078, -1.3046454706066617, 0.03165923167711625, -1.812749936339364, -0.3760202389737884, 1.3773443376494576, -2.4683856625741445, 0.16576781332166, 0.45861358558459847, 1.3116230867367287, -0.4092701515328862, 1.9480137811637988, -0.24311669259196267, -1.2560627046642676, -1.1013099447982246, 1.9186619850406614, -0.10627374375998706, -0.6196495923112475, -0.8298416977962055, -0.6757826281867358, 0.2280090045808461, 0.7648507904943159, 1.3011275065550427, -0.04783545430568777, 1.789352458526911, 1.2482110579534083, 0.7630239321342249, -2.0282702513681095, -0.7203015319260467, -0.05507082231774276, -0.7816847616571831, 0.4459670558769205, 0.3212838980346144, -0.6426253662138668, -0.0027100937375358005, 0.2113669790740554, -1.1624280332116925, -1.2107191807959004, 0.0023915808065864963, 0.9477239269888895, 2.0969969112315665, -0.6473295177516343, 1.7239296014100238, -0.3054485264824094, 1.276967520625875, -0.09911990914379495, 0.46479845341110443, 1.908453861164365, 3.2946693525465824, 0.4455923130866878, 1.7263194925230791, -0.11369290761079535, -0.5605401630316551, -0.7195145870525593, 2.4171089252328173, 1.1119174808971366, 1.6058626990827998, -1.0471529563643316, -1.880630666155797, 1.015554806251903, -1.0412013633671626, 0.15290879219816925, 0.398987354671911, 0.38330897229416844, 1.3474622977012083, 0.182933725350078, -0.8699642581973692, 0.4133254150315233, 0.07694373551123751, -1.2265406355999857, 1.0485399380470044, 0.2733731206474115, -0.7293710670711111, -0.9662635657350681, -0.3915848836708997, -1.0552550223150015, 1.3045085529377953], \"xaxis\": \"x\", \"yaxis\": \"y\"}, {\"line\": {\"color\": \"rgba(128, 128, 128, 1.0)\", \"dash\": \"solid\", \"shape\": \"linear\", \"width\": 1.3}, \"marker\": {\"size\": 2, \"symbol\": \"circle\"}, \"mode\": \"markers\", \"name\": \"A\", \"text\": \"\", \"type\": \"scatter\", \"x\": [-0.02018755564793259, -1.3437652881828532, -1.1111743886255112, 1.8359557683550445, -0.6249666296815001, -2.023897039815607, -0.8601940309700603, 0.16485301587299, 1.4953349379652183, 0.3730240119071808, 0.15925679164929463, 1.6149762610901233, 1.1886259375183363, 0.36490947137394925, -0.277109980002345, -0.7186159514942053, 0.7932326128351476, -0.6947531868233376, -0.6728638956989003, 1.168924580201343, -0.41233623513644024, 0.19784681126554177, -0.16672974435674576, 1.5787929527059819, -1.2036869576587854, 1.6388602894589932, 1.1089114782328384, -0.6721462245633214, -0.3138745235292235, -0.36686782982021504, 0.4065463530031799, -0.2257079493612666, -0.43758529260168777, -0.2625152761872851, -1.328898373680611, -2.9542908677251907, 0.21927251170457285, 0.5340299809554598, -0.17813790978690175, -1.694306210049193, 0.8453898499703644, -0.4470270295083598, 1.4645815144212275, 0.7910848605126803, -0.8297193499743546, 1.6978211174739473, -0.9594406497906319, 0.8588943710079524, 0.5958120032635975, 0.5812863670036684, 0.006947874844667447, 1.328502003354449, -0.023639303401695195, 0.5988265122087519, 0.08350412346342759, -0.546791662972372, -0.008976085354435942, -1.3006584746527383, -0.20279537336043443, 0.40149387048614843, -0.44258682753169964, -0.6584645562551634, -0.9033796634003993, -0.9053368934817235, -0.46190729712378953, -0.6547812127063081, -1.0864383496934662, 0.32165120874344855, 2.613123546687639, 1.3927968612517874, 0.9919936360099734, -1.8454616872399732, 0.5894927197443933, -0.03559551820886039, -0.7910367650609854, -1.6255372546247662, -0.24326405453267416, 1.8413885707475877, 0.92182013753838, -1.2389704928347567, -0.4681250751946212, -0.6564464802415292, 1.1616997366798514, -1.6872613038346125, 0.06782059673136204, 0.10246372343762038, -0.9441951394571112, 0.4646299907553265, 0.5150963253406441, -1.0314331444035327, 2.76602889102714, -1.077324321471914, -1.0627038272964975, -1.3541233150161391, -1.1865180094484067, -1.1649117176906831, -0.14218353540987846, -0.8214858920308317, 1.75215782148672, 0.4284955139825126], \"xaxis\": \"x2\", \"y\": [0.18211528188351103, 0.11443106335682444, 0.5949692036342886, -0.3535342544087595, -0.47572636863988527, 0.6611105346730619, 1.0917475868868998, -1.055908421134264, 0.7494679589241444, 0.5789759034671067, 0.7316774439952273, -0.4486644091579335, -0.3216613236541918, 1.3398947178944725, -1.8158654345047331, 0.5313904039049452, -0.7423013212863171, 0.5331557511732393, 0.0991340250011104, -0.888876014490736, -0.8071434029017788, 0.22621387687134864, 0.33846701985286654, 1.2847481967645078, -1.3046454706066617, 0.03165923167711625, -1.812749936339364, -0.3760202389737884, 1.3773443376494576, -2.4683856625741445, 0.16576781332166, 0.45861358558459847, 1.3116230867367287, -0.4092701515328862, 1.9480137811637988, -0.24311669259196267, -1.2560627046642676, -1.1013099447982246, 1.9186619850406614, -0.10627374375998706, -0.6196495923112475, -0.8298416977962055, -0.6757826281867358, 0.2280090045808461, 0.7648507904943159, 1.3011275065550427, -0.04783545430568777, 1.789352458526911, 1.2482110579534083, 0.7630239321342249, -2.0282702513681095, -0.7203015319260467, -0.05507082231774276, -0.7816847616571831, 0.4459670558769205, 0.3212838980346144, -0.6426253662138668, -0.0027100937375358005, 0.2113669790740554, -1.1624280332116925, -1.2107191807959004, 0.0023915808065864963, 0.9477239269888895, 2.0969969112315665, -0.6473295177516343, 1.7239296014100238, -0.3054485264824094, 1.276967520625875, -0.09911990914379495, 0.46479845341110443, 1.908453861164365, 3.2946693525465824, 0.4455923130866878, 1.7263194925230791, -0.11369290761079535, -0.5605401630316551, -0.7195145870525593, 2.4171089252328173, 1.1119174808971366, 1.6058626990827998, -1.0471529563643316, -1.880630666155797, 1.015554806251903, -1.0412013633671626, 0.15290879219816925, 0.398987354671911, 0.38330897229416844, 1.3474622977012083, 0.182933725350078, -0.8699642581973692, 0.4133254150315233, 0.07694373551123751, -1.2265406355999857, 1.0485399380470044, 0.2733731206474115, -0.7293710670711111, -0.9662635657350681, -0.3915848836708997, -1.0552550223150015, 1.3045085529377953], \"yaxis\": \"y2\"}, {\"line\": {\"color\": \"rgba(128, 128, 128, 1.0)\", \"dash\": \"solid\", \"shape\": \"linear\", \"width\": 1.3}, \"marker\": {\"size\": 2, \"symbol\": \"circle\"}, \"mode\": \"markers\", \"name\": \"A\", \"text\": \"\", \"type\": \"scatter\", \"x\": [0.5518428296260244, 1.0586804391840123, 1.0365275747015392, -2.9981777461180927, 0.2393081463236984, 1.8872692011242316, -0.08393410152634781, 0.16687386739827878, -0.25568560100690213, -1.6524168343385888, 0.9018624301995285, 1.9706936592959021, 1.3196666619391262, 1.80560282209464, 0.1169649415974748, 1.0200555409233896, -0.713293962117717, 0.34663290034929894, 1.9553668942821194, 1.0572244131673274, 0.23731600659371405, -0.03223778130846141, -0.7520054789340904, 1.1024463153528665, -0.42873959191897, -1.0037676451014164, 0.9909701722847235, 0.6615956884327304, 0.5435140345534052, -0.7981148017058789, -0.9048683138594317, -0.0013692686796361255, -0.32185030950073557, -0.873370590630425, 0.5211634671549273, -0.5003155920879961, 0.6895540877968527, 0.2556938440662887, 0.9140656488831231, 0.33256356698999684, -0.08312203568317938, 0.07020335575515782, 0.2737462534668183, 0.3648081809290682, -0.6303450808077177, 0.03681908928834904, -1.8003004393922768, 0.2830157753218885, 0.5241979222791527, -0.4665430287189287, 1.5499299717127788, 0.6469600785277869, -0.8250004098446538, 0.4233116384418227, 1.2322347778823928, 0.5263994492634283, 0.06836858250917653, 0.2268106943239445, 0.4230903618598781, -1.0047231362657685, -0.39737069133271397, -0.07344313829557902, 1.0732351002723863, -0.6447409426762986, 0.05811677218658131, 0.6809155967949494, -1.6277416030292955, -0.08011779693656904, 0.12605767532523804, -0.5427044014254443, -0.03488139936261926, -0.26472206479304683, -0.24540813729398311, 0.05787658500439807, -0.8327505442704737, 0.8432112047945828, -0.07293256137350335, 0.9382650424541648, -0.11857424537434501, 0.09566984994854791, -1.1555681863500853, -0.5628180864415381, -0.030326902701813502, 1.8872384972146499, -0.3825590879924287, -0.7347844102569788, 2.071124053273013, 0.0021686444798123114, 1.1702844177756384, 0.5507097527282829, 0.5080239045387717, 0.03608985471420347, 0.9032285520857251, -1.0657048652768666, -0.6004926202340528, -0.7674944490251198, -2.3975308350523656, 1.0634632471898193, 0.18572032621691165, -0.13564355079462026], \"xaxis\": \"x3\", \"y\": [0.18211528188351103, 0.11443106335682444, 0.5949692036342886, -0.3535342544087595, -0.47572636863988527, 0.6611105346730619, 1.0917475868868998, -1.055908421134264, 0.7494679589241444, 0.5789759034671067, 0.7316774439952273, -0.4486644091579335, -0.3216613236541918, 1.3398947178944725, -1.8158654345047331, 0.5313904039049452, -0.7423013212863171, 0.5331557511732393, 0.0991340250011104, -0.888876014490736, -0.8071434029017788, 0.22621387687134864, 0.33846701985286654, 1.2847481967645078, -1.3046454706066617, 0.03165923167711625, -1.812749936339364, -0.3760202389737884, 1.3773443376494576, -2.4683856625741445, 0.16576781332166, 0.45861358558459847, 1.3116230867367287, -0.4092701515328862, 1.9480137811637988, -0.24311669259196267, -1.2560627046642676, -1.1013099447982246, 1.9186619850406614, -0.10627374375998706, -0.6196495923112475, -0.8298416977962055, -0.6757826281867358, 0.2280090045808461, 0.7648507904943159, 1.3011275065550427, -0.04783545430568777, 1.789352458526911, 1.2482110579534083, 0.7630239321342249, -2.0282702513681095, -0.7203015319260467, -0.05507082231774276, -0.7816847616571831, 0.4459670558769205, 0.3212838980346144, -0.6426253662138668, -0.0027100937375358005, 0.2113669790740554, -1.1624280332116925, -1.2107191807959004, 0.0023915808065864963, 0.9477239269888895, 2.0969969112315665, -0.6473295177516343, 1.7239296014100238, -0.3054485264824094, 1.276967520625875, -0.09911990914379495, 0.46479845341110443, 1.908453861164365, 3.2946693525465824, 0.4455923130866878, 1.7263194925230791, -0.11369290761079535, -0.5605401630316551, -0.7195145870525593, 2.4171089252328173, 1.1119174808971366, 1.6058626990827998, -1.0471529563643316, -1.880630666155797, 1.015554806251903, -1.0412013633671626, 0.15290879219816925, 0.398987354671911, 0.38330897229416844, 1.3474622977012083, 0.182933725350078, -0.8699642581973692, 0.4133254150315233, 0.07694373551123751, -1.2265406355999857, 1.0485399380470044, 0.2733731206474115, -0.7293710670711111, -0.9662635657350681, -0.3915848836708997, -1.0552550223150015, 1.3045085529377953], \"yaxis\": \"y3\"}, {\"line\": {\"color\": \"rgba(128, 128, 128, 1.0)\", \"dash\": \"solid\", \"shape\": \"linear\", \"width\": 1.3}, \"marker\": {\"size\": 2, \"symbol\": \"circle\"}, \"mode\": \"markers\", \"name\": \"A\", \"text\": \"\", \"type\": \"scatter\", \"x\": [0.2738559016122897, 0.7106502379418743, -1.7509084156433161, -0.9227763319033462, -0.1896771677542079, 0.3026683859132041, -0.0920793486260978, -0.9495997396565908, -1.7749894508055353, -1.7535243348691498, -0.5988954962609513, -0.8303808063690381, 0.8521524191089968, 1.9662665203821206, -0.9755156030288992, -2.1513066476382043, -2.0149014361552062, 1.4190512112043663, 0.9101757994864929, 0.2706871767071419, -0.21592636390465056, 1.9391994568216602, 0.07747697707792196, 0.7779200326235947, -0.2772291910817807, -2.242501613667083, 0.4918308687584895, 0.8931991510725807, -0.17209096940054266, 0.46784822980636726, -1.2878564615246344, 0.60238360809786, -0.11343885434841276, 0.8425259361263151, 2.450738718164936, 1.7644565022971292, 0.14002090373597423, 0.6278547242495557, -0.38923758768431627, -0.09731354951457473, -1.322639652790698, -0.24768605767131183, 0.2846995770357078, -0.3594903757927821, -0.20673693654884476, 2.4593116350956308, 0.6065535437723129, -1.0246373342647117, -0.07976237682655041, 0.57035784004666, 1.2067255141088138, 1.4104986023116812, 0.25595380920077154, -0.3343992931212443, 0.05980317789997982, -1.9467039940984174, -1.565869323653207, -0.2533814700811455, 0.6308960196561134, -0.30821376612250556, -0.18399398643410958, 0.8043101508258407, -0.13155361349583128, -1.4084353160404273, -0.4349940821430627, 0.1664234569748299, -0.7901108936090245, 1.4884838784331955, 0.5925673693297888, -0.19686708296039054, 0.12609007897393137, 0.7812428395310707, -0.2602981736363745, 0.3514862362992299, 0.04486711361988808, -0.9273180908786917, 0.0067026732445349116, 0.6935454391728332, -1.2917279374782737, 0.7287254117512857, -0.6782587204178349, -0.14265129979757074, 0.30593909289019683, 0.49220350505844146, -0.07444597486191551, -0.45995401480221126, 0.02408849041473539, -0.054200525968196966, -0.09323659787118423, -0.5265777382946164, -0.4245176246163635, 0.6902068699550099, -1.369310076792178, 1.2895384944001946, -0.3199485321860116, 0.7491705827529969, -1.6618011560128831, -0.6728917217096003, -0.9595010217541334, 1.2680332547877091], \"xaxis\": \"x4\", \"y\": [0.18211528188351103, 0.11443106335682444, 0.5949692036342886, -0.3535342544087595, -0.47572636863988527, 0.6611105346730619, 1.0917475868868998, -1.055908421134264, 0.7494679589241444, 0.5789759034671067, 0.7316774439952273, -0.4486644091579335, -0.3216613236541918, 1.3398947178944725, -1.8158654345047331, 0.5313904039049452, -0.7423013212863171, 0.5331557511732393, 0.0991340250011104, -0.888876014490736, -0.8071434029017788, 0.22621387687134864, 0.33846701985286654, 1.2847481967645078, -1.3046454706066617, 0.03165923167711625, -1.812749936339364, -0.3760202389737884, 1.3773443376494576, -2.4683856625741445, 0.16576781332166, 0.45861358558459847, 1.3116230867367287, -0.4092701515328862, 1.9480137811637988, -0.24311669259196267, -1.2560627046642676, -1.1013099447982246, 1.9186619850406614, -0.10627374375998706, -0.6196495923112475, -0.8298416977962055, -0.6757826281867358, 0.2280090045808461, 0.7648507904943159, 1.3011275065550427, -0.04783545430568777, 1.789352458526911, 1.2482110579534083, 0.7630239321342249, -2.0282702513681095, -0.7203015319260467, -0.05507082231774276, -0.7816847616571831, 0.4459670558769205, 0.3212838980346144, -0.6426253662138668, -0.0027100937375358005, 0.2113669790740554, -1.1624280332116925, -1.2107191807959004, 0.0023915808065864963, 0.9477239269888895, 2.0969969112315665, -0.6473295177516343, 1.7239296014100238, -0.3054485264824094, 1.276967520625875, -0.09911990914379495, 0.46479845341110443, 1.908453861164365, 3.2946693525465824, 0.4455923130866878, 1.7263194925230791, -0.11369290761079535, -0.5605401630316551, -0.7195145870525593, 2.4171089252328173, 1.1119174808971366, 1.6058626990827998, -1.0471529563643316, -1.880630666155797, 1.015554806251903, -1.0412013633671626, 0.15290879219816925, 0.398987354671911, 0.38330897229416844, 1.3474622977012083, 0.182933725350078, -0.8699642581973692, 0.4133254150315233, 0.07694373551123751, -1.2265406355999857, 1.0485399380470044, 0.2733731206474115, -0.7293710670711111, -0.9662635657350681, -0.3915848836708997, -1.0552550223150015, 1.3045085529377953], \"yaxis\": \"y4\"}, {\"line\": {\"color\": \"rgba(128, 128, 128, 1.0)\", \"dash\": \"solid\", \"shape\": \"linear\", \"width\": 1.3}, \"marker\": {\"size\": 2, \"symbol\": \"circle\"}, \"mode\": \"markers\", \"name\": \"B\", \"text\": \"\", \"type\": \"scatter\", \"x\": [0.18211528188351103, 0.11443106335682444, 0.5949692036342886, -0.3535342544087595, -0.47572636863988527, 0.6611105346730619, 1.0917475868868998, -1.055908421134264, 0.7494679589241444, 0.5789759034671067, 0.7316774439952273, -0.4486644091579335, -0.3216613236541918, 1.3398947178944725, -1.8158654345047331, 0.5313904039049452, -0.7423013212863171, 0.5331557511732393, 0.0991340250011104, -0.888876014490736, -0.8071434029017788, 0.22621387687134864, 0.33846701985286654, 1.2847481967645078, -1.3046454706066617, 0.03165923167711625, -1.812749936339364, -0.3760202389737884, 1.3773443376494576, -2.4683856625741445, 0.16576781332166, 0.45861358558459847, 1.3116230867367287, -0.4092701515328862, 1.9480137811637988, -0.24311669259196267, -1.2560627046642676, -1.1013099447982246, 1.9186619850406614, -0.10627374375998706, -0.6196495923112475, -0.8298416977962055, -0.6757826281867358, 0.2280090045808461, 0.7648507904943159, 1.3011275065550427, -0.04783545430568777, 1.789352458526911, 1.2482110579534083, 0.7630239321342249, -2.0282702513681095, -0.7203015319260467, -0.05507082231774276, -0.7816847616571831, 0.4459670558769205, 0.3212838980346144, -0.6426253662138668, -0.0027100937375358005, 0.2113669790740554, -1.1624280332116925, -1.2107191807959004, 0.0023915808065864963, 0.9477239269888895, 2.0969969112315665, -0.6473295177516343, 1.7239296014100238, -0.3054485264824094, 1.276967520625875, -0.09911990914379495, 0.46479845341110443, 1.908453861164365, 3.2946693525465824, 0.4455923130866878, 1.7263194925230791, -0.11369290761079535, -0.5605401630316551, -0.7195145870525593, 2.4171089252328173, 1.1119174808971366, 1.6058626990827998, -1.0471529563643316, -1.880630666155797, 1.015554806251903, -1.0412013633671626, 0.15290879219816925, 0.398987354671911, 0.38330897229416844, 1.3474622977012083, 0.182933725350078, -0.8699642581973692, 0.4133254150315233, 0.07694373551123751, -1.2265406355999857, 1.0485399380470044, 0.2733731206474115, -0.7293710670711111, -0.9662635657350681, -0.3915848836708997, -1.0552550223150015, 1.3045085529377953], \"xaxis\": \"x5\", \"y\": [-0.02018755564793259, -1.3437652881828532, -1.1111743886255112, 1.8359557683550445, -0.6249666296815001, -2.023897039815607, -0.8601940309700603, 0.16485301587299, 1.4953349379652183, 0.3730240119071808, 0.15925679164929463, 1.6149762610901233, 1.1886259375183363, 0.36490947137394925, -0.277109980002345, -0.7186159514942053, 0.7932326128351476, -0.6947531868233376, -0.6728638956989003, 1.168924580201343, -0.41233623513644024, 0.19784681126554177, -0.16672974435674576, 1.5787929527059819, -1.2036869576587854, 1.6388602894589932, 1.1089114782328384, -0.6721462245633214, -0.3138745235292235, -0.36686782982021504, 0.4065463530031799, -0.2257079493612666, -0.43758529260168777, -0.2625152761872851, -1.328898373680611, -2.9542908677251907, 0.21927251170457285, 0.5340299809554598, -0.17813790978690175, -1.694306210049193, 0.8453898499703644, -0.4470270295083598, 1.4645815144212275, 0.7910848605126803, -0.8297193499743546, 1.6978211174739473, -0.9594406497906319, 0.8588943710079524, 0.5958120032635975, 0.5812863670036684, 0.006947874844667447, 1.328502003354449, -0.023639303401695195, 0.5988265122087519, 0.08350412346342759, -0.546791662972372, -0.008976085354435942, -1.3006584746527383, -0.20279537336043443, 0.40149387048614843, -0.44258682753169964, -0.6584645562551634, -0.9033796634003993, -0.9053368934817235, -0.46190729712378953, -0.6547812127063081, -1.0864383496934662, 0.32165120874344855, 2.613123546687639, 1.3927968612517874, 0.9919936360099734, -1.8454616872399732, 0.5894927197443933, -0.03559551820886039, -0.7910367650609854, -1.6255372546247662, -0.24326405453267416, 1.8413885707475877, 0.92182013753838, -1.2389704928347567, -0.4681250751946212, -0.6564464802415292, 1.1616997366798514, -1.6872613038346125, 0.06782059673136204, 0.10246372343762038, -0.9441951394571112, 0.4646299907553265, 0.5150963253406441, -1.0314331444035327, 2.76602889102714, -1.077324321471914, -1.0627038272964975, -1.3541233150161391, -1.1865180094484067, -1.1649117176906831, -0.14218353540987846, -0.8214858920308317, 1.75215782148672, 0.4284955139825126], \"yaxis\": \"y5\"}, {\"histfunc\": \"count\", \"histnorm\": \"\", \"marker\": {\"color\": \"rgba(55, 128, 191, 1.0)\", \"line\": {\"color\": \"#4D5663\", \"width\": 1.3}}, \"name\": \"B\", \"nbinsx\": 10, \"opacity\": 0.8, \"orientation\": \"v\", \"type\": \"histogram\", \"x\": [-0.02018755564793259, -1.3437652881828532, -1.1111743886255112, 1.8359557683550445, -0.6249666296815001, -2.023897039815607, -0.8601940309700603, 0.16485301587299, 1.4953349379652183, 0.3730240119071808, 0.15925679164929463, 1.6149762610901233, 1.1886259375183363, 0.36490947137394925, -0.277109980002345, -0.7186159514942053, 0.7932326128351476, -0.6947531868233376, -0.6728638956989003, 1.168924580201343, -0.41233623513644024, 0.19784681126554177, -0.16672974435674576, 1.5787929527059819, -1.2036869576587854, 1.6388602894589932, 1.1089114782328384, -0.6721462245633214, -0.3138745235292235, -0.36686782982021504, 0.4065463530031799, -0.2257079493612666, -0.43758529260168777, -0.2625152761872851, -1.328898373680611, -2.9542908677251907, 0.21927251170457285, 0.5340299809554598, -0.17813790978690175, -1.694306210049193, 0.8453898499703644, -0.4470270295083598, 1.4645815144212275, 0.7910848605126803, -0.8297193499743546, 1.6978211174739473, -0.9594406497906319, 0.8588943710079524, 0.5958120032635975, 0.5812863670036684, 0.006947874844667447, 1.328502003354449, -0.023639303401695195, 0.5988265122087519, 0.08350412346342759, -0.546791662972372, -0.008976085354435942, -1.3006584746527383, -0.20279537336043443, 0.40149387048614843, -0.44258682753169964, -0.6584645562551634, -0.9033796634003993, -0.9053368934817235, -0.46190729712378953, -0.6547812127063081, -1.0864383496934662, 0.32165120874344855, 2.613123546687639, 1.3927968612517874, 0.9919936360099734, -1.8454616872399732, 0.5894927197443933, -0.03559551820886039, -0.7910367650609854, -1.6255372546247662, -0.24326405453267416, 1.8413885707475877, 0.92182013753838, -1.2389704928347567, -0.4681250751946212, -0.6564464802415292, 1.1616997366798514, -1.6872613038346125, 0.06782059673136204, 0.10246372343762038, -0.9441951394571112, 0.4646299907553265, 0.5150963253406441, -1.0314331444035327, 2.76602889102714, -1.077324321471914, -1.0627038272964975, -1.3541233150161391, -1.1865180094484067, -1.1649117176906831, -0.14218353540987846, -0.8214858920308317, 1.75215782148672, 0.4284955139825126], \"xaxis\": \"x6\", \"yaxis\": \"y6\"}, {\"line\": {\"color\": \"rgba(128, 128, 128, 1.0)\", \"dash\": \"solid\", \"shape\": \"linear\", \"width\": 1.3}, \"marker\": {\"size\": 2, \"symbol\": \"circle\"}, \"mode\": \"markers\", \"name\": \"B\", \"text\": \"\", \"type\": \"scatter\", \"x\": [0.5518428296260244, 1.0586804391840123, 1.0365275747015392, -2.9981777461180927, 0.2393081463236984, 1.8872692011242316, -0.08393410152634781, 0.16687386739827878, -0.25568560100690213, -1.6524168343385888, 0.9018624301995285, 1.9706936592959021, 1.3196666619391262, 1.80560282209464, 0.1169649415974748, 1.0200555409233896, -0.713293962117717, 0.34663290034929894, 1.9553668942821194, 1.0572244131673274, 0.23731600659371405, -0.03223778130846141, -0.7520054789340904, 1.1024463153528665, -0.42873959191897, -1.0037676451014164, 0.9909701722847235, 0.6615956884327304, 0.5435140345534052, -0.7981148017058789, -0.9048683138594317, -0.0013692686796361255, -0.32185030950073557, -0.873370590630425, 0.5211634671549273, -0.5003155920879961, 0.6895540877968527, 0.2556938440662887, 0.9140656488831231, 0.33256356698999684, -0.08312203568317938, 0.07020335575515782, 0.2737462534668183, 0.3648081809290682, -0.6303450808077177, 0.03681908928834904, -1.8003004393922768, 0.2830157753218885, 0.5241979222791527, -0.4665430287189287, 1.5499299717127788, 0.6469600785277869, -0.8250004098446538, 0.4233116384418227, 1.2322347778823928, 0.5263994492634283, 0.06836858250917653, 0.2268106943239445, 0.4230903618598781, -1.0047231362657685, -0.39737069133271397, -0.07344313829557902, 1.0732351002723863, -0.6447409426762986, 0.05811677218658131, 0.6809155967949494, -1.6277416030292955, -0.08011779693656904, 0.12605767532523804, -0.5427044014254443, -0.03488139936261926, -0.26472206479304683, -0.24540813729398311, 0.05787658500439807, -0.8327505442704737, 0.8432112047945828, -0.07293256137350335, 0.9382650424541648, -0.11857424537434501, 0.09566984994854791, -1.1555681863500853, -0.5628180864415381, -0.030326902701813502, 1.8872384972146499, -0.3825590879924287, -0.7347844102569788, 2.071124053273013, 0.0021686444798123114, 1.1702844177756384, 0.5507097527282829, 0.5080239045387717, 0.03608985471420347, 0.9032285520857251, -1.0657048652768666, -0.6004926202340528, -0.7674944490251198, -2.3975308350523656, 1.0634632471898193, 0.18572032621691165, -0.13564355079462026], \"xaxis\": \"x7\", \"y\": [-0.02018755564793259, -1.3437652881828532, -1.1111743886255112, 1.8359557683550445, -0.6249666296815001, -2.023897039815607, -0.8601940309700603, 0.16485301587299, 1.4953349379652183, 0.3730240119071808, 0.15925679164929463, 1.6149762610901233, 1.1886259375183363, 0.36490947137394925, -0.277109980002345, -0.7186159514942053, 0.7932326128351476, -0.6947531868233376, -0.6728638956989003, 1.168924580201343, -0.41233623513644024, 0.19784681126554177, -0.16672974435674576, 1.5787929527059819, -1.2036869576587854, 1.6388602894589932, 1.1089114782328384, -0.6721462245633214, -0.3138745235292235, -0.36686782982021504, 0.4065463530031799, -0.2257079493612666, -0.43758529260168777, -0.2625152761872851, -1.328898373680611, -2.9542908677251907, 0.21927251170457285, 0.5340299809554598, -0.17813790978690175, -1.694306210049193, 0.8453898499703644, -0.4470270295083598, 1.4645815144212275, 0.7910848605126803, -0.8297193499743546, 1.6978211174739473, -0.9594406497906319, 0.8588943710079524, 0.5958120032635975, 0.5812863670036684, 0.006947874844667447, 1.328502003354449, -0.023639303401695195, 0.5988265122087519, 0.08350412346342759, -0.546791662972372, -0.008976085354435942, -1.3006584746527383, -0.20279537336043443, 0.40149387048614843, -0.44258682753169964, -0.6584645562551634, -0.9033796634003993, -0.9053368934817235, -0.46190729712378953, -0.6547812127063081, -1.0864383496934662, 0.32165120874344855, 2.613123546687639, 1.3927968612517874, 0.9919936360099734, -1.8454616872399732, 0.5894927197443933, -0.03559551820886039, -0.7910367650609854, -1.6255372546247662, -0.24326405453267416, 1.8413885707475877, 0.92182013753838, -1.2389704928347567, -0.4681250751946212, -0.6564464802415292, 1.1616997366798514, -1.6872613038346125, 0.06782059673136204, 0.10246372343762038, -0.9441951394571112, 0.4646299907553265, 0.5150963253406441, -1.0314331444035327, 2.76602889102714, -1.077324321471914, -1.0627038272964975, -1.3541233150161391, -1.1865180094484067, -1.1649117176906831, -0.14218353540987846, -0.8214858920308317, 1.75215782148672, 0.4284955139825126], \"yaxis\": \"y7\"}, {\"line\": {\"color\": \"rgba(128, 128, 128, 1.0)\", \"dash\": \"solid\", \"shape\": \"linear\", \"width\": 1.3}, \"marker\": {\"size\": 2, \"symbol\": \"circle\"}, \"mode\": \"markers\", \"name\": \"B\", \"text\": \"\", \"type\": \"scatter\", \"x\": [0.2738559016122897, 0.7106502379418743, -1.7509084156433161, -0.9227763319033462, -0.1896771677542079, 0.3026683859132041, -0.0920793486260978, -0.9495997396565908, -1.7749894508055353, -1.7535243348691498, -0.5988954962609513, -0.8303808063690381, 0.8521524191089968, 1.9662665203821206, -0.9755156030288992, -2.1513066476382043, -2.0149014361552062, 1.4190512112043663, 0.9101757994864929, 0.2706871767071419, -0.21592636390465056, 1.9391994568216602, 0.07747697707792196, 0.7779200326235947, -0.2772291910817807, -2.242501613667083, 0.4918308687584895, 0.8931991510725807, -0.17209096940054266, 0.46784822980636726, -1.2878564615246344, 0.60238360809786, -0.11343885434841276, 0.8425259361263151, 2.450738718164936, 1.7644565022971292, 0.14002090373597423, 0.6278547242495557, -0.38923758768431627, -0.09731354951457473, -1.322639652790698, -0.24768605767131183, 0.2846995770357078, -0.3594903757927821, -0.20673693654884476, 2.4593116350956308, 0.6065535437723129, -1.0246373342647117, -0.07976237682655041, 0.57035784004666, 1.2067255141088138, 1.4104986023116812, 0.25595380920077154, -0.3343992931212443, 0.05980317789997982, -1.9467039940984174, -1.565869323653207, -0.2533814700811455, 0.6308960196561134, -0.30821376612250556, -0.18399398643410958, 0.8043101508258407, -0.13155361349583128, -1.4084353160404273, -0.4349940821430627, 0.1664234569748299, -0.7901108936090245, 1.4884838784331955, 0.5925673693297888, -0.19686708296039054, 0.12609007897393137, 0.7812428395310707, -0.2602981736363745, 0.3514862362992299, 0.04486711361988808, -0.9273180908786917, 0.0067026732445349116, 0.6935454391728332, -1.2917279374782737, 0.7287254117512857, -0.6782587204178349, -0.14265129979757074, 0.30593909289019683, 0.49220350505844146, -0.07444597486191551, -0.45995401480221126, 0.02408849041473539, -0.054200525968196966, -0.09323659787118423, -0.5265777382946164, -0.4245176246163635, 0.6902068699550099, -1.369310076792178, 1.2895384944001946, -0.3199485321860116, 0.7491705827529969, -1.6618011560128831, -0.6728917217096003, -0.9595010217541334, 1.2680332547877091], \"xaxis\": \"x8\", \"y\": [-0.02018755564793259, -1.3437652881828532, -1.1111743886255112, 1.8359557683550445, -0.6249666296815001, -2.023897039815607, -0.8601940309700603, 0.16485301587299, 1.4953349379652183, 0.3730240119071808, 0.15925679164929463, 1.6149762610901233, 1.1886259375183363, 0.36490947137394925, -0.277109980002345, -0.7186159514942053, 0.7932326128351476, -0.6947531868233376, -0.6728638956989003, 1.168924580201343, -0.41233623513644024, 0.19784681126554177, -0.16672974435674576, 1.5787929527059819, -1.2036869576587854, 1.6388602894589932, 1.1089114782328384, -0.6721462245633214, -0.3138745235292235, -0.36686782982021504, 0.4065463530031799, -0.2257079493612666, -0.43758529260168777, -0.2625152761872851, -1.328898373680611, -2.9542908677251907, 0.21927251170457285, 0.5340299809554598, -0.17813790978690175, -1.694306210049193, 0.8453898499703644, -0.4470270295083598, 1.4645815144212275, 0.7910848605126803, -0.8297193499743546, 1.6978211174739473, -0.9594406497906319, 0.8588943710079524, 0.5958120032635975, 0.5812863670036684, 0.006947874844667447, 1.328502003354449, -0.023639303401695195, 0.5988265122087519, 0.08350412346342759, -0.546791662972372, -0.008976085354435942, -1.3006584746527383, -0.20279537336043443, 0.40149387048614843, -0.44258682753169964, -0.6584645562551634, -0.9033796634003993, -0.9053368934817235, -0.46190729712378953, -0.6547812127063081, -1.0864383496934662, 0.32165120874344855, 2.613123546687639, 1.3927968612517874, 0.9919936360099734, -1.8454616872399732, 0.5894927197443933, -0.03559551820886039, -0.7910367650609854, -1.6255372546247662, -0.24326405453267416, 1.8413885707475877, 0.92182013753838, -1.2389704928347567, -0.4681250751946212, -0.6564464802415292, 1.1616997366798514, -1.6872613038346125, 0.06782059673136204, 0.10246372343762038, -0.9441951394571112, 0.4646299907553265, 0.5150963253406441, -1.0314331444035327, 2.76602889102714, -1.077324321471914, -1.0627038272964975, -1.3541233150161391, -1.1865180094484067, -1.1649117176906831, -0.14218353540987846, -0.8214858920308317, 1.75215782148672, 0.4284955139825126], \"yaxis\": \"y8\"}, {\"line\": {\"color\": \"rgba(128, 128, 128, 1.0)\", \"dash\": \"solid\", \"shape\": \"linear\", \"width\": 1.3}, \"marker\": {\"size\": 2, \"symbol\": \"circle\"}, \"mode\": \"markers\", \"name\": \"C\", \"text\": \"\", \"type\": \"scatter\", \"x\": [0.18211528188351103, 0.11443106335682444, 0.5949692036342886, -0.3535342544087595, -0.47572636863988527, 0.6611105346730619, 1.0917475868868998, -1.055908421134264, 0.7494679589241444, 0.5789759034671067, 0.7316774439952273, -0.4486644091579335, -0.3216613236541918, 1.3398947178944725, -1.8158654345047331, 0.5313904039049452, -0.7423013212863171, 0.5331557511732393, 0.0991340250011104, -0.888876014490736, -0.8071434029017788, 0.22621387687134864, 0.33846701985286654, 1.2847481967645078, -1.3046454706066617, 0.03165923167711625, -1.812749936339364, -0.3760202389737884, 1.3773443376494576, -2.4683856625741445, 0.16576781332166, 0.45861358558459847, 1.3116230867367287, -0.4092701515328862, 1.9480137811637988, -0.24311669259196267, -1.2560627046642676, -1.1013099447982246, 1.9186619850406614, -0.10627374375998706, -0.6196495923112475, -0.8298416977962055, -0.6757826281867358, 0.2280090045808461, 0.7648507904943159, 1.3011275065550427, -0.04783545430568777, 1.789352458526911, 1.2482110579534083, 0.7630239321342249, -2.0282702513681095, -0.7203015319260467, -0.05507082231774276, -0.7816847616571831, 0.4459670558769205, 0.3212838980346144, -0.6426253662138668, -0.0027100937375358005, 0.2113669790740554, -1.1624280332116925, -1.2107191807959004, 0.0023915808065864963, 0.9477239269888895, 2.0969969112315665, -0.6473295177516343, 1.7239296014100238, -0.3054485264824094, 1.276967520625875, -0.09911990914379495, 0.46479845341110443, 1.908453861164365, 3.2946693525465824, 0.4455923130866878, 1.7263194925230791, -0.11369290761079535, -0.5605401630316551, -0.7195145870525593, 2.4171089252328173, 1.1119174808971366, 1.6058626990827998, -1.0471529563643316, -1.880630666155797, 1.015554806251903, -1.0412013633671626, 0.15290879219816925, 0.398987354671911, 0.38330897229416844, 1.3474622977012083, 0.182933725350078, -0.8699642581973692, 0.4133254150315233, 0.07694373551123751, -1.2265406355999857, 1.0485399380470044, 0.2733731206474115, -0.7293710670711111, -0.9662635657350681, -0.3915848836708997, -1.0552550223150015, 1.3045085529377953], \"xaxis\": \"x9\", \"y\": [0.5518428296260244, 1.0586804391840123, 1.0365275747015392, -2.9981777461180927, 0.2393081463236984, 1.8872692011242316, -0.08393410152634781, 0.16687386739827878, -0.25568560100690213, -1.6524168343385888, 0.9018624301995285, 1.9706936592959021, 1.3196666619391262, 1.80560282209464, 0.1169649415974748, 1.0200555409233896, -0.713293962117717, 0.34663290034929894, 1.9553668942821194, 1.0572244131673274, 0.23731600659371405, -0.03223778130846141, -0.7520054789340904, 1.1024463153528665, -0.42873959191897, -1.0037676451014164, 0.9909701722847235, 0.6615956884327304, 0.5435140345534052, -0.7981148017058789, -0.9048683138594317, -0.0013692686796361255, -0.32185030950073557, -0.873370590630425, 0.5211634671549273, -0.5003155920879961, 0.6895540877968527, 0.2556938440662887, 0.9140656488831231, 0.33256356698999684, -0.08312203568317938, 0.07020335575515782, 0.2737462534668183, 0.3648081809290682, -0.6303450808077177, 0.03681908928834904, -1.8003004393922768, 0.2830157753218885, 0.5241979222791527, -0.4665430287189287, 1.5499299717127788, 0.6469600785277869, -0.8250004098446538, 0.4233116384418227, 1.2322347778823928, 0.5263994492634283, 0.06836858250917653, 0.2268106943239445, 0.4230903618598781, -1.0047231362657685, -0.39737069133271397, -0.07344313829557902, 1.0732351002723863, -0.6447409426762986, 0.05811677218658131, 0.6809155967949494, -1.6277416030292955, -0.08011779693656904, 0.12605767532523804, -0.5427044014254443, -0.03488139936261926, -0.26472206479304683, -0.24540813729398311, 0.05787658500439807, -0.8327505442704737, 0.8432112047945828, -0.07293256137350335, 0.9382650424541648, -0.11857424537434501, 0.09566984994854791, -1.1555681863500853, -0.5628180864415381, -0.030326902701813502, 1.8872384972146499, -0.3825590879924287, -0.7347844102569788, 2.071124053273013, 0.0021686444798123114, 1.1702844177756384, 0.5507097527282829, 0.5080239045387717, 0.03608985471420347, 0.9032285520857251, -1.0657048652768666, -0.6004926202340528, -0.7674944490251198, -2.3975308350523656, 1.0634632471898193, 0.18572032621691165, -0.13564355079462026], \"yaxis\": \"y9\"}, {\"line\": {\"color\": \"rgba(128, 128, 128, 1.0)\", \"dash\": \"solid\", \"shape\": \"linear\", \"width\": 1.3}, \"marker\": {\"size\": 2, \"symbol\": \"circle\"}, \"mode\": \"markers\", \"name\": \"C\", \"text\": \"\", \"type\": \"scatter\", \"x\": [-0.02018755564793259, -1.3437652881828532, -1.1111743886255112, 1.8359557683550445, -0.6249666296815001, -2.023897039815607, -0.8601940309700603, 0.16485301587299, 1.4953349379652183, 0.3730240119071808, 0.15925679164929463, 1.6149762610901233, 1.1886259375183363, 0.36490947137394925, -0.277109980002345, -0.7186159514942053, 0.7932326128351476, -0.6947531868233376, -0.6728638956989003, 1.168924580201343, -0.41233623513644024, 0.19784681126554177, -0.16672974435674576, 1.5787929527059819, -1.2036869576587854, 1.6388602894589932, 1.1089114782328384, -0.6721462245633214, -0.3138745235292235, -0.36686782982021504, 0.4065463530031799, -0.2257079493612666, -0.43758529260168777, -0.2625152761872851, -1.328898373680611, -2.9542908677251907, 0.21927251170457285, 0.5340299809554598, -0.17813790978690175, -1.694306210049193, 0.8453898499703644, -0.4470270295083598, 1.4645815144212275, 0.7910848605126803, -0.8297193499743546, 1.6978211174739473, -0.9594406497906319, 0.8588943710079524, 0.5958120032635975, 0.5812863670036684, 0.006947874844667447, 1.328502003354449, -0.023639303401695195, 0.5988265122087519, 0.08350412346342759, -0.546791662972372, -0.008976085354435942, -1.3006584746527383, -0.20279537336043443, 0.40149387048614843, -0.44258682753169964, -0.6584645562551634, -0.9033796634003993, -0.9053368934817235, -0.46190729712378953, -0.6547812127063081, -1.0864383496934662, 0.32165120874344855, 2.613123546687639, 1.3927968612517874, 0.9919936360099734, -1.8454616872399732, 0.5894927197443933, -0.03559551820886039, -0.7910367650609854, -1.6255372546247662, -0.24326405453267416, 1.8413885707475877, 0.92182013753838, -1.2389704928347567, -0.4681250751946212, -0.6564464802415292, 1.1616997366798514, -1.6872613038346125, 0.06782059673136204, 0.10246372343762038, -0.9441951394571112, 0.4646299907553265, 0.5150963253406441, -1.0314331444035327, 2.76602889102714, -1.077324321471914, -1.0627038272964975, -1.3541233150161391, -1.1865180094484067, -1.1649117176906831, -0.14218353540987846, -0.8214858920308317, 1.75215782148672, 0.4284955139825126], \"xaxis\": \"x10\", \"y\": [0.5518428296260244, 1.0586804391840123, 1.0365275747015392, -2.9981777461180927, 0.2393081463236984, 1.8872692011242316, -0.08393410152634781, 0.16687386739827878, -0.25568560100690213, -1.6524168343385888, 0.9018624301995285, 1.9706936592959021, 1.3196666619391262, 1.80560282209464, 0.1169649415974748, 1.0200555409233896, -0.713293962117717, 0.34663290034929894, 1.9553668942821194, 1.0572244131673274, 0.23731600659371405, -0.03223778130846141, -0.7520054789340904, 1.1024463153528665, -0.42873959191897, -1.0037676451014164, 0.9909701722847235, 0.6615956884327304, 0.5435140345534052, -0.7981148017058789, -0.9048683138594317, -0.0013692686796361255, -0.32185030950073557, -0.873370590630425, 0.5211634671549273, -0.5003155920879961, 0.6895540877968527, 0.2556938440662887, 0.9140656488831231, 0.33256356698999684, -0.08312203568317938, 0.07020335575515782, 0.2737462534668183, 0.3648081809290682, -0.6303450808077177, 0.03681908928834904, -1.8003004393922768, 0.2830157753218885, 0.5241979222791527, -0.4665430287189287, 1.5499299717127788, 0.6469600785277869, -0.8250004098446538, 0.4233116384418227, 1.2322347778823928, 0.5263994492634283, 0.06836858250917653, 0.2268106943239445, 0.4230903618598781, -1.0047231362657685, -0.39737069133271397, -0.07344313829557902, 1.0732351002723863, -0.6447409426762986, 0.05811677218658131, 0.6809155967949494, -1.6277416030292955, -0.08011779693656904, 0.12605767532523804, -0.5427044014254443, -0.03488139936261926, -0.26472206479304683, -0.24540813729398311, 0.05787658500439807, -0.8327505442704737, 0.8432112047945828, -0.07293256137350335, 0.9382650424541648, -0.11857424537434501, 0.09566984994854791, -1.1555681863500853, -0.5628180864415381, -0.030326902701813502, 1.8872384972146499, -0.3825590879924287, -0.7347844102569788, 2.071124053273013, 0.0021686444798123114, 1.1702844177756384, 0.5507097527282829, 0.5080239045387717, 0.03608985471420347, 0.9032285520857251, -1.0657048652768666, -0.6004926202340528, -0.7674944490251198, -2.3975308350523656, 1.0634632471898193, 0.18572032621691165, -0.13564355079462026], \"yaxis\": \"y10\"}, {\"histfunc\": \"count\", \"histnorm\": \"\", \"marker\": {\"color\": \"rgba(50, 171, 96, 1.0)\", \"line\": {\"color\": \"#4D5663\", \"width\": 1.3}}, \"name\": \"C\", \"nbinsx\": 10, \"opacity\": 0.8, \"orientation\": \"v\", \"type\": \"histogram\", \"x\": [0.5518428296260244, 1.0586804391840123, 1.0365275747015392, -2.9981777461180927, 0.2393081463236984, 1.8872692011242316, -0.08393410152634781, 0.16687386739827878, -0.25568560100690213, -1.6524168343385888, 0.9018624301995285, 1.9706936592959021, 1.3196666619391262, 1.80560282209464, 0.1169649415974748, 1.0200555409233896, -0.713293962117717, 0.34663290034929894, 1.9553668942821194, 1.0572244131673274, 0.23731600659371405, -0.03223778130846141, -0.7520054789340904, 1.1024463153528665, -0.42873959191897, -1.0037676451014164, 0.9909701722847235, 0.6615956884327304, 0.5435140345534052, -0.7981148017058789, -0.9048683138594317, -0.0013692686796361255, -0.32185030950073557, -0.873370590630425, 0.5211634671549273, -0.5003155920879961, 0.6895540877968527, 0.2556938440662887, 0.9140656488831231, 0.33256356698999684, -0.08312203568317938, 0.07020335575515782, 0.2737462534668183, 0.3648081809290682, -0.6303450808077177, 0.03681908928834904, -1.8003004393922768, 0.2830157753218885, 0.5241979222791527, -0.4665430287189287, 1.5499299717127788, 0.6469600785277869, -0.8250004098446538, 0.4233116384418227, 1.2322347778823928, 0.5263994492634283, 0.06836858250917653, 0.2268106943239445, 0.4230903618598781, -1.0047231362657685, -0.39737069133271397, -0.07344313829557902, 1.0732351002723863, -0.6447409426762986, 0.05811677218658131, 0.6809155967949494, -1.6277416030292955, -0.08011779693656904, 0.12605767532523804, -0.5427044014254443, -0.03488139936261926, -0.26472206479304683, -0.24540813729398311, 0.05787658500439807, -0.8327505442704737, 0.8432112047945828, -0.07293256137350335, 0.9382650424541648, -0.11857424537434501, 0.09566984994854791, -1.1555681863500853, -0.5628180864415381, -0.030326902701813502, 1.8872384972146499, -0.3825590879924287, -0.7347844102569788, 2.071124053273013, 0.0021686444798123114, 1.1702844177756384, 0.5507097527282829, 0.5080239045387717, 0.03608985471420347, 0.9032285520857251, -1.0657048652768666, -0.6004926202340528, -0.7674944490251198, -2.3975308350523656, 1.0634632471898193, 0.18572032621691165, -0.13564355079462026], \"xaxis\": \"x11\", \"yaxis\": \"y11\"}, {\"line\": {\"color\": \"rgba(128, 128, 128, 1.0)\", \"dash\": \"solid\", \"shape\": \"linear\", \"width\": 1.3}, \"marker\": {\"size\": 2, \"symbol\": \"circle\"}, \"mode\": \"markers\", \"name\": \"C\", \"text\": \"\", \"type\": \"scatter\", \"x\": [0.2738559016122897, 0.7106502379418743, -1.7509084156433161, -0.9227763319033462, -0.1896771677542079, 0.3026683859132041, -0.0920793486260978, -0.9495997396565908, -1.7749894508055353, -1.7535243348691498, -0.5988954962609513, -0.8303808063690381, 0.8521524191089968, 1.9662665203821206, -0.9755156030288992, -2.1513066476382043, -2.0149014361552062, 1.4190512112043663, 0.9101757994864929, 0.2706871767071419, -0.21592636390465056, 1.9391994568216602, 0.07747697707792196, 0.7779200326235947, -0.2772291910817807, -2.242501613667083, 0.4918308687584895, 0.8931991510725807, -0.17209096940054266, 0.46784822980636726, -1.2878564615246344, 0.60238360809786, -0.11343885434841276, 0.8425259361263151, 2.450738718164936, 1.7644565022971292, 0.14002090373597423, 0.6278547242495557, -0.38923758768431627, -0.09731354951457473, -1.322639652790698, -0.24768605767131183, 0.2846995770357078, -0.3594903757927821, -0.20673693654884476, 2.4593116350956308, 0.6065535437723129, -1.0246373342647117, -0.07976237682655041, 0.57035784004666, 1.2067255141088138, 1.4104986023116812, 0.25595380920077154, -0.3343992931212443, 0.05980317789997982, -1.9467039940984174, -1.565869323653207, -0.2533814700811455, 0.6308960196561134, -0.30821376612250556, -0.18399398643410958, 0.8043101508258407, -0.13155361349583128, -1.4084353160404273, -0.4349940821430627, 0.1664234569748299, -0.7901108936090245, 1.4884838784331955, 0.5925673693297888, -0.19686708296039054, 0.12609007897393137, 0.7812428395310707, -0.2602981736363745, 0.3514862362992299, 0.04486711361988808, -0.9273180908786917, 0.0067026732445349116, 0.6935454391728332, -1.2917279374782737, 0.7287254117512857, -0.6782587204178349, -0.14265129979757074, 0.30593909289019683, 0.49220350505844146, -0.07444597486191551, -0.45995401480221126, 0.02408849041473539, -0.054200525968196966, -0.09323659787118423, -0.5265777382946164, -0.4245176246163635, 0.6902068699550099, -1.369310076792178, 1.2895384944001946, -0.3199485321860116, 0.7491705827529969, -1.6618011560128831, -0.6728917217096003, -0.9595010217541334, 1.2680332547877091], \"xaxis\": \"x12\", \"y\": [0.5518428296260244, 1.0586804391840123, 1.0365275747015392, -2.9981777461180927, 0.2393081463236984, 1.8872692011242316, -0.08393410152634781, 0.16687386739827878, -0.25568560100690213, -1.6524168343385888, 0.9018624301995285, 1.9706936592959021, 1.3196666619391262, 1.80560282209464, 0.1169649415974748, 1.0200555409233896, -0.713293962117717, 0.34663290034929894, 1.9553668942821194, 1.0572244131673274, 0.23731600659371405, -0.03223778130846141, -0.7520054789340904, 1.1024463153528665, -0.42873959191897, -1.0037676451014164, 0.9909701722847235, 0.6615956884327304, 0.5435140345534052, -0.7981148017058789, -0.9048683138594317, -0.0013692686796361255, -0.32185030950073557, -0.873370590630425, 0.5211634671549273, -0.5003155920879961, 0.6895540877968527, 0.2556938440662887, 0.9140656488831231, 0.33256356698999684, -0.08312203568317938, 0.07020335575515782, 0.2737462534668183, 0.3648081809290682, -0.6303450808077177, 0.03681908928834904, -1.8003004393922768, 0.2830157753218885, 0.5241979222791527, -0.4665430287189287, 1.5499299717127788, 0.6469600785277869, -0.8250004098446538, 0.4233116384418227, 1.2322347778823928, 0.5263994492634283, 0.06836858250917653, 0.2268106943239445, 0.4230903618598781, -1.0047231362657685, -0.39737069133271397, -0.07344313829557902, 1.0732351002723863, -0.6447409426762986, 0.05811677218658131, 0.6809155967949494, -1.6277416030292955, -0.08011779693656904, 0.12605767532523804, -0.5427044014254443, -0.03488139936261926, -0.26472206479304683, -0.24540813729398311, 0.05787658500439807, -0.8327505442704737, 0.8432112047945828, -0.07293256137350335, 0.9382650424541648, -0.11857424537434501, 0.09566984994854791, -1.1555681863500853, -0.5628180864415381, -0.030326902701813502, 1.8872384972146499, -0.3825590879924287, -0.7347844102569788, 2.071124053273013, 0.0021686444798123114, 1.1702844177756384, 0.5507097527282829, 0.5080239045387717, 0.03608985471420347, 0.9032285520857251, -1.0657048652768666, -0.6004926202340528, -0.7674944490251198, -2.3975308350523656, 1.0634632471898193, 0.18572032621691165, -0.13564355079462026], \"yaxis\": \"y12\"}, {\"line\": {\"color\": \"rgba(128, 128, 128, 1.0)\", \"dash\": \"solid\", \"shape\": \"linear\", \"width\": 1.3}, \"marker\": {\"size\": 2, \"symbol\": \"circle\"}, \"mode\": \"markers\", \"name\": \"D\", \"text\": \"\", \"type\": \"scatter\", \"x\": [0.18211528188351103, 0.11443106335682444, 0.5949692036342886, -0.3535342544087595, -0.47572636863988527, 0.6611105346730619, 1.0917475868868998, -1.055908421134264, 0.7494679589241444, 0.5789759034671067, 0.7316774439952273, -0.4486644091579335, -0.3216613236541918, 1.3398947178944725, -1.8158654345047331, 0.5313904039049452, -0.7423013212863171, 0.5331557511732393, 0.0991340250011104, -0.888876014490736, -0.8071434029017788, 0.22621387687134864, 0.33846701985286654, 1.2847481967645078, -1.3046454706066617, 0.03165923167711625, -1.812749936339364, -0.3760202389737884, 1.3773443376494576, -2.4683856625741445, 0.16576781332166, 0.45861358558459847, 1.3116230867367287, -0.4092701515328862, 1.9480137811637988, -0.24311669259196267, -1.2560627046642676, -1.1013099447982246, 1.9186619850406614, -0.10627374375998706, -0.6196495923112475, -0.8298416977962055, -0.6757826281867358, 0.2280090045808461, 0.7648507904943159, 1.3011275065550427, -0.04783545430568777, 1.789352458526911, 1.2482110579534083, 0.7630239321342249, -2.0282702513681095, -0.7203015319260467, -0.05507082231774276, -0.7816847616571831, 0.4459670558769205, 0.3212838980346144, -0.6426253662138668, -0.0027100937375358005, 0.2113669790740554, -1.1624280332116925, -1.2107191807959004, 0.0023915808065864963, 0.9477239269888895, 2.0969969112315665, -0.6473295177516343, 1.7239296014100238, -0.3054485264824094, 1.276967520625875, -0.09911990914379495, 0.46479845341110443, 1.908453861164365, 3.2946693525465824, 0.4455923130866878, 1.7263194925230791, -0.11369290761079535, -0.5605401630316551, -0.7195145870525593, 2.4171089252328173, 1.1119174808971366, 1.6058626990827998, -1.0471529563643316, -1.880630666155797, 1.015554806251903, -1.0412013633671626, 0.15290879219816925, 0.398987354671911, 0.38330897229416844, 1.3474622977012083, 0.182933725350078, -0.8699642581973692, 0.4133254150315233, 0.07694373551123751, -1.2265406355999857, 1.0485399380470044, 0.2733731206474115, -0.7293710670711111, -0.9662635657350681, -0.3915848836708997, -1.0552550223150015, 1.3045085529377953], \"xaxis\": \"x13\", \"y\": [0.2738559016122897, 0.7106502379418743, -1.7509084156433161, -0.9227763319033462, -0.1896771677542079, 0.3026683859132041, -0.0920793486260978, -0.9495997396565908, -1.7749894508055353, -1.7535243348691498, -0.5988954962609513, -0.8303808063690381, 0.8521524191089968, 1.9662665203821206, -0.9755156030288992, -2.1513066476382043, -2.0149014361552062, 1.4190512112043663, 0.9101757994864929, 0.2706871767071419, -0.21592636390465056, 1.9391994568216602, 0.07747697707792196, 0.7779200326235947, -0.2772291910817807, -2.242501613667083, 0.4918308687584895, 0.8931991510725807, -0.17209096940054266, 0.46784822980636726, -1.2878564615246344, 0.60238360809786, -0.11343885434841276, 0.8425259361263151, 2.450738718164936, 1.7644565022971292, 0.14002090373597423, 0.6278547242495557, -0.38923758768431627, -0.09731354951457473, -1.322639652790698, -0.24768605767131183, 0.2846995770357078, -0.3594903757927821, -0.20673693654884476, 2.4593116350956308, 0.6065535437723129, -1.0246373342647117, -0.07976237682655041, 0.57035784004666, 1.2067255141088138, 1.4104986023116812, 0.25595380920077154, -0.3343992931212443, 0.05980317789997982, -1.9467039940984174, -1.565869323653207, -0.2533814700811455, 0.6308960196561134, -0.30821376612250556, -0.18399398643410958, 0.8043101508258407, -0.13155361349583128, -1.4084353160404273, -0.4349940821430627, 0.1664234569748299, -0.7901108936090245, 1.4884838784331955, 0.5925673693297888, -0.19686708296039054, 0.12609007897393137, 0.7812428395310707, -0.2602981736363745, 0.3514862362992299, 0.04486711361988808, -0.9273180908786917, 0.0067026732445349116, 0.6935454391728332, -1.2917279374782737, 0.7287254117512857, -0.6782587204178349, -0.14265129979757074, 0.30593909289019683, 0.49220350505844146, -0.07444597486191551, -0.45995401480221126, 0.02408849041473539, -0.054200525968196966, -0.09323659787118423, -0.5265777382946164, -0.4245176246163635, 0.6902068699550099, -1.369310076792178, 1.2895384944001946, -0.3199485321860116, 0.7491705827529969, -1.6618011560128831, -0.6728917217096003, -0.9595010217541334, 1.2680332547877091], \"yaxis\": \"y13\"}, {\"line\": {\"color\": \"rgba(128, 128, 128, 1.0)\", \"dash\": \"solid\", \"shape\": \"linear\", \"width\": 1.3}, \"marker\": {\"size\": 2, \"symbol\": \"circle\"}, \"mode\": \"markers\", \"name\": \"D\", \"text\": \"\", \"type\": \"scatter\", \"x\": [-0.02018755564793259, -1.3437652881828532, -1.1111743886255112, 1.8359557683550445, -0.6249666296815001, -2.023897039815607, -0.8601940309700603, 0.16485301587299, 1.4953349379652183, 0.3730240119071808, 0.15925679164929463, 1.6149762610901233, 1.1886259375183363, 0.36490947137394925, -0.277109980002345, -0.7186159514942053, 0.7932326128351476, -0.6947531868233376, -0.6728638956989003, 1.168924580201343, -0.41233623513644024, 0.19784681126554177, -0.16672974435674576, 1.5787929527059819, -1.2036869576587854, 1.6388602894589932, 1.1089114782328384, -0.6721462245633214, -0.3138745235292235, -0.36686782982021504, 0.4065463530031799, -0.2257079493612666, -0.43758529260168777, -0.2625152761872851, -1.328898373680611, -2.9542908677251907, 0.21927251170457285, 0.5340299809554598, -0.17813790978690175, -1.694306210049193, 0.8453898499703644, -0.4470270295083598, 1.4645815144212275, 0.7910848605126803, -0.8297193499743546, 1.6978211174739473, -0.9594406497906319, 0.8588943710079524, 0.5958120032635975, 0.5812863670036684, 0.006947874844667447, 1.328502003354449, -0.023639303401695195, 0.5988265122087519, 0.08350412346342759, -0.546791662972372, -0.008976085354435942, -1.3006584746527383, -0.20279537336043443, 0.40149387048614843, -0.44258682753169964, -0.6584645562551634, -0.9033796634003993, -0.9053368934817235, -0.46190729712378953, -0.6547812127063081, -1.0864383496934662, 0.32165120874344855, 2.613123546687639, 1.3927968612517874, 0.9919936360099734, -1.8454616872399732, 0.5894927197443933, -0.03559551820886039, -0.7910367650609854, -1.6255372546247662, -0.24326405453267416, 1.8413885707475877, 0.92182013753838, -1.2389704928347567, -0.4681250751946212, -0.6564464802415292, 1.1616997366798514, -1.6872613038346125, 0.06782059673136204, 0.10246372343762038, -0.9441951394571112, 0.4646299907553265, 0.5150963253406441, -1.0314331444035327, 2.76602889102714, -1.077324321471914, -1.0627038272964975, -1.3541233150161391, -1.1865180094484067, -1.1649117176906831, -0.14218353540987846, -0.8214858920308317, 1.75215782148672, 0.4284955139825126], \"xaxis\": \"x14\", \"y\": [0.2738559016122897, 0.7106502379418743, -1.7509084156433161, -0.9227763319033462, -0.1896771677542079, 0.3026683859132041, -0.0920793486260978, -0.9495997396565908, -1.7749894508055353, -1.7535243348691498, -0.5988954962609513, -0.8303808063690381, 0.8521524191089968, 1.9662665203821206, -0.9755156030288992, -2.1513066476382043, -2.0149014361552062, 1.4190512112043663, 0.9101757994864929, 0.2706871767071419, -0.21592636390465056, 1.9391994568216602, 0.07747697707792196, 0.7779200326235947, -0.2772291910817807, -2.242501613667083, 0.4918308687584895, 0.8931991510725807, -0.17209096940054266, 0.46784822980636726, -1.2878564615246344, 0.60238360809786, -0.11343885434841276, 0.8425259361263151, 2.450738718164936, 1.7644565022971292, 0.14002090373597423, 0.6278547242495557, -0.38923758768431627, -0.09731354951457473, -1.322639652790698, -0.24768605767131183, 0.2846995770357078, -0.3594903757927821, -0.20673693654884476, 2.4593116350956308, 0.6065535437723129, -1.0246373342647117, -0.07976237682655041, 0.57035784004666, 1.2067255141088138, 1.4104986023116812, 0.25595380920077154, -0.3343992931212443, 0.05980317789997982, -1.9467039940984174, -1.565869323653207, -0.2533814700811455, 0.6308960196561134, -0.30821376612250556, -0.18399398643410958, 0.8043101508258407, -0.13155361349583128, -1.4084353160404273, -0.4349940821430627, 0.1664234569748299, -0.7901108936090245, 1.4884838784331955, 0.5925673693297888, -0.19686708296039054, 0.12609007897393137, 0.7812428395310707, -0.2602981736363745, 0.3514862362992299, 0.04486711361988808, -0.9273180908786917, 0.0067026732445349116, 0.6935454391728332, -1.2917279374782737, 0.7287254117512857, -0.6782587204178349, -0.14265129979757074, 0.30593909289019683, 0.49220350505844146, -0.07444597486191551, -0.45995401480221126, 0.02408849041473539, -0.054200525968196966, -0.09323659787118423, -0.5265777382946164, -0.4245176246163635, 0.6902068699550099, -1.369310076792178, 1.2895384944001946, -0.3199485321860116, 0.7491705827529969, -1.6618011560128831, -0.6728917217096003, -0.9595010217541334, 1.2680332547877091], \"yaxis\": \"y14\"}, {\"line\": {\"color\": \"rgba(128, 128, 128, 1.0)\", \"dash\": \"solid\", \"shape\": \"linear\", \"width\": 1.3}, \"marker\": {\"size\": 2, \"symbol\": \"circle\"}, \"mode\": \"markers\", \"name\": \"D\", \"text\": \"\", \"type\": \"scatter\", \"x\": [0.5518428296260244, 1.0586804391840123, 1.0365275747015392, -2.9981777461180927, 0.2393081463236984, 1.8872692011242316, -0.08393410152634781, 0.16687386739827878, -0.25568560100690213, -1.6524168343385888, 0.9018624301995285, 1.9706936592959021, 1.3196666619391262, 1.80560282209464, 0.1169649415974748, 1.0200555409233896, -0.713293962117717, 0.34663290034929894, 1.9553668942821194, 1.0572244131673274, 0.23731600659371405, -0.03223778130846141, -0.7520054789340904, 1.1024463153528665, -0.42873959191897, -1.0037676451014164, 0.9909701722847235, 0.6615956884327304, 0.5435140345534052, -0.7981148017058789, -0.9048683138594317, -0.0013692686796361255, -0.32185030950073557, -0.873370590630425, 0.5211634671549273, -0.5003155920879961, 0.6895540877968527, 0.2556938440662887, 0.9140656488831231, 0.33256356698999684, -0.08312203568317938, 0.07020335575515782, 0.2737462534668183, 0.3648081809290682, -0.6303450808077177, 0.03681908928834904, -1.8003004393922768, 0.2830157753218885, 0.5241979222791527, -0.4665430287189287, 1.5499299717127788, 0.6469600785277869, -0.8250004098446538, 0.4233116384418227, 1.2322347778823928, 0.5263994492634283, 0.06836858250917653, 0.2268106943239445, 0.4230903618598781, -1.0047231362657685, -0.39737069133271397, -0.07344313829557902, 1.0732351002723863, -0.6447409426762986, 0.05811677218658131, 0.6809155967949494, -1.6277416030292955, -0.08011779693656904, 0.12605767532523804, -0.5427044014254443, -0.03488139936261926, -0.26472206479304683, -0.24540813729398311, 0.05787658500439807, -0.8327505442704737, 0.8432112047945828, -0.07293256137350335, 0.9382650424541648, -0.11857424537434501, 0.09566984994854791, -1.1555681863500853, -0.5628180864415381, -0.030326902701813502, 1.8872384972146499, -0.3825590879924287, -0.7347844102569788, 2.071124053273013, 0.0021686444798123114, 1.1702844177756384, 0.5507097527282829, 0.5080239045387717, 0.03608985471420347, 0.9032285520857251, -1.0657048652768666, -0.6004926202340528, -0.7674944490251198, -2.3975308350523656, 1.0634632471898193, 0.18572032621691165, -0.13564355079462026], \"xaxis\": \"x15\", \"y\": [0.2738559016122897, 0.7106502379418743, -1.7509084156433161, -0.9227763319033462, -0.1896771677542079, 0.3026683859132041, -0.0920793486260978, -0.9495997396565908, -1.7749894508055353, -1.7535243348691498, -0.5988954962609513, -0.8303808063690381, 0.8521524191089968, 1.9662665203821206, -0.9755156030288992, -2.1513066476382043, -2.0149014361552062, 1.4190512112043663, 0.9101757994864929, 0.2706871767071419, -0.21592636390465056, 1.9391994568216602, 0.07747697707792196, 0.7779200326235947, -0.2772291910817807, -2.242501613667083, 0.4918308687584895, 0.8931991510725807, -0.17209096940054266, 0.46784822980636726, -1.2878564615246344, 0.60238360809786, -0.11343885434841276, 0.8425259361263151, 2.450738718164936, 1.7644565022971292, 0.14002090373597423, 0.6278547242495557, -0.38923758768431627, -0.09731354951457473, -1.322639652790698, -0.24768605767131183, 0.2846995770357078, -0.3594903757927821, -0.20673693654884476, 2.4593116350956308, 0.6065535437723129, -1.0246373342647117, -0.07976237682655041, 0.57035784004666, 1.2067255141088138, 1.4104986023116812, 0.25595380920077154, -0.3343992931212443, 0.05980317789997982, -1.9467039940984174, -1.565869323653207, -0.2533814700811455, 0.6308960196561134, -0.30821376612250556, -0.18399398643410958, 0.8043101508258407, -0.13155361349583128, -1.4084353160404273, -0.4349940821430627, 0.1664234569748299, -0.7901108936090245, 1.4884838784331955, 0.5925673693297888, -0.19686708296039054, 0.12609007897393137, 0.7812428395310707, -0.2602981736363745, 0.3514862362992299, 0.04486711361988808, -0.9273180908786917, 0.0067026732445349116, 0.6935454391728332, -1.2917279374782737, 0.7287254117512857, -0.6782587204178349, -0.14265129979757074, 0.30593909289019683, 0.49220350505844146, -0.07444597486191551, -0.45995401480221126, 0.02408849041473539, -0.054200525968196966, -0.09323659787118423, -0.5265777382946164, -0.4245176246163635, 0.6902068699550099, -1.369310076792178, 1.2895384944001946, -0.3199485321860116, 0.7491705827529969, -1.6618011560128831, -0.6728917217096003, -0.9595010217541334, 1.2680332547877091], \"yaxis\": \"y15\"}, {\"histfunc\": \"count\", \"histnorm\": \"\", \"marker\": {\"color\": \"rgba(128, 0, 128, 1.0)\", \"line\": {\"color\": \"#4D5663\", \"width\": 1.3}}, \"name\": \"D\", \"nbinsx\": 10, \"opacity\": 0.8, \"orientation\": \"v\", \"type\": \"histogram\", \"x\": [0.2738559016122897, 0.7106502379418743, -1.7509084156433161, -0.9227763319033462, -0.1896771677542079, 0.3026683859132041, -0.0920793486260978, -0.9495997396565908, -1.7749894508055353, -1.7535243348691498, -0.5988954962609513, -0.8303808063690381, 0.8521524191089968, 1.9662665203821206, -0.9755156030288992, -2.1513066476382043, -2.0149014361552062, 1.4190512112043663, 0.9101757994864929, 0.2706871767071419, -0.21592636390465056, 1.9391994568216602, 0.07747697707792196, 0.7779200326235947, -0.2772291910817807, -2.242501613667083, 0.4918308687584895, 0.8931991510725807, -0.17209096940054266, 0.46784822980636726, -1.2878564615246344, 0.60238360809786, -0.11343885434841276, 0.8425259361263151, 2.450738718164936, 1.7644565022971292, 0.14002090373597423, 0.6278547242495557, -0.38923758768431627, -0.09731354951457473, -1.322639652790698, -0.24768605767131183, 0.2846995770357078, -0.3594903757927821, -0.20673693654884476, 2.4593116350956308, 0.6065535437723129, -1.0246373342647117, -0.07976237682655041, 0.57035784004666, 1.2067255141088138, 1.4104986023116812, 0.25595380920077154, -0.3343992931212443, 0.05980317789997982, -1.9467039940984174, -1.565869323653207, -0.2533814700811455, 0.6308960196561134, -0.30821376612250556, -0.18399398643410958, 0.8043101508258407, -0.13155361349583128, -1.4084353160404273, -0.4349940821430627, 0.1664234569748299, -0.7901108936090245, 1.4884838784331955, 0.5925673693297888, -0.19686708296039054, 0.12609007897393137, 0.7812428395310707, -0.2602981736363745, 0.3514862362992299, 0.04486711361988808, -0.9273180908786917, 0.0067026732445349116, 0.6935454391728332, -1.2917279374782737, 0.7287254117512857, -0.6782587204178349, -0.14265129979757074, 0.30593909289019683, 0.49220350505844146, -0.07444597486191551, -0.45995401480221126, 0.02408849041473539, -0.054200525968196966, -0.09323659787118423, -0.5265777382946164, -0.4245176246163635, 0.6902068699550099, -1.369310076792178, 1.2895384944001946, -0.3199485321860116, 0.7491705827529969, -1.6618011560128831, -0.6728917217096003, -0.9595010217541334, 1.2680332547877091], \"xaxis\": \"x16\", \"yaxis\": \"y16\"}],\n",
       "                        {\"bargap\": 0.02, \"legend\": {\"bgcolor\": \"#F5F6F9\", \"font\": {\"color\": \"#4D5663\"}}, \"paper_bgcolor\": \"#F5F6F9\", \"plot_bgcolor\": \"#F5F6F9\", \"showlegend\": false, \"template\": {\"data\": {\"bar\": [{\"error_x\": {\"color\": \"#2a3f5f\"}, \"error_y\": {\"color\": \"#2a3f5f\"}, \"marker\": {\"line\": {\"color\": \"#E5ECF6\", \"width\": 0.5}}, \"type\": \"bar\"}], \"barpolar\": [{\"marker\": {\"line\": {\"color\": \"#E5ECF6\", \"width\": 0.5}}, \"type\": \"barpolar\"}], \"carpet\": [{\"aaxis\": {\"endlinecolor\": \"#2a3f5f\", \"gridcolor\": \"white\", \"linecolor\": \"white\", \"minorgridcolor\": \"white\", \"startlinecolor\": \"#2a3f5f\"}, \"baxis\": {\"endlinecolor\": \"#2a3f5f\", \"gridcolor\": \"white\", \"linecolor\": \"white\", \"minorgridcolor\": \"white\", \"startlinecolor\": \"#2a3f5f\"}, \"type\": \"carpet\"}], \"choropleth\": [{\"colorbar\": {\"outlinewidth\": 0, \"ticks\": \"\"}, \"type\": \"choropleth\"}], \"contour\": [{\"colorbar\": {\"outlinewidth\": 0, \"ticks\": \"\"}, \"colorscale\": [[0.0, \"#0d0887\"], [0.1111111111111111, \"#46039f\"], [0.2222222222222222, \"#7201a8\"], [0.3333333333333333, \"#9c179e\"], [0.4444444444444444, \"#bd3786\"], [0.5555555555555556, \"#d8576b\"], [0.6666666666666666, \"#ed7953\"], [0.7777777777777778, \"#fb9f3a\"], [0.8888888888888888, \"#fdca26\"], [1.0, \"#f0f921\"]], \"type\": \"contour\"}], \"contourcarpet\": [{\"colorbar\": {\"outlinewidth\": 0, \"ticks\": \"\"}, \"type\": \"contourcarpet\"}], \"heatmap\": [{\"colorbar\": {\"outlinewidth\": 0, \"ticks\": \"\"}, \"colorscale\": [[0.0, \"#0d0887\"], [0.1111111111111111, \"#46039f\"], [0.2222222222222222, \"#7201a8\"], [0.3333333333333333, \"#9c179e\"], [0.4444444444444444, \"#bd3786\"], [0.5555555555555556, \"#d8576b\"], [0.6666666666666666, \"#ed7953\"], [0.7777777777777778, \"#fb9f3a\"], [0.8888888888888888, \"#fdca26\"], [1.0, \"#f0f921\"]], \"type\": \"heatmap\"}], \"heatmapgl\": [{\"colorbar\": {\"outlinewidth\": 0, \"ticks\": \"\"}, \"colorscale\": [[0.0, \"#0d0887\"], [0.1111111111111111, \"#46039f\"], [0.2222222222222222, \"#7201a8\"], [0.3333333333333333, \"#9c179e\"], [0.4444444444444444, \"#bd3786\"], [0.5555555555555556, \"#d8576b\"], [0.6666666666666666, \"#ed7953\"], [0.7777777777777778, \"#fb9f3a\"], [0.8888888888888888, \"#fdca26\"], [1.0, \"#f0f921\"]], \"type\": \"heatmapgl\"}], \"histogram\": [{\"marker\": {\"colorbar\": {\"outlinewidth\": 0, \"ticks\": \"\"}}, \"type\": \"histogram\"}], \"histogram2d\": [{\"colorbar\": {\"outlinewidth\": 0, \"ticks\": \"\"}, \"colorscale\": [[0.0, \"#0d0887\"], [0.1111111111111111, \"#46039f\"], [0.2222222222222222, \"#7201a8\"], [0.3333333333333333, \"#9c179e\"], [0.4444444444444444, \"#bd3786\"], [0.5555555555555556, \"#d8576b\"], [0.6666666666666666, \"#ed7953\"], [0.7777777777777778, \"#fb9f3a\"], [0.8888888888888888, \"#fdca26\"], [1.0, \"#f0f921\"]], \"type\": \"histogram2d\"}], \"histogram2dcontour\": [{\"colorbar\": {\"outlinewidth\": 0, \"ticks\": \"\"}, \"colorscale\": [[0.0, \"#0d0887\"], [0.1111111111111111, \"#46039f\"], [0.2222222222222222, \"#7201a8\"], [0.3333333333333333, \"#9c179e\"], [0.4444444444444444, \"#bd3786\"], [0.5555555555555556, \"#d8576b\"], [0.6666666666666666, \"#ed7953\"], [0.7777777777777778, \"#fb9f3a\"], [0.8888888888888888, \"#fdca26\"], [1.0, \"#f0f921\"]], \"type\": \"histogram2dcontour\"}], \"mesh3d\": [{\"colorbar\": {\"outlinewidth\": 0, \"ticks\": \"\"}, \"type\": \"mesh3d\"}], \"parcoords\": [{\"line\": {\"colorbar\": {\"outlinewidth\": 0, \"ticks\": \"\"}}, \"type\": \"parcoords\"}], \"pie\": [{\"automargin\": true, \"type\": \"pie\"}], \"scatter\": [{\"marker\": {\"colorbar\": {\"outlinewidth\": 0, \"ticks\": \"\"}}, \"type\": \"scatter\"}], \"scatter3d\": [{\"line\": {\"colorbar\": {\"outlinewidth\": 0, \"ticks\": \"\"}}, \"marker\": {\"colorbar\": {\"outlinewidth\": 0, \"ticks\": \"\"}}, \"type\": \"scatter3d\"}], \"scattercarpet\": [{\"marker\": {\"colorbar\": {\"outlinewidth\": 0, \"ticks\": \"\"}}, \"type\": \"scattercarpet\"}], \"scattergeo\": [{\"marker\": {\"colorbar\": {\"outlinewidth\": 0, \"ticks\": \"\"}}, \"type\": \"scattergeo\"}], \"scattergl\": [{\"marker\": {\"colorbar\": {\"outlinewidth\": 0, \"ticks\": \"\"}}, \"type\": \"scattergl\"}], \"scattermapbox\": [{\"marker\": {\"colorbar\": {\"outlinewidth\": 0, \"ticks\": \"\"}}, \"type\": \"scattermapbox\"}], \"scatterpolar\": [{\"marker\": {\"colorbar\": {\"outlinewidth\": 0, \"ticks\": \"\"}}, \"type\": \"scatterpolar\"}], \"scatterpolargl\": [{\"marker\": {\"colorbar\": {\"outlinewidth\": 0, \"ticks\": \"\"}}, \"type\": \"scatterpolargl\"}], \"scatterternary\": [{\"marker\": {\"colorbar\": {\"outlinewidth\": 0, \"ticks\": \"\"}}, \"type\": \"scatterternary\"}], \"surface\": [{\"colorbar\": {\"outlinewidth\": 0, \"ticks\": \"\"}, \"colorscale\": [[0.0, \"#0d0887\"], [0.1111111111111111, \"#46039f\"], [0.2222222222222222, \"#7201a8\"], [0.3333333333333333, \"#9c179e\"], [0.4444444444444444, \"#bd3786\"], [0.5555555555555556, \"#d8576b\"], [0.6666666666666666, \"#ed7953\"], [0.7777777777777778, \"#fb9f3a\"], [0.8888888888888888, \"#fdca26\"], [1.0, \"#f0f921\"]], \"type\": \"surface\"}], \"table\": [{\"cells\": {\"fill\": {\"color\": \"#EBF0F8\"}, \"line\": {\"color\": \"white\"}}, \"header\": {\"fill\": {\"color\": \"#C8D4E3\"}, \"line\": {\"color\": \"white\"}}, \"type\": \"table\"}]}, \"layout\": {\"annotationdefaults\": {\"arrowcolor\": \"#2a3f5f\", \"arrowhead\": 0, \"arrowwidth\": 1}, \"coloraxis\": {\"colorbar\": {\"outlinewidth\": 0, \"ticks\": \"\"}}, \"colorscale\": {\"diverging\": [[0, \"#8e0152\"], [0.1, \"#c51b7d\"], [0.2, \"#de77ae\"], [0.3, \"#f1b6da\"], [0.4, \"#fde0ef\"], [0.5, \"#f7f7f7\"], [0.6, \"#e6f5d0\"], [0.7, \"#b8e186\"], [0.8, \"#7fbc41\"], [0.9, \"#4d9221\"], [1, \"#276419\"]], \"sequential\": [[0.0, \"#0d0887\"], [0.1111111111111111, \"#46039f\"], [0.2222222222222222, \"#7201a8\"], [0.3333333333333333, \"#9c179e\"], [0.4444444444444444, \"#bd3786\"], [0.5555555555555556, \"#d8576b\"], [0.6666666666666666, \"#ed7953\"], [0.7777777777777778, \"#fb9f3a\"], [0.8888888888888888, \"#fdca26\"], [1.0, \"#f0f921\"]], \"sequentialminus\": [[0.0, \"#0d0887\"], [0.1111111111111111, \"#46039f\"], [0.2222222222222222, \"#7201a8\"], [0.3333333333333333, \"#9c179e\"], [0.4444444444444444, \"#bd3786\"], [0.5555555555555556, \"#d8576b\"], [0.6666666666666666, \"#ed7953\"], [0.7777777777777778, \"#fb9f3a\"], [0.8888888888888888, \"#fdca26\"], [1.0, \"#f0f921\"]]}, \"colorway\": [\"#636efa\", \"#EF553B\", \"#00cc96\", \"#ab63fa\", \"#FFA15A\", \"#19d3f3\", \"#FF6692\", \"#B6E880\", \"#FF97FF\", \"#FECB52\"], \"font\": {\"color\": \"#2a3f5f\"}, \"geo\": {\"bgcolor\": \"white\", \"lakecolor\": \"white\", \"landcolor\": \"#E5ECF6\", \"showlakes\": true, \"showland\": true, \"subunitcolor\": \"white\"}, \"hoverlabel\": {\"align\": \"left\"}, \"hovermode\": \"closest\", \"mapbox\": {\"style\": \"light\"}, \"paper_bgcolor\": \"white\", \"plot_bgcolor\": \"#E5ECF6\", \"polar\": {\"angularaxis\": {\"gridcolor\": \"white\", \"linecolor\": \"white\", \"ticks\": \"\"}, \"bgcolor\": \"#E5ECF6\", \"radialaxis\": {\"gridcolor\": \"white\", \"linecolor\": \"white\", \"ticks\": \"\"}}, \"scene\": {\"xaxis\": {\"backgroundcolor\": \"#E5ECF6\", \"gridcolor\": \"white\", \"gridwidth\": 2, \"linecolor\": \"white\", \"showbackground\": true, \"ticks\": \"\", \"zerolinecolor\": \"white\"}, \"yaxis\": {\"backgroundcolor\": \"#E5ECF6\", \"gridcolor\": \"white\", \"gridwidth\": 2, \"linecolor\": \"white\", \"showbackground\": true, \"ticks\": \"\", \"zerolinecolor\": \"white\"}, \"zaxis\": {\"backgroundcolor\": \"#E5ECF6\", \"gridcolor\": \"white\", \"gridwidth\": 2, \"linecolor\": \"white\", \"showbackground\": true, \"ticks\": \"\", \"zerolinecolor\": \"white\"}}, \"shapedefaults\": {\"line\": {\"color\": \"#2a3f5f\"}}, \"ternary\": {\"aaxis\": {\"gridcolor\": \"white\", \"linecolor\": \"white\", \"ticks\": \"\"}, \"baxis\": {\"gridcolor\": \"white\", \"linecolor\": \"white\", \"ticks\": \"\"}, \"bgcolor\": \"#E5ECF6\", \"caxis\": {\"gridcolor\": \"white\", \"linecolor\": \"white\", \"ticks\": \"\"}}, \"title\": {\"x\": 0.05}, \"xaxis\": {\"automargin\": true, \"gridcolor\": \"white\", \"linecolor\": \"white\", \"ticks\": \"\", \"title\": {\"standoff\": 15}, \"zerolinecolor\": \"white\", \"zerolinewidth\": 2}, \"yaxis\": {\"automargin\": true, \"gridcolor\": \"white\", \"linecolor\": \"white\", \"ticks\": \"\", \"title\": {\"standoff\": 15}, \"zerolinecolor\": \"white\", \"zerolinewidth\": 2}}}, \"title\": {\"font\": {\"color\": \"#4D5663\"}}, \"xaxis\": {\"anchor\": \"y\", \"domain\": [0.0, 0.2125], \"gridcolor\": \"#E1E5ED\", \"showgrid\": false, \"tickfont\": {\"color\": \"#4D5663\"}, \"title\": {\"font\": {\"color\": \"#4D5663\"}, \"text\": \"\"}, \"zerolinecolor\": \"#E1E5ED\"}, \"xaxis10\": {\"anchor\": \"y10\", \"domain\": [0.2625, 0.475], \"gridcolor\": \"#E1E5ED\", \"showgrid\": false, \"tickfont\": {\"color\": \"#4D5663\"}, \"title\": {\"font\": {\"color\": \"#4D5663\"}, \"text\": \"\"}, \"zerolinecolor\": \"#E1E5ED\"}, \"xaxis11\": {\"anchor\": \"y11\", \"domain\": [0.525, 0.7375], \"gridcolor\": \"#E1E5ED\", \"showgrid\": false, \"tickfont\": {\"color\": \"#4D5663\"}, \"title\": {\"font\": {\"color\": \"#4D5663\"}, \"text\": \"\"}, \"zerolinecolor\": \"#E1E5ED\"}, \"xaxis12\": {\"anchor\": \"y12\", \"domain\": [0.7875, 1.0], \"gridcolor\": \"#E1E5ED\", \"showgrid\": false, \"tickfont\": {\"color\": \"#4D5663\"}, \"title\": {\"font\": {\"color\": \"#4D5663\"}, \"text\": \"\"}, \"zerolinecolor\": \"#E1E5ED\"}, \"xaxis13\": {\"anchor\": \"y13\", \"domain\": [0.0, 0.2125], \"gridcolor\": \"#E1E5ED\", \"showgrid\": false, \"tickfont\": {\"color\": \"#4D5663\"}, \"title\": {\"font\": {\"color\": \"#4D5663\"}, \"text\": \"\"}, \"zerolinecolor\": \"#E1E5ED\"}, \"xaxis14\": {\"anchor\": \"y14\", \"domain\": [0.2625, 0.475], \"gridcolor\": \"#E1E5ED\", \"showgrid\": false, \"tickfont\": {\"color\": \"#4D5663\"}, \"title\": {\"font\": {\"color\": \"#4D5663\"}, \"text\": \"\"}, \"zerolinecolor\": \"#E1E5ED\"}, \"xaxis15\": {\"anchor\": \"y15\", \"domain\": [0.525, 0.7375], \"gridcolor\": \"#E1E5ED\", \"showgrid\": false, \"tickfont\": {\"color\": \"#4D5663\"}, \"title\": {\"font\": {\"color\": \"#4D5663\"}, \"text\": \"\"}, \"zerolinecolor\": \"#E1E5ED\"}, \"xaxis16\": {\"anchor\": \"y16\", \"domain\": [0.7875, 1.0], \"gridcolor\": \"#E1E5ED\", \"showgrid\": false, \"tickfont\": {\"color\": \"#4D5663\"}, \"title\": {\"font\": {\"color\": \"#4D5663\"}, \"text\": \"\"}, \"zerolinecolor\": \"#E1E5ED\"}, \"xaxis2\": {\"anchor\": \"y2\", \"domain\": [0.2625, 0.475], \"gridcolor\": \"#E1E5ED\", \"showgrid\": false, \"tickfont\": {\"color\": \"#4D5663\"}, \"title\": {\"font\": {\"color\": \"#4D5663\"}, \"text\": \"\"}, \"zerolinecolor\": \"#E1E5ED\"}, \"xaxis3\": {\"anchor\": \"y3\", \"domain\": [0.525, 0.7375], \"gridcolor\": \"#E1E5ED\", \"showgrid\": false, \"tickfont\": {\"color\": \"#4D5663\"}, \"title\": {\"font\": {\"color\": \"#4D5663\"}, \"text\": \"\"}, \"zerolinecolor\": \"#E1E5ED\"}, \"xaxis4\": {\"anchor\": \"y4\", \"domain\": [0.7875, 1.0], \"gridcolor\": \"#E1E5ED\", \"showgrid\": false, \"tickfont\": {\"color\": \"#4D5663\"}, \"title\": {\"font\": {\"color\": \"#4D5663\"}, \"text\": \"\"}, \"zerolinecolor\": \"#E1E5ED\"}, \"xaxis5\": {\"anchor\": \"y5\", \"domain\": [0.0, 0.2125], \"gridcolor\": \"#E1E5ED\", \"showgrid\": false, \"tickfont\": {\"color\": \"#4D5663\"}, \"title\": {\"font\": {\"color\": \"#4D5663\"}, \"text\": \"\"}, \"zerolinecolor\": \"#E1E5ED\"}, \"xaxis6\": {\"anchor\": \"y6\", \"domain\": [0.2625, 0.475], \"gridcolor\": \"#E1E5ED\", \"showgrid\": false, \"tickfont\": {\"color\": \"#4D5663\"}, \"title\": {\"font\": {\"color\": \"#4D5663\"}, \"text\": \"\"}, \"zerolinecolor\": \"#E1E5ED\"}, \"xaxis7\": {\"anchor\": \"y7\", \"domain\": [0.525, 0.7375], \"gridcolor\": \"#E1E5ED\", \"showgrid\": false, \"tickfont\": {\"color\": \"#4D5663\"}, \"title\": {\"font\": {\"color\": \"#4D5663\"}, \"text\": \"\"}, \"zerolinecolor\": \"#E1E5ED\"}, \"xaxis8\": {\"anchor\": \"y8\", \"domain\": [0.7875, 1.0], \"gridcolor\": \"#E1E5ED\", \"showgrid\": false, \"tickfont\": {\"color\": \"#4D5663\"}, \"title\": {\"font\": {\"color\": \"#4D5663\"}, \"text\": \"\"}, \"zerolinecolor\": \"#E1E5ED\"}, \"xaxis9\": {\"anchor\": \"y9\", \"domain\": [0.0, 0.2125], \"gridcolor\": \"#E1E5ED\", \"showgrid\": false, \"tickfont\": {\"color\": \"#4D5663\"}, \"title\": {\"font\": {\"color\": \"#4D5663\"}, \"text\": \"\"}, \"zerolinecolor\": \"#E1E5ED\"}, \"yaxis\": {\"anchor\": \"x\", \"domain\": [0.8025, 1.0], \"gridcolor\": \"#E1E5ED\", \"showgrid\": false, \"tickfont\": {\"color\": \"#4D5663\"}, \"title\": {\"font\": {\"color\": \"#4D5663\"}, \"text\": \"\"}, \"zerolinecolor\": \"#E1E5ED\"}, \"yaxis10\": {\"anchor\": \"x10\", \"domain\": [0.2675, 0.465], \"gridcolor\": \"#E1E5ED\", \"showgrid\": false, \"tickfont\": {\"color\": \"#4D5663\"}, \"title\": {\"font\": {\"color\": \"#4D5663\"}, \"text\": \"\"}, \"zerolinecolor\": \"#E1E5ED\"}, \"yaxis11\": {\"anchor\": \"x11\", \"domain\": [0.2675, 0.465], \"gridcolor\": \"#E1E5ED\", \"showgrid\": false, \"tickfont\": {\"color\": \"#4D5663\"}, \"title\": {\"font\": {\"color\": \"#4D5663\"}, \"text\": \"\"}, \"zerolinecolor\": \"#E1E5ED\"}, \"yaxis12\": {\"anchor\": \"x12\", \"domain\": [0.2675, 0.465], \"gridcolor\": \"#E1E5ED\", \"showgrid\": false, \"tickfont\": {\"color\": \"#4D5663\"}, \"title\": {\"font\": {\"color\": \"#4D5663\"}, \"text\": \"\"}, \"zerolinecolor\": \"#E1E5ED\"}, \"yaxis13\": {\"anchor\": \"x13\", \"domain\": [0.0, 0.1975], \"gridcolor\": \"#E1E5ED\", \"showgrid\": false, \"tickfont\": {\"color\": \"#4D5663\"}, \"title\": {\"font\": {\"color\": \"#4D5663\"}, \"text\": \"\"}, \"zerolinecolor\": \"#E1E5ED\"}, \"yaxis14\": {\"anchor\": \"x14\", \"domain\": [0.0, 0.1975], \"gridcolor\": \"#E1E5ED\", \"showgrid\": false, \"tickfont\": {\"color\": \"#4D5663\"}, \"title\": {\"font\": {\"color\": \"#4D5663\"}, \"text\": \"\"}, \"zerolinecolor\": \"#E1E5ED\"}, \"yaxis15\": {\"anchor\": \"x15\", \"domain\": [0.0, 0.1975], \"gridcolor\": \"#E1E5ED\", \"showgrid\": false, \"tickfont\": {\"color\": \"#4D5663\"}, \"title\": {\"font\": {\"color\": \"#4D5663\"}, \"text\": \"\"}, \"zerolinecolor\": \"#E1E5ED\"}, \"yaxis16\": {\"anchor\": \"x16\", \"domain\": [0.0, 0.1975], \"gridcolor\": \"#E1E5ED\", \"showgrid\": false, \"tickfont\": {\"color\": \"#4D5663\"}, \"title\": {\"font\": {\"color\": \"#4D5663\"}, \"text\": \"\"}, \"zerolinecolor\": \"#E1E5ED\"}, \"yaxis2\": {\"anchor\": \"x2\", \"domain\": [0.8025, 1.0], \"gridcolor\": \"#E1E5ED\", \"showgrid\": false, \"tickfont\": {\"color\": \"#4D5663\"}, \"title\": {\"font\": {\"color\": \"#4D5663\"}, \"text\": \"\"}, \"zerolinecolor\": \"#E1E5ED\"}, \"yaxis3\": {\"anchor\": \"x3\", \"domain\": [0.8025, 1.0], \"gridcolor\": \"#E1E5ED\", \"showgrid\": false, \"tickfont\": {\"color\": \"#4D5663\"}, \"title\": {\"font\": {\"color\": \"#4D5663\"}, \"text\": \"\"}, \"zerolinecolor\": \"#E1E5ED\"}, \"yaxis4\": {\"anchor\": \"x4\", \"domain\": [0.8025, 1.0], \"gridcolor\": \"#E1E5ED\", \"showgrid\": false, \"tickfont\": {\"color\": \"#4D5663\"}, \"title\": {\"font\": {\"color\": \"#4D5663\"}, \"text\": \"\"}, \"zerolinecolor\": \"#E1E5ED\"}, \"yaxis5\": {\"anchor\": \"x5\", \"domain\": [0.535, 0.7325], \"gridcolor\": \"#E1E5ED\", \"showgrid\": false, \"tickfont\": {\"color\": \"#4D5663\"}, \"title\": {\"font\": {\"color\": \"#4D5663\"}, \"text\": \"\"}, \"zerolinecolor\": \"#E1E5ED\"}, \"yaxis6\": {\"anchor\": \"x6\", \"domain\": [0.535, 0.7325], \"gridcolor\": \"#E1E5ED\", \"showgrid\": false, \"tickfont\": {\"color\": \"#4D5663\"}, \"title\": {\"font\": {\"color\": \"#4D5663\"}, \"text\": \"\"}, \"zerolinecolor\": \"#E1E5ED\"}, \"yaxis7\": {\"anchor\": \"x7\", \"domain\": [0.535, 0.7325], \"gridcolor\": \"#E1E5ED\", \"showgrid\": false, \"tickfont\": {\"color\": \"#4D5663\"}, \"title\": {\"font\": {\"color\": \"#4D5663\"}, \"text\": \"\"}, \"zerolinecolor\": \"#E1E5ED\"}, \"yaxis8\": {\"anchor\": \"x8\", \"domain\": [0.535, 0.7325], \"gridcolor\": \"#E1E5ED\", \"showgrid\": false, \"tickfont\": {\"color\": \"#4D5663\"}, \"title\": {\"font\": {\"color\": \"#4D5663\"}, \"text\": \"\"}, \"zerolinecolor\": \"#E1E5ED\"}, \"yaxis9\": {\"anchor\": \"x9\", \"domain\": [0.2675, 0.465], \"gridcolor\": \"#E1E5ED\", \"showgrid\": false, \"tickfont\": {\"color\": \"#4D5663\"}, \"title\": {\"font\": {\"color\": \"#4D5663\"}, \"text\": \"\"}, \"zerolinecolor\": \"#E1E5ED\"}},\n",
       "                        {\"showLink\": true, \"linkText\": \"Export to plot.ly\", \"plotlyServerURL\": \"https://plot.ly\", \"responsive\": true}\n",
       "                    ).then(function(){\n",
       "                            \n",
       "var gd = document.getElementById('b33ae52b-ee54-4e23-bee3-808bed386320');\n",
       "var x = new MutationObserver(function (mutations, observer) {{\n",
       "        var display = window.getComputedStyle(gd).display;\n",
       "        if (!display || display === 'none') {{\n",
       "            console.log([gd, 'removed!']);\n",
       "            Plotly.purge(gd);\n",
       "            observer.disconnect();\n",
       "        }}\n",
       "}});\n",
       "\n",
       "// Listen for the removal of the full notebook cells\n",
       "var notebookContainer = gd.closest('#notebook-container');\n",
       "if (notebookContainer) {{\n",
       "    x.observe(notebookContainer, {childList: true});\n",
       "}}\n",
       "\n",
       "// Listen for the clearing of the current output cell\n",
       "var outputEl = gd.closest('.output');\n",
       "if (outputEl) {{\n",
       "    x.observe(outputEl, {childList: true});\n",
       "}}\n",
       "\n",
       "                        })\n",
       "                };\n",
       "                });\n",
       "            </script>\n",
       "        </div>"
      ]
     },
     "metadata": {},
     "output_type": "display_data"
    }
   ],
   "source": [
    "df.scatter_matrix()"
   ]
  },
  {
   "cell_type": "markdown",
   "metadata": {
    "collapsed": true
   },
   "source": [
    "# Great Job!"
   ]
  }
 ],
 "metadata": {
  "kernelspec": {
   "display_name": "Python 3",
   "language": "python",
   "name": "python3"
  },
  "language_info": {
   "codemirror_mode": {
    "name": "ipython",
    "version": 3
   },
   "file_extension": ".py",
   "mimetype": "text/x-python",
   "name": "python",
   "nbconvert_exporter": "python",
   "pygments_lexer": "ipython3",
   "version": "3.7.4"
  }
 },
 "nbformat": 4,
 "nbformat_minor": 1
}
