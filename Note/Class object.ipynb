{
 "cells": [
  {
   "cell_type": "code",
   "execution_count": 33,
   "metadata": {},
   "outputs": [
    {
     "name": "stdout",
     "output_type": "stream",
     "text": [
      "Rashmi\n",
      "1993\n"
     ]
    }
   ],
   "source": [
    "class person:\n",
    "    def __init__(self, name,yob):\n",
    "        self.newname=name\n",
    "        self.yob= yob  \n",
    "    def __str__(self):\n",
    "            return \" % s was born in %d .\" % (self.name , self.yob)\n",
    "rashmi =  person(\"Rashmi\",1993)\n",
    "\n",
    "print(rashmi.newname)\n",
    "print(rashmi.yob)\n",
    "\n"
   ]
  },
  {
   "cell_type": "code",
   "execution_count": 59,
   "metadata": {},
   "outputs": [
    {
     "name": "stdout",
     "output_type": "stream",
     "text": [
      "Rashmi\n",
      "1993\n"
     ]
    }
   ],
   "source": [
    "# using class with protected clas - abstraction(_ on attributes)\n",
    "class person:\n",
    "    def __init__(self, name,yob):\n",
    "        self.newname=name\n",
    "        self.yob= yob  \n",
    "    def __str__(self):\n",
    "            return \" % s was born in %d .\" % (self.name , self.yob)\n",
    "rashmi =  person(\"Rashmi\",1993)\n",
    "\n",
    "print(rashmi.newname) # this is must accessed with _newname\n",
    "print(rashmi.yob)"
   ]
  },
  {
   "cell_type": "code",
   "execution_count": 65,
   "metadata": {},
   "outputs": [
    {
     "name": "stdout",
     "output_type": "stream",
     "text": [
      "The name is :  Rashmi\n",
      "the Year of birth of the person :  1993\n"
     ]
    }
   ],
   "source": [
    "# private class \n",
    "\n",
    "class person:\n",
    "    def __init__(self, name,yob):\n",
    "        self.__newname=name\n",
    "        self.__yob= yob  \n",
    "    def __str__(self):\n",
    "            return \" % s was born in %d .\" % (self.name , self.yob)\n",
    "rashmi =  person(\"Rashmi\",1993)\n",
    "\n",
    "print(\"The name is : \",rashmi._person__newname) # it must be used with __ and with class\n",
    "print(\"the Year of birth of the person : \", rashmi._person__yob)"
   ]
  },
  {
   "cell_type": "code",
   "execution_count": 72,
   "metadata": {},
   "outputs": [
    {
     "name": "stdout",
     "output_type": "stream",
     "text": [
      "4\n",
      "<class '__main__.children'>\n",
      "True\n",
      "True\n"
     ]
    }
   ],
   "source": [
    "class children(person):\n",
    "    def __init__(self, age, *args):\n",
    "        super(children,self).__init__(*args)\n",
    "        self.age=age\n",
    "        \n",
    "charlie=children(4,\"Bjji\",1993)\n",
    "print(charlie.age)\n",
    "print(type(charlie))\n",
    "print(isinstance(charlie,person)) # is charlie is avariable of person class or not ?\n",
    "print(isinstance(charlie,object))\n"
   ]
  },
  {
   "cell_type": "markdown",
   "metadata": {},
   "source": [
    "## Encapsulation\n",
    "there are two types:\n",
    "1. Composition : instead of passing the primitive Data type to class , we pass object of another class to main class itself. - > composition of other class\n",
    "2. Dynamic Extension : here it hides the actual implementation of the other class but can be used in different class without inheriting it ( this is interesting . !! Read and practice more of this!!! )\n",
    "\n"
   ]
  },
  {
   "cell_type": "markdown",
   "metadata": {},
   "source": [
    "####  Encapsulation  class notes: Look for code in objects class code from the class"
   ]
  },
  {
   "cell_type": "markdown",
   "metadata": {},
   "source": [
    "## Polymorphism :\n",
    "\n",
    "means one entity of multiple roles."
   ]
  },
  {
   "cell_type": "code",
   "execution_count": 75,
   "metadata": {},
   "outputs": [
    {
     "name": "stdout",
     "output_type": "stream",
     "text": [
      "2\n",
      "abdsdsadsdsdsfdf\n",
      "['a', 1, 'rtrt', 'dgfgfg', 4, 'rtrt']\n"
     ]
    }
   ],
   "source": [
    "def sumfunc(a,b):\n",
    "    return a + b\n",
    "# same function performing in diferent roles and wrt its role(inputs)\n",
    "\n",
    "print(sumfunc(1,1))\n",
    "print(sumfunc(\"abdsds\",\"adsdsdsfdf\"))\n",
    "print(sumfunc(['a',1,'rtrt'], ['dgfgfg',4 ,'rtrt']))"
   ]
  },
  {
   "cell_type": "code",
   "execution_count": 83,
   "metadata": {},
   "outputs": [],
   "source": [
    "# exercises\n",
    "\n",
    "class X1:\n",
    "    def __init__(self, name):\n",
    "        self.name=name\n",
    "        \n",
    "    def __str__(self):\n",
    "        return \"% s  name of  X1 \"%(self.name)\n",
    "    def t(self,name):\n",
    "        print(\" This is t function from X1\", self.name)"
   ]
  },
  {
   "cell_type": "code",
   "execution_count": 91,
   "metadata": {},
   "outputs": [],
   "source": [
    "class X2:\n",
    "    def __init__(self, name):\n",
    "        self.name=name\n",
    "        \n",
    "    def __str__(self):\n",
    "        return \"% s  name of  X2 \"%(self.name)\n",
    "    def t(self,name):\n",
    "        print(\" This is t function from X2\", self.name)"
   ]
  },
  {
   "cell_type": "code",
   "execution_count": 98,
   "metadata": {},
   "outputs": [
    {
     "name": "stdout",
     "output_type": "stream",
     "text": [
      "Chotu  name of  X2 \n",
      " This is t function from X2 Chotu\n",
      "None\n"
     ]
    }
   ],
   "source": [
    "class X3(X2,X1):\n",
    "    def __init__(self, age, *args):\n",
    "        super(X3,self).__init__(*args)\n",
    "        self.age=age\n",
    "obj=X3(12,\"Chotu\")\n",
    "print(obj)\n",
    "print(obj.t(\"bujji\"))"
   ]
  },
  {
   "cell_type": "code",
   "execution_count": null,
   "metadata": {},
   "outputs": [],
   "source": []
  },
  {
   "cell_type": "code",
   "execution_count": null,
   "metadata": {},
   "outputs": [],
   "source": []
  }
 ],
 "metadata": {
  "kernelspec": {
   "display_name": "Python 3",
   "language": "python",
   "name": "python3"
  },
  "language_info": {
   "codemirror_mode": {
    "name": "ipython",
    "version": 3
   },
   "file_extension": ".py",
   "mimetype": "text/x-python",
   "name": "python",
   "nbconvert_exporter": "python",
   "pygments_lexer": "ipython3",
   "version": "3.7.4"
  }
 },
 "nbformat": 4,
 "nbformat_minor": 2
}
